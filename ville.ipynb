{
 "cells": [
  {
   "cell_type": "code",
   "execution_count": 42,
   "metadata": {},
   "outputs": [],
   "source": [
    "import pandas as pd \n",
    "import numpy as np\n",
    "import geopandas as gpd\n",
    "from shapely.geometry import Point\n",
    "from geopandas import GeoDataFrame\n",
    "import requests\n",
    "\n",
    "\n"
   ]
  },
  {
   "cell_type": "markdown",
   "metadata": {},
   "source": [
    "1 - OUVERTURE FICHIER COMMERCE"
   ]
  },
  {
   "cell_type": "markdown",
   "metadata": {},
   "source": []
  },
  {
   "cell_type": "code",
   "execution_count": null,
   "metadata": {},
   "outputs": [],
   "source": []
  },
  {
   "cell_type": "code",
   "execution_count": null,
   "metadata": {},
   "outputs": [
    {
     "name": "stderr",
     "output_type": "stream",
     "text": [
      "/tmp/ipykernel_211564/1583544222.py:1: DtypeWarning: Columns (10) have mixed types. Specify dtype option on import or set low_memory=False.\n",
      "  df_commerce = pd.read_csv('./Data/data.csv', sep =\";\")\n"
     ]
    },
    {
     "name": "stdout",
     "output_type": "stream",
     "text": [
      "                X          Y            osm_id         type  \\\n",
      "0       55.519784 -21.276031  node/11721653361       beauty   \n",
      "1        6.126323  45.898993   node/6851307099      tobacco   \n",
      "2        4.854186  46.781140   node/2249047677        shoes   \n",
      "3        4.575212  44.720957   node/2250990113   restaurant   \n",
      "4        4.675546  45.246532   node/8081393066    insurance   \n",
      "...           ...        ...               ...          ...   \n",
      "659917   1.850903  48.908997   node/9400801794  hairdresser   \n",
      "659918  -3.075557  47.573392   node/6023216120   restaurant   \n",
      "659919  -1.719222  47.224660  node/11685829904       cheese   \n",
      "659920   0.146254  47.972724      way/63576659      clothes   \n",
      "659921   2.314900  48.882990  node/11880709231        shoes   \n",
      "\n",
      "                                 name     brand operator wheelchair  \\\n",
      "0       Gentleman's Art's Hair Design       NaN      NaN        NaN   \n",
      "1                           Le Narval       NaN      NaN        NaN   \n",
      "2                            Mephisto  Mephisto      NaN        yes   \n",
      "3                         Le Minerais       NaN      NaN        NaN   \n",
      "4                              Matmut    Matmut      NaN        NaN   \n",
      "...                               ...       ...      ...        ...   \n",
      "659917                    IB Coiffure       NaN      NaN        NaN   \n",
      "659918              La Poêle à Crêpes       NaN      NaN        yes   \n",
      "659919             La Tome de Couëron       NaN      NaN        NaN   \n",
      "659920                    Stock House       NaN      NaN        NaN   \n",
      "659921                            NaN       NaN      NaN        NaN   \n",
      "\n",
      "                            opening_hours level  ... profession_ref  wikidata  \\\n",
      "0                                     NaN   NaN  ...            NaN       NaN   \n",
      "1                                     NaN   NaN  ...            NaN       NaN   \n",
      "2                                     NaN   NaN  ...            NaN   Q822975   \n",
      "3                                     NaN   NaN  ...            NaN       NaN   \n",
      "4                                     NaN   NaN  ...            NaN  Q3299185   \n",
      "...                                   ...   ...  ...            ...       ...   \n",
      "659917  Tu-Fr 09:00-18:30; Sa 09:00-18:00   NaN  ...            NaN       NaN   \n",
      "659918                                NaN   NaN  ...            NaN       NaN   \n",
      "659919                                NaN   NaN  ...            NaN       NaN   \n",
      "659920                                NaN   NaN  ...            NaN       NaN   \n",
      "659921                                NaN   NaN  ...            NaN       NaN   \n",
      "\n",
      "       website         phone email facebook        address com_insee  \\\n",
      "0          NaN           NaN   NaN      NaN            NaN     97422   \n",
      "1          NaN           NaN   NaN      NaN            NaN     74010   \n",
      "2          NaN           NaN   NaN      NaN            NaN     71076   \n",
      "3          NaN           NaN   NaN      NaN            NaN     07288   \n",
      "4          NaN           NaN   NaN      NaN            NaN     07010   \n",
      "...        ...           ...   ...      ...            ...       ...   \n",
      "659917     NaN  +33130907220   NaN      NaN  5 Rue Parisis     78380   \n",
      "659918     NaN           NaN   NaN      NaN            NaN     56034   \n",
      "659919     NaN           NaN   NaN      NaN            NaN     44047   \n",
      "659920     NaN           NaN   NaN      NaN            NaN     72003   \n",
      "659921     NaN           NaN   NaN      NaN            NaN     75056   \n",
      "\n",
      "                 com_nom last_update  \n",
      "0              Le Tampon  2024-03-12  \n",
      "1                 Annecy  2024-03-17  \n",
      "2       Chalon-sur-Saône  2024-09-27  \n",
      "3           Saint-Priest  2013-04-05  \n",
      "4                Annonay  2020-11-04  \n",
      "...                  ...         ...  \n",
      "659917             Maule  2023-05-20  \n",
      "659918            Carnac  2022-09-02  \n",
      "659919           Couëron  2024-03-02  \n",
      "659920          Allonnes  2011-06-09  \n",
      "659921             Paris  2024-05-05  \n",
      "\n",
      "[659922 rows x 21 columns]\n"
     ]
    }
   ],
   "source": [
    "\n",
    "df_commerce = pd.read_csv('./Data/data.csv', sep =\";\")\n",
    "print(df_commerce)\n"
   ]
  },
  {
   "cell_type": "code",
   "execution_count": null,
   "metadata": {},
   "outputs": [
    {
     "name": "stdout",
     "output_type": "stream",
     "text": [
      "<class 'pandas.core.frame.DataFrame'>\n",
      "RangeIndex: 659922 entries, 0 to 659921\n",
      "Data columns (total 21 columns):\n",
      " #   Column          Non-Null Count   Dtype  \n",
      "---  ------          --------------   -----  \n",
      " 0   X               659922 non-null  float64\n",
      " 1   Y               659922 non-null  float64\n",
      " 2   osm_id          659922 non-null  object \n",
      " 3   type            659922 non-null  object \n",
      " 4   name            607178 non-null  object \n",
      " 5   brand           142003 non-null  object \n",
      " 6   operator        55824 non-null   object \n",
      " 7   wheelchair      92597 non-null   object \n",
      " 8   opening_hours   224752 non-null  object \n",
      " 9   level           19681 non-null   object \n",
      " 10  siret           72571 non-null   object \n",
      " 11  profession_ref  47662 non-null   object \n",
      " 12  wikidata        126042 non-null  object \n",
      " 13  website         150193 non-null  object \n",
      " 14  phone           202168 non-null  object \n",
      " 15  email           29916 non-null   object \n",
      " 16  facebook        23690 non-null   object \n",
      " 17  address         203308 non-null  object \n",
      " 18  com_insee       659922 non-null  object \n",
      " 19  com_nom         659922 non-null  object \n",
      " 20  last_update     659922 non-null  object \n",
      "dtypes: float64(2), object(19)\n",
      "memory usage: 105.7+ MB\n"
     ]
    }
   ],
   "source": [
    "\n",
    "df_commerce.info()\n"
   ]
  },
  {
   "cell_type": "code",
   "execution_count": null,
   "metadata": {},
   "outputs": [
    {
     "data": {
      "text/plain": [
       "X                             1.447021\n",
       "Y                            43.606641\n",
       "osm_id                 node/2316954259\n",
       "type                        restaurant\n",
       "name                  Green sur mesure\n",
       "brand                              NaN\n",
       "operator                           NaN\n",
       "wheelchair                         NaN\n",
       "opening_hours        Mo-Su 11:00-22:00\n",
       "level                              NaN\n",
       "siret                   90014767900014\n",
       "profession_ref                     NaN\n",
       "wikidata                           NaN\n",
       "website                            NaN\n",
       "phone                              NaN\n",
       "email                              NaN\n",
       "facebook                           NaN\n",
       "address           20 Place Victor Hugo\n",
       "com_insee                        31555\n",
       "com_nom                       Toulouse\n",
       "last_update                 2024-10-29\n",
       "Name: 10, dtype: object"
      ]
     },
     "execution_count": 5,
     "metadata": {},
     "output_type": "execute_result"
    }
   ],
   "source": [
    "df_commerce.loc[10]"
   ]
  },
  {
   "cell_type": "code",
   "execution_count": null,
   "metadata": {},
   "outputs": [
    {
     "data": {
      "text/plain": [
       "Index(['X', 'Y', 'osm_id', 'type', 'name', 'brand', 'operator', 'wheelchair',\n",
       "       'opening_hours', 'level', 'siret', 'profession_ref', 'wikidata',\n",
       "       'website', 'phone', 'email', 'facebook', 'address', 'com_insee',\n",
       "       'com_nom', 'last_update'],\n",
       "      dtype='object')"
      ]
     },
     "execution_count": 6,
     "metadata": {},
     "output_type": "execute_result"
    }
   ],
   "source": [
    "df_commerce.columns\n"
   ]
  },
  {
   "cell_type": "code",
   "execution_count": null,
   "metadata": {},
   "outputs": [],
   "source": [
    "\n",
    "df_commerce_dropped = df_commerce.drop(['facebook', 'last_update'], axis=1, inplace=True)\n",
    "df_commerce_dropped\n",
    "\n"
   ]
  },
  {
   "cell_type": "markdown",
   "metadata": {},
   "source": [
    "2 - OUVERTURE FICHIER METADATA"
   ]
  },
  {
   "cell_type": "code",
   "execution_count": null,
   "metadata": {},
   "outputs": [
    {
     "name": "stdout",
     "output_type": "stream",
     "text": [
      "  COLL_NOM COLL_SIRET                        ID  \\\n",
      "0   France         FR  osm-shop_craft_office-FR   \n",
      "\n",
      "                                 TITRE  \\\n",
      "0  Commerces de France (OpenStreetMap)   \n",
      "\n",
      "                                         DESCRIPTION  \\\n",
      "0  Commerces au sens large issus d'OpenStreetMap ...   \n",
      "\n",
      "                       THEME PRODUCTEUR_NOM  PRODUCTEUR_SIRET  \\\n",
      "0  Entreprise et concurrence  OpenStreetMap               NaN   \n",
      "\n",
      "  COUV_SPAT_MAILLE COUV_SPAT_NOM COUV_TEMP_DEBUT COUV_TEMP_FIN  DATE_PUBL  \\\n",
      "0   Infracommunale        France      2008-01-01    2024-12-01        NaN   \n",
      "\n",
      "     FREQ_MAJ    DATE_MAJ                                         MOTS_CLES  \\\n",
      "0  Ponctuelle  2024-12-01  scdl;entreprise-et-concurrence;commerce;services   \n",
      "\n",
      "                      LICENCE  NOMBRE_RESSOURCES FORMAT_RESSOURCES  \\\n",
      "0  Open Database License-ODBL                  1               csv   \n",
      "\n",
      "                                                 URL  \n",
      "0  https://geodatamine.fr/dump/shop_craft_office_...  \n"
     ]
    }
   ],
   "source": [
    "\n",
    "\n",
    "df_metadata = pd.read_csv('./Data/metadata.csv', sep =\";\")\n",
    "print(df_metadata)\n",
    "\n",
    "\n"
   ]
  },
  {
   "cell_type": "code",
   "execution_count": null,
   "metadata": {},
   "outputs": [
    {
     "data": {
      "text/plain": [
       "Index(['COLL_NOM', 'COLL_SIRET', 'ID', 'TITRE', 'DESCRIPTION', 'THEME',\n",
       "       'PRODUCTEUR_NOM', 'PRODUCTEUR_SIRET', 'COUV_SPAT_MAILLE',\n",
       "       'COUV_SPAT_NOM', 'COUV_TEMP_DEBUT', 'COUV_TEMP_FIN', 'DATE_PUBL',\n",
       "       'FREQ_MAJ', 'DATE_MAJ', 'MOTS_CLES', 'LICENCE', 'NOMBRE_RESSOURCES',\n",
       "       'FORMAT_RESSOURCES', 'URL'],\n",
       "      dtype='object')"
      ]
     },
     "execution_count": 9,
     "metadata": {},
     "output_type": "execute_result"
    }
   ],
   "source": [
    "df_metadata.columns"
   ]
  },
  {
   "cell_type": "code",
   "execution_count": null,
   "metadata": {},
   "outputs": [
    {
     "data": {
      "text/plain": [
       "0    Open Database License-ODBL\n",
       "Name: LICENCE, dtype: object"
      ]
     },
     "execution_count": 10,
     "metadata": {},
     "output_type": "execute_result"
    }
   ],
   "source": [
    "df_metadata['LICENCE'].head(5)"
   ]
  },
  {
   "cell_type": "code",
   "execution_count": null,
   "metadata": {},
   "outputs": [],
   "source": []
  },
  {
   "cell_type": "code",
   "execution_count": null,
   "metadata": {},
   "outputs": [
    {
     "data": {
      "text/html": [
       "<div>\n",
       "<style scoped>\n",
       "    .dataframe tbody tr th:only-of-type {\n",
       "        vertical-align: middle;\n",
       "    }\n",
       "\n",
       "    .dataframe tbody tr th {\n",
       "        vertical-align: top;\n",
       "    }\n",
       "\n",
       "    .dataframe thead th {\n",
       "        text-align: right;\n",
       "    }\n",
       "</style>\n",
       "<table border=\"1\" class=\"dataframe\">\n",
       "  <thead>\n",
       "    <tr style=\"text-align: right;\">\n",
       "      <th></th>\n",
       "      <th>COLL_NOM</th>\n",
       "      <th>COLL_SIRET</th>\n",
       "      <th>ID</th>\n",
       "      <th>TITRE</th>\n",
       "      <th>DESCRIPTION</th>\n",
       "      <th>THEME</th>\n",
       "      <th>PRODUCTEUR_NOM</th>\n",
       "      <th>PRODUCTEUR_SIRET</th>\n",
       "      <th>COUV_SPAT_MAILLE</th>\n",
       "      <th>COUV_SPAT_NOM</th>\n",
       "      <th>COUV_TEMP_DEBUT</th>\n",
       "      <th>COUV_TEMP_FIN</th>\n",
       "      <th>DATE_PUBL</th>\n",
       "      <th>FREQ_MAJ</th>\n",
       "      <th>DATE_MAJ</th>\n",
       "      <th>MOTS_CLES</th>\n",
       "      <th>LICENCE</th>\n",
       "      <th>NOMBRE_RESSOURCES</th>\n",
       "      <th>FORMAT_RESSOURCES</th>\n",
       "      <th>URL</th>\n",
       "    </tr>\n",
       "  </thead>\n",
       "  <tbody>\n",
       "    <tr>\n",
       "      <th>0</th>\n",
       "      <td>France</td>\n",
       "      <td>FR</td>\n",
       "      <td>osm-shop_craft_office-FR</td>\n",
       "      <td>Commerces de France (OpenStreetMap)</td>\n",
       "      <td>Commerces au sens large issus d'OpenStreetMap ...</td>\n",
       "      <td>Entreprise et concurrence</td>\n",
       "      <td>OpenStreetMap</td>\n",
       "      <td>NaN</td>\n",
       "      <td>Infracommunale</td>\n",
       "      <td>France</td>\n",
       "      <td>2008-01-01</td>\n",
       "      <td>2024-12-01</td>\n",
       "      <td>NaN</td>\n",
       "      <td>Ponctuelle</td>\n",
       "      <td>2024-12-01</td>\n",
       "      <td>scdl;entreprise-et-concurrence;commerce;services</td>\n",
       "      <td>Open Database License-ODBL</td>\n",
       "      <td>1</td>\n",
       "      <td>csv</td>\n",
       "      <td>https://geodatamine.fr/dump/shop_craft_office_...</td>\n",
       "    </tr>\n",
       "  </tbody>\n",
       "</table>\n",
       "</div>"
      ],
      "text/plain": [
       "  COLL_NOM COLL_SIRET                        ID  \\\n",
       "0   France         FR  osm-shop_craft_office-FR   \n",
       "\n",
       "                                 TITRE  \\\n",
       "0  Commerces de France (OpenStreetMap)   \n",
       "\n",
       "                                         DESCRIPTION  \\\n",
       "0  Commerces au sens large issus d'OpenStreetMap ...   \n",
       "\n",
       "                       THEME PRODUCTEUR_NOM  PRODUCTEUR_SIRET  \\\n",
       "0  Entreprise et concurrence  OpenStreetMap               NaN   \n",
       "\n",
       "  COUV_SPAT_MAILLE COUV_SPAT_NOM COUV_TEMP_DEBUT COUV_TEMP_FIN  DATE_PUBL  \\\n",
       "0   Infracommunale        France      2008-01-01    2024-12-01        NaN   \n",
       "\n",
       "     FREQ_MAJ    DATE_MAJ                                         MOTS_CLES  \\\n",
       "0  Ponctuelle  2024-12-01  scdl;entreprise-et-concurrence;commerce;services   \n",
       "\n",
       "                      LICENCE  NOMBRE_RESSOURCES FORMAT_RESSOURCES  \\\n",
       "0  Open Database License-ODBL                  1               csv   \n",
       "\n",
       "                                                 URL  \n",
       "0  https://geodatamine.fr/dump/shop_craft_office_...  "
      ]
     },
     "execution_count": 11,
     "metadata": {},
     "output_type": "execute_result"
    }
   ],
   "source": [
    "df_metadata"
   ]
  },
  {
   "cell_type": "code",
   "execution_count": null,
   "metadata": {},
   "outputs": [
    {
     "data": {
      "text/html": [
       "<div>\n",
       "<style scoped>\n",
       "    .dataframe tbody tr th:only-of-type {\n",
       "        vertical-align: middle;\n",
       "    }\n",
       "\n",
       "    .dataframe tbody tr th {\n",
       "        vertical-align: top;\n",
       "    }\n",
       "\n",
       "    .dataframe thead th {\n",
       "        text-align: right;\n",
       "    }\n",
       "</style>\n",
       "<table border=\"1\" class=\"dataframe\">\n",
       "  <thead>\n",
       "    <tr style=\"text-align: right;\">\n",
       "      <th></th>\n",
       "      <th>COLL_NOM</th>\n",
       "      <th>COLL_SIRET</th>\n",
       "      <th>ID</th>\n",
       "      <th>TITRE</th>\n",
       "      <th>DESCRIPTION</th>\n",
       "      <th>THEME</th>\n",
       "      <th>PRODUCTEUR_NOM</th>\n",
       "      <th>PRODUCTEUR_SIRET</th>\n",
       "      <th>COUV_SPAT_MAILLE</th>\n",
       "      <th>COUV_SPAT_NOM</th>\n",
       "      <th>LICENCE</th>\n",
       "      <th>NOMBRE_RESSOURCES</th>\n",
       "      <th>FORMAT_RESSOURCES</th>\n",
       "      <th>URL</th>\n",
       "    </tr>\n",
       "  </thead>\n",
       "  <tbody>\n",
       "    <tr>\n",
       "      <th>0</th>\n",
       "      <td>France</td>\n",
       "      <td>FR</td>\n",
       "      <td>osm-shop_craft_office-FR</td>\n",
       "      <td>Commerces de France (OpenStreetMap)</td>\n",
       "      <td>Commerces au sens large issus d'OpenStreetMap ...</td>\n",
       "      <td>Entreprise et concurrence</td>\n",
       "      <td>OpenStreetMap</td>\n",
       "      <td>NaN</td>\n",
       "      <td>Infracommunale</td>\n",
       "      <td>France</td>\n",
       "      <td>Open Database License-ODBL</td>\n",
       "      <td>1</td>\n",
       "      <td>csv</td>\n",
       "      <td>https://geodatamine.fr/dump/shop_craft_office_...</td>\n",
       "    </tr>\n",
       "  </tbody>\n",
       "</table>\n",
       "</div>"
      ],
      "text/plain": [
       "  COLL_NOM COLL_SIRET                        ID  \\\n",
       "0   France         FR  osm-shop_craft_office-FR   \n",
       "\n",
       "                                 TITRE  \\\n",
       "0  Commerces de France (OpenStreetMap)   \n",
       "\n",
       "                                         DESCRIPTION  \\\n",
       "0  Commerces au sens large issus d'OpenStreetMap ...   \n",
       "\n",
       "                       THEME PRODUCTEUR_NOM  PRODUCTEUR_SIRET  \\\n",
       "0  Entreprise et concurrence  OpenStreetMap               NaN   \n",
       "\n",
       "  COUV_SPAT_MAILLE COUV_SPAT_NOM                     LICENCE  \\\n",
       "0   Infracommunale        France  Open Database License-ODBL   \n",
       "\n",
       "   NOMBRE_RESSOURCES FORMAT_RESSOURCES  \\\n",
       "0                  1               csv   \n",
       "\n",
       "                                                 URL  \n",
       "0  https://geodatamine.fr/dump/shop_craft_office_...  "
      ]
     },
     "execution_count": 12,
     "metadata": {},
     "output_type": "execute_result"
    }
   ],
   "source": [
    "\n",
    "df_metadata_cropped = df_metadata.drop(['COUV_TEMP_DEBUT', 'COUV_TEMP_FIN', 'DATE_PUBL', \n",
    "                                      'FREQ_MAJ', 'DATE_MAJ', 'MOTS_CLES'], axis=1)\n",
    "df_metadata_cropped\n"
   ]
  },
  {
   "cell_type": "code",
   "execution_count": null,
   "metadata": {},
   "outputs": [],
   "source": []
  },
  {
   "cell_type": "markdown",
   "metadata": {},
   "source": []
  },
  {
   "cell_type": "markdown",
   "metadata": {},
   "source": [
    "3 - OUVERTURE FICHIER LICENCE\n",
    "\n"
   ]
  },
  {
   "cell_type": "code",
   "execution_count": null,
   "metadata": {},
   "outputs": [
    {
     "name": "stdout",
     "output_type": "stream",
     "text": [
      "  Données © les contributeurs d’OpenStreetMap, sous licence Open Database License\n",
      "0  La licence complète est disponible à cette adr...                             \n"
     ]
    }
   ],
   "source": [
    "df_license = pd.read_csv('./Data/license.txt', sep =\";\")\n",
    "print(df_license)"
   ]
  },
  {
   "cell_type": "code",
   "execution_count": null,
   "metadata": {},
   "outputs": [
    {
     "name": "stderr",
     "output_type": "stream",
     "text": [
      "/tmp/ipykernel_211564/860819953.py:1: DtypeWarning: Columns (14,22,23,30,33,34,41,45,46) have mixed types. Specify dtype option on import or set low_memory=False.\n",
      "  df_lieu_equip_cult = pd.read_csv('./Data/base-des-lieux-et-des-equipements-culturels.csv', sep =\";\")\n"
     ]
    },
    {
     "data": {
      "text/html": [
       "<div>\n",
       "<style scoped>\n",
       "    .dataframe tbody tr th:only-of-type {\n",
       "        vertical-align: middle;\n",
       "    }\n",
       "\n",
       "    .dataframe tbody tr th {\n",
       "        vertical-align: top;\n",
       "    }\n",
       "\n",
       "    .dataframe thead th {\n",
       "        text-align: right;\n",
       "    }\n",
       "</style>\n",
       "<table border=\"1\" class=\"dataframe\">\n",
       "  <thead>\n",
       "    <tr style=\"text-align: right;\">\n",
       "      <th></th>\n",
       "      <th>Source</th>\n",
       "      <th>Nom</th>\n",
       "      <th>Adresse</th>\n",
       "      <th>Complement Adresse</th>\n",
       "      <th>Code Postal</th>\n",
       "      <th>libelle_geographique</th>\n",
       "      <th>code_insee</th>\n",
       "      <th>Code Insee Arrondt</th>\n",
       "      <th>Identifiant origine</th>\n",
       "      <th>Type équipement ou lieu</th>\n",
       "      <th>...</th>\n",
       "      <th>Annee_Label_Appellation</th>\n",
       "      <th>Latitude</th>\n",
       "      <th>Longitude</th>\n",
       "      <th>Demographie_AP</th>\n",
       "      <th>Demographie_detail_entree</th>\n",
       "      <th>Démographie_detail_sortie</th>\n",
       "      <th>Multi_equipements</th>\n",
       "      <th>identifiant_QPV_24</th>\n",
       "      <th>identifiant_QPV_15</th>\n",
       "      <th>coordonnees_geo</th>\n",
       "    </tr>\n",
       "  </thead>\n",
       "  <tbody>\n",
       "    <tr>\n",
       "      <th>0</th>\n",
       "      <td>Ministère de la Culture - Service du livre et ...</td>\n",
       "      <td>Médiathèque de COMMENSACQ</td>\n",
       "      <td>200  ROUTE DE TRENSACQ</td>\n",
       "      <td>NaN</td>\n",
       "      <td>40210.0</td>\n",
       "      <td>Commensacq</td>\n",
       "      <td>40085</td>\n",
       "      <td>402</td>\n",
       "      <td>LI14040</td>\n",
       "      <td>Bibliothèque</td>\n",
       "      <td>...</td>\n",
       "      <td>NaN</td>\n",
       "      <td>44.2106959785251</td>\n",
       "      <td>-0.822885</td>\n",
       "      <td>Actif</td>\n",
       "      <td>historiquement dans la base en 2020</td>\n",
       "      <td>NaN</td>\n",
       "      <td>NaN</td>\n",
       "      <td>NaN</td>\n",
       "      <td>NaN</td>\n",
       "      <td>44.2106959785251, -0.822884754184157</td>\n",
       "    </tr>\n",
       "    <tr>\n",
       "      <th>1</th>\n",
       "      <td>Ministère de la Culture - Service du livre et ...</td>\n",
       "      <td>Bibliothèque MUNICIPALE de CREON-D'ARMAGNAC</td>\n",
       "      <td>12, Rue Raoul Follereau</td>\n",
       "      <td>NaN</td>\n",
       "      <td>40240.0</td>\n",
       "      <td>Créon-d'Armagnac</td>\n",
       "      <td>40087</td>\n",
       "      <td>402</td>\n",
       "      <td>LI7880</td>\n",
       "      <td>Bibliothèque</td>\n",
       "      <td>...</td>\n",
       "      <td>NaN</td>\n",
       "      <td>43.993868098598</td>\n",
       "      <td>-0.105588</td>\n",
       "      <td>Actif</td>\n",
       "      <td>historiquement dans la base en 2020</td>\n",
       "      <td>NaN</td>\n",
       "      <td>NaN</td>\n",
       "      <td>NaN</td>\n",
       "      <td>NaN</td>\n",
       "      <td>43.993868098598, -0.105588386166206</td>\n",
       "    </tr>\n",
       "    <tr>\n",
       "      <th>2</th>\n",
       "      <td>Ministère de la Culture - Service du livre et ...</td>\n",
       "      <td>Bibliothèque de GELOUX</td>\n",
       "      <td>2  PLACE DE LA MAIRIE</td>\n",
       "      <td>NaN</td>\n",
       "      <td>40090.0</td>\n",
       "      <td>Geloux</td>\n",
       "      <td>40111</td>\n",
       "      <td>402</td>\n",
       "      <td>LI7888</td>\n",
       "      <td>Bibliothèque</td>\n",
       "      <td>...</td>\n",
       "      <td>NaN</td>\n",
       "      <td>43.9810194468607</td>\n",
       "      <td>-0.638823</td>\n",
       "      <td>Actif</td>\n",
       "      <td>historiquement dans la base en 2020</td>\n",
       "      <td>NaN</td>\n",
       "      <td>NaN</td>\n",
       "      <td>NaN</td>\n",
       "      <td>NaN</td>\n",
       "      <td>43.9810194468607, -0.638822931528512</td>\n",
       "    </tr>\n",
       "    <tr>\n",
       "      <th>3</th>\n",
       "      <td>Ministère de la Culture - Service du livre et ...</td>\n",
       "      <td>Médiathèque CHALOSSE TURSAN HAGETMAU</td>\n",
       "      <td>4 PLACE GRAMONT</td>\n",
       "      <td>NaN</td>\n",
       "      <td>40700.0</td>\n",
       "      <td>Hagetmau</td>\n",
       "      <td>40119</td>\n",
       "      <td>402</td>\n",
       "      <td>LI1734</td>\n",
       "      <td>Bibliothèque</td>\n",
       "      <td>...</td>\n",
       "      <td>NaN</td>\n",
       "      <td>43.6573228675739</td>\n",
       "      <td>-0.593452</td>\n",
       "      <td>Actif</td>\n",
       "      <td>historiquement dans la base en 2020</td>\n",
       "      <td>NaN</td>\n",
       "      <td>NaN</td>\n",
       "      <td>NaN</td>\n",
       "      <td>NaN</td>\n",
       "      <td>43.6573228675739, -0.593452338732522</td>\n",
       "    </tr>\n",
       "    <tr>\n",
       "      <th>4</th>\n",
       "      <td>Ministère de la Culture - Service du livre et ...</td>\n",
       "      <td>Médiathèque de HINX</td>\n",
       "      <td>100 ROUTE DE DAX</td>\n",
       "      <td>NaN</td>\n",
       "      <td>40180.0</td>\n",
       "      <td>Hinx</td>\n",
       "      <td>40126</td>\n",
       "      <td>401</td>\n",
       "      <td>LI7894</td>\n",
       "      <td>Bibliothèque</td>\n",
       "      <td>...</td>\n",
       "      <td>NaN</td>\n",
       "      <td>43.701671909797</td>\n",
       "      <td>-0.927995</td>\n",
       "      <td>Actif</td>\n",
       "      <td>historiquement dans la base en 2020</td>\n",
       "      <td>NaN</td>\n",
       "      <td>NaN</td>\n",
       "      <td>NaN</td>\n",
       "      <td>NaN</td>\n",
       "      <td>43.701671909797, -0.927995381193468</td>\n",
       "    </tr>\n",
       "    <tr>\n",
       "      <th>...</th>\n",
       "      <td>...</td>\n",
       "      <td>...</td>\n",
       "      <td>...</td>\n",
       "      <td>...</td>\n",
       "      <td>...</td>\n",
       "      <td>...</td>\n",
       "      <td>...</td>\n",
       "      <td>...</td>\n",
       "      <td>...</td>\n",
       "      <td>...</td>\n",
       "      <td>...</td>\n",
       "      <td>...</td>\n",
       "      <td>...</td>\n",
       "      <td>...</td>\n",
       "      <td>...</td>\n",
       "      <td>...</td>\n",
       "      <td>...</td>\n",
       "      <td>...</td>\n",
       "      <td>...</td>\n",
       "      <td>...</td>\n",
       "      <td>...</td>\n",
       "    </tr>\n",
       "    <tr>\n",
       "      <th>73786</th>\n",
       "      <td>Centre national du cinéma et de l'image animée</td>\n",
       "      <td>Espace Jules Verne</td>\n",
       "      <td>rue Jean Meunier</td>\n",
       "      <td>NaN</td>\n",
       "      <td>42660.0</td>\n",
       "      <td>Saint-Genest-Malifaux</td>\n",
       "      <td>42224</td>\n",
       "      <td>423</td>\n",
       "      <td>CINEMA386792</td>\n",
       "      <td>Cinéma</td>\n",
       "      <td>...</td>\n",
       "      <td>NaN</td>\n",
       "      <td>45.339677</td>\n",
       "      <td>4.414193</td>\n",
       "      <td>Actif</td>\n",
       "      <td>historiquement dans la base en 2020 ; actif en...</td>\n",
       "      <td>NaN</td>\n",
       "      <td>NaN</td>\n",
       "      <td>NaN</td>\n",
       "      <td>NaN</td>\n",
       "      <td>45.3396772108575, 4.41419329795429</td>\n",
       "    </tr>\n",
       "    <tr>\n",
       "      <th>73787</th>\n",
       "      <td>Centre national du cinéma et de l'image animée</td>\n",
       "      <td>Eden 3</td>\n",
       "      <td>place De La Gare</td>\n",
       "      <td>NaN</td>\n",
       "      <td>44150.0</td>\n",
       "      <td>Ancenis-Saint-Géréon</td>\n",
       "      <td>44003</td>\n",
       "      <td>445</td>\n",
       "      <td>CINEMA17803</td>\n",
       "      <td>Cinéma</td>\n",
       "      <td>...</td>\n",
       "      <td>NaN</td>\n",
       "      <td>47.364116</td>\n",
       "      <td>-1.178442</td>\n",
       "      <td>Actif</td>\n",
       "      <td>historiquement dans la base en 2020 ; actif en...</td>\n",
       "      <td>NaN</td>\n",
       "      <td>NaN</td>\n",
       "      <td>NaN</td>\n",
       "      <td>NaN</td>\n",
       "      <td>47.364116, -1.178442</td>\n",
       "    </tr>\n",
       "    <tr>\n",
       "      <th>73788</th>\n",
       "      <td>Centre national du cinéma et de l'image animée</td>\n",
       "      <td>L Odeon</td>\n",
       "      <td>7 place De L Eglise</td>\n",
       "      <td>NaN</td>\n",
       "      <td>44290.0</td>\n",
       "      <td>Guémené-Penfao</td>\n",
       "      <td>44067</td>\n",
       "      <td>445</td>\n",
       "      <td>CINEMA187191</td>\n",
       "      <td>Cinéma</td>\n",
       "      <td>...</td>\n",
       "      <td>NaN</td>\n",
       "      <td>47.630072</td>\n",
       "      <td>-1.832224</td>\n",
       "      <td>Actif</td>\n",
       "      <td>historiquement dans la base en 2020 ; actif en...</td>\n",
       "      <td>NaN</td>\n",
       "      <td>NaN</td>\n",
       "      <td>NaN</td>\n",
       "      <td>NaN</td>\n",
       "      <td>47.6300724547455, -1.8322240424309</td>\n",
       "    </tr>\n",
       "    <tr>\n",
       "      <th>73789</th>\n",
       "      <td>Centre national du cinéma et de l'image animée</td>\n",
       "      <td>Cinema St Michel</td>\n",
       "      <td>place Du General Charette</td>\n",
       "      <td>NaN</td>\n",
       "      <td>44650.0</td>\n",
       "      <td>Legé</td>\n",
       "      <td>44081</td>\n",
       "      <td>442</td>\n",
       "      <td>CINEMA221971</td>\n",
       "      <td>Cinéma</td>\n",
       "      <td>...</td>\n",
       "      <td>NaN</td>\n",
       "      <td>46.884992</td>\n",
       "      <td>-1.598342</td>\n",
       "      <td>Actif</td>\n",
       "      <td>historiquement dans la base en 2020 ; actif en...</td>\n",
       "      <td>NaN</td>\n",
       "      <td>NaN</td>\n",
       "      <td>NaN</td>\n",
       "      <td>NaN</td>\n",
       "      <td>46.8849920463362, -1.59834249755653</td>\n",
       "    </tr>\n",
       "    <tr>\n",
       "      <th>73790</th>\n",
       "      <td>Centre national du cinéma et de l'image animée</td>\n",
       "      <td>Le Cinematographe</td>\n",
       "      <td>12 Bis rue Des Carmelites</td>\n",
       "      <td>NaN</td>\n",
       "      <td>44300.0</td>\n",
       "      <td>Nantes</td>\n",
       "      <td>44109</td>\n",
       "      <td>442</td>\n",
       "      <td>CINEMA284747</td>\n",
       "      <td>Cinéma</td>\n",
       "      <td>...</td>\n",
       "      <td>NaN</td>\n",
       "      <td>47.216794</td>\n",
       "      <td>-1.551526</td>\n",
       "      <td>Actif</td>\n",
       "      <td>historiquement dans la base en 2020 ; actif en...</td>\n",
       "      <td>NaN</td>\n",
       "      <td>NaN</td>\n",
       "      <td>NaN</td>\n",
       "      <td>NaN</td>\n",
       "      <td>47.2167941498698, -1.55152591410262</td>\n",
       "    </tr>\n",
       "  </tbody>\n",
       "</table>\n",
       "<p>73791 rows × 54 columns</p>\n",
       "</div>"
      ],
      "text/plain": [
       "                                                  Source  \\\n",
       "0      Ministère de la Culture - Service du livre et ...   \n",
       "1      Ministère de la Culture - Service du livre et ...   \n",
       "2      Ministère de la Culture - Service du livre et ...   \n",
       "3      Ministère de la Culture - Service du livre et ...   \n",
       "4      Ministère de la Culture - Service du livre et ...   \n",
       "...                                                  ...   \n",
       "73786     Centre national du cinéma et de l'image animée   \n",
       "73787     Centre national du cinéma et de l'image animée   \n",
       "73788     Centre national du cinéma et de l'image animée   \n",
       "73789     Centre national du cinéma et de l'image animée   \n",
       "73790     Centre national du cinéma et de l'image animée   \n",
       "\n",
       "                                               Nom                    Adresse  \\\n",
       "0                        Médiathèque de COMMENSACQ     200  ROUTE DE TRENSACQ   \n",
       "1      Bibliothèque MUNICIPALE de CREON-D'ARMAGNAC    12, Rue Raoul Follereau   \n",
       "2                           Bibliothèque de GELOUX      2  PLACE DE LA MAIRIE   \n",
       "3             Médiathèque CHALOSSE TURSAN HAGETMAU            4 PLACE GRAMONT   \n",
       "4                              Médiathèque de HINX           100 ROUTE DE DAX   \n",
       "...                                            ...                        ...   \n",
       "73786                           Espace Jules Verne           rue Jean Meunier   \n",
       "73787                                       Eden 3           place De La Gare   \n",
       "73788                                      L Odeon        7 place De L Eglise   \n",
       "73789                             Cinema St Michel  place Du General Charette   \n",
       "73790                            Le Cinematographe  12 Bis rue Des Carmelites   \n",
       "\n",
       "      Complement Adresse  Code Postal   libelle_geographique code_insee  \\\n",
       "0                    NaN      40210.0             Commensacq      40085   \n",
       "1                    NaN      40240.0       Créon-d'Armagnac      40087   \n",
       "2                    NaN      40090.0                 Geloux      40111   \n",
       "3                    NaN      40700.0               Hagetmau      40119   \n",
       "4                    NaN      40180.0                   Hinx      40126   \n",
       "...                  ...          ...                    ...        ...   \n",
       "73786                NaN      42660.0  Saint-Genest-Malifaux      42224   \n",
       "73787                NaN      44150.0   Ancenis-Saint-Géréon      44003   \n",
       "73788                NaN      44290.0         Guémené-Penfao      44067   \n",
       "73789                NaN      44650.0                   Legé      44081   \n",
       "73790                NaN      44300.0                 Nantes      44109   \n",
       "\n",
       "      Code Insee Arrondt Identifiant origine Type équipement ou lieu  ...  \\\n",
       "0                    402             LI14040            Bibliothèque  ...   \n",
       "1                    402              LI7880            Bibliothèque  ...   \n",
       "2                    402              LI7888            Bibliothèque  ...   \n",
       "3                    402              LI1734            Bibliothèque  ...   \n",
       "4                    401              LI7894            Bibliothèque  ...   \n",
       "...                  ...                 ...                     ...  ...   \n",
       "73786                423        CINEMA386792                  Cinéma  ...   \n",
       "73787                445         CINEMA17803                  Cinéma  ...   \n",
       "73788                445        CINEMA187191                  Cinéma  ...   \n",
       "73789                442        CINEMA221971                  Cinéma  ...   \n",
       "73790                442        CINEMA284747                  Cinéma  ...   \n",
       "\n",
       "      Annee_Label_Appellation          Latitude Longitude Demographie_AP  \\\n",
       "0                         NaN  44.2106959785251 -0.822885          Actif   \n",
       "1                         NaN   43.993868098598 -0.105588          Actif   \n",
       "2                         NaN  43.9810194468607 -0.638823          Actif   \n",
       "3                         NaN  43.6573228675739 -0.593452          Actif   \n",
       "4                         NaN   43.701671909797 -0.927995          Actif   \n",
       "...                       ...               ...       ...            ...   \n",
       "73786                     NaN         45.339677  4.414193          Actif   \n",
       "73787                     NaN         47.364116 -1.178442          Actif   \n",
       "73788                     NaN         47.630072 -1.832224          Actif   \n",
       "73789                     NaN         46.884992 -1.598342          Actif   \n",
       "73790                     NaN         47.216794 -1.551526          Actif   \n",
       "\n",
       "                               Demographie_detail_entree  \\\n",
       "0                    historiquement dans la base en 2020   \n",
       "1                    historiquement dans la base en 2020   \n",
       "2                    historiquement dans la base en 2020   \n",
       "3                    historiquement dans la base en 2020   \n",
       "4                    historiquement dans la base en 2020   \n",
       "...                                                  ...   \n",
       "73786  historiquement dans la base en 2020 ; actif en...   \n",
       "73787  historiquement dans la base en 2020 ; actif en...   \n",
       "73788  historiquement dans la base en 2020 ; actif en...   \n",
       "73789  historiquement dans la base en 2020 ; actif en...   \n",
       "73790  historiquement dans la base en 2020 ; actif en...   \n",
       "\n",
       "      Démographie_detail_sortie Multi_equipements identifiant_QPV_24  \\\n",
       "0                           NaN               NaN                NaN   \n",
       "1                           NaN               NaN                NaN   \n",
       "2                           NaN               NaN                NaN   \n",
       "3                           NaN               NaN                NaN   \n",
       "4                           NaN               NaN                NaN   \n",
       "...                         ...               ...                ...   \n",
       "73786                       NaN               NaN                NaN   \n",
       "73787                       NaN               NaN                NaN   \n",
       "73788                       NaN               NaN                NaN   \n",
       "73789                       NaN               NaN                NaN   \n",
       "73790                       NaN               NaN                NaN   \n",
       "\n",
       "      identifiant_QPV_15                       coordonnees_geo  \n",
       "0                    NaN  44.2106959785251, -0.822884754184157  \n",
       "1                    NaN   43.993868098598, -0.105588386166206  \n",
       "2                    NaN  43.9810194468607, -0.638822931528512  \n",
       "3                    NaN  43.6573228675739, -0.593452338732522  \n",
       "4                    NaN   43.701671909797, -0.927995381193468  \n",
       "...                  ...                                   ...  \n",
       "73786                NaN    45.3396772108575, 4.41419329795429  \n",
       "73787                NaN                  47.364116, -1.178442  \n",
       "73788                NaN    47.6300724547455, -1.8322240424309  \n",
       "73789                NaN   46.8849920463362, -1.59834249755653  \n",
       "73790                NaN   47.2167941498698, -1.55152591410262  \n",
       "\n",
       "[73791 rows x 54 columns]"
      ]
     },
     "execution_count": 14,
     "metadata": {},
     "output_type": "execute_result"
    }
   ],
   "source": [
    "df_lieu_equip_cult = pd.read_csv('./Data/base-des-lieux-et-des-equipements-culturels.csv', sep =\";\")\n",
    "df_lieu_equip_cult"
   ]
  },
  {
   "cell_type": "code",
   "execution_count": null,
   "metadata": {},
   "outputs": [],
   "source": []
  },
  {
   "cell_type": "markdown",
   "metadata": {},
   "source": [
    "4- OUVERTURE FICHIER EQUIPEMENT CULTUREL"
   ]
  },
  {
   "cell_type": "code",
   "execution_count": null,
   "metadata": {},
   "outputs": [
    {
     "data": {
      "text/plain": [
       "array([nan, 'Centre d’art contemporain d’intérêt national',\n",
       "       'Centre chorégraphique national',\n",
       "       'Centre de développement chorégaphique national',\n",
       "       'Centre dramatique national', 'Art et essai',\n",
       "       'Architecture contemporaine remarquable',\n",
       "       'Centre national des arts de la rue et de l’espace public',\n",
       "       'Centre national de création musicale',\n",
       "       \"Fonds régional d'art contemporain\", 'Jardin remarquable',\n",
       "       'LIR - Librairie indépendante de référence',\n",
       "       'LR - Librairie de référence', 'Maison des illustres',\n",
       "       'Microfolie', 'Monument national', 'Musée national',\n",
       "       'Monument historique', 'Musée de France', 'Opéra national',\n",
       "       'Opéra national en région', 'Pôle national cirque',\n",
       "       'Centre culturel de rencontre',\n",
       "       'Scène conventionnée d’intérêt national', 'Scène nationale',\n",
       "       'Scène de musiques actuelles', 'Théâtre hors label',\n",
       "       'Théâtre national', 'Théâtre privé', 'Théâtre de ville',\n",
       "       \"Théatre lyrique d'intérêt national\",\n",
       "       \"Patrimoine mondial de l'Unesco\", 'Zénith',\n",
       "       'Site patrimonial remarquable',\n",
       "       'Centre national de la marionnette',\n",
       "       'Orchestre national en région', 'Itinéraire culturel européen',\n",
       "       'Compagnie avec lieu', 'Etablissement public national'],\n",
       "      dtype=object)"
      ]
     },
     "execution_count": 15,
     "metadata": {},
     "output_type": "execute_result"
    }
   ],
   "source": [
    "df_lieu_equip_cult.iloc[:,10].unique()\n"
   ]
  },
  {
   "cell_type": "markdown",
   "metadata": {},
   "source": [
    "5-OUVERTURE FICHIER POPULATION"
   ]
  },
  {
   "cell_type": "code",
   "execution_count": null,
   "metadata": {},
   "outputs": [
    {
     "data": {
      "text/html": [
       "<div>\n",
       "<style scoped>\n",
       "    .dataframe tbody tr th:only-of-type {\n",
       "        vertical-align: middle;\n",
       "    }\n",
       "\n",
       "    .dataframe tbody tr th {\n",
       "        vertical-align: top;\n",
       "    }\n",
       "\n",
       "    .dataframe thead th {\n",
       "        text-align: right;\n",
       "    }\n",
       "</style>\n",
       "<table border=\"1\" class=\"dataframe\">\n",
       "  <thead>\n",
       "    <tr style=\"text-align: right;\">\n",
       "      <th></th>\n",
       "      <th>Code</th>\n",
       "      <th>Libellé</th>\n",
       "      <th>Population municipale 2021</th>\n",
       "    </tr>\n",
       "  </thead>\n",
       "  <tbody>\n",
       "    <tr>\n",
       "      <th>0</th>\n",
       "      <td>01001</td>\n",
       "      <td>L'Abergement-Clémenciat</td>\n",
       "      <td>832</td>\n",
       "    </tr>\n",
       "    <tr>\n",
       "      <th>1</th>\n",
       "      <td>01002</td>\n",
       "      <td>L'Abergement-de-Varey</td>\n",
       "      <td>267</td>\n",
       "    </tr>\n",
       "    <tr>\n",
       "      <th>2</th>\n",
       "      <td>01004</td>\n",
       "      <td>Ambérieu-en-Bugey</td>\n",
       "      <td>14854</td>\n",
       "    </tr>\n",
       "    <tr>\n",
       "      <th>3</th>\n",
       "      <td>01005</td>\n",
       "      <td>Ambérieux-en-Dombes</td>\n",
       "      <td>1897</td>\n",
       "    </tr>\n",
       "    <tr>\n",
       "      <th>4</th>\n",
       "      <td>01006</td>\n",
       "      <td>Ambléon</td>\n",
       "      <td>113</td>\n",
       "    </tr>\n",
       "    <tr>\n",
       "      <th>...</th>\n",
       "      <td>...</td>\n",
       "      <td>...</td>\n",
       "      <td>...</td>\n",
       "    </tr>\n",
       "    <tr>\n",
       "      <th>34930</th>\n",
       "      <td>97613</td>\n",
       "      <td>M'Tsangamouji</td>\n",
       "      <td>N/A - résultat non disponible</td>\n",
       "    </tr>\n",
       "    <tr>\n",
       "      <th>34931</th>\n",
       "      <td>97614</td>\n",
       "      <td>Ouangani</td>\n",
       "      <td>N/A - résultat non disponible</td>\n",
       "    </tr>\n",
       "    <tr>\n",
       "      <th>34932</th>\n",
       "      <td>97615</td>\n",
       "      <td>Pamandzi</td>\n",
       "      <td>N/A - résultat non disponible</td>\n",
       "    </tr>\n",
       "    <tr>\n",
       "      <th>34933</th>\n",
       "      <td>97616</td>\n",
       "      <td>Sada</td>\n",
       "      <td>N/A - résultat non disponible</td>\n",
       "    </tr>\n",
       "    <tr>\n",
       "      <th>34934</th>\n",
       "      <td>97617</td>\n",
       "      <td>Tsingoni</td>\n",
       "      <td>N/A - résultat non disponible</td>\n",
       "    </tr>\n",
       "  </tbody>\n",
       "</table>\n",
       "<p>34935 rows × 3 columns</p>\n",
       "</div>"
      ],
      "text/plain": [
       "        Code                  Libellé     Population municipale 2021\n",
       "0      01001  L'Abergement-Clémenciat                            832\n",
       "1      01002    L'Abergement-de-Varey                            267\n",
       "2      01004        Ambérieu-en-Bugey                          14854\n",
       "3      01005      Ambérieux-en-Dombes                           1897\n",
       "4      01006                  Ambléon                            113\n",
       "...      ...                      ...                            ...\n",
       "34930  97613            M'Tsangamouji  N/A - résultat non disponible\n",
       "34931  97614                 Ouangani  N/A - résultat non disponible\n",
       "34932  97615                 Pamandzi  N/A - résultat non disponible\n",
       "34933  97616                     Sada  N/A - résultat non disponible\n",
       "34934  97617                 Tsingoni  N/A - résultat non disponible\n",
       "\n",
       "[34935 rows x 3 columns]"
      ]
     },
     "execution_count": 16,
     "metadata": {},
     "output_type": "execute_result"
    }
   ],
   "source": [
    "df_population= pd.read_csv('./Data/datapopulation.csv', sep =\";\", header = 2)\n",
    "df_population"
   ]
  },
  {
   "cell_type": "code",
   "execution_count": null,
   "metadata": {},
   "outputs": [
    {
     "data": {
      "text/plain": [
       "Code                          0\n",
       "Libellé                       0\n",
       "Population municipale 2021    0\n",
       "dtype: int64"
      ]
     },
     "execution_count": 17,
     "metadata": {},
     "output_type": "execute_result"
    }
   ],
   "source": [
    "df_population.isna().sum()"
   ]
  },
  {
   "cell_type": "code",
   "execution_count": null,
   "metadata": {},
   "outputs": [
    {
     "data": {
      "text/plain": [
       "20"
      ]
     },
     "execution_count": 18,
     "metadata": {},
     "output_type": "execute_result"
    }
   ],
   "source": [
    "df_population['Population municipale 2021'].value_counts()['N/A - résultat non disponible']"
   ]
  },
  {
   "cell_type": "code",
   "execution_count": null,
   "metadata": {},
   "outputs": [
    {
     "data": {
      "text/plain": [
       "34935"
      ]
     },
     "execution_count": 19,
     "metadata": {},
     "output_type": "execute_result"
    }
   ],
   "source": [
    "len(df_population['Population municipale 2021'])"
   ]
  },
  {
   "cell_type": "code",
   "execution_count": null,
   "metadata": {},
   "outputs": [],
   "source": [
    "df_population['Population municipale 2021'] = df_population['Population municipale 2021'].map(lambda x : 0 if x == 'N/A - résultat non disponible' else x)"
   ]
  },
  {
   "cell_type": "code",
   "execution_count": null,
   "metadata": {},
   "outputs": [
    {
     "data": {
      "text/plain": [
       "'N/A - résultat non disponible'"
      ]
     },
     "execution_count": 21,
     "metadata": {},
     "output_type": "execute_result"
    }
   ],
   "source": [
    "'N/A - résultat non disponible'"
   ]
  },
  {
   "cell_type": "code",
   "execution_count": null,
   "metadata": {},
   "outputs": [
    {
     "data": {
      "text/plain": [
       "0          832\n",
       "1          267\n",
       "2        14854\n",
       "3         1897\n",
       "4          113\n",
       "         ...  \n",
       "34930        0\n",
       "34931        0\n",
       "34932        0\n",
       "34933        0\n",
       "34934        0\n",
       "Name: Population municipale 2021, Length: 34935, dtype: object"
      ]
     },
     "execution_count": 22,
     "metadata": {},
     "output_type": "execute_result"
    }
   ],
   "source": [
    "df_population['Population municipale 2021']"
   ]
  },
  {
   "cell_type": "markdown",
   "metadata": {},
   "source": [
    "5/ CRÉE NOUVEAU DATAFRAME pour villes fdont population supérieur > 20 000 habitants et < 20 000 habitants"
   ]
  },
  {
   "cell_type": "markdown",
   "metadata": {},
   "source": []
  },
  {
   "cell_type": "code",
   "execution_count": null,
   "metadata": {},
   "outputs": [
    {
     "data": {
      "text/html": [
       "<div>\n",
       "<style scoped>\n",
       "    .dataframe tbody tr th:only-of-type {\n",
       "        vertical-align: middle;\n",
       "    }\n",
       "\n",
       "    .dataframe tbody tr th {\n",
       "        vertical-align: top;\n",
       "    }\n",
       "\n",
       "    .dataframe thead th {\n",
       "        text-align: right;\n",
       "    }\n",
       "</style>\n",
       "<table border=\"1\" class=\"dataframe\">\n",
       "  <thead>\n",
       "    <tr style=\"text-align: right;\">\n",
       "      <th></th>\n",
       "      <th>Code</th>\n",
       "      <th>Libellé</th>\n",
       "      <th>Population municipale 2021</th>\n",
       "    </tr>\n",
       "  </thead>\n",
       "  <tbody>\n",
       "    <tr>\n",
       "      <th>0</th>\n",
       "      <td>01001</td>\n",
       "      <td>L'Abergement-Clémenciat</td>\n",
       "      <td>832</td>\n",
       "    </tr>\n",
       "    <tr>\n",
       "      <th>1</th>\n",
       "      <td>01002</td>\n",
       "      <td>L'Abergement-de-Varey</td>\n",
       "      <td>267</td>\n",
       "    </tr>\n",
       "    <tr>\n",
       "      <th>2</th>\n",
       "      <td>01004</td>\n",
       "      <td>Ambérieu-en-Bugey</td>\n",
       "      <td>14854</td>\n",
       "    </tr>\n",
       "    <tr>\n",
       "      <th>3</th>\n",
       "      <td>01005</td>\n",
       "      <td>Ambérieux-en-Dombes</td>\n",
       "      <td>1897</td>\n",
       "    </tr>\n",
       "    <tr>\n",
       "      <th>4</th>\n",
       "      <td>01006</td>\n",
       "      <td>Ambléon</td>\n",
       "      <td>113</td>\n",
       "    </tr>\n",
       "    <tr>\n",
       "      <th>...</th>\n",
       "      <td>...</td>\n",
       "      <td>...</td>\n",
       "      <td>...</td>\n",
       "    </tr>\n",
       "    <tr>\n",
       "      <th>34930</th>\n",
       "      <td>97613</td>\n",
       "      <td>M'Tsangamouji</td>\n",
       "      <td>0</td>\n",
       "    </tr>\n",
       "    <tr>\n",
       "      <th>34931</th>\n",
       "      <td>97614</td>\n",
       "      <td>Ouangani</td>\n",
       "      <td>0</td>\n",
       "    </tr>\n",
       "    <tr>\n",
       "      <th>34932</th>\n",
       "      <td>97615</td>\n",
       "      <td>Pamandzi</td>\n",
       "      <td>0</td>\n",
       "    </tr>\n",
       "    <tr>\n",
       "      <th>34933</th>\n",
       "      <td>97616</td>\n",
       "      <td>Sada</td>\n",
       "      <td>0</td>\n",
       "    </tr>\n",
       "    <tr>\n",
       "      <th>34934</th>\n",
       "      <td>97617</td>\n",
       "      <td>Tsingoni</td>\n",
       "      <td>0</td>\n",
       "    </tr>\n",
       "  </tbody>\n",
       "</table>\n",
       "<p>34935 rows × 3 columns</p>\n",
       "</div>"
      ],
      "text/plain": [
       "        Code                  Libellé Population municipale 2021\n",
       "0      01001  L'Abergement-Clémenciat                        832\n",
       "1      01002    L'Abergement-de-Varey                        267\n",
       "2      01004        Ambérieu-en-Bugey                      14854\n",
       "3      01005      Ambérieux-en-Dombes                       1897\n",
       "4      01006                  Ambléon                        113\n",
       "...      ...                      ...                        ...\n",
       "34930  97613            M'Tsangamouji                          0\n",
       "34931  97614                 Ouangani                          0\n",
       "34932  97615                 Pamandzi                          0\n",
       "34933  97616                     Sada                          0\n",
       "34934  97617                 Tsingoni                          0\n",
       "\n",
       "[34935 rows x 3 columns]"
      ]
     },
     "execution_count": 23,
     "metadata": {},
     "output_type": "execute_result"
    }
   ],
   "source": [
    "df_population"
   ]
  },
  {
   "cell_type": "code",
   "execution_count": null,
   "metadata": {},
   "outputs": [
    {
     "data": {
      "text/plain": [
       "0          832\n",
       "1          267\n",
       "2        14854\n",
       "3         1897\n",
       "4          113\n",
       "         ...  \n",
       "34930        0\n",
       "34931        0\n",
       "34932        0\n",
       "34933        0\n",
       "34934        0\n",
       "Name: Population municipale 2021, Length: 34935, dtype: int64"
      ]
     },
     "execution_count": 24,
     "metadata": {},
     "output_type": "execute_result"
    }
   ],
   "source": [
    "df_population_integrer = df_population['Population municipale 2021'].astype(int)\n",
    "df_population_integrer"
   ]
  },
  {
   "cell_type": "code",
   "execution_count": null,
   "metadata": {},
   "outputs": [
    {
     "data": {
      "text/plain": [
       "47        41525\n",
       "239       22277\n",
       "781       24021\n",
       "1053      52958\n",
       "1081      28705\n",
       "          ...  \n",
       "34908    105240\n",
       "34909     84077\n",
       "34911     34344\n",
       "34913     24293\n",
       "34915     81943\n",
       "Name: Population municipale 2021, Length: 481, dtype: int64"
      ]
     },
     "execution_count": 25,
     "metadata": {},
     "output_type": "execute_result"
    }
   ],
   "source": [
    "df_grandes_villes = df_population_integrer[df_population_integrer > 20000]\n",
    "df_grandes_villes"
   ]
  },
  {
   "cell_type": "code",
   "execution_count": null,
   "metadata": {},
   "outputs": [
    {
     "data": {
      "text/plain": [
       "0          832\n",
       "1          267\n",
       "2        14854\n",
       "3         1897\n",
       "4          113\n",
       "         ...  \n",
       "34930        0\n",
       "34931        0\n",
       "34932        0\n",
       "34933        0\n",
       "34934        0\n",
       "Name: Population municipale 2021, Length: 34454, dtype: int64"
      ]
     },
     "execution_count": 26,
     "metadata": {},
     "output_type": "execute_result"
    }
   ],
   "source": [
    "df_grandes_villes = df_population_integrer[df_population_integrer < 20000]\n",
    "df_grandes_villes\n"
   ]
  },
  {
   "cell_type": "code",
   "execution_count": null,
   "metadata": {},
   "outputs": [
    {
     "data": {
      "text/plain": [
       "list"
      ]
     },
     "execution_count": 27,
     "metadata": {},
     "output_type": "execute_result"
    }
   ],
   "source": [
    "df_petites_villes = [df_population_integrer < 20000]\n",
    "type(df_petites_villes)"
   ]
  },
  {
   "cell_type": "markdown",
   "metadata": {},
   "source": [
    "Recupérer les code postaux"
   ]
  },
  {
   "cell_type": "code",
   "execution_count": 65,
   "metadata": {},
   "outputs": [
    {
     "name": "stdout",
     "output_type": "stream",
     "text": [
      "      insee_code            city_code  zip_code                label  \\\n",
      "0          25620        ville du pont     25650        ville du pont   \n",
      "1          25624       villers grelot     25640       villers grelot   \n",
      "2          25615  villars les blamont     25310  villars les blamont   \n",
      "3          25619        les villedieu     25240        les villedieu   \n",
      "4          25622        villers buzon     25170        villers buzon   \n",
      "...          ...                  ...       ...                  ...   \n",
      "39140      98829                 thio     98829                 thio   \n",
      "39141      98831                  voh     98833                  voh   \n",
      "39142      98832                 yate     98834                 yate   \n",
      "39143      98612               sigave     98620               sigave   \n",
      "39144      98613                 uvea     98600                 uvea   \n",
      "\n",
      "        latitude   longitude     department_name department_number  \\\n",
      "0      46.999873    6.498147               doubs                25   \n",
      "1      47.361512    6.235167               doubs                25   \n",
      "2      47.368384    6.871415               doubs                25   \n",
      "3      46.713906    6.265831               doubs                25   \n",
      "4      47.228558    5.852187               doubs                25   \n",
      "...          ...         ...                 ...               ...   \n",
      "39140        NaN         NaN  nouvelle-calédonie               988   \n",
      "39141        NaN         NaN  nouvelle-calédonie               988   \n",
      "39142        NaN         NaN  nouvelle-calédonie               988   \n",
      "39143 -14.270411 -178.155263    wallis-et-futuna               986   \n",
      "39144 -13.281863 -176.161928    wallis-et-futuna               986   \n",
      "\n",
      "                   region_name      region_geojson_name  \n",
      "0      bourgogne-franche-comté  Bourgogne-Franche-Comté  \n",
      "1      bourgogne-franche-comté  Bourgogne-Franche-Comté  \n",
      "2      bourgogne-franche-comté  Bourgogne-Franche-Comté  \n",
      "3      bourgogne-franche-comté  Bourgogne-Franche-Comté  \n",
      "4      bourgogne-franche-comté  Bourgogne-Franche-Comté  \n",
      "...                        ...                      ...  \n",
      "39140       nouvelle-calédonie       Nouvelle Calédonie  \n",
      "39141       nouvelle-calédonie       Nouvelle Calédonie  \n",
      "39142       nouvelle-calédonie       Nouvelle Calédonie  \n",
      "39143         wallis-et-futuna         Wallis-et-Futuna  \n",
      "39144         wallis-et-futuna         Wallis-et-Futuna  \n",
      "\n",
      "[39145 rows x 10 columns]\n"
     ]
    }
   ],
   "source": [
    "\n",
    "df_geopoints = pd.read_csv('./Data/cities.csv', sep =\",\")\n",
    "print(df_geopoints)"
   ]
  },
  {
   "cell_type": "code",
   "execution_count": 66,
   "metadata": {},
   "outputs": [
    {
     "data": {
      "text/plain": [
       "<bound method DataFrame.info of       insee_code            city_code  zip_code                label  \\\n",
       "0          25620        ville du pont     25650        ville du pont   \n",
       "1          25624       villers grelot     25640       villers grelot   \n",
       "2          25615  villars les blamont     25310  villars les blamont   \n",
       "3          25619        les villedieu     25240        les villedieu   \n",
       "4          25622        villers buzon     25170        villers buzon   \n",
       "...          ...                  ...       ...                  ...   \n",
       "39140      98829                 thio     98829                 thio   \n",
       "39141      98831                  voh     98833                  voh   \n",
       "39142      98832                 yate     98834                 yate   \n",
       "39143      98612               sigave     98620               sigave   \n",
       "39144      98613                 uvea     98600                 uvea   \n",
       "\n",
       "        latitude   longitude     department_name department_number  \\\n",
       "0      46.999873    6.498147               doubs                25   \n",
       "1      47.361512    6.235167               doubs                25   \n",
       "2      47.368384    6.871415               doubs                25   \n",
       "3      46.713906    6.265831               doubs                25   \n",
       "4      47.228558    5.852187               doubs                25   \n",
       "...          ...         ...                 ...               ...   \n",
       "39140        NaN         NaN  nouvelle-calédonie               988   \n",
       "39141        NaN         NaN  nouvelle-calédonie               988   \n",
       "39142        NaN         NaN  nouvelle-calédonie               988   \n",
       "39143 -14.270411 -178.155263    wallis-et-futuna               986   \n",
       "39144 -13.281863 -176.161928    wallis-et-futuna               986   \n",
       "\n",
       "                   region_name      region_geojson_name  \n",
       "0      bourgogne-franche-comté  Bourgogne-Franche-Comté  \n",
       "1      bourgogne-franche-comté  Bourgogne-Franche-Comté  \n",
       "2      bourgogne-franche-comté  Bourgogne-Franche-Comté  \n",
       "3      bourgogne-franche-comté  Bourgogne-Franche-Comté  \n",
       "4      bourgogne-franche-comté  Bourgogne-Franche-Comté  \n",
       "...                        ...                      ...  \n",
       "39140       nouvelle-calédonie       Nouvelle Calédonie  \n",
       "39141       nouvelle-calédonie       Nouvelle Calédonie  \n",
       "39142       nouvelle-calédonie       Nouvelle Calédonie  \n",
       "39143         wallis-et-futuna         Wallis-et-Futuna  \n",
       "39144         wallis-et-futuna         Wallis-et-Futuna  \n",
       "\n",
       "[39145 rows x 10 columns]>"
      ]
     },
     "execution_count": 66,
     "metadata": {},
     "output_type": "execute_result"
    }
   ],
   "source": [
    "df_geopoints.info\n",
    "\n"
   ]
  },
  {
   "cell_type": "code",
   "execution_count": 47,
   "metadata": {},
   "outputs": [
    {
     "data": {
      "text/plain": [
       "Index(['insee_code,city_code,zip_code,label,latitude,longitude,department_name,department_number,region_name,region_geojson_name'], dtype='object')"
      ]
     },
     "execution_count": 47,
     "metadata": {},
     "output_type": "execute_result"
    }
   ],
   "source": [
    "df_geopoints.columns"
   ]
  },
  {
   "cell_type": "code",
   "execution_count": 77,
   "metadata": {},
   "outputs": [
    {
     "data": {
      "text/html": [
       "<div>\n",
       "<style scoped>\n",
       "    .dataframe tbody tr th:only-of-type {\n",
       "        vertical-align: middle;\n",
       "    }\n",
       "\n",
       "    .dataframe tbody tr th {\n",
       "        vertical-align: top;\n",
       "    }\n",
       "\n",
       "    .dataframe thead th {\n",
       "        text-align: right;\n",
       "    }\n",
       "</style>\n",
       "<table border=\"1\" class=\"dataframe\">\n",
       "  <thead>\n",
       "    <tr style=\"text-align: right;\">\n",
       "      <th></th>\n",
       "      <th>zip_code</th>\n",
       "      <th>label</th>\n",
       "      <th>latitude</th>\n",
       "      <th>longitude</th>\n",
       "    </tr>\n",
       "  </thead>\n",
       "  <tbody>\n",
       "    <tr>\n",
       "      <th>0</th>\n",
       "      <td>25650</td>\n",
       "      <td>ville du pont</td>\n",
       "      <td>46.999873</td>\n",
       "      <td>6.498147</td>\n",
       "    </tr>\n",
       "    <tr>\n",
       "      <th>1</th>\n",
       "      <td>25640</td>\n",
       "      <td>villers grelot</td>\n",
       "      <td>47.361512</td>\n",
       "      <td>6.235167</td>\n",
       "    </tr>\n",
       "    <tr>\n",
       "      <th>2</th>\n",
       "      <td>25310</td>\n",
       "      <td>villars les blamont</td>\n",
       "      <td>47.368384</td>\n",
       "      <td>6.871415</td>\n",
       "    </tr>\n",
       "    <tr>\n",
       "      <th>3</th>\n",
       "      <td>25240</td>\n",
       "      <td>les villedieu</td>\n",
       "      <td>46.713906</td>\n",
       "      <td>6.265831</td>\n",
       "    </tr>\n",
       "    <tr>\n",
       "      <th>4</th>\n",
       "      <td>25170</td>\n",
       "      <td>villers buzon</td>\n",
       "      <td>47.228558</td>\n",
       "      <td>5.852187</td>\n",
       "    </tr>\n",
       "  </tbody>\n",
       "</table>\n",
       "</div>"
      ],
      "text/plain": [
       "   zip_code                label   latitude  longitude\n",
       "0     25650        ville du pont  46.999873   6.498147\n",
       "1     25640       villers grelot  47.361512   6.235167\n",
       "2     25310  villars les blamont  47.368384   6.871415\n",
       "3     25240        les villedieu  46.713906   6.265831\n",
       "4     25170        villers buzon  47.228558   5.852187"
      ]
     },
     "execution_count": 77,
     "metadata": {},
     "output_type": "execute_result"
    }
   ],
   "source": [
    "df_selected = df_geopoints[['zip_code','label','latitude','longitude']]\n",
    "df_selected.head(5)\n"
   ]
  },
  {
   "cell_type": "markdown",
   "metadata": {},
   "source": [
    "Essaie de l'API"
   ]
  },
  {
   "cell_type": "code",
   "execution_count": 43,
   "metadata": {},
   "outputs": [],
   "source": [
    "\n",
    "commune_codepost = {}\n",
    "\n",
    "for ville in liste_commune:\n",
    "\n",
    "    url = f'https://geo.api.gouv.fr/communes?nom={ville}'\n",
    "    code_poste = requests.get(url)\n",
    "\n",
    "# Vérifier si la requête a réussi (statut 200)\n",
    "    if code_poste.status_code == 200:\n",
    "        # print ('ok')\n",
    "\n",
    "        liste_code = code_poste.json() #recupere dico\n",
    "        \n",
    "     \n",
    "        code_postal = liste_code[0]['codesPostaux']\n",
    "        commune_codepost[ville] = code_postal[0]\n",
    "      "
   ]
  },
  {
   "cell_type": "code",
   "execution_count": 44,
   "metadata": {},
   "outputs": [
    {
     "data": {
      "text/plain": [
       "{'Meylan': '38240',\n",
       " 'Echirolles': '38130',\n",
       " 'Champ sur Drac': '38560',\n",
       " 'Domène': '38420',\n",
       " \"Saint Martin d'Hères\": '38400',\n",
       " 'Eybens': '38320',\n",
       " 'Vizille': '38220',\n",
       " 'Venon': '27110',\n",
       " 'Gières': '38610',\n",
       " 'Claix': '16440',\n",
       " 'Seyssinet Pariset': '38170',\n",
       " 'Poisat': '38320',\n",
       " 'Saint Barthélémy de Séchilienne': '38220',\n",
       " 'Fontaine': '39140',\n",
       " 'Varces Allières et Risset': '38760',\n",
       " 'Saint Georges de Commiers': '38450',\n",
       " 'Saint Pierre de Mésage': '38220',\n",
       " 'Séchilienne': '38220',\n",
       " 'Vaulnaveys le Bas': '38410',\n",
       " 'Le Gua': '17600',\n",
       " 'Le Pont de Claix': '38800',\n",
       " 'Miribel Lanchâtre': '38450',\n",
       " 'La Tronche': '38700',\n",
       " 'Fontanil Cornillon': '38120',\n",
       " 'Saint Paul de Varces': '38760',\n",
       " 'Jarrie': '73300',\n",
       " 'Vaulnaveys le Haut': '38410',\n",
       " 'Le Sappey en Chartreuse': '38700',\n",
       " 'Notre Dame de Mésage': '38220',\n",
       " 'Champagnier': '38800',\n",
       " 'Vif': '38450',\n",
       " 'Corenc': '38700',\n",
       " 'Murianette': '38420',\n",
       " 'Saint Martin Le Vinoux': '38950',\n",
       " 'Saint Egrève': '38120',\n",
       " 'Grenoble': '38000',\n",
       " 'Sarcenas': '38700',\n",
       " 'Notre Dame de Commiers': '38450',\n",
       " 'Noyarey': '38360',\n",
       " 'Seyssins': '38180',\n",
       " 'Brié et Angonnes': '38320',\n",
       " 'Sassenage': '38360',\n",
       " 'Bresson': '38320',\n",
       " 'Herbeys': '38320',\n",
       " 'Proveysieux': '38120',\n",
       " 'Quaix en Chartreuse': '38950',\n",
       " 'Veurey': '38113',\n",
       " 'Montchaboud': '38220'}"
      ]
     },
     "execution_count": 44,
     "metadata": {},
     "output_type": "execute_result"
    }
   ],
   "source": [
    "commune_codepost"
   ]
  },
  {
   "cell_type": "code",
   "execution_count": null,
   "metadata": {},
   "outputs": [],
   "source": [
    "from numpy import random  # listes de nombres aléatoires\n",
    "import matplotlib.pyplot as plt  # graphiques\n",
    "import geopandas as gpd  # gestion de données carto\n",
    "from pandas import concat  # concaténer les DataFrames."
   ]
  },
  {
   "cell_type": "code",
   "execution_count": null,
   "metadata": {},
   "outputs": [],
   "source": [
    "import pandas as pd\n",
    "\n",
    "import matplotlib.pyplot as plt\n",
    "import pgeocode \n",
    "\n",
    "import geopandas as gpd\n",
    "from shapely.geometry import Point\n",
    "from geopandas import GeoDataFrame\n",
    "\n"
   ]
  },
  {
   "cell_type": "code",
   "execution_count": null,
   "metadata": {},
   "outputs": [],
   "source": [
    "\n",
    "nomi = pgeocode.Nominatim(country='fr')\n",
    "\n",
    "edf = pd.read_csv('./Data/datapopulation.csv', sep='\\t',header=2, index_col=False ,names=['Code','Libellé','Population municipale 2021'])\n",
    "edf['Latitude'] = (nomi.query_postal_code(df_population_supérieure20000['Code'].tolist()).latitude)\n",
    "edf['Longitude'] = (nomi.query_postal_code((df_population_supérieure20000['Code'].tolist()).longitude))\n",
    "edf "
   ]
  },
  {
   "cell_type": "code",
   "execution_count": null,
   "metadata": {},
   "outputs": [],
   "source": [
    "\n",
    "fig = go.Figure(data=go.Scattergeo(\n",
    "        lon = edf['Longitude'],\n",
    "        lat = edf['Latitude'],\n",
    "        text = edf['colC'],\n",
    "        mode = 'markers',\n",
    "        marker_color = edf['count'],\n"
   ]
  },
  {
   "cell_type": "code",
   "execution_count": null,
   "metadata": {},
   "outputs": [],
   "source": [
    "        ))\n",
    "\n",
    "fig.update_layout(\n",
    "        title = 'colC Distribution',\n",
    "        geo_scope='usa',\n"
   ]
  },
  {
   "cell_type": "code",
   "execution_count": null,
   "metadata": {},
   "outputs": [],
   "source": [
    "    )\n",
    "fig.show()"
   ]
  },
  {
   "cell_type": "code",
   "execution_count": null,
   "metadata": {},
   "outputs": [],
   "source": []
  },
  {
   "cell_type": "code",
   "execution_count": null,
   "metadata": {},
   "outputs": [],
   "source": []
  },
  {
   "cell_type": "code",
   "execution_count": null,
   "metadata": {},
   "outputs": [],
   "source": [
    "codepostal = [df_population['Code']]\n",
    "codepostal\n"
   ]
  },
  {
   "cell_type": "code",
   "execution_count": null,
   "metadata": {},
   "outputs": [],
   "source": [
    "def get_geolocation(postcode):\n",
    "    try:\n",
    "        location = geolocator.geocode(f\"{postcode}, France\")\n",
    "        if location:\n",
    "            return location.latitude, location.longitude\n",
    "        else:\n",
    "            return None, None\n",
    "    except Exception as e:\n",
    "        print(f\"Error geocoding postcode {postcode}: {e}\")\n",
    "        return None, None"
   ]
  },
  {
   "cell_type": "code",
   "execution_count": null,
   "metadata": {},
   "outputs": [],
   "source": [
    "df_population['Latitude'], df_population['Longitude'] = zip(*df_population['Code'].apply(get_geolocation))"
   ]
  },
  {
   "cell_type": "code",
   "execution_count": null,
   "metadata": {},
   "outputs": [],
   "source": [
    "px.chroropleth_mapbox(data_framce = df_population\n",
    "                      geojson =departements\n",
    "                      location = codepostal)"
   ]
  },
  {
   "cell_type": "code",
   "execution_count": null,
   "metadata": {},
   "outputs": [],
   "source": [
    "fig = px.choropleth_mapbox(df_population,\n",
    "                            geojson=departements.geometry.__geo_interface__,\n",
    "                            locations='codepostal',  # This should be the column in your dataframe\n",
    "                            color='Population municipale 2021',  # Column you want to use for coloring\n",
    "                            color_continuous_scale=\"Viridis\",  # Color scale\n",
    "                            mapbox_style=\"carto-positron\",  # Use a Mapbox style, or \"open-street-map\" if you don't have Mapbox access\n",
    "                            title=\"Population Municipale en 2021\",\n",
    "                            hover_name='Nom des communes')  # Add a hover f"
   ]
  }
 ],
 "metadata": {
  "kernelspec": {
   "display_name": "Python 3",
   "language": "python",
   "name": "python3"
  },
  "language_info": {
   "codemirror_mode": {
    "name": "ipython",
    "version": 3
   },
   "file_extension": ".py",
   "mimetype": "text/x-python",
   "name": "python",
   "nbconvert_exporter": "python",
   "pygments_lexer": "ipython3",
   "version": "3.11.7"
  }
 },
 "nbformat": 4,
 "nbformat_minor": 2
}
