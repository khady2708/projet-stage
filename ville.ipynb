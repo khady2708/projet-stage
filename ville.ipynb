{
 "cells": [
  {
   "cell_type": "code",
   "execution_count": 1,
   "metadata": {},
   "outputs": [],
   "source": [
    "import pandas as pd \n"
   ]
  },
  {
   "cell_type": "markdown",
   "metadata": {},
   "source": [
    "1 - OUVERTURE FICHIER COMMERCE"
   ]
  },
  {
   "cell_type": "code",
   "execution_count": 2,
   "metadata": {},
   "outputs": [
    {
     "name": "stderr",
     "output_type": "stream",
     "text": [
      "/tmp/ipykernel_38068/1583544222.py:1: DtypeWarning: Columns (10) have mixed types. Specify dtype option on import or set low_memory=False.\n",
      "  df_commerce = pd.read_csv('./Data/data.csv', sep =\";\")\n"
     ]
    },
    {
     "name": "stdout",
     "output_type": "stream",
     "text": [
      "                X          Y            osm_id         type  \\\n",
      "0       55.519784 -21.276031  node/11721653361       beauty   \n",
      "1        6.126323  45.898993   node/6851307099      tobacco   \n",
      "2        4.854186  46.781140   node/2249047677        shoes   \n",
      "3        4.575212  44.720957   node/2250990113   restaurant   \n",
      "4        4.675546  45.246532   node/8081393066    insurance   \n",
      "...           ...        ...               ...          ...   \n",
      "659917   1.850903  48.908997   node/9400801794  hairdresser   \n",
      "659918  -3.075557  47.573392   node/6023216120   restaurant   \n",
      "659919  -1.719222  47.224660  node/11685829904       cheese   \n",
      "659920   0.146254  47.972724      way/63576659      clothes   \n",
      "659921   2.314900  48.882990  node/11880709231        shoes   \n",
      "\n",
      "                                 name     brand operator wheelchair  \\\n",
      "0       Gentleman's Art's Hair Design       NaN      NaN        NaN   \n",
      "1                           Le Narval       NaN      NaN        NaN   \n",
      "2                            Mephisto  Mephisto      NaN        yes   \n",
      "3                         Le Minerais       NaN      NaN        NaN   \n",
      "4                              Matmut    Matmut      NaN        NaN   \n",
      "...                               ...       ...      ...        ...   \n",
      "659917                    IB Coiffure       NaN      NaN        NaN   \n",
      "659918              La Poêle à Crêpes       NaN      NaN        yes   \n",
      "659919             La Tome de Couëron       NaN      NaN        NaN   \n",
      "659920                    Stock House       NaN      NaN        NaN   \n",
      "659921                            NaN       NaN      NaN        NaN   \n",
      "\n",
      "                            opening_hours level  ... profession_ref  wikidata  \\\n",
      "0                                     NaN   NaN  ...            NaN       NaN   \n",
      "1                                     NaN   NaN  ...            NaN       NaN   \n",
      "2                                     NaN   NaN  ...            NaN   Q822975   \n",
      "3                                     NaN   NaN  ...            NaN       NaN   \n",
      "4                                     NaN   NaN  ...            NaN  Q3299185   \n",
      "...                                   ...   ...  ...            ...       ...   \n",
      "659917  Tu-Fr 09:00-18:30; Sa 09:00-18:00   NaN  ...            NaN       NaN   \n",
      "659918                                NaN   NaN  ...            NaN       NaN   \n",
      "659919                                NaN   NaN  ...            NaN       NaN   \n",
      "659920                                NaN   NaN  ...            NaN       NaN   \n",
      "659921                                NaN   NaN  ...            NaN       NaN   \n",
      "\n",
      "       website         phone email facebook        address com_insee  \\\n",
      "0          NaN           NaN   NaN      NaN            NaN     97422   \n",
      "1          NaN           NaN   NaN      NaN            NaN     74010   \n",
      "2          NaN           NaN   NaN      NaN            NaN     71076   \n",
      "3          NaN           NaN   NaN      NaN            NaN     07288   \n",
      "4          NaN           NaN   NaN      NaN            NaN     07010   \n",
      "...        ...           ...   ...      ...            ...       ...   \n",
      "659917     NaN  +33130907220   NaN      NaN  5 Rue Parisis     78380   \n",
      "659918     NaN           NaN   NaN      NaN            NaN     56034   \n",
      "659919     NaN           NaN   NaN      NaN            NaN     44047   \n",
      "659920     NaN           NaN   NaN      NaN            NaN     72003   \n",
      "659921     NaN           NaN   NaN      NaN            NaN     75056   \n",
      "\n",
      "                 com_nom last_update  \n",
      "0              Le Tampon  2024-03-12  \n",
      "1                 Annecy  2024-03-17  \n",
      "2       Chalon-sur-Saône  2024-09-27  \n",
      "3           Saint-Priest  2013-04-05  \n",
      "4                Annonay  2020-11-04  \n",
      "...                  ...         ...  \n",
      "659917             Maule  2023-05-20  \n",
      "659918            Carnac  2022-09-02  \n",
      "659919           Couëron  2024-03-02  \n",
      "659920          Allonnes  2011-06-09  \n",
      "659921             Paris  2024-05-05  \n",
      "\n",
      "[659922 rows x 21 columns]\n"
     ]
    }
   ],
   "source": [
    "\n",
    "df_commerce = pd.read_csv('./Data/data.csv', sep =\";\")\n",
    "print(df_commerce)\n"
   ]
  },
  {
   "cell_type": "code",
   "execution_count": 3,
   "metadata": {},
   "outputs": [
    {
     "name": "stdout",
     "output_type": "stream",
     "text": [
      "<class 'pandas.core.frame.DataFrame'>\n",
      "RangeIndex: 659922 entries, 0 to 659921\n",
      "Data columns (total 21 columns):\n",
      " #   Column          Non-Null Count   Dtype  \n",
      "---  ------          --------------   -----  \n",
      " 0   X               659922 non-null  float64\n",
      " 1   Y               659922 non-null  float64\n",
      " 2   osm_id          659922 non-null  object \n",
      " 3   type            659922 non-null  object \n",
      " 4   name            607178 non-null  object \n",
      " 5   brand           142003 non-null  object \n",
      " 6   operator        55824 non-null   object \n",
      " 7   wheelchair      92597 non-null   object \n",
      " 8   opening_hours   224752 non-null  object \n",
      " 9   level           19681 non-null   object \n",
      " 10  siret           72571 non-null   object \n",
      " 11  profession_ref  47662 non-null   object \n",
      " 12  wikidata        126042 non-null  object \n",
      " 13  website         150193 non-null  object \n",
      " 14  phone           202168 non-null  object \n",
      " 15  email           29916 non-null   object \n",
      " 16  facebook        23690 non-null   object \n",
      " 17  address         203308 non-null  object \n",
      " 18  com_insee       659922 non-null  object \n",
      " 19  com_nom         659922 non-null  object \n",
      " 20  last_update     659922 non-null  object \n",
      "dtypes: float64(2), object(19)\n",
      "memory usage: 105.7+ MB\n"
     ]
    }
   ],
   "source": [
    "\n",
    "df_commerce.info()\n"
   ]
  },
  {
   "cell_type": "code",
   "execution_count": 4,
   "metadata": {},
   "outputs": [
    {
     "data": {
      "text/plain": [
       "Index(['X', 'Y', 'osm_id', 'type', 'name', 'brand', 'operator', 'wheelchair',\n",
       "       'opening_hours', 'level', 'siret', 'profession_ref', 'wikidata',\n",
       "       'website', 'phone', 'email', 'facebook', 'address', 'com_insee',\n",
       "       'com_nom', 'last_update'],\n",
       "      dtype='object')"
      ]
     },
     "execution_count": 4,
     "metadata": {},
     "output_type": "execute_result"
    }
   ],
   "source": [
    "df_commerce.columns\n"
   ]
  },
  {
   "cell_type": "code",
   "execution_count": 5,
   "metadata": {},
   "outputs": [],
   "source": [
    "\n",
    "df_commerce_dropped = df_commerce.drop(['facebook', 'last_update'], axis=1, inplace=True)\n",
    "df_commerce_dropped\n",
    "\n"
   ]
  },
  {
   "cell_type": "markdown",
   "metadata": {},
   "source": [
    "2 - OUVERTURE FICHIER METADATA"
   ]
  },
  {
   "cell_type": "code",
   "execution_count": 6,
   "metadata": {},
   "outputs": [
    {
     "name": "stdout",
     "output_type": "stream",
     "text": [
      "  COLL_NOM COLL_SIRET                        ID  \\\n",
      "0   France         FR  osm-shop_craft_office-FR   \n",
      "\n",
      "                                 TITRE  \\\n",
      "0  Commerces de France (OpenStreetMap)   \n",
      "\n",
      "                                         DESCRIPTION  \\\n",
      "0  Commerces au sens large issus d'OpenStreetMap ...   \n",
      "\n",
      "                       THEME PRODUCTEUR_NOM  PRODUCTEUR_SIRET  \\\n",
      "0  Entreprise et concurrence  OpenStreetMap               NaN   \n",
      "\n",
      "  COUV_SPAT_MAILLE COUV_SPAT_NOM COUV_TEMP_DEBUT COUV_TEMP_FIN  DATE_PUBL  \\\n",
      "0   Infracommunale        France      2008-01-01    2024-12-01        NaN   \n",
      "\n",
      "     FREQ_MAJ    DATE_MAJ                                         MOTS_CLES  \\\n",
      "0  Ponctuelle  2024-12-01  scdl;entreprise-et-concurrence;commerce;services   \n",
      "\n",
      "                      LICENCE  NOMBRE_RESSOURCES FORMAT_RESSOURCES  \\\n",
      "0  Open Database License-ODBL                  1               csv   \n",
      "\n",
      "                                                 URL  \n",
      "0  https://geodatamine.fr/dump/shop_craft_office_...  \n"
     ]
    }
   ],
   "source": [
    "\n",
    "\n",
    "df_metadata = pd.read_csv('./Data/metadata.csv', sep =\";\")\n",
    "print(df_metadata)\n",
    "\n",
    "\n"
   ]
  },
  {
   "cell_type": "code",
   "execution_count": 9,
   "metadata": {},
   "outputs": [
    {
     "data": {
      "text/plain": [
       "Index(['COLL_NOM', 'COLL_SIRET', 'ID', 'TITRE', 'DESCRIPTION', 'THEME',\n",
       "       'PRODUCTEUR_NOM', 'PRODUCTEUR_SIRET', 'COUV_SPAT_MAILLE',\n",
       "       'COUV_SPAT_NOM', 'COUV_TEMP_DEBUT', 'COUV_TEMP_FIN', 'DATE_PUBL',\n",
       "       'FREQ_MAJ', 'DATE_MAJ', 'MOTS_CLES', 'LICENCE', 'NOMBRE_RESSOURCES',\n",
       "       'FORMAT_RESSOURCES', 'URL'],\n",
       "      dtype='object')"
      ]
     },
     "execution_count": 9,
     "metadata": {},
     "output_type": "execute_result"
    }
   ],
   "source": [
    "df_metadata.columns"
   ]
  },
  {
   "cell_type": "code",
   "execution_count": 24,
   "metadata": {},
   "outputs": [
    {
     "name": "stdout",
     "output_type": "stream",
     "text": [
      "0    Open Database License-ODBL\n",
      "Name: LICENCE, dtype: object\n"
     ]
    }
   ],
   "source": [
    "print(df_metadata['LICENCE'].head(5))"
   ]
  },
  {
   "cell_type": "code",
   "execution_count": 10,
   "metadata": {},
   "outputs": [
    {
     "name": "stdout",
     "output_type": "stream",
     "text": [
      "  Données © les contributeurs d’OpenStreetMap, sous licence Open Database License\n",
      "0  La licence complète est disponible à cette adr...                             \n"
     ]
    }
   ],
   "source": []
  },
  {
   "cell_type": "code",
   "execution_count": 32,
   "metadata": {},
   "outputs": [
    {
     "data": {
      "text/html": [
       "<div>\n",
       "<style scoped>\n",
       "    .dataframe tbody tr th:only-of-type {\n",
       "        vertical-align: middle;\n",
       "    }\n",
       "\n",
       "    .dataframe tbody tr th {\n",
       "        vertical-align: top;\n",
       "    }\n",
       "\n",
       "    .dataframe thead th {\n",
       "        text-align: right;\n",
       "    }\n",
       "</style>\n",
       "<table border=\"1\" class=\"dataframe\">\n",
       "  <thead>\n",
       "    <tr style=\"text-align: right;\">\n",
       "      <th></th>\n",
       "      <th>COLL_NOM</th>\n",
       "      <th>COLL_SIRET</th>\n",
       "      <th>ID</th>\n",
       "      <th>TITRE</th>\n",
       "      <th>DESCRIPTION</th>\n",
       "      <th>THEME</th>\n",
       "      <th>PRODUCTEUR_NOM</th>\n",
       "      <th>PRODUCTEUR_SIRET</th>\n",
       "      <th>COUV_SPAT_MAILLE</th>\n",
       "      <th>COUV_SPAT_NOM</th>\n",
       "      <th>COUV_TEMP_DEBUT</th>\n",
       "      <th>COUV_TEMP_FIN</th>\n",
       "      <th>DATE_PUBL</th>\n",
       "      <th>FREQ_MAJ</th>\n",
       "      <th>DATE_MAJ</th>\n",
       "      <th>MOTS_CLES</th>\n",
       "      <th>LICENCE</th>\n",
       "      <th>NOMBRE_RESSOURCES</th>\n",
       "      <th>FORMAT_RESSOURCES</th>\n",
       "      <th>URL</th>\n",
       "    </tr>\n",
       "  </thead>\n",
       "  <tbody>\n",
       "    <tr>\n",
       "      <th>0</th>\n",
       "      <td>France</td>\n",
       "      <td>FR</td>\n",
       "      <td>osm-shop_craft_office-FR</td>\n",
       "      <td>Commerces de France (OpenStreetMap)</td>\n",
       "      <td>Commerces au sens large issus d'OpenStreetMap ...</td>\n",
       "      <td>Entreprise et concurrence</td>\n",
       "      <td>OpenStreetMap</td>\n",
       "      <td>NaN</td>\n",
       "      <td>Infracommunale</td>\n",
       "      <td>France</td>\n",
       "      <td>2008-01-01</td>\n",
       "      <td>2024-12-01</td>\n",
       "      <td>NaN</td>\n",
       "      <td>Ponctuelle</td>\n",
       "      <td>2024-12-01</td>\n",
       "      <td>scdl;entreprise-et-concurrence;commerce;services</td>\n",
       "      <td>Open Database License-ODBL</td>\n",
       "      <td>1</td>\n",
       "      <td>csv</td>\n",
       "      <td>https://geodatamine.fr/dump/shop_craft_office_...</td>\n",
       "    </tr>\n",
       "  </tbody>\n",
       "</table>\n",
       "</div>"
      ],
      "text/plain": [
       "  COLL_NOM COLL_SIRET                        ID  \\\n",
       "0   France         FR  osm-shop_craft_office-FR   \n",
       "\n",
       "                                 TITRE  \\\n",
       "0  Commerces de France (OpenStreetMap)   \n",
       "\n",
       "                                         DESCRIPTION  \\\n",
       "0  Commerces au sens large issus d'OpenStreetMap ...   \n",
       "\n",
       "                       THEME PRODUCTEUR_NOM  PRODUCTEUR_SIRET  \\\n",
       "0  Entreprise et concurrence  OpenStreetMap               NaN   \n",
       "\n",
       "  COUV_SPAT_MAILLE COUV_SPAT_NOM COUV_TEMP_DEBUT COUV_TEMP_FIN  DATE_PUBL  \\\n",
       "0   Infracommunale        France      2008-01-01    2024-12-01        NaN   \n",
       "\n",
       "     FREQ_MAJ    DATE_MAJ                                         MOTS_CLES  \\\n",
       "0  Ponctuelle  2024-12-01  scdl;entreprise-et-concurrence;commerce;services   \n",
       "\n",
       "                      LICENCE  NOMBRE_RESSOURCES FORMAT_RESSOURCES  \\\n",
       "0  Open Database License-ODBL                  1               csv   \n",
       "\n",
       "                                                 URL  \n",
       "0  https://geodatamine.fr/dump/shop_craft_office_...  "
      ]
     },
     "execution_count": 32,
     "metadata": {},
     "output_type": "execute_result"
    }
   ],
   "source": [
    "df_metadata"
   ]
  },
  {
   "cell_type": "code",
   "execution_count": 35,
   "metadata": {},
   "outputs": [
    {
     "data": {
      "text/html": [
       "<div>\n",
       "<style scoped>\n",
       "    .dataframe tbody tr th:only-of-type {\n",
       "        vertical-align: middle;\n",
       "    }\n",
       "\n",
       "    .dataframe tbody tr th {\n",
       "        vertical-align: top;\n",
       "    }\n",
       "\n",
       "    .dataframe thead th {\n",
       "        text-align: right;\n",
       "    }\n",
       "</style>\n",
       "<table border=\"1\" class=\"dataframe\">\n",
       "  <thead>\n",
       "    <tr style=\"text-align: right;\">\n",
       "      <th></th>\n",
       "      <th>COLL_NOM</th>\n",
       "      <th>COLL_SIRET</th>\n",
       "      <th>ID</th>\n",
       "      <th>TITRE</th>\n",
       "      <th>DESCRIPTION</th>\n",
       "      <th>THEME</th>\n",
       "      <th>PRODUCTEUR_NOM</th>\n",
       "      <th>PRODUCTEUR_SIRET</th>\n",
       "      <th>COUV_SPAT_MAILLE</th>\n",
       "      <th>COUV_SPAT_NOM</th>\n",
       "      <th>LICENCE</th>\n",
       "      <th>NOMBRE_RESSOURCES</th>\n",
       "      <th>FORMAT_RESSOURCES</th>\n",
       "      <th>URL</th>\n",
       "    </tr>\n",
       "  </thead>\n",
       "  <tbody>\n",
       "    <tr>\n",
       "      <th>0</th>\n",
       "      <td>France</td>\n",
       "      <td>FR</td>\n",
       "      <td>osm-shop_craft_office-FR</td>\n",
       "      <td>Commerces de France (OpenStreetMap)</td>\n",
       "      <td>Commerces au sens large issus d'OpenStreetMap ...</td>\n",
       "      <td>Entreprise et concurrence</td>\n",
       "      <td>OpenStreetMap</td>\n",
       "      <td>NaN</td>\n",
       "      <td>Infracommunale</td>\n",
       "      <td>France</td>\n",
       "      <td>Open Database License-ODBL</td>\n",
       "      <td>1</td>\n",
       "      <td>csv</td>\n",
       "      <td>https://geodatamine.fr/dump/shop_craft_office_...</td>\n",
       "    </tr>\n",
       "  </tbody>\n",
       "</table>\n",
       "</div>"
      ],
      "text/plain": [
       "  COLL_NOM COLL_SIRET                        ID  \\\n",
       "0   France         FR  osm-shop_craft_office-FR   \n",
       "\n",
       "                                 TITRE  \\\n",
       "0  Commerces de France (OpenStreetMap)   \n",
       "\n",
       "                                         DESCRIPTION  \\\n",
       "0  Commerces au sens large issus d'OpenStreetMap ...   \n",
       "\n",
       "                       THEME PRODUCTEUR_NOM  PRODUCTEUR_SIRET  \\\n",
       "0  Entreprise et concurrence  OpenStreetMap               NaN   \n",
       "\n",
       "  COUV_SPAT_MAILLE COUV_SPAT_NOM                     LICENCE  \\\n",
       "0   Infracommunale        France  Open Database License-ODBL   \n",
       "\n",
       "   NOMBRE_RESSOURCES FORMAT_RESSOURCES  \\\n",
       "0                  1               csv   \n",
       "\n",
       "                                                 URL  \n",
       "0  https://geodatamine.fr/dump/shop_craft_office_...  "
      ]
     },
     "execution_count": 35,
     "metadata": {},
     "output_type": "execute_result"
    }
   ],
   "source": [
    "\n",
    "df_metadata_cropped = df_metadata.drop(['COUV_TEMP_DEBUT', 'COUV_TEMP_FIN', 'DATE_PUBL', \n",
    "                                      'FREQ_MAJ', 'DATE_MAJ', 'MOTS_CLES'], axis=1)\n",
    "df_metadata_cropped\n"
   ]
  },
  {
   "cell_type": "code",
   "execution_count": null,
   "metadata": {},
   "outputs": [],
   "source": [
    "3 - OUVERTURE FICHIER LICENCE"
   ]
  },
  {
   "cell_type": "code",
   "execution_count": null,
   "metadata": {},
   "outputs": [],
   "source": [
    "df_license = pd.read_csv('./Data/license.txt', sep =\";\")\n",
    "print(df_license)"
   ]
  },
  {
   "cell_type": "markdown",
   "metadata": {},
   "source": []
  }
 ],
 "metadata": {
  "kernelspec": {
   "display_name": "base",
   "language": "python",
   "name": "python3"
  },
  "language_info": {
   "codemirror_mode": {
    "name": "ipython",
    "version": 3
   },
   "file_extension": ".py",
   "mimetype": "text/x-python",
   "name": "python",
   "nbconvert_exporter": "python",
   "pygments_lexer": "ipython3",
   "version": "3.11.7"
  }
 },
 "nbformat": 4,
 "nbformat_minor": 2
}
