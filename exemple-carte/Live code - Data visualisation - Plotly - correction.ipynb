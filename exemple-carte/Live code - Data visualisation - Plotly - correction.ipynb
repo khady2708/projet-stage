{
 "cells": [
  {
   "cell_type": "markdown",
   "id": "0ed7c584",
   "metadata": {},
   "source": [
    "## Import des packages"
   ]
  },
  {
   "cell_type": "code",
   "execution_count": 1,
   "id": "c7f8bb9b",
   "metadata": {},
   "outputs": [],
   "source": [
    "import pandas as pd\n",
    "import plotly.express as px"
   ]
  },
  {
   "cell_type": "markdown",
   "id": "8043202e",
   "metadata": {},
   "source": [
    "## Import des données"
   ]
  },
  {
   "cell_type": "code",
   "execution_count": 2,
   "id": "c8af359e",
   "metadata": {},
   "outputs": [],
   "source": [
    "data_pop = pd.read_csv(\"etat_civil_metropole_grenoble.csv\") \n",
    "#si le fichier est dans le même dossier que le notebook, sinon indiquer le chemin avant le nom du fichier"
   ]
  },
  {
   "cell_type": "code",
   "execution_count": 3,
   "id": "bceade3d",
   "metadata": {},
   "outputs": [
    {
     "data": {
      "text/html": [
       "<div>\n",
       "<style scoped>\n",
       "    .dataframe tbody tr th:only-of-type {\n",
       "        vertical-align: middle;\n",
       "    }\n",
       "\n",
       "    .dataframe tbody tr th {\n",
       "        vertical-align: top;\n",
       "    }\n",
       "\n",
       "    .dataframe thead th {\n",
       "        text-align: right;\n",
       "    }\n",
       "</style>\n",
       "<table border=\"1\" class=\"dataframe\">\n",
       "  <thead>\n",
       "    <tr style=\"text-align: right;\">\n",
       "      <th></th>\n",
       "      <th>annee</th>\n",
       "      <th>nombre_naissances</th>\n",
       "      <th>nombre_deces</th>\n",
       "      <th>jeu_de_donnees</th>\n",
       "      <th>code_insee</th>\n",
       "      <th>commune</th>\n",
       "      <th>trigram</th>\n",
       "      <th>code_postal</th>\n",
       "    </tr>\n",
       "  </thead>\n",
       "  <tbody>\n",
       "    <tr>\n",
       "      <th>2019</th>\n",
       "      <td>89</td>\n",
       "      <td>95</td>\n",
       "      <td>GEO2020RFD2019</td>\n",
       "      <td>38562</td>\n",
       "      <td>Vizille</td>\n",
       "      <td>VIZ</td>\n",
       "      <td>38220</td>\n",
       "      <td>NaN</td>\n",
       "    </tr>\n",
       "    <tr>\n",
       "      <th>2018</th>\n",
       "      <td>80</td>\n",
       "      <td>100</td>\n",
       "      <td>GEO2020RFD2018</td>\n",
       "      <td>38562</td>\n",
       "      <td>Vizille</td>\n",
       "      <td>VIZ</td>\n",
       "      <td>38220</td>\n",
       "      <td>NaN</td>\n",
       "    </tr>\n",
       "    <tr>\n",
       "      <th>2017</th>\n",
       "      <td>72</td>\n",
       "      <td>98</td>\n",
       "      <td>GEO2020RFD2017</td>\n",
       "      <td>38562</td>\n",
       "      <td>Vizille</td>\n",
       "      <td>VIZ</td>\n",
       "      <td>38220</td>\n",
       "      <td>NaN</td>\n",
       "    </tr>\n",
       "    <tr>\n",
       "      <th>2016</th>\n",
       "      <td>84</td>\n",
       "      <td>88</td>\n",
       "      <td>GEO2020RFD2016</td>\n",
       "      <td>38562</td>\n",
       "      <td>Vizille</td>\n",
       "      <td>VIZ</td>\n",
       "      <td>38220</td>\n",
       "      <td>NaN</td>\n",
       "    </tr>\n",
       "    <tr>\n",
       "      <th>2015</th>\n",
       "      <td>102</td>\n",
       "      <td>97</td>\n",
       "      <td>GEO2020RFD2015</td>\n",
       "      <td>38562</td>\n",
       "      <td>Vizille</td>\n",
       "      <td>VIZ</td>\n",
       "      <td>38220</td>\n",
       "      <td>NaN</td>\n",
       "    </tr>\n",
       "  </tbody>\n",
       "</table>\n",
       "</div>"
      ],
      "text/plain": [
       "      annee  nombre_naissances    nombre_deces  jeu_de_donnees code_insee  \\\n",
       "2019     89                 95  GEO2020RFD2019           38562    Vizille   \n",
       "2018     80                100  GEO2020RFD2018           38562    Vizille   \n",
       "2017     72                 98  GEO2020RFD2017           38562    Vizille   \n",
       "2016     84                 88  GEO2020RFD2016           38562    Vizille   \n",
       "2015    102                 97  GEO2020RFD2015           38562    Vizille   \n",
       "\n",
       "     commune  trigram  code_postal  \n",
       "2019     VIZ    38220          NaN  \n",
       "2018     VIZ    38220          NaN  \n",
       "2017     VIZ    38220          NaN  \n",
       "2016     VIZ    38220          NaN  \n",
       "2015     VIZ    38220          NaN  "
      ]
     },
     "execution_count": 3,
     "metadata": {},
     "output_type": "execute_result"
    }
   ],
   "source": [
    "data_pop.head()"
   ]
  },
  {
   "cell_type": "markdown",
   "id": "3e05f7c4",
   "metadata": {},
   "source": [
    "## Préparation des données"
   ]
  },
  {
   "cell_type": "markdown",
   "id": "54e352b0",
   "metadata": {},
   "source": [
    "Problème sur ce dataset : à cause de \",\" à la fin de chaque ligne, Python a créé une dernière colonne faite de \"NaN\", utilisé la 1ère colonne comme index et décalé les noms de colonnes. Résolvons ce problème."
   ]
  },
  {
   "cell_type": "code",
   "execution_count": 4,
   "id": "1aef6397",
   "metadata": {
    "scrolled": true
   },
   "outputs": [
    {
     "data": {
      "text/html": [
       "<div>\n",
       "<style scoped>\n",
       "    .dataframe tbody tr th:only-of-type {\n",
       "        vertical-align: middle;\n",
       "    }\n",
       "\n",
       "    .dataframe tbody tr th {\n",
       "        vertical-align: top;\n",
       "    }\n",
       "\n",
       "    .dataframe thead th {\n",
       "        text-align: right;\n",
       "    }\n",
       "</style>\n",
       "<table border=\"1\" class=\"dataframe\">\n",
       "  <thead>\n",
       "    <tr style=\"text-align: right;\">\n",
       "      <th></th>\n",
       "      <th>annee</th>\n",
       "      <th>nombre_naissances</th>\n",
       "      <th>nombre_deces</th>\n",
       "      <th>jeu_de_donnees</th>\n",
       "      <th>code_insee</th>\n",
       "      <th>commune</th>\n",
       "      <th>trigram</th>\n",
       "      <th>code_postal</th>\n",
       "    </tr>\n",
       "  </thead>\n",
       "  <tbody>\n",
       "    <tr>\n",
       "      <th>0</th>\n",
       "      <td>2019</td>\n",
       "      <td>89</td>\n",
       "      <td>95</td>\n",
       "      <td>GEO2020RFD2019</td>\n",
       "      <td>38562</td>\n",
       "      <td>Vizille</td>\n",
       "      <td>VIZ</td>\n",
       "      <td>38220</td>\n",
       "    </tr>\n",
       "    <tr>\n",
       "      <th>1</th>\n",
       "      <td>2018</td>\n",
       "      <td>80</td>\n",
       "      <td>100</td>\n",
       "      <td>GEO2020RFD2018</td>\n",
       "      <td>38562</td>\n",
       "      <td>Vizille</td>\n",
       "      <td>VIZ</td>\n",
       "      <td>38220</td>\n",
       "    </tr>\n",
       "    <tr>\n",
       "      <th>2</th>\n",
       "      <td>2017</td>\n",
       "      <td>72</td>\n",
       "      <td>98</td>\n",
       "      <td>GEO2020RFD2017</td>\n",
       "      <td>38562</td>\n",
       "      <td>Vizille</td>\n",
       "      <td>VIZ</td>\n",
       "      <td>38220</td>\n",
       "    </tr>\n",
       "    <tr>\n",
       "      <th>3</th>\n",
       "      <td>2016</td>\n",
       "      <td>84</td>\n",
       "      <td>88</td>\n",
       "      <td>GEO2020RFD2016</td>\n",
       "      <td>38562</td>\n",
       "      <td>Vizille</td>\n",
       "      <td>VIZ</td>\n",
       "      <td>38220</td>\n",
       "    </tr>\n",
       "    <tr>\n",
       "      <th>4</th>\n",
       "      <td>2015</td>\n",
       "      <td>102</td>\n",
       "      <td>97</td>\n",
       "      <td>GEO2020RFD2015</td>\n",
       "      <td>38562</td>\n",
       "      <td>Vizille</td>\n",
       "      <td>VIZ</td>\n",
       "      <td>38220</td>\n",
       "    </tr>\n",
       "    <tr>\n",
       "      <th>...</th>\n",
       "      <td>...</td>\n",
       "      <td>...</td>\n",
       "      <td>...</td>\n",
       "      <td>...</td>\n",
       "      <td>...</td>\n",
       "      <td>...</td>\n",
       "      <td>...</td>\n",
       "      <td>...</td>\n",
       "    </tr>\n",
       "    <tr>\n",
       "      <th>632</th>\n",
       "      <td>2011</td>\n",
       "      <td>170</td>\n",
       "      <td>63</td>\n",
       "      <td>RFD2011</td>\n",
       "      <td>38317</td>\n",
       "      <td>Le Pont-de-Claix</td>\n",
       "      <td>PDC</td>\n",
       "      <td>38800</td>\n",
       "    </tr>\n",
       "    <tr>\n",
       "      <th>633</th>\n",
       "      <td>2010</td>\n",
       "      <td>162</td>\n",
       "      <td>71</td>\n",
       "      <td>RFD2010</td>\n",
       "      <td>38317</td>\n",
       "      <td>Le Pont-de-Claix</td>\n",
       "      <td>PDC</td>\n",
       "      <td>38800</td>\n",
       "    </tr>\n",
       "    <tr>\n",
       "      <th>634</th>\n",
       "      <td>2009</td>\n",
       "      <td>193</td>\n",
       "      <td>70</td>\n",
       "      <td>RFD2009</td>\n",
       "      <td>38317</td>\n",
       "      <td>Le Pont-de-Claix</td>\n",
       "      <td>PDC</td>\n",
       "      <td>38800</td>\n",
       "    </tr>\n",
       "    <tr>\n",
       "      <th>635</th>\n",
       "      <td>2008</td>\n",
       "      <td>155</td>\n",
       "      <td>74</td>\n",
       "      <td>RFD2008</td>\n",
       "      <td>38317</td>\n",
       "      <td>Le Pont-de-Claix</td>\n",
       "      <td>PDC</td>\n",
       "      <td>38800</td>\n",
       "    </tr>\n",
       "    <tr>\n",
       "      <th>636</th>\n",
       "      <td>2007</td>\n",
       "      <td>205</td>\n",
       "      <td>67</td>\n",
       "      <td>RFD2007</td>\n",
       "      <td>38317</td>\n",
       "      <td>Le Pont-de-Claix</td>\n",
       "      <td>PDC</td>\n",
       "      <td>38800</td>\n",
       "    </tr>\n",
       "  </tbody>\n",
       "</table>\n",
       "<p>637 rows × 8 columns</p>\n",
       "</div>"
      ],
      "text/plain": [
       "     annee  nombre_naissances  nombre_deces  jeu_de_donnees  code_insee  \\\n",
       "0     2019                 89            95  GEO2020RFD2019       38562   \n",
       "1     2018                 80           100  GEO2020RFD2018       38562   \n",
       "2     2017                 72            98  GEO2020RFD2017       38562   \n",
       "3     2016                 84            88  GEO2020RFD2016       38562   \n",
       "4     2015                102            97  GEO2020RFD2015       38562   \n",
       "..     ...                ...           ...             ...         ...   \n",
       "632   2011                170            63         RFD2011       38317   \n",
       "633   2010                162            71         RFD2010       38317   \n",
       "634   2009                193            70         RFD2009       38317   \n",
       "635   2008                155            74         RFD2008       38317   \n",
       "636   2007                205            67         RFD2007       38317   \n",
       "\n",
       "              commune trigram  code_postal  \n",
       "0             Vizille     VIZ        38220  \n",
       "1             Vizille     VIZ        38220  \n",
       "2             Vizille     VIZ        38220  \n",
       "3             Vizille     VIZ        38220  \n",
       "4             Vizille     VIZ        38220  \n",
       "..                ...     ...          ...  \n",
       "632  Le Pont-de-Claix     PDC        38800  \n",
       "633  Le Pont-de-Claix     PDC        38800  \n",
       "634  Le Pont-de-Claix     PDC        38800  \n",
       "635  Le Pont-de-Claix     PDC        38800  \n",
       "636  Le Pont-de-Claix     PDC        38800  \n",
       "\n",
       "[637 rows x 8 columns]"
      ]
     },
     "execution_count": 4,
     "metadata": {},
     "output_type": "execute_result"
    }
   ],
   "source": [
    "noms_col = data_pop.columns\n",
    "data_pop.reset_index(inplace=True)\n",
    "data_pop.drop([\"code_postal\"],axis=1,inplace=True)\n",
    "data_pop.columns = noms_col\n",
    "data_pop"
   ]
  },
  {
   "cell_type": "code",
   "execution_count": 5,
   "id": "831b6e33",
   "metadata": {},
   "outputs": [],
   "source": [
    "data_pop_gre = data_pop[data_pop[\"commune\"] == \"Grenoble\"]"
   ]
  },
  {
   "cell_type": "markdown",
   "id": "de7ef31a",
   "metadata": {},
   "source": [
    "## Créer un graphique avec Plotly Express"
   ]
  },
  {
   "cell_type": "markdown",
   "id": "92333900",
   "metadata": {},
   "source": [
    "Evolution du nombre de naissances à Grenoble, par commune\n",
    "\n",
    "line, bar\n",
    "\n",
    "color / legend\n",
    "\n",
    "labels\n",
    "\n",
    "update_layout"
   ]
  },
  {
   "cell_type": "code",
   "execution_count": 9,
   "id": "8cd39aae",
   "metadata": {
    "scrolled": true
   },
   "outputs": [
    {
     "data": {
      "application/vnd.plotly.v1+json": {
       "config": {
        "plotlyServerURL": "https://plot.ly"
       },
       "data": [
        {
         "hovertemplate": "Année=%{x}<br>Nombre de naissances=%{y}<extra></extra>",
         "legendgroup": "",
         "line": {
          "color": "#636efa",
          "dash": "solid"
         },
         "marker": {
          "symbol": "circle"
         },
         "mode": "lines",
         "name": "",
         "orientation": "v",
         "showlegend": false,
         "type": "scatter",
         "x": [
          2019,
          2018,
          2017,
          2016,
          2015,
          2014,
          2013,
          2012,
          2011,
          2010,
          2009,
          2008,
          2007
         ],
         "xaxis": "x",
         "y": [
          2057,
          2122,
          2222,
          2227,
          2308,
          2419,
          2367,
          2343,
          2359,
          2445,
          2344,
          2297,
          2311
         ],
         "yaxis": "y"
        }
       ],
       "layout": {
        "legend": {
         "tracegroupgap": 0
        },
        "template": {
         "data": {
          "bar": [
           {
            "error_x": {
             "color": "#2a3f5f"
            },
            "error_y": {
             "color": "#2a3f5f"
            },
            "marker": {
             "line": {
              "color": "#E5ECF6",
              "width": 0.5
             },
             "pattern": {
              "fillmode": "overlay",
              "size": 10,
              "solidity": 0.2
             }
            },
            "type": "bar"
           }
          ],
          "barpolar": [
           {
            "marker": {
             "line": {
              "color": "#E5ECF6",
              "width": 0.5
             },
             "pattern": {
              "fillmode": "overlay",
              "size": 10,
              "solidity": 0.2
             }
            },
            "type": "barpolar"
           }
          ],
          "carpet": [
           {
            "aaxis": {
             "endlinecolor": "#2a3f5f",
             "gridcolor": "white",
             "linecolor": "white",
             "minorgridcolor": "white",
             "startlinecolor": "#2a3f5f"
            },
            "baxis": {
             "endlinecolor": "#2a3f5f",
             "gridcolor": "white",
             "linecolor": "white",
             "minorgridcolor": "white",
             "startlinecolor": "#2a3f5f"
            },
            "type": "carpet"
           }
          ],
          "choropleth": [
           {
            "colorbar": {
             "outlinewidth": 0,
             "ticks": ""
            },
            "type": "choropleth"
           }
          ],
          "contour": [
           {
            "colorbar": {
             "outlinewidth": 0,
             "ticks": ""
            },
            "colorscale": [
             [
              0,
              "#0d0887"
             ],
             [
              0.1111111111111111,
              "#46039f"
             ],
             [
              0.2222222222222222,
              "#7201a8"
             ],
             [
              0.3333333333333333,
              "#9c179e"
             ],
             [
              0.4444444444444444,
              "#bd3786"
             ],
             [
              0.5555555555555556,
              "#d8576b"
             ],
             [
              0.6666666666666666,
              "#ed7953"
             ],
             [
              0.7777777777777778,
              "#fb9f3a"
             ],
             [
              0.8888888888888888,
              "#fdca26"
             ],
             [
              1,
              "#f0f921"
             ]
            ],
            "type": "contour"
           }
          ],
          "contourcarpet": [
           {
            "colorbar": {
             "outlinewidth": 0,
             "ticks": ""
            },
            "type": "contourcarpet"
           }
          ],
          "heatmap": [
           {
            "colorbar": {
             "outlinewidth": 0,
             "ticks": ""
            },
            "colorscale": [
             [
              0,
              "#0d0887"
             ],
             [
              0.1111111111111111,
              "#46039f"
             ],
             [
              0.2222222222222222,
              "#7201a8"
             ],
             [
              0.3333333333333333,
              "#9c179e"
             ],
             [
              0.4444444444444444,
              "#bd3786"
             ],
             [
              0.5555555555555556,
              "#d8576b"
             ],
             [
              0.6666666666666666,
              "#ed7953"
             ],
             [
              0.7777777777777778,
              "#fb9f3a"
             ],
             [
              0.8888888888888888,
              "#fdca26"
             ],
             [
              1,
              "#f0f921"
             ]
            ],
            "type": "heatmap"
           }
          ],
          "heatmapgl": [
           {
            "colorbar": {
             "outlinewidth": 0,
             "ticks": ""
            },
            "colorscale": [
             [
              0,
              "#0d0887"
             ],
             [
              0.1111111111111111,
              "#46039f"
             ],
             [
              0.2222222222222222,
              "#7201a8"
             ],
             [
              0.3333333333333333,
              "#9c179e"
             ],
             [
              0.4444444444444444,
              "#bd3786"
             ],
             [
              0.5555555555555556,
              "#d8576b"
             ],
             [
              0.6666666666666666,
              "#ed7953"
             ],
             [
              0.7777777777777778,
              "#fb9f3a"
             ],
             [
              0.8888888888888888,
              "#fdca26"
             ],
             [
              1,
              "#f0f921"
             ]
            ],
            "type": "heatmapgl"
           }
          ],
          "histogram": [
           {
            "marker": {
             "pattern": {
              "fillmode": "overlay",
              "size": 10,
              "solidity": 0.2
             }
            },
            "type": "histogram"
           }
          ],
          "histogram2d": [
           {
            "colorbar": {
             "outlinewidth": 0,
             "ticks": ""
            },
            "colorscale": [
             [
              0,
              "#0d0887"
             ],
             [
              0.1111111111111111,
              "#46039f"
             ],
             [
              0.2222222222222222,
              "#7201a8"
             ],
             [
              0.3333333333333333,
              "#9c179e"
             ],
             [
              0.4444444444444444,
              "#bd3786"
             ],
             [
              0.5555555555555556,
              "#d8576b"
             ],
             [
              0.6666666666666666,
              "#ed7953"
             ],
             [
              0.7777777777777778,
              "#fb9f3a"
             ],
             [
              0.8888888888888888,
              "#fdca26"
             ],
             [
              1,
              "#f0f921"
             ]
            ],
            "type": "histogram2d"
           }
          ],
          "histogram2dcontour": [
           {
            "colorbar": {
             "outlinewidth": 0,
             "ticks": ""
            },
            "colorscale": [
             [
              0,
              "#0d0887"
             ],
             [
              0.1111111111111111,
              "#46039f"
             ],
             [
              0.2222222222222222,
              "#7201a8"
             ],
             [
              0.3333333333333333,
              "#9c179e"
             ],
             [
              0.4444444444444444,
              "#bd3786"
             ],
             [
              0.5555555555555556,
              "#d8576b"
             ],
             [
              0.6666666666666666,
              "#ed7953"
             ],
             [
              0.7777777777777778,
              "#fb9f3a"
             ],
             [
              0.8888888888888888,
              "#fdca26"
             ],
             [
              1,
              "#f0f921"
             ]
            ],
            "type": "histogram2dcontour"
           }
          ],
          "mesh3d": [
           {
            "colorbar": {
             "outlinewidth": 0,
             "ticks": ""
            },
            "type": "mesh3d"
           }
          ],
          "parcoords": [
           {
            "line": {
             "colorbar": {
              "outlinewidth": 0,
              "ticks": ""
             }
            },
            "type": "parcoords"
           }
          ],
          "pie": [
           {
            "automargin": true,
            "type": "pie"
           }
          ],
          "scatter": [
           {
            "fillpattern": {
             "fillmode": "overlay",
             "size": 10,
             "solidity": 0.2
            },
            "type": "scatter"
           }
          ],
          "scatter3d": [
           {
            "line": {
             "colorbar": {
              "outlinewidth": 0,
              "ticks": ""
             }
            },
            "marker": {
             "colorbar": {
              "outlinewidth": 0,
              "ticks": ""
             }
            },
            "type": "scatter3d"
           }
          ],
          "scattercarpet": [
           {
            "marker": {
             "colorbar": {
              "outlinewidth": 0,
              "ticks": ""
             }
            },
            "type": "scattercarpet"
           }
          ],
          "scattergeo": [
           {
            "marker": {
             "colorbar": {
              "outlinewidth": 0,
              "ticks": ""
             }
            },
            "type": "scattergeo"
           }
          ],
          "scattergl": [
           {
            "marker": {
             "colorbar": {
              "outlinewidth": 0,
              "ticks": ""
             }
            },
            "type": "scattergl"
           }
          ],
          "scattermapbox": [
           {
            "marker": {
             "colorbar": {
              "outlinewidth": 0,
              "ticks": ""
             }
            },
            "type": "scattermapbox"
           }
          ],
          "scatterpolar": [
           {
            "marker": {
             "colorbar": {
              "outlinewidth": 0,
              "ticks": ""
             }
            },
            "type": "scatterpolar"
           }
          ],
          "scatterpolargl": [
           {
            "marker": {
             "colorbar": {
              "outlinewidth": 0,
              "ticks": ""
             }
            },
            "type": "scatterpolargl"
           }
          ],
          "scatterternary": [
           {
            "marker": {
             "colorbar": {
              "outlinewidth": 0,
              "ticks": ""
             }
            },
            "type": "scatterternary"
           }
          ],
          "surface": [
           {
            "colorbar": {
             "outlinewidth": 0,
             "ticks": ""
            },
            "colorscale": [
             [
              0,
              "#0d0887"
             ],
             [
              0.1111111111111111,
              "#46039f"
             ],
             [
              0.2222222222222222,
              "#7201a8"
             ],
             [
              0.3333333333333333,
              "#9c179e"
             ],
             [
              0.4444444444444444,
              "#bd3786"
             ],
             [
              0.5555555555555556,
              "#d8576b"
             ],
             [
              0.6666666666666666,
              "#ed7953"
             ],
             [
              0.7777777777777778,
              "#fb9f3a"
             ],
             [
              0.8888888888888888,
              "#fdca26"
             ],
             [
              1,
              "#f0f921"
             ]
            ],
            "type": "surface"
           }
          ],
          "table": [
           {
            "cells": {
             "fill": {
              "color": "#EBF0F8"
             },
             "line": {
              "color": "white"
             }
            },
            "header": {
             "fill": {
              "color": "#C8D4E3"
             },
             "line": {
              "color": "white"
             }
            },
            "type": "table"
           }
          ]
         },
         "layout": {
          "annotationdefaults": {
           "arrowcolor": "#2a3f5f",
           "arrowhead": 0,
           "arrowwidth": 1
          },
          "autotypenumbers": "strict",
          "coloraxis": {
           "colorbar": {
            "outlinewidth": 0,
            "ticks": ""
           }
          },
          "colorscale": {
           "diverging": [
            [
             0,
             "#8e0152"
            ],
            [
             0.1,
             "#c51b7d"
            ],
            [
             0.2,
             "#de77ae"
            ],
            [
             0.3,
             "#f1b6da"
            ],
            [
             0.4,
             "#fde0ef"
            ],
            [
             0.5,
             "#f7f7f7"
            ],
            [
             0.6,
             "#e6f5d0"
            ],
            [
             0.7,
             "#b8e186"
            ],
            [
             0.8,
             "#7fbc41"
            ],
            [
             0.9,
             "#4d9221"
            ],
            [
             1,
             "#276419"
            ]
           ],
           "sequential": [
            [
             0,
             "#0d0887"
            ],
            [
             0.1111111111111111,
             "#46039f"
            ],
            [
             0.2222222222222222,
             "#7201a8"
            ],
            [
             0.3333333333333333,
             "#9c179e"
            ],
            [
             0.4444444444444444,
             "#bd3786"
            ],
            [
             0.5555555555555556,
             "#d8576b"
            ],
            [
             0.6666666666666666,
             "#ed7953"
            ],
            [
             0.7777777777777778,
             "#fb9f3a"
            ],
            [
             0.8888888888888888,
             "#fdca26"
            ],
            [
             1,
             "#f0f921"
            ]
           ],
           "sequentialminus": [
            [
             0,
             "#0d0887"
            ],
            [
             0.1111111111111111,
             "#46039f"
            ],
            [
             0.2222222222222222,
             "#7201a8"
            ],
            [
             0.3333333333333333,
             "#9c179e"
            ],
            [
             0.4444444444444444,
             "#bd3786"
            ],
            [
             0.5555555555555556,
             "#d8576b"
            ],
            [
             0.6666666666666666,
             "#ed7953"
            ],
            [
             0.7777777777777778,
             "#fb9f3a"
            ],
            [
             0.8888888888888888,
             "#fdca26"
            ],
            [
             1,
             "#f0f921"
            ]
           ]
          },
          "colorway": [
           "#636efa",
           "#EF553B",
           "#00cc96",
           "#ab63fa",
           "#FFA15A",
           "#19d3f3",
           "#FF6692",
           "#B6E880",
           "#FF97FF",
           "#FECB52"
          ],
          "font": {
           "color": "#2a3f5f"
          },
          "geo": {
           "bgcolor": "white",
           "lakecolor": "white",
           "landcolor": "#E5ECF6",
           "showlakes": true,
           "showland": true,
           "subunitcolor": "white"
          },
          "hoverlabel": {
           "align": "left"
          },
          "hovermode": "closest",
          "mapbox": {
           "style": "light"
          },
          "paper_bgcolor": "white",
          "plot_bgcolor": "#E5ECF6",
          "polar": {
           "angularaxis": {
            "gridcolor": "white",
            "linecolor": "white",
            "ticks": ""
           },
           "bgcolor": "#E5ECF6",
           "radialaxis": {
            "gridcolor": "white",
            "linecolor": "white",
            "ticks": ""
           }
          },
          "scene": {
           "xaxis": {
            "backgroundcolor": "#E5ECF6",
            "gridcolor": "white",
            "gridwidth": 2,
            "linecolor": "white",
            "showbackground": true,
            "ticks": "",
            "zerolinecolor": "white"
           },
           "yaxis": {
            "backgroundcolor": "#E5ECF6",
            "gridcolor": "white",
            "gridwidth": 2,
            "linecolor": "white",
            "showbackground": true,
            "ticks": "",
            "zerolinecolor": "white"
           },
           "zaxis": {
            "backgroundcolor": "#E5ECF6",
            "gridcolor": "white",
            "gridwidth": 2,
            "linecolor": "white",
            "showbackground": true,
            "ticks": "",
            "zerolinecolor": "white"
           }
          },
          "shapedefaults": {
           "line": {
            "color": "#2a3f5f"
           }
          },
          "ternary": {
           "aaxis": {
            "gridcolor": "white",
            "linecolor": "white",
            "ticks": ""
           },
           "baxis": {
            "gridcolor": "white",
            "linecolor": "white",
            "ticks": ""
           },
           "bgcolor": "#E5ECF6",
           "caxis": {
            "gridcolor": "white",
            "linecolor": "white",
            "ticks": ""
           }
          },
          "title": {
           "x": 0.05
          },
          "xaxis": {
           "automargin": true,
           "gridcolor": "white",
           "linecolor": "white",
           "ticks": "",
           "title": {
            "standoff": 15
           },
           "zerolinecolor": "white",
           "zerolinewidth": 2
          },
          "yaxis": {
           "automargin": true,
           "gridcolor": "white",
           "linecolor": "white",
           "ticks": "",
           "title": {
            "standoff": 15
           },
           "zerolinecolor": "white",
           "zerolinewidth": 2
          }
         }
        },
        "title": {
         "text": "Evolution du nombre de naissances à Grenoble"
        },
        "xaxis": {
         "anchor": "y",
         "domain": [
          0,
          1
         ],
         "title": {
          "text": "Année"
         }
        },
        "yaxis": {
         "anchor": "x",
         "domain": [
          0,
          1
         ],
         "range": [
          0,
          3000
         ],
         "title": {
          "text": "Nombre de naissances"
         }
        }
       }
      },
      "text/html": [
       "<div>                            <div id=\"7c8e3cf8-f2a4-49a3-a0a0-a14a1f1f356b\" class=\"plotly-graph-div\" style=\"height:525px; width:100%;\"></div>            <script type=\"text/javascript\">                require([\"plotly\"], function(Plotly) {                    window.PLOTLYENV=window.PLOTLYENV || {};                                    if (document.getElementById(\"7c8e3cf8-f2a4-49a3-a0a0-a14a1f1f356b\")) {                    Plotly.newPlot(                        \"7c8e3cf8-f2a4-49a3-a0a0-a14a1f1f356b\",                        [{\"hovertemplate\":\"Ann\\u00e9e=%{x}<br>Nombre de naissances=%{y}<extra></extra>\",\"legendgroup\":\"\",\"line\":{\"color\":\"#636efa\",\"dash\":\"solid\"},\"marker\":{\"symbol\":\"circle\"},\"mode\":\"lines\",\"name\":\"\",\"orientation\":\"v\",\"showlegend\":false,\"x\":[2019,2018,2017,2016,2015,2014,2013,2012,2011,2010,2009,2008,2007],\"xaxis\":\"x\",\"y\":[2057,2122,2222,2227,2308,2419,2367,2343,2359,2445,2344,2297,2311],\"yaxis\":\"y\",\"type\":\"scatter\"}],                        {\"template\":{\"data\":{\"histogram2dcontour\":[{\"type\":\"histogram2dcontour\",\"colorbar\":{\"outlinewidth\":0,\"ticks\":\"\"},\"colorscale\":[[0.0,\"#0d0887\"],[0.1111111111111111,\"#46039f\"],[0.2222222222222222,\"#7201a8\"],[0.3333333333333333,\"#9c179e\"],[0.4444444444444444,\"#bd3786\"],[0.5555555555555556,\"#d8576b\"],[0.6666666666666666,\"#ed7953\"],[0.7777777777777778,\"#fb9f3a\"],[0.8888888888888888,\"#fdca26\"],[1.0,\"#f0f921\"]]}],\"choropleth\":[{\"type\":\"choropleth\",\"colorbar\":{\"outlinewidth\":0,\"ticks\":\"\"}}],\"histogram2d\":[{\"type\":\"histogram2d\",\"colorbar\":{\"outlinewidth\":0,\"ticks\":\"\"},\"colorscale\":[[0.0,\"#0d0887\"],[0.1111111111111111,\"#46039f\"],[0.2222222222222222,\"#7201a8\"],[0.3333333333333333,\"#9c179e\"],[0.4444444444444444,\"#bd3786\"],[0.5555555555555556,\"#d8576b\"],[0.6666666666666666,\"#ed7953\"],[0.7777777777777778,\"#fb9f3a\"],[0.8888888888888888,\"#fdca26\"],[1.0,\"#f0f921\"]]}],\"heatmap\":[{\"type\":\"heatmap\",\"colorbar\":{\"outlinewidth\":0,\"ticks\":\"\"},\"colorscale\":[[0.0,\"#0d0887\"],[0.1111111111111111,\"#46039f\"],[0.2222222222222222,\"#7201a8\"],[0.3333333333333333,\"#9c179e\"],[0.4444444444444444,\"#bd3786\"],[0.5555555555555556,\"#d8576b\"],[0.6666666666666666,\"#ed7953\"],[0.7777777777777778,\"#fb9f3a\"],[0.8888888888888888,\"#fdca26\"],[1.0,\"#f0f921\"]]}],\"heatmapgl\":[{\"type\":\"heatmapgl\",\"colorbar\":{\"outlinewidth\":0,\"ticks\":\"\"},\"colorscale\":[[0.0,\"#0d0887\"],[0.1111111111111111,\"#46039f\"],[0.2222222222222222,\"#7201a8\"],[0.3333333333333333,\"#9c179e\"],[0.4444444444444444,\"#bd3786\"],[0.5555555555555556,\"#d8576b\"],[0.6666666666666666,\"#ed7953\"],[0.7777777777777778,\"#fb9f3a\"],[0.8888888888888888,\"#fdca26\"],[1.0,\"#f0f921\"]]}],\"contourcarpet\":[{\"type\":\"contourcarpet\",\"colorbar\":{\"outlinewidth\":0,\"ticks\":\"\"}}],\"contour\":[{\"type\":\"contour\",\"colorbar\":{\"outlinewidth\":0,\"ticks\":\"\"},\"colorscale\":[[0.0,\"#0d0887\"],[0.1111111111111111,\"#46039f\"],[0.2222222222222222,\"#7201a8\"],[0.3333333333333333,\"#9c179e\"],[0.4444444444444444,\"#bd3786\"],[0.5555555555555556,\"#d8576b\"],[0.6666666666666666,\"#ed7953\"],[0.7777777777777778,\"#fb9f3a\"],[0.8888888888888888,\"#fdca26\"],[1.0,\"#f0f921\"]]}],\"surface\":[{\"type\":\"surface\",\"colorbar\":{\"outlinewidth\":0,\"ticks\":\"\"},\"colorscale\":[[0.0,\"#0d0887\"],[0.1111111111111111,\"#46039f\"],[0.2222222222222222,\"#7201a8\"],[0.3333333333333333,\"#9c179e\"],[0.4444444444444444,\"#bd3786\"],[0.5555555555555556,\"#d8576b\"],[0.6666666666666666,\"#ed7953\"],[0.7777777777777778,\"#fb9f3a\"],[0.8888888888888888,\"#fdca26\"],[1.0,\"#f0f921\"]]}],\"mesh3d\":[{\"type\":\"mesh3d\",\"colorbar\":{\"outlinewidth\":0,\"ticks\":\"\"}}],\"scatter\":[{\"fillpattern\":{\"fillmode\":\"overlay\",\"size\":10,\"solidity\":0.2},\"type\":\"scatter\"}],\"parcoords\":[{\"type\":\"parcoords\",\"line\":{\"colorbar\":{\"outlinewidth\":0,\"ticks\":\"\"}}}],\"scatterpolargl\":[{\"type\":\"scatterpolargl\",\"marker\":{\"colorbar\":{\"outlinewidth\":0,\"ticks\":\"\"}}}],\"bar\":[{\"error_x\":{\"color\":\"#2a3f5f\"},\"error_y\":{\"color\":\"#2a3f5f\"},\"marker\":{\"line\":{\"color\":\"#E5ECF6\",\"width\":0.5},\"pattern\":{\"fillmode\":\"overlay\",\"size\":10,\"solidity\":0.2}},\"type\":\"bar\"}],\"scattergeo\":[{\"type\":\"scattergeo\",\"marker\":{\"colorbar\":{\"outlinewidth\":0,\"ticks\":\"\"}}}],\"scatterpolar\":[{\"type\":\"scatterpolar\",\"marker\":{\"colorbar\":{\"outlinewidth\":0,\"ticks\":\"\"}}}],\"histogram\":[{\"marker\":{\"pattern\":{\"fillmode\":\"overlay\",\"size\":10,\"solidity\":0.2}},\"type\":\"histogram\"}],\"scattergl\":[{\"type\":\"scattergl\",\"marker\":{\"colorbar\":{\"outlinewidth\":0,\"ticks\":\"\"}}}],\"scatter3d\":[{\"type\":\"scatter3d\",\"line\":{\"colorbar\":{\"outlinewidth\":0,\"ticks\":\"\"}},\"marker\":{\"colorbar\":{\"outlinewidth\":0,\"ticks\":\"\"}}}],\"scattermapbox\":[{\"type\":\"scattermapbox\",\"marker\":{\"colorbar\":{\"outlinewidth\":0,\"ticks\":\"\"}}}],\"scatterternary\":[{\"type\":\"scatterternary\",\"marker\":{\"colorbar\":{\"outlinewidth\":0,\"ticks\":\"\"}}}],\"scattercarpet\":[{\"type\":\"scattercarpet\",\"marker\":{\"colorbar\":{\"outlinewidth\":0,\"ticks\":\"\"}}}],\"carpet\":[{\"aaxis\":{\"endlinecolor\":\"#2a3f5f\",\"gridcolor\":\"white\",\"linecolor\":\"white\",\"minorgridcolor\":\"white\",\"startlinecolor\":\"#2a3f5f\"},\"baxis\":{\"endlinecolor\":\"#2a3f5f\",\"gridcolor\":\"white\",\"linecolor\":\"white\",\"minorgridcolor\":\"white\",\"startlinecolor\":\"#2a3f5f\"},\"type\":\"carpet\"}],\"table\":[{\"cells\":{\"fill\":{\"color\":\"#EBF0F8\"},\"line\":{\"color\":\"white\"}},\"header\":{\"fill\":{\"color\":\"#C8D4E3\"},\"line\":{\"color\":\"white\"}},\"type\":\"table\"}],\"barpolar\":[{\"marker\":{\"line\":{\"color\":\"#E5ECF6\",\"width\":0.5},\"pattern\":{\"fillmode\":\"overlay\",\"size\":10,\"solidity\":0.2}},\"type\":\"barpolar\"}],\"pie\":[{\"automargin\":true,\"type\":\"pie\"}]},\"layout\":{\"autotypenumbers\":\"strict\",\"colorway\":[\"#636efa\",\"#EF553B\",\"#00cc96\",\"#ab63fa\",\"#FFA15A\",\"#19d3f3\",\"#FF6692\",\"#B6E880\",\"#FF97FF\",\"#FECB52\"],\"font\":{\"color\":\"#2a3f5f\"},\"hovermode\":\"closest\",\"hoverlabel\":{\"align\":\"left\"},\"paper_bgcolor\":\"white\",\"plot_bgcolor\":\"#E5ECF6\",\"polar\":{\"bgcolor\":\"#E5ECF6\",\"angularaxis\":{\"gridcolor\":\"white\",\"linecolor\":\"white\",\"ticks\":\"\"},\"radialaxis\":{\"gridcolor\":\"white\",\"linecolor\":\"white\",\"ticks\":\"\"}},\"ternary\":{\"bgcolor\":\"#E5ECF6\",\"aaxis\":{\"gridcolor\":\"white\",\"linecolor\":\"white\",\"ticks\":\"\"},\"baxis\":{\"gridcolor\":\"white\",\"linecolor\":\"white\",\"ticks\":\"\"},\"caxis\":{\"gridcolor\":\"white\",\"linecolor\":\"white\",\"ticks\":\"\"}},\"coloraxis\":{\"colorbar\":{\"outlinewidth\":0,\"ticks\":\"\"}},\"colorscale\":{\"sequential\":[[0.0,\"#0d0887\"],[0.1111111111111111,\"#46039f\"],[0.2222222222222222,\"#7201a8\"],[0.3333333333333333,\"#9c179e\"],[0.4444444444444444,\"#bd3786\"],[0.5555555555555556,\"#d8576b\"],[0.6666666666666666,\"#ed7953\"],[0.7777777777777778,\"#fb9f3a\"],[0.8888888888888888,\"#fdca26\"],[1.0,\"#f0f921\"]],\"sequentialminus\":[[0.0,\"#0d0887\"],[0.1111111111111111,\"#46039f\"],[0.2222222222222222,\"#7201a8\"],[0.3333333333333333,\"#9c179e\"],[0.4444444444444444,\"#bd3786\"],[0.5555555555555556,\"#d8576b\"],[0.6666666666666666,\"#ed7953\"],[0.7777777777777778,\"#fb9f3a\"],[0.8888888888888888,\"#fdca26\"],[1.0,\"#f0f921\"]],\"diverging\":[[0,\"#8e0152\"],[0.1,\"#c51b7d\"],[0.2,\"#de77ae\"],[0.3,\"#f1b6da\"],[0.4,\"#fde0ef\"],[0.5,\"#f7f7f7\"],[0.6,\"#e6f5d0\"],[0.7,\"#b8e186\"],[0.8,\"#7fbc41\"],[0.9,\"#4d9221\"],[1,\"#276419\"]]},\"xaxis\":{\"gridcolor\":\"white\",\"linecolor\":\"white\",\"ticks\":\"\",\"title\":{\"standoff\":15},\"zerolinecolor\":\"white\",\"automargin\":true,\"zerolinewidth\":2},\"yaxis\":{\"gridcolor\":\"white\",\"linecolor\":\"white\",\"ticks\":\"\",\"title\":{\"standoff\":15},\"zerolinecolor\":\"white\",\"automargin\":true,\"zerolinewidth\":2},\"scene\":{\"xaxis\":{\"backgroundcolor\":\"#E5ECF6\",\"gridcolor\":\"white\",\"linecolor\":\"white\",\"showbackground\":true,\"ticks\":\"\",\"zerolinecolor\":\"white\",\"gridwidth\":2},\"yaxis\":{\"backgroundcolor\":\"#E5ECF6\",\"gridcolor\":\"white\",\"linecolor\":\"white\",\"showbackground\":true,\"ticks\":\"\",\"zerolinecolor\":\"white\",\"gridwidth\":2},\"zaxis\":{\"backgroundcolor\":\"#E5ECF6\",\"gridcolor\":\"white\",\"linecolor\":\"white\",\"showbackground\":true,\"ticks\":\"\",\"zerolinecolor\":\"white\",\"gridwidth\":2}},\"shapedefaults\":{\"line\":{\"color\":\"#2a3f5f\"}},\"annotationdefaults\":{\"arrowcolor\":\"#2a3f5f\",\"arrowhead\":0,\"arrowwidth\":1},\"geo\":{\"bgcolor\":\"white\",\"landcolor\":\"#E5ECF6\",\"subunitcolor\":\"white\",\"showland\":true,\"showlakes\":true,\"lakecolor\":\"white\"},\"title\":{\"x\":0.05},\"mapbox\":{\"style\":\"light\"}}},\"xaxis\":{\"anchor\":\"y\",\"domain\":[0.0,1.0],\"title\":{\"text\":\"Ann\\u00e9e\"}},\"yaxis\":{\"anchor\":\"x\",\"domain\":[0.0,1.0],\"title\":{\"text\":\"Nombre de naissances\"},\"range\":[0,3000]},\"legend\":{\"tracegroupgap\":0},\"title\":{\"text\":\"Evolution du nombre de naissances \\u00e0 Grenoble\"}},                        {\"responsive\": true}                    ).then(function(){\n",
       "                            \n",
       "var gd = document.getElementById('7c8e3cf8-f2a4-49a3-a0a0-a14a1f1f356b');\n",
       "var x = new MutationObserver(function (mutations, observer) {{\n",
       "        var display = window.getComputedStyle(gd).display;\n",
       "        if (!display || display === 'none') {{\n",
       "            console.log([gd, 'removed!']);\n",
       "            Plotly.purge(gd);\n",
       "            observer.disconnect();\n",
       "        }}\n",
       "}});\n",
       "\n",
       "// Listen for the removal of the full notebook cells\n",
       "var notebookContainer = gd.closest('#notebook-container');\n",
       "if (notebookContainer) {{\n",
       "    x.observe(notebookContainer, {childList: true});\n",
       "}}\n",
       "\n",
       "// Listen for the clearing of the current output cell\n",
       "var outputEl = gd.closest('.output');\n",
       "if (outputEl) {{\n",
       "    x.observe(outputEl, {childList: true});\n",
       "}}\n",
       "\n",
       "                        })                };                });            </script>        </div>"
      ]
     },
     "metadata": {},
     "output_type": "display_data"
    }
   ],
   "source": [
    "fig = px.line(data_pop_gre, x=\"annee\", y=\"nombre_naissances\",\n",
    "             title=\"Evolution du nombre de naissances à Grenoble\",\n",
    "             labels={\"annee\":\"Année\",\"nombre_naissances\":\"Nombre de naissances\"}) #noms des axes\n",
    "fig.update_layout(yaxis_range=[0,3000]) #limites de la fenêtre en ordonnées\n",
    "fig.show()"
   ]
  },
  {
   "cell_type": "code",
   "execution_count": 10,
   "id": "a1e366ba",
   "metadata": {
    "scrolled": true
   },
   "outputs": [
    {
     "data": {
      "application/vnd.plotly.v1+json": {
       "config": {
        "plotlyServerURL": "https://plot.ly"
       },
       "data": [
        {
         "hovertemplate": "commune=Vizille<br>Année=%{x}<br>Nombre de naissances=%{y}<extra></extra>",
         "legendgroup": "Vizille",
         "line": {
          "color": "#636efa",
          "dash": "solid"
         },
         "marker": {
          "symbol": "circle"
         },
         "mode": "lines",
         "name": "Vizille",
         "orientation": "v",
         "showlegend": true,
         "type": "scatter",
         "x": [
          2019,
          2018,
          2017,
          2016,
          2015,
          2014,
          2013,
          2012,
          2011,
          2010,
          2009,
          2008,
          2007
         ],
         "xaxis": "x",
         "y": [
          89,
          80,
          72,
          84,
          102,
          86,
          92,
          92,
          120,
          103,
          107,
          125,
          103
         ],
         "yaxis": "y"
        },
        {
         "hovertemplate": "commune=Notre-Dame-de-Commiers<br>Année=%{x}<br>Nombre de naissances=%{y}<extra></extra>",
         "legendgroup": "Notre-Dame-de-Commiers",
         "line": {
          "color": "#EF553B",
          "dash": "solid"
         },
         "marker": {
          "symbol": "circle"
         },
         "mode": "lines",
         "name": "Notre-Dame-de-Commiers",
         "orientation": "v",
         "showlegend": true,
         "type": "scatter",
         "x": [
          2019,
          2018,
          2017,
          2016,
          2015,
          2014,
          2013,
          2012,
          2011,
          2010,
          2009,
          2008,
          2007
         ],
         "xaxis": "x",
         "y": [
          5,
          5,
          5,
          12,
          6,
          9,
          4,
          6,
          6,
          3,
          5,
          10,
          10
         ],
         "yaxis": "y"
        },
        {
         "hovertemplate": "commune=Le Fontanil-Cornillon<br>Année=%{x}<br>Nombre de naissances=%{y}<extra></extra>",
         "legendgroup": "Le Fontanil-Cornillon",
         "line": {
          "color": "#00cc96",
          "dash": "solid"
         },
         "marker": {
          "symbol": "circle"
         },
         "mode": "lines",
         "name": "Le Fontanil-Cornillon",
         "orientation": "v",
         "showlegend": true,
         "type": "scatter",
         "x": [
          2019,
          2018,
          2017,
          2016,
          2015,
          2014,
          2013,
          2012,
          2011,
          2010,
          2009,
          2008,
          2007
         ],
         "xaxis": "x",
         "y": [
          42,
          40,
          24,
          32,
          28,
          32,
          24,
          37,
          45,
          26,
          37,
          44,
          38
         ],
         "yaxis": "y"
        },
        {
         "hovertemplate": "commune=Saint-Martin-le-Vinoux<br>Année=%{x}<br>Nombre de naissances=%{y}<extra></extra>",
         "legendgroup": "Saint-Martin-le-Vinoux",
         "line": {
          "color": "#ab63fa",
          "dash": "solid"
         },
         "marker": {
          "symbol": "circle"
         },
         "mode": "lines",
         "name": "Saint-Martin-le-Vinoux",
         "orientation": "v",
         "showlegend": true,
         "type": "scatter",
         "x": [
          2019,
          2018,
          2017,
          2016,
          2015,
          2014,
          2013,
          2012,
          2011,
          2010,
          2009,
          2008,
          2007
         ],
         "xaxis": "x",
         "y": [
          90,
          86,
          83,
          81,
          87,
          99,
          83,
          74,
          67,
          80,
          82,
          75,
          74
         ],
         "yaxis": "y"
        },
        {
         "hovertemplate": "commune=Seyssinet-Pariset<br>Année=%{x}<br>Nombre de naissances=%{y}<extra></extra>",
         "legendgroup": "Seyssinet-Pariset",
         "line": {
          "color": "#FFA15A",
          "dash": "solid"
         },
         "marker": {
          "symbol": "circle"
         },
         "mode": "lines",
         "name": "Seyssinet-Pariset",
         "orientation": "v",
         "showlegend": true,
         "type": "scatter",
         "x": [
          2019,
          2018,
          2017,
          2016,
          2015,
          2014,
          2013,
          2012,
          2011,
          2010,
          2009,
          2008,
          2007
         ],
         "xaxis": "x",
         "y": [
          120,
          120,
          133,
          146,
          143,
          156,
          162,
          154,
          141,
          174,
          166,
          151,
          166
         ],
         "yaxis": "y"
        },
        {
         "hovertemplate": "commune=Le Sappey-en-Chartreuse<br>Année=%{x}<br>Nombre de naissances=%{y}<extra></extra>",
         "legendgroup": "Le Sappey-en-Chartreuse",
         "line": {
          "color": "#19d3f3",
          "dash": "solid"
         },
         "marker": {
          "symbol": "circle"
         },
         "mode": "lines",
         "name": "Le Sappey-en-Chartreuse",
         "orientation": "v",
         "showlegend": true,
         "type": "scatter",
         "x": [
          2019,
          2018,
          2017,
          2016,
          2015,
          2014,
          2013,
          2012,
          2011,
          2010,
          2009,
          2008,
          2007
         ],
         "xaxis": "x",
         "y": [
          13,
          13,
          21,
          15,
          17,
          14,
          17,
          10,
          16,
          12,
          16,
          27,
          9
         ],
         "yaxis": "y"
        },
        {
         "hovertemplate": "commune=Saint-Georges-de-Commiers<br>Année=%{x}<br>Nombre de naissances=%{y}<extra></extra>",
         "legendgroup": "Saint-Georges-de-Commiers",
         "line": {
          "color": "#FF6692",
          "dash": "solid"
         },
         "marker": {
          "symbol": "circle"
         },
         "mode": "lines",
         "name": "Saint-Georges-de-Commiers",
         "orientation": "v",
         "showlegend": true,
         "type": "scatter",
         "x": [
          2019,
          2018,
          2017,
          2016,
          2015,
          2014,
          2013,
          2012,
          2011,
          2010,
          2009,
          2008,
          2007
         ],
         "xaxis": "x",
         "y": [
          22,
          19,
          26,
          23,
          15,
          21,
          29,
          19,
          20,
          12,
          26,
          26,
          13
         ],
         "yaxis": "y"
        },
        {
         "hovertemplate": "commune=Le Gua<br>Année=%{x}<br>Nombre de naissances=%{y}<extra></extra>",
         "legendgroup": "Le Gua",
         "line": {
          "color": "#B6E880",
          "dash": "solid"
         },
         "marker": {
          "symbol": "circle"
         },
         "mode": "lines",
         "name": "Le Gua",
         "orientation": "v",
         "showlegend": true,
         "type": "scatter",
         "x": [
          2019,
          2018,
          2017,
          2016,
          2015,
          2014,
          2013,
          2012,
          2011,
          2010,
          2009,
          2008,
          2007
         ],
         "xaxis": "x",
         "y": [
          12,
          22,
          18,
          14,
          18,
          19,
          16,
          17,
          16,
          17,
          25,
          21,
          16
         ],
         "yaxis": "y"
        },
        {
         "hovertemplate": "commune=Proveysieux<br>Année=%{x}<br>Nombre de naissances=%{y}<extra></extra>",
         "legendgroup": "Proveysieux",
         "line": {
          "color": "#FF97FF",
          "dash": "solid"
         },
         "marker": {
          "symbol": "circle"
         },
         "mode": "lines",
         "name": "Proveysieux",
         "orientation": "v",
         "showlegend": true,
         "type": "scatter",
         "x": [
          2019,
          2018,
          2017,
          2016,
          2015,
          2014,
          2013,
          2012,
          2011,
          2010,
          2009,
          2008,
          2007
         ],
         "xaxis": "x",
         "y": [
          8,
          4,
          6,
          7,
          3,
          10,
          6,
          11,
          4,
          6,
          6,
          10,
          13
         ],
         "yaxis": "y"
        },
        {
         "hovertemplate": "commune=Noyarey<br>Année=%{x}<br>Nombre de naissances=%{y}<extra></extra>",
         "legendgroup": "Noyarey",
         "line": {
          "color": "#FECB52",
          "dash": "solid"
         },
         "marker": {
          "symbol": "circle"
         },
         "mode": "lines",
         "name": "Noyarey",
         "orientation": "v",
         "showlegend": true,
         "type": "scatter",
         "x": [
          2019,
          2018,
          2017,
          2016,
          2015,
          2014,
          2013,
          2012,
          2011,
          2010,
          2009,
          2008,
          2007
         ],
         "xaxis": "x",
         "y": [
          26,
          28,
          14,
          27,
          22,
          19,
          18,
          20,
          26,
          22,
          16,
          25,
          28
         ],
         "yaxis": "y"
        },
        {
         "hovertemplate": "commune=Veurey-Voroize<br>Année=%{x}<br>Nombre de naissances=%{y}<extra></extra>",
         "legendgroup": "Veurey-Voroize",
         "line": {
          "color": "#636efa",
          "dash": "solid"
         },
         "marker": {
          "symbol": "circle"
         },
         "mode": "lines",
         "name": "Veurey-Voroize",
         "orientation": "v",
         "showlegend": true,
         "type": "scatter",
         "x": [
          2019,
          2018,
          2017,
          2016,
          2015,
          2014,
          2013,
          2012,
          2011,
          2010,
          2009,
          2008,
          2007
         ],
         "xaxis": "x",
         "y": [
          10,
          15,
          15,
          12,
          9,
          9,
          12,
          10,
          14,
          14,
          16,
          12,
          14
         ],
         "yaxis": "y"
        },
        {
         "hovertemplate": "commune=Saint-Égrève<br>Année=%{x}<br>Nombre de naissances=%{y}<extra></extra>",
         "legendgroup": "Saint-Égrève",
         "line": {
          "color": "#EF553B",
          "dash": "solid"
         },
         "marker": {
          "symbol": "circle"
         },
         "mode": "lines",
         "name": "Saint-Égrève",
         "orientation": "v",
         "showlegend": true,
         "type": "scatter",
         "x": [
          2019,
          2018,
          2017,
          2016,
          2015,
          2014,
          2013,
          2012,
          2011,
          2010,
          2009,
          2008,
          2007
         ],
         "xaxis": "x",
         "y": [
          182,
          203,
          183,
          182,
          159,
          179,
          171,
          195,
          198,
          210,
          209,
          218,
          212
         ],
         "yaxis": "y"
        },
        {
         "hovertemplate": "commune=Jarrie<br>Année=%{x}<br>Nombre de naissances=%{y}<extra></extra>",
         "legendgroup": "Jarrie",
         "line": {
          "color": "#00cc96",
          "dash": "solid"
         },
         "marker": {
          "symbol": "circle"
         },
         "mode": "lines",
         "name": "Jarrie",
         "orientation": "v",
         "showlegend": true,
         "type": "scatter",
         "x": [
          2019,
          2018,
          2017,
          2016,
          2015,
          2014,
          2013,
          2012,
          2011,
          2010,
          2009,
          2008,
          2007
         ],
         "xaxis": "x",
         "y": [
          35,
          33,
          36,
          35,
          38,
          44,
          36,
          45,
          32,
          33,
          40,
          34,
          47
         ],
         "yaxis": "y"
        },
        {
         "hovertemplate": "commune=Vaulnaveys-le-Bas<br>Année=%{x}<br>Nombre de naissances=%{y}<extra></extra>",
         "legendgroup": "Vaulnaveys-le-Bas",
         "line": {
          "color": "#ab63fa",
          "dash": "solid"
         },
         "marker": {
          "symbol": "circle"
         },
         "mode": "lines",
         "name": "Vaulnaveys-le-Bas",
         "orientation": "v",
         "showlegend": true,
         "type": "scatter",
         "x": [
          2019,
          2018,
          2017,
          2016,
          2015,
          2014,
          2013,
          2012,
          2011,
          2010,
          2009,
          2008,
          2007
         ],
         "xaxis": "x",
         "y": [
          13,
          5,
          9,
          14,
          17,
          8,
          17,
          15,
          11,
          9,
          13,
          9,
          11
         ],
         "yaxis": "y"
        },
        {
         "hovertemplate": "commune=Saint-Martin-d'Hères<br>Année=%{x}<br>Nombre de naissances=%{y}<extra></extra>",
         "legendgroup": "Saint-Martin-d'Hères",
         "line": {
          "color": "#FFA15A",
          "dash": "solid"
         },
         "marker": {
          "symbol": "circle"
         },
         "mode": "lines",
         "name": "Saint-Martin-d'Hères",
         "orientation": "v",
         "showlegend": true,
         "type": "scatter",
         "x": [
          2019,
          2018,
          2017,
          2016,
          2015,
          2014,
          2013,
          2012,
          2011,
          2010,
          2009,
          2008,
          2007
         ],
         "xaxis": "x",
         "y": [
          402,
          448,
          465,
          515,
          513,
          603,
          515,
          544,
          549,
          581,
          558,
          543,
          457
         ],
         "yaxis": "y"
        },
        {
         "hovertemplate": "commune=Seyssins<br>Année=%{x}<br>Nombre de naissances=%{y}<extra></extra>",
         "legendgroup": "Seyssins",
         "line": {
          "color": "#19d3f3",
          "dash": "solid"
         },
         "marker": {
          "symbol": "circle"
         },
         "mode": "lines",
         "name": "Seyssins",
         "orientation": "v",
         "showlegend": true,
         "type": "scatter",
         "x": [
          2019,
          2018,
          2017,
          2016,
          2015,
          2014,
          2013,
          2012,
          2011,
          2010,
          2009,
          2008,
          2007
         ],
         "xaxis": "x",
         "y": [
          65,
          54,
          68,
          75,
          59,
          59,
          45,
          59,
          58,
          47,
          57,
          68,
          63
         ],
         "yaxis": "y"
        },
        {
         "hovertemplate": "commune=Varces-Allières-et-Risset<br>Année=%{x}<br>Nombre de naissances=%{y}<extra></extra>",
         "legendgroup": "Varces-Allières-et-Risset",
         "line": {
          "color": "#FF6692",
          "dash": "solid"
         },
         "marker": {
          "symbol": "circle"
         },
         "mode": "lines",
         "name": "Varces-Allières-et-Risset",
         "orientation": "v",
         "showlegend": true,
         "type": "scatter",
         "x": [
          2019,
          2018,
          2017,
          2016,
          2015,
          2014,
          2013,
          2012,
          2011,
          2010,
          2009,
          2008,
          2007
         ],
         "xaxis": "x",
         "y": [
          78,
          82,
          86,
          70,
          88,
          81,
          73,
          88,
          75,
          58,
          59,
          82,
          56
         ],
         "yaxis": "y"
        },
        {
         "hovertemplate": "commune=Sarcenas<br>Année=%{x}<br>Nombre de naissances=%{y}<extra></extra>",
         "legendgroup": "Sarcenas",
         "line": {
          "color": "#B6E880",
          "dash": "solid"
         },
         "marker": {
          "symbol": "circle"
         },
         "mode": "lines",
         "name": "Sarcenas",
         "orientation": "v",
         "showlegend": true,
         "type": "scatter",
         "x": [
          2019,
          2018,
          2017,
          2016,
          2015,
          2014,
          2013,
          2012,
          2011,
          2010,
          2009,
          2008,
          2007
         ],
         "xaxis": "x",
         "y": [
          6,
          3,
          4,
          2,
          3,
          3,
          1,
          1,
          1,
          0,
          2,
          3,
          1
         ],
         "yaxis": "y"
        },
        {
         "hovertemplate": "commune=Saint-Pierre-de-Mésage<br>Année=%{x}<br>Nombre de naissances=%{y}<extra></extra>",
         "legendgroup": "Saint-Pierre-de-Mésage",
         "line": {
          "color": "#FF97FF",
          "dash": "solid"
         },
         "marker": {
          "symbol": "circle"
         },
         "mode": "lines",
         "name": "Saint-Pierre-de-Mésage",
         "orientation": "v",
         "showlegend": true,
         "type": "scatter",
         "x": [
          2019,
          2018,
          2017,
          2016,
          2015,
          2014,
          2013,
          2012,
          2011,
          2010,
          2009,
          2008,
          2007
         ],
         "xaxis": "x",
         "y": [
          5,
          7,
          2,
          1,
          4,
          9,
          8,
          8,
          5,
          9,
          7,
          6,
          7
         ],
         "yaxis": "y"
        },
        {
         "hovertemplate": "commune=La Tronche<br>Année=%{x}<br>Nombre de naissances=%{y}<extra></extra>",
         "legendgroup": "La Tronche",
         "line": {
          "color": "#FECB52",
          "dash": "solid"
         },
         "marker": {
          "symbol": "circle"
         },
         "mode": "lines",
         "name": "La Tronche",
         "orientation": "v",
         "showlegend": true,
         "type": "scatter",
         "x": [
          2019,
          2018,
          2017,
          2016,
          2015,
          2014,
          2013,
          2012,
          2011,
          2010,
          2009,
          2008,
          2007
         ],
         "xaxis": "x",
         "y": [
          69,
          71,
          71,
          87,
          75,
          75,
          78,
          72,
          77,
          64,
          80,
          67,
          57
         ],
         "yaxis": "y"
        },
        {
         "hovertemplate": "commune=Notre-Dame-de-Mésage<br>Année=%{x}<br>Nombre de naissances=%{y}<extra></extra>",
         "legendgroup": "Notre-Dame-de-Mésage",
         "line": {
          "color": "#636efa",
          "dash": "solid"
         },
         "marker": {
          "symbol": "circle"
         },
         "mode": "lines",
         "name": "Notre-Dame-de-Mésage",
         "orientation": "v",
         "showlegend": true,
         "type": "scatter",
         "x": [
          2019,
          2018,
          2017,
          2016,
          2015,
          2014,
          2013,
          2012,
          2011,
          2010,
          2009,
          2008,
          2007
         ],
         "xaxis": "x",
         "y": [
          5,
          9,
          4,
          3,
          4,
          16,
          4,
          11,
          7,
          11,
          5,
          16,
          15
         ],
         "yaxis": "y"
        },
        {
         "hovertemplate": "commune=Eybens<br>Année=%{x}<br>Nombre de naissances=%{y}<extra></extra>",
         "legendgroup": "Eybens",
         "line": {
          "color": "#EF553B",
          "dash": "solid"
         },
         "marker": {
          "symbol": "circle"
         },
         "mode": "lines",
         "name": "Eybens",
         "orientation": "v",
         "showlegend": true,
         "type": "scatter",
         "x": [
          2019,
          2018,
          2017,
          2016,
          2015,
          2014,
          2013,
          2012,
          2011,
          2010,
          2009,
          2008,
          2007
         ],
         "xaxis": "x",
         "y": [
          108,
          118,
          134,
          119,
          154,
          140,
          141,
          158,
          120,
          135,
          134,
          122,
          128
         ],
         "yaxis": "y"
        },
        {
         "hovertemplate": "commune=Champagnier<br>Année=%{x}<br>Nombre de naissances=%{y}<extra></extra>",
         "legendgroup": "Champagnier",
         "line": {
          "color": "#00cc96",
          "dash": "solid"
         },
         "marker": {
          "symbol": "circle"
         },
         "mode": "lines",
         "name": "Champagnier",
         "orientation": "v",
         "showlegend": true,
         "type": "scatter",
         "x": [
          2019,
          2018,
          2017,
          2016,
          2015,
          2014,
          2013,
          2012,
          2011,
          2010,
          2009,
          2008,
          2007
         ],
         "xaxis": "x",
         "y": [
          6,
          7,
          9,
          10,
          6,
          9,
          10,
          11,
          11,
          17,
          6,
          15,
          11
         ],
         "yaxis": "y"
        },
        {
         "hovertemplate": "commune=Mont-Saint-Martin<br>Année=%{x}<br>Nombre de naissances=%{y}<extra></extra>",
         "legendgroup": "Mont-Saint-Martin",
         "line": {
          "color": "#ab63fa",
          "dash": "solid"
         },
         "marker": {
          "symbol": "circle"
         },
         "mode": "lines",
         "name": "Mont-Saint-Martin",
         "orientation": "v",
         "showlegend": true,
         "type": "scatter",
         "x": [
          2019,
          2018,
          2017,
          2016,
          2015,
          2014,
          2013,
          2012,
          2011,
          2010,
          2009,
          2008,
          2007
         ],
         "xaxis": "x",
         "y": [
          3,
          1,
          3,
          0,
          1,
          0,
          1,
          2,
          2,
          0,
          2,
          0,
          0
         ],
         "yaxis": "y"
        },
        {
         "hovertemplate": "commune=Miribel-Lanchâtre<br>Année=%{x}<br>Nombre de naissances=%{y}<extra></extra>",
         "legendgroup": "Miribel-Lanchâtre",
         "line": {
          "color": "#FFA15A",
          "dash": "solid"
         },
         "marker": {
          "symbol": "circle"
         },
         "mode": "lines",
         "name": "Miribel-Lanchâtre",
         "orientation": "v",
         "showlegend": true,
         "type": "scatter",
         "x": [
          2019,
          2018,
          2017,
          2016,
          2015,
          2014,
          2013,
          2012,
          2011,
          2010,
          2009,
          2008,
          2007
         ],
         "xaxis": "x",
         "y": [
          3,
          7,
          1,
          5,
          5,
          5,
          6,
          5,
          4,
          7,
          12,
          6,
          8
         ],
         "yaxis": "y"
        },
        {
         "hovertemplate": "commune=Gières<br>Année=%{x}<br>Nombre de naissances=%{y}<extra></extra>",
         "legendgroup": "Gières",
         "line": {
          "color": "#19d3f3",
          "dash": "solid"
         },
         "marker": {
          "symbol": "circle"
         },
         "mode": "lines",
         "name": "Gières",
         "orientation": "v",
         "showlegend": true,
         "type": "scatter",
         "x": [
          2019,
          2018,
          2017,
          2016,
          2015,
          2014,
          2013,
          2012,
          2011,
          2010,
          2009,
          2008,
          2007
         ],
         "xaxis": "x",
         "y": [
          83,
          98,
          80,
          88,
          82,
          83,
          67,
          65,
          75,
          74,
          59,
          65,
          74
         ],
         "yaxis": "y"
        },
        {
         "hovertemplate": "commune=Saint-Barthélemy-de-Séchilienne<br>Année=%{x}<br>Nombre de naissances=%{y}<extra></extra>",
         "legendgroup": "Saint-Barthélemy-de-Séchilienne",
         "line": {
          "color": "#FF6692",
          "dash": "solid"
         },
         "marker": {
          "symbol": "circle"
         },
         "mode": "lines",
         "name": "Saint-Barthélemy-de-Séchilienne",
         "orientation": "v",
         "showlegend": true,
         "type": "scatter",
         "x": [
          2019,
          2018,
          2017,
          2016,
          2015,
          2014,
          2013,
          2012,
          2011,
          2010,
          2009,
          2008,
          2007
         ],
         "xaxis": "x",
         "y": [
          3,
          7,
          5,
          3,
          2,
          3,
          6,
          2,
          5,
          8,
          3,
          12,
          1
         ],
         "yaxis": "y"
        },
        {
         "hovertemplate": "commune=Herbeys<br>Année=%{x}<br>Nombre de naissances=%{y}<extra></extra>",
         "legendgroup": "Herbeys",
         "line": {
          "color": "#B6E880",
          "dash": "solid"
         },
         "marker": {
          "symbol": "circle"
         },
         "mode": "lines",
         "name": "Herbeys",
         "orientation": "v",
         "showlegend": true,
         "type": "scatter",
         "x": [
          2019,
          2018,
          2017,
          2016,
          2015,
          2014,
          2013,
          2012,
          2011,
          2010,
          2009,
          2008,
          2007
         ],
         "xaxis": "x",
         "y": [
          11,
          11,
          13,
          11,
          8,
          15,
          15,
          13,
          11,
          26,
          14,
          17,
          13
         ],
         "yaxis": "y"
        },
        {
         "hovertemplate": "commune=Quaix-en-Chartreuse<br>Année=%{x}<br>Nombre de naissances=%{y}<extra></extra>",
         "legendgroup": "Quaix-en-Chartreuse",
         "line": {
          "color": "#FF97FF",
          "dash": "solid"
         },
         "marker": {
          "symbol": "circle"
         },
         "mode": "lines",
         "name": "Quaix-en-Chartreuse",
         "orientation": "v",
         "showlegend": true,
         "type": "scatter",
         "x": [
          2019,
          2018,
          2017,
          2016,
          2015,
          2014,
          2013,
          2012,
          2011,
          2010,
          2009,
          2008,
          2007
         ],
         "xaxis": "x",
         "y": [
          12,
          8,
          8,
          10,
          12,
          4,
          10,
          3,
          11,
          7,
          8,
          8,
          11
         ],
         "yaxis": "y"
        },
        {
         "hovertemplate": "commune=Échirolles<br>Année=%{x}<br>Nombre de naissances=%{y}<extra></extra>",
         "legendgroup": "Échirolles",
         "line": {
          "color": "#FECB52",
          "dash": "solid"
         },
         "marker": {
          "symbol": "circle"
         },
         "mode": "lines",
         "name": "Échirolles",
         "orientation": "v",
         "showlegend": true,
         "type": "scatter",
         "x": [
          2019,
          2018,
          2017,
          2016,
          2015,
          2014,
          2013,
          2012,
          2011,
          2010,
          2009,
          2008,
          2007
         ],
         "xaxis": "x",
         "y": [
          514,
          535,
          598,
          569,
          534,
          588,
          572,
          572,
          550,
          617,
          553,
          547,
          553
         ],
         "yaxis": "y"
        },
        {
         "hovertemplate": "commune=Bresson<br>Année=%{x}<br>Nombre de naissances=%{y}<extra></extra>",
         "legendgroup": "Bresson",
         "line": {
          "color": "#636efa",
          "dash": "solid"
         },
         "marker": {
          "symbol": "circle"
         },
         "mode": "lines",
         "name": "Bresson",
         "orientation": "v",
         "showlegend": true,
         "type": "scatter",
         "x": [
          2019,
          2018,
          2017,
          2016,
          2015,
          2014,
          2013,
          2012,
          2011,
          2010,
          2009,
          2008,
          2007
         ],
         "xaxis": "x",
         "y": [
          8,
          3,
          4,
          6,
          6,
          7,
          4,
          7,
          4,
          1,
          4,
          5,
          9
         ],
         "yaxis": "y"
        },
        {
         "hovertemplate": "commune=Sassenage<br>Année=%{x}<br>Nombre de naissances=%{y}<extra></extra>",
         "legendgroup": "Sassenage",
         "line": {
          "color": "#EF553B",
          "dash": "solid"
         },
         "marker": {
          "symbol": "circle"
         },
         "mode": "lines",
         "name": "Sassenage",
         "orientation": "v",
         "showlegend": true,
         "type": "scatter",
         "x": [
          2019,
          2018,
          2017,
          2016,
          2015,
          2014,
          2013,
          2012,
          2011,
          2010,
          2009,
          2008,
          2007
         ],
         "xaxis": "x",
         "y": [
          98,
          110,
          129,
          114,
          140,
          143,
          160,
          146,
          158,
          182,
          140,
          158,
          134
         ],
         "yaxis": "y"
        },
        {
         "hovertemplate": "commune=Murianette<br>Année=%{x}<br>Nombre de naissances=%{y}<extra></extra>",
         "legendgroup": "Murianette",
         "line": {
          "color": "#00cc96",
          "dash": "solid"
         },
         "marker": {
          "symbol": "circle"
         },
         "mode": "lines",
         "name": "Murianette",
         "orientation": "v",
         "showlegend": true,
         "type": "scatter",
         "x": [
          2019,
          2018,
          2017,
          2016,
          2015,
          2014,
          2013,
          2012,
          2011,
          2010,
          2009,
          2008,
          2007
         ],
         "xaxis": "x",
         "y": [
          4,
          3,
          10,
          5,
          14,
          7,
          14,
          7,
          8,
          15,
          5,
          8,
          5
         ],
         "yaxis": "y"
        },
        {
         "hovertemplate": "commune=Vaulnaveys-le-Haut<br>Année=%{x}<br>Nombre de naissances=%{y}<extra></extra>",
         "legendgroup": "Vaulnaveys-le-Haut",
         "line": {
          "color": "#ab63fa",
          "dash": "solid"
         },
         "marker": {
          "symbol": "circle"
         },
         "mode": "lines",
         "name": "Vaulnaveys-le-Haut",
         "orientation": "v",
         "showlegend": true,
         "type": "scatter",
         "x": [
          2019,
          2018,
          2017,
          2016,
          2015,
          2014,
          2013,
          2012,
          2011,
          2010,
          2009,
          2008,
          2007
         ],
         "xaxis": "x",
         "y": [
          40,
          49,
          40,
          44,
          26,
          42,
          37,
          48,
          35,
          40,
          39,
          38,
          32
         ],
         "yaxis": "y"
        },
        {
         "hovertemplate": "commune=Domène<br>Année=%{x}<br>Nombre de naissances=%{y}<extra></extra>",
         "legendgroup": "Domène",
         "line": {
          "color": "#FFA15A",
          "dash": "solid"
         },
         "marker": {
          "symbol": "circle"
         },
         "mode": "lines",
         "name": "Domène",
         "orientation": "v",
         "showlegend": true,
         "type": "scatter",
         "x": [
          2019,
          2018,
          2017,
          2016,
          2015,
          2014,
          2013,
          2012,
          2011,
          2010,
          2009,
          2008,
          2007
         ],
         "xaxis": "x",
         "y": [
          73,
          61,
          69,
          79,
          92,
          73,
          74,
          85,
          84,
          95,
          85,
          75,
          96
         ],
         "yaxis": "y"
        },
        {
         "hovertemplate": "commune=Champ-sur-Drac<br>Année=%{x}<br>Nombre de naissances=%{y}<extra></extra>",
         "legendgroup": "Champ-sur-Drac",
         "line": {
          "color": "#19d3f3",
          "dash": "solid"
         },
         "marker": {
          "symbol": "circle"
         },
         "mode": "lines",
         "name": "Champ-sur-Drac",
         "orientation": "v",
         "showlegend": true,
         "type": "scatter",
         "x": [
          2019,
          2018,
          2017,
          2016,
          2015,
          2014,
          2013,
          2012,
          2011,
          2010,
          2009,
          2008,
          2007
         ],
         "xaxis": "x",
         "y": [
          36,
          16,
          23,
          35,
          18,
          22,
          28,
          41,
          33,
          33,
          26,
          29,
          27
         ],
         "yaxis": "y"
        },
        {
         "hovertemplate": "commune=Poisat<br>Année=%{x}<br>Nombre de naissances=%{y}<extra></extra>",
         "legendgroup": "Poisat",
         "line": {
          "color": "#FF6692",
          "dash": "solid"
         },
         "marker": {
          "symbol": "circle"
         },
         "mode": "lines",
         "name": "Poisat",
         "orientation": "v",
         "showlegend": true,
         "type": "scatter",
         "x": [
          2019,
          2018,
          2017,
          2016,
          2015,
          2014,
          2013,
          2012,
          2011,
          2010,
          2009,
          2008,
          2007
         ],
         "xaxis": "x",
         "y": [
          20,
          20,
          14,
          17,
          18,
          21,
          21,
          20,
          15,
          15,
          15,
          26,
          18
         ],
         "yaxis": "y"
        },
        {
         "hovertemplate": "commune=Meylan<br>Année=%{x}<br>Nombre de naissances=%{y}<extra></extra>",
         "legendgroup": "Meylan",
         "line": {
          "color": "#B6E880",
          "dash": "solid"
         },
         "marker": {
          "symbol": "circle"
         },
         "mode": "lines",
         "name": "Meylan",
         "orientation": "v",
         "showlegend": true,
         "type": "scatter",
         "x": [
          2019,
          2018,
          2017,
          2016,
          2015,
          2014,
          2013,
          2012,
          2011,
          2010,
          2009,
          2008,
          2007
         ],
         "xaxis": "x",
         "y": [
          170,
          176,
          177,
          169,
          139,
          135,
          176,
          152,
          162,
          179,
          173,
          159,
          168
         ],
         "yaxis": "y"
        },
        {
         "hovertemplate": "commune=Fontaine<br>Année=%{x}<br>Nombre de naissances=%{y}<extra></extra>",
         "legendgroup": "Fontaine",
         "line": {
          "color": "#FF97FF",
          "dash": "solid"
         },
         "marker": {
          "symbol": "circle"
         },
         "mode": "lines",
         "name": "Fontaine",
         "orientation": "v",
         "showlegend": true,
         "type": "scatter",
         "x": [
          2019,
          2018,
          2017,
          2016,
          2015,
          2014,
          2013,
          2012,
          2011,
          2010,
          2009,
          2008,
          2007
         ],
         "xaxis": "x",
         "y": [
          311,
          323,
          314,
          286,
          302,
          351,
          329,
          315,
          341,
          340,
          350,
          341,
          320
         ],
         "yaxis": "y"
        },
        {
         "hovertemplate": "commune=Séchilienne<br>Année=%{x}<br>Nombre de naissances=%{y}<extra></extra>",
         "legendgroup": "Séchilienne",
         "line": {
          "color": "#FECB52",
          "dash": "solid"
         },
         "marker": {
          "symbol": "circle"
         },
         "mode": "lines",
         "name": "Séchilienne",
         "orientation": "v",
         "showlegend": true,
         "type": "scatter",
         "x": [
          2019,
          2018,
          2017,
          2016,
          2015,
          2014,
          2013,
          2012,
          2011,
          2010,
          2009,
          2008,
          2007
         ],
         "xaxis": "x",
         "y": [
          8,
          13,
          11,
          7,
          16,
          8,
          16,
          7,
          13,
          13,
          12,
          10,
          4
         ],
         "yaxis": "y"
        },
        {
         "hovertemplate": "commune=Grenoble<br>Année=%{x}<br>Nombre de naissances=%{y}<extra></extra>",
         "legendgroup": "Grenoble",
         "line": {
          "color": "#636efa",
          "dash": "solid"
         },
         "marker": {
          "symbol": "circle"
         },
         "mode": "lines",
         "name": "Grenoble",
         "orientation": "v",
         "showlegend": true,
         "type": "scatter",
         "x": [
          2019,
          2018,
          2017,
          2016,
          2015,
          2014,
          2013,
          2012,
          2011,
          2010,
          2009,
          2008,
          2007
         ],
         "xaxis": "x",
         "y": [
          2057,
          2122,
          2222,
          2227,
          2308,
          2419,
          2367,
          2343,
          2359,
          2445,
          2344,
          2297,
          2311
         ],
         "yaxis": "y"
        },
        {
         "hovertemplate": "commune=Vif<br>Année=%{x}<br>Nombre de naissances=%{y}<extra></extra>",
         "legendgroup": "Vif",
         "line": {
          "color": "#EF553B",
          "dash": "solid"
         },
         "marker": {
          "symbol": "circle"
         },
         "mode": "lines",
         "name": "Vif",
         "orientation": "v",
         "showlegend": true,
         "type": "scatter",
         "x": [
          2019,
          2018,
          2017,
          2016,
          2015,
          2014,
          2013,
          2012,
          2011,
          2010,
          2009,
          2008,
          2007
         ],
         "xaxis": "x",
         "y": [
          79,
          80,
          96,
          83,
          101,
          77,
          90,
          70,
          66,
          74,
          82,
          95,
          84
         ],
         "yaxis": "y"
        },
        {
         "hovertemplate": "commune=Montchaboud<br>Année=%{x}<br>Nombre de naissances=%{y}<extra></extra>",
         "legendgroup": "Montchaboud",
         "line": {
          "color": "#00cc96",
          "dash": "solid"
         },
         "marker": {
          "symbol": "circle"
         },
         "mode": "lines",
         "name": "Montchaboud",
         "orientation": "v",
         "showlegend": true,
         "type": "scatter",
         "x": [
          2019,
          2018,
          2017,
          2016,
          2015,
          2014,
          2013,
          2012,
          2011,
          2010,
          2009,
          2008,
          2007
         ],
         "xaxis": "x",
         "y": [
          4,
          4,
          2,
          1,
          2,
          1,
          1,
          2,
          3,
          2,
          3,
          3,
          4
         ],
         "yaxis": "y"
        },
        {
         "hovertemplate": "commune=Brié-et-Angonnes<br>Année=%{x}<br>Nombre de naissances=%{y}<extra></extra>",
         "legendgroup": "Brié-et-Angonnes",
         "line": {
          "color": "#ab63fa",
          "dash": "solid"
         },
         "marker": {
          "symbol": "circle"
         },
         "mode": "lines",
         "name": "Brié-et-Angonnes",
         "orientation": "v",
         "showlegend": true,
         "type": "scatter",
         "x": [
          2019,
          2018,
          2017,
          2016,
          2015,
          2014,
          2013,
          2012,
          2011,
          2010,
          2009,
          2008,
          2007
         ],
         "xaxis": "x",
         "y": [
          16,
          17,
          26,
          18,
          21,
          24,
          22,
          18,
          25,
          20,
          14,
          26,
          20
         ],
         "yaxis": "y"
        },
        {
         "hovertemplate": "commune=Claix<br>Année=%{x}<br>Nombre de naissances=%{y}<extra></extra>",
         "legendgroup": "Claix",
         "line": {
          "color": "#FFA15A",
          "dash": "solid"
         },
         "marker": {
          "symbol": "circle"
         },
         "mode": "lines",
         "name": "Claix",
         "orientation": "v",
         "showlegend": true,
         "type": "scatter",
         "x": [
          2019,
          2018,
          2017,
          2016,
          2015,
          2014,
          2013,
          2012,
          2011,
          2010,
          2009,
          2008,
          2007
         ],
         "xaxis": "x",
         "y": [
          62,
          67,
          72,
          60,
          62,
          73,
          70,
          51,
          52,
          69,
          59,
          66,
          68
         ],
         "yaxis": "y"
        },
        {
         "hovertemplate": "commune=Corenc<br>Année=%{x}<br>Nombre de naissances=%{y}<extra></extra>",
         "legendgroup": "Corenc",
         "line": {
          "color": "#19d3f3",
          "dash": "solid"
         },
         "marker": {
          "symbol": "circle"
         },
         "mode": "lines",
         "name": "Corenc",
         "orientation": "v",
         "showlegend": true,
         "type": "scatter",
         "x": [
          2019,
          2018,
          2017,
          2016,
          2015,
          2014,
          2013,
          2012,
          2011,
          2010,
          2009,
          2008,
          2007
         ],
         "xaxis": "x",
         "y": [
          26,
          26,
          39,
          24,
          18,
          27,
          24,
          27,
          25,
          30,
          23,
          16,
          12
         ],
         "yaxis": "y"
        },
        {
         "hovertemplate": "commune=Saint-Paul-de-Varces<br>Année=%{x}<br>Nombre de naissances=%{y}<extra></extra>",
         "legendgroup": "Saint-Paul-de-Varces",
         "line": {
          "color": "#FF6692",
          "dash": "solid"
         },
         "marker": {
          "symbol": "circle"
         },
         "mode": "lines",
         "name": "Saint-Paul-de-Varces",
         "orientation": "v",
         "showlegend": true,
         "type": "scatter",
         "x": [
          2019,
          2018,
          2017,
          2016,
          2015,
          2014,
          2013,
          2012,
          2011,
          2010,
          2009,
          2008,
          2007
         ],
         "xaxis": "x",
         "y": [
          21,
          18,
          19,
          16,
          22,
          24,
          23,
          15,
          16,
          17,
          17,
          18,
          13
         ],
         "yaxis": "y"
        },
        {
         "hovertemplate": "commune=Venon<br>Année=%{x}<br>Nombre de naissances=%{y}<extra></extra>",
         "legendgroup": "Venon",
         "line": {
          "color": "#B6E880",
          "dash": "solid"
         },
         "marker": {
          "symbol": "circle"
         },
         "mode": "lines",
         "name": "Venon",
         "orientation": "v",
         "showlegend": true,
         "type": "scatter",
         "x": [
          2019,
          2018,
          2017,
          2016,
          2015,
          2014,
          2013,
          2012,
          2011,
          2010,
          2009,
          2008,
          2007
         ],
         "xaxis": "x",
         "y": [
          11,
          6,
          6,
          6,
          4,
          4,
          4,
          5,
          3,
          11,
          4,
          7,
          4
         ],
         "yaxis": "y"
        },
        {
         "hovertemplate": "commune=Le Pont-de-Claix<br>Année=%{x}<br>Nombre de naissances=%{y}<extra></extra>",
         "legendgroup": "Le Pont-de-Claix",
         "line": {
          "color": "#FF97FF",
          "dash": "solid"
         },
         "marker": {
          "symbol": "circle"
         },
         "mode": "lines",
         "name": "Le Pont-de-Claix",
         "orientation": "v",
         "showlegend": true,
         "type": "scatter",
         "x": [
          2019,
          2018,
          2017,
          2016,
          2015,
          2014,
          2013,
          2012,
          2011,
          2010,
          2009,
          2008,
          2007
         ],
         "xaxis": "x",
         "y": [
          132,
          157,
          142,
          146,
          161,
          164,
          180,
          186,
          170,
          162,
          193,
          155,
          205
         ],
         "yaxis": "y"
        }
       ],
       "layout": {
        "legend": {
         "title": {
          "text": "commune"
         },
         "tracegroupgap": 0
        },
        "template": {
         "data": {
          "bar": [
           {
            "error_x": {
             "color": "#2a3f5f"
            },
            "error_y": {
             "color": "#2a3f5f"
            },
            "marker": {
             "line": {
              "color": "#E5ECF6",
              "width": 0.5
             },
             "pattern": {
              "fillmode": "overlay",
              "size": 10,
              "solidity": 0.2
             }
            },
            "type": "bar"
           }
          ],
          "barpolar": [
           {
            "marker": {
             "line": {
              "color": "#E5ECF6",
              "width": 0.5
             },
             "pattern": {
              "fillmode": "overlay",
              "size": 10,
              "solidity": 0.2
             }
            },
            "type": "barpolar"
           }
          ],
          "carpet": [
           {
            "aaxis": {
             "endlinecolor": "#2a3f5f",
             "gridcolor": "white",
             "linecolor": "white",
             "minorgridcolor": "white",
             "startlinecolor": "#2a3f5f"
            },
            "baxis": {
             "endlinecolor": "#2a3f5f",
             "gridcolor": "white",
             "linecolor": "white",
             "minorgridcolor": "white",
             "startlinecolor": "#2a3f5f"
            },
            "type": "carpet"
           }
          ],
          "choropleth": [
           {
            "colorbar": {
             "outlinewidth": 0,
             "ticks": ""
            },
            "type": "choropleth"
           }
          ],
          "contour": [
           {
            "colorbar": {
             "outlinewidth": 0,
             "ticks": ""
            },
            "colorscale": [
             [
              0,
              "#0d0887"
             ],
             [
              0.1111111111111111,
              "#46039f"
             ],
             [
              0.2222222222222222,
              "#7201a8"
             ],
             [
              0.3333333333333333,
              "#9c179e"
             ],
             [
              0.4444444444444444,
              "#bd3786"
             ],
             [
              0.5555555555555556,
              "#d8576b"
             ],
             [
              0.6666666666666666,
              "#ed7953"
             ],
             [
              0.7777777777777778,
              "#fb9f3a"
             ],
             [
              0.8888888888888888,
              "#fdca26"
             ],
             [
              1,
              "#f0f921"
             ]
            ],
            "type": "contour"
           }
          ],
          "contourcarpet": [
           {
            "colorbar": {
             "outlinewidth": 0,
             "ticks": ""
            },
            "type": "contourcarpet"
           }
          ],
          "heatmap": [
           {
            "colorbar": {
             "outlinewidth": 0,
             "ticks": ""
            },
            "colorscale": [
             [
              0,
              "#0d0887"
             ],
             [
              0.1111111111111111,
              "#46039f"
             ],
             [
              0.2222222222222222,
              "#7201a8"
             ],
             [
              0.3333333333333333,
              "#9c179e"
             ],
             [
              0.4444444444444444,
              "#bd3786"
             ],
             [
              0.5555555555555556,
              "#d8576b"
             ],
             [
              0.6666666666666666,
              "#ed7953"
             ],
             [
              0.7777777777777778,
              "#fb9f3a"
             ],
             [
              0.8888888888888888,
              "#fdca26"
             ],
             [
              1,
              "#f0f921"
             ]
            ],
            "type": "heatmap"
           }
          ],
          "heatmapgl": [
           {
            "colorbar": {
             "outlinewidth": 0,
             "ticks": ""
            },
            "colorscale": [
             [
              0,
              "#0d0887"
             ],
             [
              0.1111111111111111,
              "#46039f"
             ],
             [
              0.2222222222222222,
              "#7201a8"
             ],
             [
              0.3333333333333333,
              "#9c179e"
             ],
             [
              0.4444444444444444,
              "#bd3786"
             ],
             [
              0.5555555555555556,
              "#d8576b"
             ],
             [
              0.6666666666666666,
              "#ed7953"
             ],
             [
              0.7777777777777778,
              "#fb9f3a"
             ],
             [
              0.8888888888888888,
              "#fdca26"
             ],
             [
              1,
              "#f0f921"
             ]
            ],
            "type": "heatmapgl"
           }
          ],
          "histogram": [
           {
            "marker": {
             "pattern": {
              "fillmode": "overlay",
              "size": 10,
              "solidity": 0.2
             }
            },
            "type": "histogram"
           }
          ],
          "histogram2d": [
           {
            "colorbar": {
             "outlinewidth": 0,
             "ticks": ""
            },
            "colorscale": [
             [
              0,
              "#0d0887"
             ],
             [
              0.1111111111111111,
              "#46039f"
             ],
             [
              0.2222222222222222,
              "#7201a8"
             ],
             [
              0.3333333333333333,
              "#9c179e"
             ],
             [
              0.4444444444444444,
              "#bd3786"
             ],
             [
              0.5555555555555556,
              "#d8576b"
             ],
             [
              0.6666666666666666,
              "#ed7953"
             ],
             [
              0.7777777777777778,
              "#fb9f3a"
             ],
             [
              0.8888888888888888,
              "#fdca26"
             ],
             [
              1,
              "#f0f921"
             ]
            ],
            "type": "histogram2d"
           }
          ],
          "histogram2dcontour": [
           {
            "colorbar": {
             "outlinewidth": 0,
             "ticks": ""
            },
            "colorscale": [
             [
              0,
              "#0d0887"
             ],
             [
              0.1111111111111111,
              "#46039f"
             ],
             [
              0.2222222222222222,
              "#7201a8"
             ],
             [
              0.3333333333333333,
              "#9c179e"
             ],
             [
              0.4444444444444444,
              "#bd3786"
             ],
             [
              0.5555555555555556,
              "#d8576b"
             ],
             [
              0.6666666666666666,
              "#ed7953"
             ],
             [
              0.7777777777777778,
              "#fb9f3a"
             ],
             [
              0.8888888888888888,
              "#fdca26"
             ],
             [
              1,
              "#f0f921"
             ]
            ],
            "type": "histogram2dcontour"
           }
          ],
          "mesh3d": [
           {
            "colorbar": {
             "outlinewidth": 0,
             "ticks": ""
            },
            "type": "mesh3d"
           }
          ],
          "parcoords": [
           {
            "line": {
             "colorbar": {
              "outlinewidth": 0,
              "ticks": ""
             }
            },
            "type": "parcoords"
           }
          ],
          "pie": [
           {
            "automargin": true,
            "type": "pie"
           }
          ],
          "scatter": [
           {
            "fillpattern": {
             "fillmode": "overlay",
             "size": 10,
             "solidity": 0.2
            },
            "type": "scatter"
           }
          ],
          "scatter3d": [
           {
            "line": {
             "colorbar": {
              "outlinewidth": 0,
              "ticks": ""
             }
            },
            "marker": {
             "colorbar": {
              "outlinewidth": 0,
              "ticks": ""
             }
            },
            "type": "scatter3d"
           }
          ],
          "scattercarpet": [
           {
            "marker": {
             "colorbar": {
              "outlinewidth": 0,
              "ticks": ""
             }
            },
            "type": "scattercarpet"
           }
          ],
          "scattergeo": [
           {
            "marker": {
             "colorbar": {
              "outlinewidth": 0,
              "ticks": ""
             }
            },
            "type": "scattergeo"
           }
          ],
          "scattergl": [
           {
            "marker": {
             "colorbar": {
              "outlinewidth": 0,
              "ticks": ""
             }
            },
            "type": "scattergl"
           }
          ],
          "scattermapbox": [
           {
            "marker": {
             "colorbar": {
              "outlinewidth": 0,
              "ticks": ""
             }
            },
            "type": "scattermapbox"
           }
          ],
          "scatterpolar": [
           {
            "marker": {
             "colorbar": {
              "outlinewidth": 0,
              "ticks": ""
             }
            },
            "type": "scatterpolar"
           }
          ],
          "scatterpolargl": [
           {
            "marker": {
             "colorbar": {
              "outlinewidth": 0,
              "ticks": ""
             }
            },
            "type": "scatterpolargl"
           }
          ],
          "scatterternary": [
           {
            "marker": {
             "colorbar": {
              "outlinewidth": 0,
              "ticks": ""
             }
            },
            "type": "scatterternary"
           }
          ],
          "surface": [
           {
            "colorbar": {
             "outlinewidth": 0,
             "ticks": ""
            },
            "colorscale": [
             [
              0,
              "#0d0887"
             ],
             [
              0.1111111111111111,
              "#46039f"
             ],
             [
              0.2222222222222222,
              "#7201a8"
             ],
             [
              0.3333333333333333,
              "#9c179e"
             ],
             [
              0.4444444444444444,
              "#bd3786"
             ],
             [
              0.5555555555555556,
              "#d8576b"
             ],
             [
              0.6666666666666666,
              "#ed7953"
             ],
             [
              0.7777777777777778,
              "#fb9f3a"
             ],
             [
              0.8888888888888888,
              "#fdca26"
             ],
             [
              1,
              "#f0f921"
             ]
            ],
            "type": "surface"
           }
          ],
          "table": [
           {
            "cells": {
             "fill": {
              "color": "#EBF0F8"
             },
             "line": {
              "color": "white"
             }
            },
            "header": {
             "fill": {
              "color": "#C8D4E3"
             },
             "line": {
              "color": "white"
             }
            },
            "type": "table"
           }
          ]
         },
         "layout": {
          "annotationdefaults": {
           "arrowcolor": "#2a3f5f",
           "arrowhead": 0,
           "arrowwidth": 1
          },
          "autotypenumbers": "strict",
          "coloraxis": {
           "colorbar": {
            "outlinewidth": 0,
            "ticks": ""
           }
          },
          "colorscale": {
           "diverging": [
            [
             0,
             "#8e0152"
            ],
            [
             0.1,
             "#c51b7d"
            ],
            [
             0.2,
             "#de77ae"
            ],
            [
             0.3,
             "#f1b6da"
            ],
            [
             0.4,
             "#fde0ef"
            ],
            [
             0.5,
             "#f7f7f7"
            ],
            [
             0.6,
             "#e6f5d0"
            ],
            [
             0.7,
             "#b8e186"
            ],
            [
             0.8,
             "#7fbc41"
            ],
            [
             0.9,
             "#4d9221"
            ],
            [
             1,
             "#276419"
            ]
           ],
           "sequential": [
            [
             0,
             "#0d0887"
            ],
            [
             0.1111111111111111,
             "#46039f"
            ],
            [
             0.2222222222222222,
             "#7201a8"
            ],
            [
             0.3333333333333333,
             "#9c179e"
            ],
            [
             0.4444444444444444,
             "#bd3786"
            ],
            [
             0.5555555555555556,
             "#d8576b"
            ],
            [
             0.6666666666666666,
             "#ed7953"
            ],
            [
             0.7777777777777778,
             "#fb9f3a"
            ],
            [
             0.8888888888888888,
             "#fdca26"
            ],
            [
             1,
             "#f0f921"
            ]
           ],
           "sequentialminus": [
            [
             0,
             "#0d0887"
            ],
            [
             0.1111111111111111,
             "#46039f"
            ],
            [
             0.2222222222222222,
             "#7201a8"
            ],
            [
             0.3333333333333333,
             "#9c179e"
            ],
            [
             0.4444444444444444,
             "#bd3786"
            ],
            [
             0.5555555555555556,
             "#d8576b"
            ],
            [
             0.6666666666666666,
             "#ed7953"
            ],
            [
             0.7777777777777778,
             "#fb9f3a"
            ],
            [
             0.8888888888888888,
             "#fdca26"
            ],
            [
             1,
             "#f0f921"
            ]
           ]
          },
          "colorway": [
           "#636efa",
           "#EF553B",
           "#00cc96",
           "#ab63fa",
           "#FFA15A",
           "#19d3f3",
           "#FF6692",
           "#B6E880",
           "#FF97FF",
           "#FECB52"
          ],
          "font": {
           "color": "#2a3f5f"
          },
          "geo": {
           "bgcolor": "white",
           "lakecolor": "white",
           "landcolor": "#E5ECF6",
           "showlakes": true,
           "showland": true,
           "subunitcolor": "white"
          },
          "hoverlabel": {
           "align": "left"
          },
          "hovermode": "closest",
          "mapbox": {
           "style": "light"
          },
          "paper_bgcolor": "white",
          "plot_bgcolor": "#E5ECF6",
          "polar": {
           "angularaxis": {
            "gridcolor": "white",
            "linecolor": "white",
            "ticks": ""
           },
           "bgcolor": "#E5ECF6",
           "radialaxis": {
            "gridcolor": "white",
            "linecolor": "white",
            "ticks": ""
           }
          },
          "scene": {
           "xaxis": {
            "backgroundcolor": "#E5ECF6",
            "gridcolor": "white",
            "gridwidth": 2,
            "linecolor": "white",
            "showbackground": true,
            "ticks": "",
            "zerolinecolor": "white"
           },
           "yaxis": {
            "backgroundcolor": "#E5ECF6",
            "gridcolor": "white",
            "gridwidth": 2,
            "linecolor": "white",
            "showbackground": true,
            "ticks": "",
            "zerolinecolor": "white"
           },
           "zaxis": {
            "backgroundcolor": "#E5ECF6",
            "gridcolor": "white",
            "gridwidth": 2,
            "linecolor": "white",
            "showbackground": true,
            "ticks": "",
            "zerolinecolor": "white"
           }
          },
          "shapedefaults": {
           "line": {
            "color": "#2a3f5f"
           }
          },
          "ternary": {
           "aaxis": {
            "gridcolor": "white",
            "linecolor": "white",
            "ticks": ""
           },
           "baxis": {
            "gridcolor": "white",
            "linecolor": "white",
            "ticks": ""
           },
           "bgcolor": "#E5ECF6",
           "caxis": {
            "gridcolor": "white",
            "linecolor": "white",
            "ticks": ""
           }
          },
          "title": {
           "x": 0.05
          },
          "xaxis": {
           "automargin": true,
           "gridcolor": "white",
           "linecolor": "white",
           "ticks": "",
           "title": {
            "standoff": 15
           },
           "zerolinecolor": "white",
           "zerolinewidth": 2
          },
          "yaxis": {
           "automargin": true,
           "gridcolor": "white",
           "linecolor": "white",
           "ticks": "",
           "title": {
            "standoff": 15
           },
           "zerolinecolor": "white",
           "zerolinewidth": 2
          }
         }
        },
        "title": {
         "text": "Evolution du nombre de naissances à Grenoble"
        },
        "xaxis": {
         "anchor": "y",
         "domain": [
          0,
          1
         ],
         "title": {
          "text": "Année"
         }
        },
        "yaxis": {
         "anchor": "x",
         "domain": [
          0,
          1
         ],
         "range": [
          0,
          3000
         ],
         "title": {
          "text": "Nombre de naissances"
         }
        }
       }
      },
      "text/html": [
       "<div>                            <div id=\"8aed0251-d4e4-4f1b-8312-cc9c5b662fe8\" class=\"plotly-graph-div\" style=\"height:525px; width:100%;\"></div>            <script type=\"text/javascript\">                require([\"plotly\"], function(Plotly) {                    window.PLOTLYENV=window.PLOTLYENV || {};                                    if (document.getElementById(\"8aed0251-d4e4-4f1b-8312-cc9c5b662fe8\")) {                    Plotly.newPlot(                        \"8aed0251-d4e4-4f1b-8312-cc9c5b662fe8\",                        [{\"hovertemplate\":\"commune=Vizille<br>Ann\\u00e9e=%{x}<br>Nombre de naissances=%{y}<extra></extra>\",\"legendgroup\":\"Vizille\",\"line\":{\"color\":\"#636efa\",\"dash\":\"solid\"},\"marker\":{\"symbol\":\"circle\"},\"mode\":\"lines\",\"name\":\"Vizille\",\"orientation\":\"v\",\"showlegend\":true,\"x\":[2019,2018,2017,2016,2015,2014,2013,2012,2011,2010,2009,2008,2007],\"xaxis\":\"x\",\"y\":[89,80,72,84,102,86,92,92,120,103,107,125,103],\"yaxis\":\"y\",\"type\":\"scatter\"},{\"hovertemplate\":\"commune=Notre-Dame-de-Commiers<br>Ann\\u00e9e=%{x}<br>Nombre de naissances=%{y}<extra></extra>\",\"legendgroup\":\"Notre-Dame-de-Commiers\",\"line\":{\"color\":\"#EF553B\",\"dash\":\"solid\"},\"marker\":{\"symbol\":\"circle\"},\"mode\":\"lines\",\"name\":\"Notre-Dame-de-Commiers\",\"orientation\":\"v\",\"showlegend\":true,\"x\":[2019,2018,2017,2016,2015,2014,2013,2012,2011,2010,2009,2008,2007],\"xaxis\":\"x\",\"y\":[5,5,5,12,6,9,4,6,6,3,5,10,10],\"yaxis\":\"y\",\"type\":\"scatter\"},{\"hovertemplate\":\"commune=Le Fontanil-Cornillon<br>Ann\\u00e9e=%{x}<br>Nombre de naissances=%{y}<extra></extra>\",\"legendgroup\":\"Le Fontanil-Cornillon\",\"line\":{\"color\":\"#00cc96\",\"dash\":\"solid\"},\"marker\":{\"symbol\":\"circle\"},\"mode\":\"lines\",\"name\":\"Le Fontanil-Cornillon\",\"orientation\":\"v\",\"showlegend\":true,\"x\":[2019,2018,2017,2016,2015,2014,2013,2012,2011,2010,2009,2008,2007],\"xaxis\":\"x\",\"y\":[42,40,24,32,28,32,24,37,45,26,37,44,38],\"yaxis\":\"y\",\"type\":\"scatter\"},{\"hovertemplate\":\"commune=Saint-Martin-le-Vinoux<br>Ann\\u00e9e=%{x}<br>Nombre de naissances=%{y}<extra></extra>\",\"legendgroup\":\"Saint-Martin-le-Vinoux\",\"line\":{\"color\":\"#ab63fa\",\"dash\":\"solid\"},\"marker\":{\"symbol\":\"circle\"},\"mode\":\"lines\",\"name\":\"Saint-Martin-le-Vinoux\",\"orientation\":\"v\",\"showlegend\":true,\"x\":[2019,2018,2017,2016,2015,2014,2013,2012,2011,2010,2009,2008,2007],\"xaxis\":\"x\",\"y\":[90,86,83,81,87,99,83,74,67,80,82,75,74],\"yaxis\":\"y\",\"type\":\"scatter\"},{\"hovertemplate\":\"commune=Seyssinet-Pariset<br>Ann\\u00e9e=%{x}<br>Nombre de naissances=%{y}<extra></extra>\",\"legendgroup\":\"Seyssinet-Pariset\",\"line\":{\"color\":\"#FFA15A\",\"dash\":\"solid\"},\"marker\":{\"symbol\":\"circle\"},\"mode\":\"lines\",\"name\":\"Seyssinet-Pariset\",\"orientation\":\"v\",\"showlegend\":true,\"x\":[2019,2018,2017,2016,2015,2014,2013,2012,2011,2010,2009,2008,2007],\"xaxis\":\"x\",\"y\":[120,120,133,146,143,156,162,154,141,174,166,151,166],\"yaxis\":\"y\",\"type\":\"scatter\"},{\"hovertemplate\":\"commune=Le Sappey-en-Chartreuse<br>Ann\\u00e9e=%{x}<br>Nombre de naissances=%{y}<extra></extra>\",\"legendgroup\":\"Le Sappey-en-Chartreuse\",\"line\":{\"color\":\"#19d3f3\",\"dash\":\"solid\"},\"marker\":{\"symbol\":\"circle\"},\"mode\":\"lines\",\"name\":\"Le Sappey-en-Chartreuse\",\"orientation\":\"v\",\"showlegend\":true,\"x\":[2019,2018,2017,2016,2015,2014,2013,2012,2011,2010,2009,2008,2007],\"xaxis\":\"x\",\"y\":[13,13,21,15,17,14,17,10,16,12,16,27,9],\"yaxis\":\"y\",\"type\":\"scatter\"},{\"hovertemplate\":\"commune=Saint-Georges-de-Commiers<br>Ann\\u00e9e=%{x}<br>Nombre de naissances=%{y}<extra></extra>\",\"legendgroup\":\"Saint-Georges-de-Commiers\",\"line\":{\"color\":\"#FF6692\",\"dash\":\"solid\"},\"marker\":{\"symbol\":\"circle\"},\"mode\":\"lines\",\"name\":\"Saint-Georges-de-Commiers\",\"orientation\":\"v\",\"showlegend\":true,\"x\":[2019,2018,2017,2016,2015,2014,2013,2012,2011,2010,2009,2008,2007],\"xaxis\":\"x\",\"y\":[22,19,26,23,15,21,29,19,20,12,26,26,13],\"yaxis\":\"y\",\"type\":\"scatter\"},{\"hovertemplate\":\"commune=Le Gua<br>Ann\\u00e9e=%{x}<br>Nombre de naissances=%{y}<extra></extra>\",\"legendgroup\":\"Le Gua\",\"line\":{\"color\":\"#B6E880\",\"dash\":\"solid\"},\"marker\":{\"symbol\":\"circle\"},\"mode\":\"lines\",\"name\":\"Le Gua\",\"orientation\":\"v\",\"showlegend\":true,\"x\":[2019,2018,2017,2016,2015,2014,2013,2012,2011,2010,2009,2008,2007],\"xaxis\":\"x\",\"y\":[12,22,18,14,18,19,16,17,16,17,25,21,16],\"yaxis\":\"y\",\"type\":\"scatter\"},{\"hovertemplate\":\"commune=Proveysieux<br>Ann\\u00e9e=%{x}<br>Nombre de naissances=%{y}<extra></extra>\",\"legendgroup\":\"Proveysieux\",\"line\":{\"color\":\"#FF97FF\",\"dash\":\"solid\"},\"marker\":{\"symbol\":\"circle\"},\"mode\":\"lines\",\"name\":\"Proveysieux\",\"orientation\":\"v\",\"showlegend\":true,\"x\":[2019,2018,2017,2016,2015,2014,2013,2012,2011,2010,2009,2008,2007],\"xaxis\":\"x\",\"y\":[8,4,6,7,3,10,6,11,4,6,6,10,13],\"yaxis\":\"y\",\"type\":\"scatter\"},{\"hovertemplate\":\"commune=Noyarey<br>Ann\\u00e9e=%{x}<br>Nombre de naissances=%{y}<extra></extra>\",\"legendgroup\":\"Noyarey\",\"line\":{\"color\":\"#FECB52\",\"dash\":\"solid\"},\"marker\":{\"symbol\":\"circle\"},\"mode\":\"lines\",\"name\":\"Noyarey\",\"orientation\":\"v\",\"showlegend\":true,\"x\":[2019,2018,2017,2016,2015,2014,2013,2012,2011,2010,2009,2008,2007],\"xaxis\":\"x\",\"y\":[26,28,14,27,22,19,18,20,26,22,16,25,28],\"yaxis\":\"y\",\"type\":\"scatter\"},{\"hovertemplate\":\"commune=Veurey-Voroize<br>Ann\\u00e9e=%{x}<br>Nombre de naissances=%{y}<extra></extra>\",\"legendgroup\":\"Veurey-Voroize\",\"line\":{\"color\":\"#636efa\",\"dash\":\"solid\"},\"marker\":{\"symbol\":\"circle\"},\"mode\":\"lines\",\"name\":\"Veurey-Voroize\",\"orientation\":\"v\",\"showlegend\":true,\"x\":[2019,2018,2017,2016,2015,2014,2013,2012,2011,2010,2009,2008,2007],\"xaxis\":\"x\",\"y\":[10,15,15,12,9,9,12,10,14,14,16,12,14],\"yaxis\":\"y\",\"type\":\"scatter\"},{\"hovertemplate\":\"commune=Saint-\\u00c9gr\\u00e8ve<br>Ann\\u00e9e=%{x}<br>Nombre de naissances=%{y}<extra></extra>\",\"legendgroup\":\"Saint-\\u00c9gr\\u00e8ve\",\"line\":{\"color\":\"#EF553B\",\"dash\":\"solid\"},\"marker\":{\"symbol\":\"circle\"},\"mode\":\"lines\",\"name\":\"Saint-\\u00c9gr\\u00e8ve\",\"orientation\":\"v\",\"showlegend\":true,\"x\":[2019,2018,2017,2016,2015,2014,2013,2012,2011,2010,2009,2008,2007],\"xaxis\":\"x\",\"y\":[182,203,183,182,159,179,171,195,198,210,209,218,212],\"yaxis\":\"y\",\"type\":\"scatter\"},{\"hovertemplate\":\"commune=Jarrie<br>Ann\\u00e9e=%{x}<br>Nombre de naissances=%{y}<extra></extra>\",\"legendgroup\":\"Jarrie\",\"line\":{\"color\":\"#00cc96\",\"dash\":\"solid\"},\"marker\":{\"symbol\":\"circle\"},\"mode\":\"lines\",\"name\":\"Jarrie\",\"orientation\":\"v\",\"showlegend\":true,\"x\":[2019,2018,2017,2016,2015,2014,2013,2012,2011,2010,2009,2008,2007],\"xaxis\":\"x\",\"y\":[35,33,36,35,38,44,36,45,32,33,40,34,47],\"yaxis\":\"y\",\"type\":\"scatter\"},{\"hovertemplate\":\"commune=Vaulnaveys-le-Bas<br>Ann\\u00e9e=%{x}<br>Nombre de naissances=%{y}<extra></extra>\",\"legendgroup\":\"Vaulnaveys-le-Bas\",\"line\":{\"color\":\"#ab63fa\",\"dash\":\"solid\"},\"marker\":{\"symbol\":\"circle\"},\"mode\":\"lines\",\"name\":\"Vaulnaveys-le-Bas\",\"orientation\":\"v\",\"showlegend\":true,\"x\":[2019,2018,2017,2016,2015,2014,2013,2012,2011,2010,2009,2008,2007],\"xaxis\":\"x\",\"y\":[13,5,9,14,17,8,17,15,11,9,13,9,11],\"yaxis\":\"y\",\"type\":\"scatter\"},{\"hovertemplate\":\"commune=Saint-Martin-d'H\\u00e8res<br>Ann\\u00e9e=%{x}<br>Nombre de naissances=%{y}<extra></extra>\",\"legendgroup\":\"Saint-Martin-d'H\\u00e8res\",\"line\":{\"color\":\"#FFA15A\",\"dash\":\"solid\"},\"marker\":{\"symbol\":\"circle\"},\"mode\":\"lines\",\"name\":\"Saint-Martin-d'H\\u00e8res\",\"orientation\":\"v\",\"showlegend\":true,\"x\":[2019,2018,2017,2016,2015,2014,2013,2012,2011,2010,2009,2008,2007],\"xaxis\":\"x\",\"y\":[402,448,465,515,513,603,515,544,549,581,558,543,457],\"yaxis\":\"y\",\"type\":\"scatter\"},{\"hovertemplate\":\"commune=Seyssins<br>Ann\\u00e9e=%{x}<br>Nombre de naissances=%{y}<extra></extra>\",\"legendgroup\":\"Seyssins\",\"line\":{\"color\":\"#19d3f3\",\"dash\":\"solid\"},\"marker\":{\"symbol\":\"circle\"},\"mode\":\"lines\",\"name\":\"Seyssins\",\"orientation\":\"v\",\"showlegend\":true,\"x\":[2019,2018,2017,2016,2015,2014,2013,2012,2011,2010,2009,2008,2007],\"xaxis\":\"x\",\"y\":[65,54,68,75,59,59,45,59,58,47,57,68,63],\"yaxis\":\"y\",\"type\":\"scatter\"},{\"hovertemplate\":\"commune=Varces-Alli\\u00e8res-et-Risset<br>Ann\\u00e9e=%{x}<br>Nombre de naissances=%{y}<extra></extra>\",\"legendgroup\":\"Varces-Alli\\u00e8res-et-Risset\",\"line\":{\"color\":\"#FF6692\",\"dash\":\"solid\"},\"marker\":{\"symbol\":\"circle\"},\"mode\":\"lines\",\"name\":\"Varces-Alli\\u00e8res-et-Risset\",\"orientation\":\"v\",\"showlegend\":true,\"x\":[2019,2018,2017,2016,2015,2014,2013,2012,2011,2010,2009,2008,2007],\"xaxis\":\"x\",\"y\":[78,82,86,70,88,81,73,88,75,58,59,82,56],\"yaxis\":\"y\",\"type\":\"scatter\"},{\"hovertemplate\":\"commune=Sarcenas<br>Ann\\u00e9e=%{x}<br>Nombre de naissances=%{y}<extra></extra>\",\"legendgroup\":\"Sarcenas\",\"line\":{\"color\":\"#B6E880\",\"dash\":\"solid\"},\"marker\":{\"symbol\":\"circle\"},\"mode\":\"lines\",\"name\":\"Sarcenas\",\"orientation\":\"v\",\"showlegend\":true,\"x\":[2019,2018,2017,2016,2015,2014,2013,2012,2011,2010,2009,2008,2007],\"xaxis\":\"x\",\"y\":[6,3,4,2,3,3,1,1,1,0,2,3,1],\"yaxis\":\"y\",\"type\":\"scatter\"},{\"hovertemplate\":\"commune=Saint-Pierre-de-M\\u00e9sage<br>Ann\\u00e9e=%{x}<br>Nombre de naissances=%{y}<extra></extra>\",\"legendgroup\":\"Saint-Pierre-de-M\\u00e9sage\",\"line\":{\"color\":\"#FF97FF\",\"dash\":\"solid\"},\"marker\":{\"symbol\":\"circle\"},\"mode\":\"lines\",\"name\":\"Saint-Pierre-de-M\\u00e9sage\",\"orientation\":\"v\",\"showlegend\":true,\"x\":[2019,2018,2017,2016,2015,2014,2013,2012,2011,2010,2009,2008,2007],\"xaxis\":\"x\",\"y\":[5,7,2,1,4,9,8,8,5,9,7,6,7],\"yaxis\":\"y\",\"type\":\"scatter\"},{\"hovertemplate\":\"commune=La Tronche<br>Ann\\u00e9e=%{x}<br>Nombre de naissances=%{y}<extra></extra>\",\"legendgroup\":\"La Tronche\",\"line\":{\"color\":\"#FECB52\",\"dash\":\"solid\"},\"marker\":{\"symbol\":\"circle\"},\"mode\":\"lines\",\"name\":\"La Tronche\",\"orientation\":\"v\",\"showlegend\":true,\"x\":[2019,2018,2017,2016,2015,2014,2013,2012,2011,2010,2009,2008,2007],\"xaxis\":\"x\",\"y\":[69,71,71,87,75,75,78,72,77,64,80,67,57],\"yaxis\":\"y\",\"type\":\"scatter\"},{\"hovertemplate\":\"commune=Notre-Dame-de-M\\u00e9sage<br>Ann\\u00e9e=%{x}<br>Nombre de naissances=%{y}<extra></extra>\",\"legendgroup\":\"Notre-Dame-de-M\\u00e9sage\",\"line\":{\"color\":\"#636efa\",\"dash\":\"solid\"},\"marker\":{\"symbol\":\"circle\"},\"mode\":\"lines\",\"name\":\"Notre-Dame-de-M\\u00e9sage\",\"orientation\":\"v\",\"showlegend\":true,\"x\":[2019,2018,2017,2016,2015,2014,2013,2012,2011,2010,2009,2008,2007],\"xaxis\":\"x\",\"y\":[5,9,4,3,4,16,4,11,7,11,5,16,15],\"yaxis\":\"y\",\"type\":\"scatter\"},{\"hovertemplate\":\"commune=Eybens<br>Ann\\u00e9e=%{x}<br>Nombre de naissances=%{y}<extra></extra>\",\"legendgroup\":\"Eybens\",\"line\":{\"color\":\"#EF553B\",\"dash\":\"solid\"},\"marker\":{\"symbol\":\"circle\"},\"mode\":\"lines\",\"name\":\"Eybens\",\"orientation\":\"v\",\"showlegend\":true,\"x\":[2019,2018,2017,2016,2015,2014,2013,2012,2011,2010,2009,2008,2007],\"xaxis\":\"x\",\"y\":[108,118,134,119,154,140,141,158,120,135,134,122,128],\"yaxis\":\"y\",\"type\":\"scatter\"},{\"hovertemplate\":\"commune=Champagnier<br>Ann\\u00e9e=%{x}<br>Nombre de naissances=%{y}<extra></extra>\",\"legendgroup\":\"Champagnier\",\"line\":{\"color\":\"#00cc96\",\"dash\":\"solid\"},\"marker\":{\"symbol\":\"circle\"},\"mode\":\"lines\",\"name\":\"Champagnier\",\"orientation\":\"v\",\"showlegend\":true,\"x\":[2019,2018,2017,2016,2015,2014,2013,2012,2011,2010,2009,2008,2007],\"xaxis\":\"x\",\"y\":[6,7,9,10,6,9,10,11,11,17,6,15,11],\"yaxis\":\"y\",\"type\":\"scatter\"},{\"hovertemplate\":\"commune=Mont-Saint-Martin<br>Ann\\u00e9e=%{x}<br>Nombre de naissances=%{y}<extra></extra>\",\"legendgroup\":\"Mont-Saint-Martin\",\"line\":{\"color\":\"#ab63fa\",\"dash\":\"solid\"},\"marker\":{\"symbol\":\"circle\"},\"mode\":\"lines\",\"name\":\"Mont-Saint-Martin\",\"orientation\":\"v\",\"showlegend\":true,\"x\":[2019,2018,2017,2016,2015,2014,2013,2012,2011,2010,2009,2008,2007],\"xaxis\":\"x\",\"y\":[3,1,3,0,1,0,1,2,2,0,2,0,0],\"yaxis\":\"y\",\"type\":\"scatter\"},{\"hovertemplate\":\"commune=Miribel-Lanch\\u00e2tre<br>Ann\\u00e9e=%{x}<br>Nombre de naissances=%{y}<extra></extra>\",\"legendgroup\":\"Miribel-Lanch\\u00e2tre\",\"line\":{\"color\":\"#FFA15A\",\"dash\":\"solid\"},\"marker\":{\"symbol\":\"circle\"},\"mode\":\"lines\",\"name\":\"Miribel-Lanch\\u00e2tre\",\"orientation\":\"v\",\"showlegend\":true,\"x\":[2019,2018,2017,2016,2015,2014,2013,2012,2011,2010,2009,2008,2007],\"xaxis\":\"x\",\"y\":[3,7,1,5,5,5,6,5,4,7,12,6,8],\"yaxis\":\"y\",\"type\":\"scatter\"},{\"hovertemplate\":\"commune=Gi\\u00e8res<br>Ann\\u00e9e=%{x}<br>Nombre de naissances=%{y}<extra></extra>\",\"legendgroup\":\"Gi\\u00e8res\",\"line\":{\"color\":\"#19d3f3\",\"dash\":\"solid\"},\"marker\":{\"symbol\":\"circle\"},\"mode\":\"lines\",\"name\":\"Gi\\u00e8res\",\"orientation\":\"v\",\"showlegend\":true,\"x\":[2019,2018,2017,2016,2015,2014,2013,2012,2011,2010,2009,2008,2007],\"xaxis\":\"x\",\"y\":[83,98,80,88,82,83,67,65,75,74,59,65,74],\"yaxis\":\"y\",\"type\":\"scatter\"},{\"hovertemplate\":\"commune=Saint-Barth\\u00e9lemy-de-S\\u00e9chilienne<br>Ann\\u00e9e=%{x}<br>Nombre de naissances=%{y}<extra></extra>\",\"legendgroup\":\"Saint-Barth\\u00e9lemy-de-S\\u00e9chilienne\",\"line\":{\"color\":\"#FF6692\",\"dash\":\"solid\"},\"marker\":{\"symbol\":\"circle\"},\"mode\":\"lines\",\"name\":\"Saint-Barth\\u00e9lemy-de-S\\u00e9chilienne\",\"orientation\":\"v\",\"showlegend\":true,\"x\":[2019,2018,2017,2016,2015,2014,2013,2012,2011,2010,2009,2008,2007],\"xaxis\":\"x\",\"y\":[3,7,5,3,2,3,6,2,5,8,3,12,1],\"yaxis\":\"y\",\"type\":\"scatter\"},{\"hovertemplate\":\"commune=Herbeys<br>Ann\\u00e9e=%{x}<br>Nombre de naissances=%{y}<extra></extra>\",\"legendgroup\":\"Herbeys\",\"line\":{\"color\":\"#B6E880\",\"dash\":\"solid\"},\"marker\":{\"symbol\":\"circle\"},\"mode\":\"lines\",\"name\":\"Herbeys\",\"orientation\":\"v\",\"showlegend\":true,\"x\":[2019,2018,2017,2016,2015,2014,2013,2012,2011,2010,2009,2008,2007],\"xaxis\":\"x\",\"y\":[11,11,13,11,8,15,15,13,11,26,14,17,13],\"yaxis\":\"y\",\"type\":\"scatter\"},{\"hovertemplate\":\"commune=Quaix-en-Chartreuse<br>Ann\\u00e9e=%{x}<br>Nombre de naissances=%{y}<extra></extra>\",\"legendgroup\":\"Quaix-en-Chartreuse\",\"line\":{\"color\":\"#FF97FF\",\"dash\":\"solid\"},\"marker\":{\"symbol\":\"circle\"},\"mode\":\"lines\",\"name\":\"Quaix-en-Chartreuse\",\"orientation\":\"v\",\"showlegend\":true,\"x\":[2019,2018,2017,2016,2015,2014,2013,2012,2011,2010,2009,2008,2007],\"xaxis\":\"x\",\"y\":[12,8,8,10,12,4,10,3,11,7,8,8,11],\"yaxis\":\"y\",\"type\":\"scatter\"},{\"hovertemplate\":\"commune=\\u00c9chirolles<br>Ann\\u00e9e=%{x}<br>Nombre de naissances=%{y}<extra></extra>\",\"legendgroup\":\"\\u00c9chirolles\",\"line\":{\"color\":\"#FECB52\",\"dash\":\"solid\"},\"marker\":{\"symbol\":\"circle\"},\"mode\":\"lines\",\"name\":\"\\u00c9chirolles\",\"orientation\":\"v\",\"showlegend\":true,\"x\":[2019,2018,2017,2016,2015,2014,2013,2012,2011,2010,2009,2008,2007],\"xaxis\":\"x\",\"y\":[514,535,598,569,534,588,572,572,550,617,553,547,553],\"yaxis\":\"y\",\"type\":\"scatter\"},{\"hovertemplate\":\"commune=Bresson<br>Ann\\u00e9e=%{x}<br>Nombre de naissances=%{y}<extra></extra>\",\"legendgroup\":\"Bresson\",\"line\":{\"color\":\"#636efa\",\"dash\":\"solid\"},\"marker\":{\"symbol\":\"circle\"},\"mode\":\"lines\",\"name\":\"Bresson\",\"orientation\":\"v\",\"showlegend\":true,\"x\":[2019,2018,2017,2016,2015,2014,2013,2012,2011,2010,2009,2008,2007],\"xaxis\":\"x\",\"y\":[8,3,4,6,6,7,4,7,4,1,4,5,9],\"yaxis\":\"y\",\"type\":\"scatter\"},{\"hovertemplate\":\"commune=Sassenage<br>Ann\\u00e9e=%{x}<br>Nombre de naissances=%{y}<extra></extra>\",\"legendgroup\":\"Sassenage\",\"line\":{\"color\":\"#EF553B\",\"dash\":\"solid\"},\"marker\":{\"symbol\":\"circle\"},\"mode\":\"lines\",\"name\":\"Sassenage\",\"orientation\":\"v\",\"showlegend\":true,\"x\":[2019,2018,2017,2016,2015,2014,2013,2012,2011,2010,2009,2008,2007],\"xaxis\":\"x\",\"y\":[98,110,129,114,140,143,160,146,158,182,140,158,134],\"yaxis\":\"y\",\"type\":\"scatter\"},{\"hovertemplate\":\"commune=Murianette<br>Ann\\u00e9e=%{x}<br>Nombre de naissances=%{y}<extra></extra>\",\"legendgroup\":\"Murianette\",\"line\":{\"color\":\"#00cc96\",\"dash\":\"solid\"},\"marker\":{\"symbol\":\"circle\"},\"mode\":\"lines\",\"name\":\"Murianette\",\"orientation\":\"v\",\"showlegend\":true,\"x\":[2019,2018,2017,2016,2015,2014,2013,2012,2011,2010,2009,2008,2007],\"xaxis\":\"x\",\"y\":[4,3,10,5,14,7,14,7,8,15,5,8,5],\"yaxis\":\"y\",\"type\":\"scatter\"},{\"hovertemplate\":\"commune=Vaulnaveys-le-Haut<br>Ann\\u00e9e=%{x}<br>Nombre de naissances=%{y}<extra></extra>\",\"legendgroup\":\"Vaulnaveys-le-Haut\",\"line\":{\"color\":\"#ab63fa\",\"dash\":\"solid\"},\"marker\":{\"symbol\":\"circle\"},\"mode\":\"lines\",\"name\":\"Vaulnaveys-le-Haut\",\"orientation\":\"v\",\"showlegend\":true,\"x\":[2019,2018,2017,2016,2015,2014,2013,2012,2011,2010,2009,2008,2007],\"xaxis\":\"x\",\"y\":[40,49,40,44,26,42,37,48,35,40,39,38,32],\"yaxis\":\"y\",\"type\":\"scatter\"},{\"hovertemplate\":\"commune=Dom\\u00e8ne<br>Ann\\u00e9e=%{x}<br>Nombre de naissances=%{y}<extra></extra>\",\"legendgroup\":\"Dom\\u00e8ne\",\"line\":{\"color\":\"#FFA15A\",\"dash\":\"solid\"},\"marker\":{\"symbol\":\"circle\"},\"mode\":\"lines\",\"name\":\"Dom\\u00e8ne\",\"orientation\":\"v\",\"showlegend\":true,\"x\":[2019,2018,2017,2016,2015,2014,2013,2012,2011,2010,2009,2008,2007],\"xaxis\":\"x\",\"y\":[73,61,69,79,92,73,74,85,84,95,85,75,96],\"yaxis\":\"y\",\"type\":\"scatter\"},{\"hovertemplate\":\"commune=Champ-sur-Drac<br>Ann\\u00e9e=%{x}<br>Nombre de naissances=%{y}<extra></extra>\",\"legendgroup\":\"Champ-sur-Drac\",\"line\":{\"color\":\"#19d3f3\",\"dash\":\"solid\"},\"marker\":{\"symbol\":\"circle\"},\"mode\":\"lines\",\"name\":\"Champ-sur-Drac\",\"orientation\":\"v\",\"showlegend\":true,\"x\":[2019,2018,2017,2016,2015,2014,2013,2012,2011,2010,2009,2008,2007],\"xaxis\":\"x\",\"y\":[36,16,23,35,18,22,28,41,33,33,26,29,27],\"yaxis\":\"y\",\"type\":\"scatter\"},{\"hovertemplate\":\"commune=Poisat<br>Ann\\u00e9e=%{x}<br>Nombre de naissances=%{y}<extra></extra>\",\"legendgroup\":\"Poisat\",\"line\":{\"color\":\"#FF6692\",\"dash\":\"solid\"},\"marker\":{\"symbol\":\"circle\"},\"mode\":\"lines\",\"name\":\"Poisat\",\"orientation\":\"v\",\"showlegend\":true,\"x\":[2019,2018,2017,2016,2015,2014,2013,2012,2011,2010,2009,2008,2007],\"xaxis\":\"x\",\"y\":[20,20,14,17,18,21,21,20,15,15,15,26,18],\"yaxis\":\"y\",\"type\":\"scatter\"},{\"hovertemplate\":\"commune=Meylan<br>Ann\\u00e9e=%{x}<br>Nombre de naissances=%{y}<extra></extra>\",\"legendgroup\":\"Meylan\",\"line\":{\"color\":\"#B6E880\",\"dash\":\"solid\"},\"marker\":{\"symbol\":\"circle\"},\"mode\":\"lines\",\"name\":\"Meylan\",\"orientation\":\"v\",\"showlegend\":true,\"x\":[2019,2018,2017,2016,2015,2014,2013,2012,2011,2010,2009,2008,2007],\"xaxis\":\"x\",\"y\":[170,176,177,169,139,135,176,152,162,179,173,159,168],\"yaxis\":\"y\",\"type\":\"scatter\"},{\"hovertemplate\":\"commune=Fontaine<br>Ann\\u00e9e=%{x}<br>Nombre de naissances=%{y}<extra></extra>\",\"legendgroup\":\"Fontaine\",\"line\":{\"color\":\"#FF97FF\",\"dash\":\"solid\"},\"marker\":{\"symbol\":\"circle\"},\"mode\":\"lines\",\"name\":\"Fontaine\",\"orientation\":\"v\",\"showlegend\":true,\"x\":[2019,2018,2017,2016,2015,2014,2013,2012,2011,2010,2009,2008,2007],\"xaxis\":\"x\",\"y\":[311,323,314,286,302,351,329,315,341,340,350,341,320],\"yaxis\":\"y\",\"type\":\"scatter\"},{\"hovertemplate\":\"commune=S\\u00e9chilienne<br>Ann\\u00e9e=%{x}<br>Nombre de naissances=%{y}<extra></extra>\",\"legendgroup\":\"S\\u00e9chilienne\",\"line\":{\"color\":\"#FECB52\",\"dash\":\"solid\"},\"marker\":{\"symbol\":\"circle\"},\"mode\":\"lines\",\"name\":\"S\\u00e9chilienne\",\"orientation\":\"v\",\"showlegend\":true,\"x\":[2019,2018,2017,2016,2015,2014,2013,2012,2011,2010,2009,2008,2007],\"xaxis\":\"x\",\"y\":[8,13,11,7,16,8,16,7,13,13,12,10,4],\"yaxis\":\"y\",\"type\":\"scatter\"},{\"hovertemplate\":\"commune=Grenoble<br>Ann\\u00e9e=%{x}<br>Nombre de naissances=%{y}<extra></extra>\",\"legendgroup\":\"Grenoble\",\"line\":{\"color\":\"#636efa\",\"dash\":\"solid\"},\"marker\":{\"symbol\":\"circle\"},\"mode\":\"lines\",\"name\":\"Grenoble\",\"orientation\":\"v\",\"showlegend\":true,\"x\":[2019,2018,2017,2016,2015,2014,2013,2012,2011,2010,2009,2008,2007],\"xaxis\":\"x\",\"y\":[2057,2122,2222,2227,2308,2419,2367,2343,2359,2445,2344,2297,2311],\"yaxis\":\"y\",\"type\":\"scatter\"},{\"hovertemplate\":\"commune=Vif<br>Ann\\u00e9e=%{x}<br>Nombre de naissances=%{y}<extra></extra>\",\"legendgroup\":\"Vif\",\"line\":{\"color\":\"#EF553B\",\"dash\":\"solid\"},\"marker\":{\"symbol\":\"circle\"},\"mode\":\"lines\",\"name\":\"Vif\",\"orientation\":\"v\",\"showlegend\":true,\"x\":[2019,2018,2017,2016,2015,2014,2013,2012,2011,2010,2009,2008,2007],\"xaxis\":\"x\",\"y\":[79,80,96,83,101,77,90,70,66,74,82,95,84],\"yaxis\":\"y\",\"type\":\"scatter\"},{\"hovertemplate\":\"commune=Montchaboud<br>Ann\\u00e9e=%{x}<br>Nombre de naissances=%{y}<extra></extra>\",\"legendgroup\":\"Montchaboud\",\"line\":{\"color\":\"#00cc96\",\"dash\":\"solid\"},\"marker\":{\"symbol\":\"circle\"},\"mode\":\"lines\",\"name\":\"Montchaboud\",\"orientation\":\"v\",\"showlegend\":true,\"x\":[2019,2018,2017,2016,2015,2014,2013,2012,2011,2010,2009,2008,2007],\"xaxis\":\"x\",\"y\":[4,4,2,1,2,1,1,2,3,2,3,3,4],\"yaxis\":\"y\",\"type\":\"scatter\"},{\"hovertemplate\":\"commune=Bri\\u00e9-et-Angonnes<br>Ann\\u00e9e=%{x}<br>Nombre de naissances=%{y}<extra></extra>\",\"legendgroup\":\"Bri\\u00e9-et-Angonnes\",\"line\":{\"color\":\"#ab63fa\",\"dash\":\"solid\"},\"marker\":{\"symbol\":\"circle\"},\"mode\":\"lines\",\"name\":\"Bri\\u00e9-et-Angonnes\",\"orientation\":\"v\",\"showlegend\":true,\"x\":[2019,2018,2017,2016,2015,2014,2013,2012,2011,2010,2009,2008,2007],\"xaxis\":\"x\",\"y\":[16,17,26,18,21,24,22,18,25,20,14,26,20],\"yaxis\":\"y\",\"type\":\"scatter\"},{\"hovertemplate\":\"commune=Claix<br>Ann\\u00e9e=%{x}<br>Nombre de naissances=%{y}<extra></extra>\",\"legendgroup\":\"Claix\",\"line\":{\"color\":\"#FFA15A\",\"dash\":\"solid\"},\"marker\":{\"symbol\":\"circle\"},\"mode\":\"lines\",\"name\":\"Claix\",\"orientation\":\"v\",\"showlegend\":true,\"x\":[2019,2018,2017,2016,2015,2014,2013,2012,2011,2010,2009,2008,2007],\"xaxis\":\"x\",\"y\":[62,67,72,60,62,73,70,51,52,69,59,66,68],\"yaxis\":\"y\",\"type\":\"scatter\"},{\"hovertemplate\":\"commune=Corenc<br>Ann\\u00e9e=%{x}<br>Nombre de naissances=%{y}<extra></extra>\",\"legendgroup\":\"Corenc\",\"line\":{\"color\":\"#19d3f3\",\"dash\":\"solid\"},\"marker\":{\"symbol\":\"circle\"},\"mode\":\"lines\",\"name\":\"Corenc\",\"orientation\":\"v\",\"showlegend\":true,\"x\":[2019,2018,2017,2016,2015,2014,2013,2012,2011,2010,2009,2008,2007],\"xaxis\":\"x\",\"y\":[26,26,39,24,18,27,24,27,25,30,23,16,12],\"yaxis\":\"y\",\"type\":\"scatter\"},{\"hovertemplate\":\"commune=Saint-Paul-de-Varces<br>Ann\\u00e9e=%{x}<br>Nombre de naissances=%{y}<extra></extra>\",\"legendgroup\":\"Saint-Paul-de-Varces\",\"line\":{\"color\":\"#FF6692\",\"dash\":\"solid\"},\"marker\":{\"symbol\":\"circle\"},\"mode\":\"lines\",\"name\":\"Saint-Paul-de-Varces\",\"orientation\":\"v\",\"showlegend\":true,\"x\":[2019,2018,2017,2016,2015,2014,2013,2012,2011,2010,2009,2008,2007],\"xaxis\":\"x\",\"y\":[21,18,19,16,22,24,23,15,16,17,17,18,13],\"yaxis\":\"y\",\"type\":\"scatter\"},{\"hovertemplate\":\"commune=Venon<br>Ann\\u00e9e=%{x}<br>Nombre de naissances=%{y}<extra></extra>\",\"legendgroup\":\"Venon\",\"line\":{\"color\":\"#B6E880\",\"dash\":\"solid\"},\"marker\":{\"symbol\":\"circle\"},\"mode\":\"lines\",\"name\":\"Venon\",\"orientation\":\"v\",\"showlegend\":true,\"x\":[2019,2018,2017,2016,2015,2014,2013,2012,2011,2010,2009,2008,2007],\"xaxis\":\"x\",\"y\":[11,6,6,6,4,4,4,5,3,11,4,7,4],\"yaxis\":\"y\",\"type\":\"scatter\"},{\"hovertemplate\":\"commune=Le Pont-de-Claix<br>Ann\\u00e9e=%{x}<br>Nombre de naissances=%{y}<extra></extra>\",\"legendgroup\":\"Le Pont-de-Claix\",\"line\":{\"color\":\"#FF97FF\",\"dash\":\"solid\"},\"marker\":{\"symbol\":\"circle\"},\"mode\":\"lines\",\"name\":\"Le Pont-de-Claix\",\"orientation\":\"v\",\"showlegend\":true,\"x\":[2019,2018,2017,2016,2015,2014,2013,2012,2011,2010,2009,2008,2007],\"xaxis\":\"x\",\"y\":[132,157,142,146,161,164,180,186,170,162,193,155,205],\"yaxis\":\"y\",\"type\":\"scatter\"}],                        {\"template\":{\"data\":{\"histogram2dcontour\":[{\"type\":\"histogram2dcontour\",\"colorbar\":{\"outlinewidth\":0,\"ticks\":\"\"},\"colorscale\":[[0.0,\"#0d0887\"],[0.1111111111111111,\"#46039f\"],[0.2222222222222222,\"#7201a8\"],[0.3333333333333333,\"#9c179e\"],[0.4444444444444444,\"#bd3786\"],[0.5555555555555556,\"#d8576b\"],[0.6666666666666666,\"#ed7953\"],[0.7777777777777778,\"#fb9f3a\"],[0.8888888888888888,\"#fdca26\"],[1.0,\"#f0f921\"]]}],\"choropleth\":[{\"type\":\"choropleth\",\"colorbar\":{\"outlinewidth\":0,\"ticks\":\"\"}}],\"histogram2d\":[{\"type\":\"histogram2d\",\"colorbar\":{\"outlinewidth\":0,\"ticks\":\"\"},\"colorscale\":[[0.0,\"#0d0887\"],[0.1111111111111111,\"#46039f\"],[0.2222222222222222,\"#7201a8\"],[0.3333333333333333,\"#9c179e\"],[0.4444444444444444,\"#bd3786\"],[0.5555555555555556,\"#d8576b\"],[0.6666666666666666,\"#ed7953\"],[0.7777777777777778,\"#fb9f3a\"],[0.8888888888888888,\"#fdca26\"],[1.0,\"#f0f921\"]]}],\"heatmap\":[{\"type\":\"heatmap\",\"colorbar\":{\"outlinewidth\":0,\"ticks\":\"\"},\"colorscale\":[[0.0,\"#0d0887\"],[0.1111111111111111,\"#46039f\"],[0.2222222222222222,\"#7201a8\"],[0.3333333333333333,\"#9c179e\"],[0.4444444444444444,\"#bd3786\"],[0.5555555555555556,\"#d8576b\"],[0.6666666666666666,\"#ed7953\"],[0.7777777777777778,\"#fb9f3a\"],[0.8888888888888888,\"#fdca26\"],[1.0,\"#f0f921\"]]}],\"heatmapgl\":[{\"type\":\"heatmapgl\",\"colorbar\":{\"outlinewidth\":0,\"ticks\":\"\"},\"colorscale\":[[0.0,\"#0d0887\"],[0.1111111111111111,\"#46039f\"],[0.2222222222222222,\"#7201a8\"],[0.3333333333333333,\"#9c179e\"],[0.4444444444444444,\"#bd3786\"],[0.5555555555555556,\"#d8576b\"],[0.6666666666666666,\"#ed7953\"],[0.7777777777777778,\"#fb9f3a\"],[0.8888888888888888,\"#fdca26\"],[1.0,\"#f0f921\"]]}],\"contourcarpet\":[{\"type\":\"contourcarpet\",\"colorbar\":{\"outlinewidth\":0,\"ticks\":\"\"}}],\"contour\":[{\"type\":\"contour\",\"colorbar\":{\"outlinewidth\":0,\"ticks\":\"\"},\"colorscale\":[[0.0,\"#0d0887\"],[0.1111111111111111,\"#46039f\"],[0.2222222222222222,\"#7201a8\"],[0.3333333333333333,\"#9c179e\"],[0.4444444444444444,\"#bd3786\"],[0.5555555555555556,\"#d8576b\"],[0.6666666666666666,\"#ed7953\"],[0.7777777777777778,\"#fb9f3a\"],[0.8888888888888888,\"#fdca26\"],[1.0,\"#f0f921\"]]}],\"surface\":[{\"type\":\"surface\",\"colorbar\":{\"outlinewidth\":0,\"ticks\":\"\"},\"colorscale\":[[0.0,\"#0d0887\"],[0.1111111111111111,\"#46039f\"],[0.2222222222222222,\"#7201a8\"],[0.3333333333333333,\"#9c179e\"],[0.4444444444444444,\"#bd3786\"],[0.5555555555555556,\"#d8576b\"],[0.6666666666666666,\"#ed7953\"],[0.7777777777777778,\"#fb9f3a\"],[0.8888888888888888,\"#fdca26\"],[1.0,\"#f0f921\"]]}],\"mesh3d\":[{\"type\":\"mesh3d\",\"colorbar\":{\"outlinewidth\":0,\"ticks\":\"\"}}],\"scatter\":[{\"fillpattern\":{\"fillmode\":\"overlay\",\"size\":10,\"solidity\":0.2},\"type\":\"scatter\"}],\"parcoords\":[{\"type\":\"parcoords\",\"line\":{\"colorbar\":{\"outlinewidth\":0,\"ticks\":\"\"}}}],\"scatterpolargl\":[{\"type\":\"scatterpolargl\",\"marker\":{\"colorbar\":{\"outlinewidth\":0,\"ticks\":\"\"}}}],\"bar\":[{\"error_x\":{\"color\":\"#2a3f5f\"},\"error_y\":{\"color\":\"#2a3f5f\"},\"marker\":{\"line\":{\"color\":\"#E5ECF6\",\"width\":0.5},\"pattern\":{\"fillmode\":\"overlay\",\"size\":10,\"solidity\":0.2}},\"type\":\"bar\"}],\"scattergeo\":[{\"type\":\"scattergeo\",\"marker\":{\"colorbar\":{\"outlinewidth\":0,\"ticks\":\"\"}}}],\"scatterpolar\":[{\"type\":\"scatterpolar\",\"marker\":{\"colorbar\":{\"outlinewidth\":0,\"ticks\":\"\"}}}],\"histogram\":[{\"marker\":{\"pattern\":{\"fillmode\":\"overlay\",\"size\":10,\"solidity\":0.2}},\"type\":\"histogram\"}],\"scattergl\":[{\"type\":\"scattergl\",\"marker\":{\"colorbar\":{\"outlinewidth\":0,\"ticks\":\"\"}}}],\"scatter3d\":[{\"type\":\"scatter3d\",\"line\":{\"colorbar\":{\"outlinewidth\":0,\"ticks\":\"\"}},\"marker\":{\"colorbar\":{\"outlinewidth\":0,\"ticks\":\"\"}}}],\"scattermapbox\":[{\"type\":\"scattermapbox\",\"marker\":{\"colorbar\":{\"outlinewidth\":0,\"ticks\":\"\"}}}],\"scatterternary\":[{\"type\":\"scatterternary\",\"marker\":{\"colorbar\":{\"outlinewidth\":0,\"ticks\":\"\"}}}],\"scattercarpet\":[{\"type\":\"scattercarpet\",\"marker\":{\"colorbar\":{\"outlinewidth\":0,\"ticks\":\"\"}}}],\"carpet\":[{\"aaxis\":{\"endlinecolor\":\"#2a3f5f\",\"gridcolor\":\"white\",\"linecolor\":\"white\",\"minorgridcolor\":\"white\",\"startlinecolor\":\"#2a3f5f\"},\"baxis\":{\"endlinecolor\":\"#2a3f5f\",\"gridcolor\":\"white\",\"linecolor\":\"white\",\"minorgridcolor\":\"white\",\"startlinecolor\":\"#2a3f5f\"},\"type\":\"carpet\"}],\"table\":[{\"cells\":{\"fill\":{\"color\":\"#EBF0F8\"},\"line\":{\"color\":\"white\"}},\"header\":{\"fill\":{\"color\":\"#C8D4E3\"},\"line\":{\"color\":\"white\"}},\"type\":\"table\"}],\"barpolar\":[{\"marker\":{\"line\":{\"color\":\"#E5ECF6\",\"width\":0.5},\"pattern\":{\"fillmode\":\"overlay\",\"size\":10,\"solidity\":0.2}},\"type\":\"barpolar\"}],\"pie\":[{\"automargin\":true,\"type\":\"pie\"}]},\"layout\":{\"autotypenumbers\":\"strict\",\"colorway\":[\"#636efa\",\"#EF553B\",\"#00cc96\",\"#ab63fa\",\"#FFA15A\",\"#19d3f3\",\"#FF6692\",\"#B6E880\",\"#FF97FF\",\"#FECB52\"],\"font\":{\"color\":\"#2a3f5f\"},\"hovermode\":\"closest\",\"hoverlabel\":{\"align\":\"left\"},\"paper_bgcolor\":\"white\",\"plot_bgcolor\":\"#E5ECF6\",\"polar\":{\"bgcolor\":\"#E5ECF6\",\"angularaxis\":{\"gridcolor\":\"white\",\"linecolor\":\"white\",\"ticks\":\"\"},\"radialaxis\":{\"gridcolor\":\"white\",\"linecolor\":\"white\",\"ticks\":\"\"}},\"ternary\":{\"bgcolor\":\"#E5ECF6\",\"aaxis\":{\"gridcolor\":\"white\",\"linecolor\":\"white\",\"ticks\":\"\"},\"baxis\":{\"gridcolor\":\"white\",\"linecolor\":\"white\",\"ticks\":\"\"},\"caxis\":{\"gridcolor\":\"white\",\"linecolor\":\"white\",\"ticks\":\"\"}},\"coloraxis\":{\"colorbar\":{\"outlinewidth\":0,\"ticks\":\"\"}},\"colorscale\":{\"sequential\":[[0.0,\"#0d0887\"],[0.1111111111111111,\"#46039f\"],[0.2222222222222222,\"#7201a8\"],[0.3333333333333333,\"#9c179e\"],[0.4444444444444444,\"#bd3786\"],[0.5555555555555556,\"#d8576b\"],[0.6666666666666666,\"#ed7953\"],[0.7777777777777778,\"#fb9f3a\"],[0.8888888888888888,\"#fdca26\"],[1.0,\"#f0f921\"]],\"sequentialminus\":[[0.0,\"#0d0887\"],[0.1111111111111111,\"#46039f\"],[0.2222222222222222,\"#7201a8\"],[0.3333333333333333,\"#9c179e\"],[0.4444444444444444,\"#bd3786\"],[0.5555555555555556,\"#d8576b\"],[0.6666666666666666,\"#ed7953\"],[0.7777777777777778,\"#fb9f3a\"],[0.8888888888888888,\"#fdca26\"],[1.0,\"#f0f921\"]],\"diverging\":[[0,\"#8e0152\"],[0.1,\"#c51b7d\"],[0.2,\"#de77ae\"],[0.3,\"#f1b6da\"],[0.4,\"#fde0ef\"],[0.5,\"#f7f7f7\"],[0.6,\"#e6f5d0\"],[0.7,\"#b8e186\"],[0.8,\"#7fbc41\"],[0.9,\"#4d9221\"],[1,\"#276419\"]]},\"xaxis\":{\"gridcolor\":\"white\",\"linecolor\":\"white\",\"ticks\":\"\",\"title\":{\"standoff\":15},\"zerolinecolor\":\"white\",\"automargin\":true,\"zerolinewidth\":2},\"yaxis\":{\"gridcolor\":\"white\",\"linecolor\":\"white\",\"ticks\":\"\",\"title\":{\"standoff\":15},\"zerolinecolor\":\"white\",\"automargin\":true,\"zerolinewidth\":2},\"scene\":{\"xaxis\":{\"backgroundcolor\":\"#E5ECF6\",\"gridcolor\":\"white\",\"linecolor\":\"white\",\"showbackground\":true,\"ticks\":\"\",\"zerolinecolor\":\"white\",\"gridwidth\":2},\"yaxis\":{\"backgroundcolor\":\"#E5ECF6\",\"gridcolor\":\"white\",\"linecolor\":\"white\",\"showbackground\":true,\"ticks\":\"\",\"zerolinecolor\":\"white\",\"gridwidth\":2},\"zaxis\":{\"backgroundcolor\":\"#E5ECF6\",\"gridcolor\":\"white\",\"linecolor\":\"white\",\"showbackground\":true,\"ticks\":\"\",\"zerolinecolor\":\"white\",\"gridwidth\":2}},\"shapedefaults\":{\"line\":{\"color\":\"#2a3f5f\"}},\"annotationdefaults\":{\"arrowcolor\":\"#2a3f5f\",\"arrowhead\":0,\"arrowwidth\":1},\"geo\":{\"bgcolor\":\"white\",\"landcolor\":\"#E5ECF6\",\"subunitcolor\":\"white\",\"showland\":true,\"showlakes\":true,\"lakecolor\":\"white\"},\"title\":{\"x\":0.05},\"mapbox\":{\"style\":\"light\"}}},\"xaxis\":{\"anchor\":\"y\",\"domain\":[0.0,1.0],\"title\":{\"text\":\"Ann\\u00e9e\"}},\"yaxis\":{\"anchor\":\"x\",\"domain\":[0.0,1.0],\"title\":{\"text\":\"Nombre de naissances\"},\"range\":[0,3000]},\"legend\":{\"title\":{\"text\":\"commune\"},\"tracegroupgap\":0},\"title\":{\"text\":\"Evolution du nombre de naissances \\u00e0 Grenoble\"}},                        {\"responsive\": true}                    ).then(function(){\n",
       "                            \n",
       "var gd = document.getElementById('8aed0251-d4e4-4f1b-8312-cc9c5b662fe8');\n",
       "var x = new MutationObserver(function (mutations, observer) {{\n",
       "        var display = window.getComputedStyle(gd).display;\n",
       "        if (!display || display === 'none') {{\n",
       "            console.log([gd, 'removed!']);\n",
       "            Plotly.purge(gd);\n",
       "            observer.disconnect();\n",
       "        }}\n",
       "}});\n",
       "\n",
       "// Listen for the removal of the full notebook cells\n",
       "var notebookContainer = gd.closest('#notebook-container');\n",
       "if (notebookContainer) {{\n",
       "    x.observe(notebookContainer, {childList: true});\n",
       "}}\n",
       "\n",
       "// Listen for the clearing of the current output cell\n",
       "var outputEl = gd.closest('.output');\n",
       "if (outputEl) {{\n",
       "    x.observe(outputEl, {childList: true});\n",
       "}}\n",
       "\n",
       "                        })                };                });            </script>        </div>"
      ]
     },
     "metadata": {},
     "output_type": "display_data"
    }
   ],
   "source": [
    "fig = px.line(data_pop, x=\"annee\", y=\"nombre_naissances\",\n",
    "              color=\"commune\", #couleur selon la variable \"commune\"\n",
    "             title=\"Evolution du nombre de naissances à Grenoble\",\n",
    "             labels={\"annee\":\"Année\",\"nombre_naissances\":\"Nombre de naissances\"})\n",
    "fig.update_layout(yaxis_range=[0,3000])\n",
    "fig.show()"
   ]
  },
  {
   "cell_type": "code",
   "execution_count": 11,
   "id": "05604777",
   "metadata": {
    "scrolled": true
   },
   "outputs": [
    {
     "data": {
      "application/vnd.plotly.v1+json": {
       "config": {
        "plotlyServerURL": "https://plot.ly"
       },
       "data": [
        {
         "alignmentgroup": "True",
         "hovertemplate": "Année=%{x}<br>Nombre de naissances=%{y}<extra></extra>",
         "legendgroup": "",
         "marker": {
          "color": "#636efa",
          "pattern": {
           "shape": ""
          }
         },
         "name": "",
         "offsetgroup": "",
         "orientation": "v",
         "showlegend": false,
         "textposition": "auto",
         "type": "bar",
         "x": [
          2019,
          2018,
          2017,
          2016,
          2015,
          2014,
          2013,
          2012,
          2011,
          2010,
          2009,
          2008,
          2007
         ],
         "xaxis": "x",
         "y": [
          2057,
          2122,
          2222,
          2227,
          2308,
          2419,
          2367,
          2343,
          2359,
          2445,
          2344,
          2297,
          2311
         ],
         "yaxis": "y"
        }
       ],
       "layout": {
        "barmode": "relative",
        "legend": {
         "tracegroupgap": 0
        },
        "template": {
         "data": {
          "bar": [
           {
            "error_x": {
             "color": "#2a3f5f"
            },
            "error_y": {
             "color": "#2a3f5f"
            },
            "marker": {
             "line": {
              "color": "#E5ECF6",
              "width": 0.5
             },
             "pattern": {
              "fillmode": "overlay",
              "size": 10,
              "solidity": 0.2
             }
            },
            "type": "bar"
           }
          ],
          "barpolar": [
           {
            "marker": {
             "line": {
              "color": "#E5ECF6",
              "width": 0.5
             },
             "pattern": {
              "fillmode": "overlay",
              "size": 10,
              "solidity": 0.2
             }
            },
            "type": "barpolar"
           }
          ],
          "carpet": [
           {
            "aaxis": {
             "endlinecolor": "#2a3f5f",
             "gridcolor": "white",
             "linecolor": "white",
             "minorgridcolor": "white",
             "startlinecolor": "#2a3f5f"
            },
            "baxis": {
             "endlinecolor": "#2a3f5f",
             "gridcolor": "white",
             "linecolor": "white",
             "minorgridcolor": "white",
             "startlinecolor": "#2a3f5f"
            },
            "type": "carpet"
           }
          ],
          "choropleth": [
           {
            "colorbar": {
             "outlinewidth": 0,
             "ticks": ""
            },
            "type": "choropleth"
           }
          ],
          "contour": [
           {
            "colorbar": {
             "outlinewidth": 0,
             "ticks": ""
            },
            "colorscale": [
             [
              0,
              "#0d0887"
             ],
             [
              0.1111111111111111,
              "#46039f"
             ],
             [
              0.2222222222222222,
              "#7201a8"
             ],
             [
              0.3333333333333333,
              "#9c179e"
             ],
             [
              0.4444444444444444,
              "#bd3786"
             ],
             [
              0.5555555555555556,
              "#d8576b"
             ],
             [
              0.6666666666666666,
              "#ed7953"
             ],
             [
              0.7777777777777778,
              "#fb9f3a"
             ],
             [
              0.8888888888888888,
              "#fdca26"
             ],
             [
              1,
              "#f0f921"
             ]
            ],
            "type": "contour"
           }
          ],
          "contourcarpet": [
           {
            "colorbar": {
             "outlinewidth": 0,
             "ticks": ""
            },
            "type": "contourcarpet"
           }
          ],
          "heatmap": [
           {
            "colorbar": {
             "outlinewidth": 0,
             "ticks": ""
            },
            "colorscale": [
             [
              0,
              "#0d0887"
             ],
             [
              0.1111111111111111,
              "#46039f"
             ],
             [
              0.2222222222222222,
              "#7201a8"
             ],
             [
              0.3333333333333333,
              "#9c179e"
             ],
             [
              0.4444444444444444,
              "#bd3786"
             ],
             [
              0.5555555555555556,
              "#d8576b"
             ],
             [
              0.6666666666666666,
              "#ed7953"
             ],
             [
              0.7777777777777778,
              "#fb9f3a"
             ],
             [
              0.8888888888888888,
              "#fdca26"
             ],
             [
              1,
              "#f0f921"
             ]
            ],
            "type": "heatmap"
           }
          ],
          "heatmapgl": [
           {
            "colorbar": {
             "outlinewidth": 0,
             "ticks": ""
            },
            "colorscale": [
             [
              0,
              "#0d0887"
             ],
             [
              0.1111111111111111,
              "#46039f"
             ],
             [
              0.2222222222222222,
              "#7201a8"
             ],
             [
              0.3333333333333333,
              "#9c179e"
             ],
             [
              0.4444444444444444,
              "#bd3786"
             ],
             [
              0.5555555555555556,
              "#d8576b"
             ],
             [
              0.6666666666666666,
              "#ed7953"
             ],
             [
              0.7777777777777778,
              "#fb9f3a"
             ],
             [
              0.8888888888888888,
              "#fdca26"
             ],
             [
              1,
              "#f0f921"
             ]
            ],
            "type": "heatmapgl"
           }
          ],
          "histogram": [
           {
            "marker": {
             "pattern": {
              "fillmode": "overlay",
              "size": 10,
              "solidity": 0.2
             }
            },
            "type": "histogram"
           }
          ],
          "histogram2d": [
           {
            "colorbar": {
             "outlinewidth": 0,
             "ticks": ""
            },
            "colorscale": [
             [
              0,
              "#0d0887"
             ],
             [
              0.1111111111111111,
              "#46039f"
             ],
             [
              0.2222222222222222,
              "#7201a8"
             ],
             [
              0.3333333333333333,
              "#9c179e"
             ],
             [
              0.4444444444444444,
              "#bd3786"
             ],
             [
              0.5555555555555556,
              "#d8576b"
             ],
             [
              0.6666666666666666,
              "#ed7953"
             ],
             [
              0.7777777777777778,
              "#fb9f3a"
             ],
             [
              0.8888888888888888,
              "#fdca26"
             ],
             [
              1,
              "#f0f921"
             ]
            ],
            "type": "histogram2d"
           }
          ],
          "histogram2dcontour": [
           {
            "colorbar": {
             "outlinewidth": 0,
             "ticks": ""
            },
            "colorscale": [
             [
              0,
              "#0d0887"
             ],
             [
              0.1111111111111111,
              "#46039f"
             ],
             [
              0.2222222222222222,
              "#7201a8"
             ],
             [
              0.3333333333333333,
              "#9c179e"
             ],
             [
              0.4444444444444444,
              "#bd3786"
             ],
             [
              0.5555555555555556,
              "#d8576b"
             ],
             [
              0.6666666666666666,
              "#ed7953"
             ],
             [
              0.7777777777777778,
              "#fb9f3a"
             ],
             [
              0.8888888888888888,
              "#fdca26"
             ],
             [
              1,
              "#f0f921"
             ]
            ],
            "type": "histogram2dcontour"
           }
          ],
          "mesh3d": [
           {
            "colorbar": {
             "outlinewidth": 0,
             "ticks": ""
            },
            "type": "mesh3d"
           }
          ],
          "parcoords": [
           {
            "line": {
             "colorbar": {
              "outlinewidth": 0,
              "ticks": ""
             }
            },
            "type": "parcoords"
           }
          ],
          "pie": [
           {
            "automargin": true,
            "type": "pie"
           }
          ],
          "scatter": [
           {
            "fillpattern": {
             "fillmode": "overlay",
             "size": 10,
             "solidity": 0.2
            },
            "type": "scatter"
           }
          ],
          "scatter3d": [
           {
            "line": {
             "colorbar": {
              "outlinewidth": 0,
              "ticks": ""
             }
            },
            "marker": {
             "colorbar": {
              "outlinewidth": 0,
              "ticks": ""
             }
            },
            "type": "scatter3d"
           }
          ],
          "scattercarpet": [
           {
            "marker": {
             "colorbar": {
              "outlinewidth": 0,
              "ticks": ""
             }
            },
            "type": "scattercarpet"
           }
          ],
          "scattergeo": [
           {
            "marker": {
             "colorbar": {
              "outlinewidth": 0,
              "ticks": ""
             }
            },
            "type": "scattergeo"
           }
          ],
          "scattergl": [
           {
            "marker": {
             "colorbar": {
              "outlinewidth": 0,
              "ticks": ""
             }
            },
            "type": "scattergl"
           }
          ],
          "scattermapbox": [
           {
            "marker": {
             "colorbar": {
              "outlinewidth": 0,
              "ticks": ""
             }
            },
            "type": "scattermapbox"
           }
          ],
          "scatterpolar": [
           {
            "marker": {
             "colorbar": {
              "outlinewidth": 0,
              "ticks": ""
             }
            },
            "type": "scatterpolar"
           }
          ],
          "scatterpolargl": [
           {
            "marker": {
             "colorbar": {
              "outlinewidth": 0,
              "ticks": ""
             }
            },
            "type": "scatterpolargl"
           }
          ],
          "scatterternary": [
           {
            "marker": {
             "colorbar": {
              "outlinewidth": 0,
              "ticks": ""
             }
            },
            "type": "scatterternary"
           }
          ],
          "surface": [
           {
            "colorbar": {
             "outlinewidth": 0,
             "ticks": ""
            },
            "colorscale": [
             [
              0,
              "#0d0887"
             ],
             [
              0.1111111111111111,
              "#46039f"
             ],
             [
              0.2222222222222222,
              "#7201a8"
             ],
             [
              0.3333333333333333,
              "#9c179e"
             ],
             [
              0.4444444444444444,
              "#bd3786"
             ],
             [
              0.5555555555555556,
              "#d8576b"
             ],
             [
              0.6666666666666666,
              "#ed7953"
             ],
             [
              0.7777777777777778,
              "#fb9f3a"
             ],
             [
              0.8888888888888888,
              "#fdca26"
             ],
             [
              1,
              "#f0f921"
             ]
            ],
            "type": "surface"
           }
          ],
          "table": [
           {
            "cells": {
             "fill": {
              "color": "#EBF0F8"
             },
             "line": {
              "color": "white"
             }
            },
            "header": {
             "fill": {
              "color": "#C8D4E3"
             },
             "line": {
              "color": "white"
             }
            },
            "type": "table"
           }
          ]
         },
         "layout": {
          "annotationdefaults": {
           "arrowcolor": "#2a3f5f",
           "arrowhead": 0,
           "arrowwidth": 1
          },
          "autotypenumbers": "strict",
          "coloraxis": {
           "colorbar": {
            "outlinewidth": 0,
            "ticks": ""
           }
          },
          "colorscale": {
           "diverging": [
            [
             0,
             "#8e0152"
            ],
            [
             0.1,
             "#c51b7d"
            ],
            [
             0.2,
             "#de77ae"
            ],
            [
             0.3,
             "#f1b6da"
            ],
            [
             0.4,
             "#fde0ef"
            ],
            [
             0.5,
             "#f7f7f7"
            ],
            [
             0.6,
             "#e6f5d0"
            ],
            [
             0.7,
             "#b8e186"
            ],
            [
             0.8,
             "#7fbc41"
            ],
            [
             0.9,
             "#4d9221"
            ],
            [
             1,
             "#276419"
            ]
           ],
           "sequential": [
            [
             0,
             "#0d0887"
            ],
            [
             0.1111111111111111,
             "#46039f"
            ],
            [
             0.2222222222222222,
             "#7201a8"
            ],
            [
             0.3333333333333333,
             "#9c179e"
            ],
            [
             0.4444444444444444,
             "#bd3786"
            ],
            [
             0.5555555555555556,
             "#d8576b"
            ],
            [
             0.6666666666666666,
             "#ed7953"
            ],
            [
             0.7777777777777778,
             "#fb9f3a"
            ],
            [
             0.8888888888888888,
             "#fdca26"
            ],
            [
             1,
             "#f0f921"
            ]
           ],
           "sequentialminus": [
            [
             0,
             "#0d0887"
            ],
            [
             0.1111111111111111,
             "#46039f"
            ],
            [
             0.2222222222222222,
             "#7201a8"
            ],
            [
             0.3333333333333333,
             "#9c179e"
            ],
            [
             0.4444444444444444,
             "#bd3786"
            ],
            [
             0.5555555555555556,
             "#d8576b"
            ],
            [
             0.6666666666666666,
             "#ed7953"
            ],
            [
             0.7777777777777778,
             "#fb9f3a"
            ],
            [
             0.8888888888888888,
             "#fdca26"
            ],
            [
             1,
             "#f0f921"
            ]
           ]
          },
          "colorway": [
           "#636efa",
           "#EF553B",
           "#00cc96",
           "#ab63fa",
           "#FFA15A",
           "#19d3f3",
           "#FF6692",
           "#B6E880",
           "#FF97FF",
           "#FECB52"
          ],
          "font": {
           "color": "#2a3f5f"
          },
          "geo": {
           "bgcolor": "white",
           "lakecolor": "white",
           "landcolor": "#E5ECF6",
           "showlakes": true,
           "showland": true,
           "subunitcolor": "white"
          },
          "hoverlabel": {
           "align": "left"
          },
          "hovermode": "closest",
          "mapbox": {
           "style": "light"
          },
          "paper_bgcolor": "white",
          "plot_bgcolor": "#E5ECF6",
          "polar": {
           "angularaxis": {
            "gridcolor": "white",
            "linecolor": "white",
            "ticks": ""
           },
           "bgcolor": "#E5ECF6",
           "radialaxis": {
            "gridcolor": "white",
            "linecolor": "white",
            "ticks": ""
           }
          },
          "scene": {
           "xaxis": {
            "backgroundcolor": "#E5ECF6",
            "gridcolor": "white",
            "gridwidth": 2,
            "linecolor": "white",
            "showbackground": true,
            "ticks": "",
            "zerolinecolor": "white"
           },
           "yaxis": {
            "backgroundcolor": "#E5ECF6",
            "gridcolor": "white",
            "gridwidth": 2,
            "linecolor": "white",
            "showbackground": true,
            "ticks": "",
            "zerolinecolor": "white"
           },
           "zaxis": {
            "backgroundcolor": "#E5ECF6",
            "gridcolor": "white",
            "gridwidth": 2,
            "linecolor": "white",
            "showbackground": true,
            "ticks": "",
            "zerolinecolor": "white"
           }
          },
          "shapedefaults": {
           "line": {
            "color": "#2a3f5f"
           }
          },
          "ternary": {
           "aaxis": {
            "gridcolor": "white",
            "linecolor": "white",
            "ticks": ""
           },
           "baxis": {
            "gridcolor": "white",
            "linecolor": "white",
            "ticks": ""
           },
           "bgcolor": "#E5ECF6",
           "caxis": {
            "gridcolor": "white",
            "linecolor": "white",
            "ticks": ""
           }
          },
          "title": {
           "x": 0.05
          },
          "xaxis": {
           "automargin": true,
           "gridcolor": "white",
           "linecolor": "white",
           "ticks": "",
           "title": {
            "standoff": 15
           },
           "zerolinecolor": "white",
           "zerolinewidth": 2
          },
          "yaxis": {
           "automargin": true,
           "gridcolor": "white",
           "linecolor": "white",
           "ticks": "",
           "title": {
            "standoff": 15
           },
           "zerolinecolor": "white",
           "zerolinewidth": 2
          }
         }
        },
        "title": {
         "text": "Evolution du nombre de naissances à Grenoble"
        },
        "xaxis": {
         "anchor": "y",
         "domain": [
          0,
          1
         ],
         "title": {
          "text": "Année"
         }
        },
        "yaxis": {
         "anchor": "x",
         "domain": [
          0,
          1
         ],
         "range": [
          0,
          3000
         ],
         "title": {
          "text": "Nombre de naissances"
         }
        }
       }
      },
      "text/html": [
       "<div>                            <div id=\"683a18f1-54d5-4216-8985-477934ddc3ff\" class=\"plotly-graph-div\" style=\"height:525px; width:100%;\"></div>            <script type=\"text/javascript\">                require([\"plotly\"], function(Plotly) {                    window.PLOTLYENV=window.PLOTLYENV || {};                                    if (document.getElementById(\"683a18f1-54d5-4216-8985-477934ddc3ff\")) {                    Plotly.newPlot(                        \"683a18f1-54d5-4216-8985-477934ddc3ff\",                        [{\"alignmentgroup\":\"True\",\"hovertemplate\":\"Ann\\u00e9e=%{x}<br>Nombre de naissances=%{y}<extra></extra>\",\"legendgroup\":\"\",\"marker\":{\"color\":\"#636efa\",\"pattern\":{\"shape\":\"\"}},\"name\":\"\",\"offsetgroup\":\"\",\"orientation\":\"v\",\"showlegend\":false,\"textposition\":\"auto\",\"x\":[2019,2018,2017,2016,2015,2014,2013,2012,2011,2010,2009,2008,2007],\"xaxis\":\"x\",\"y\":[2057,2122,2222,2227,2308,2419,2367,2343,2359,2445,2344,2297,2311],\"yaxis\":\"y\",\"type\":\"bar\"}],                        {\"template\":{\"data\":{\"histogram2dcontour\":[{\"type\":\"histogram2dcontour\",\"colorbar\":{\"outlinewidth\":0,\"ticks\":\"\"},\"colorscale\":[[0.0,\"#0d0887\"],[0.1111111111111111,\"#46039f\"],[0.2222222222222222,\"#7201a8\"],[0.3333333333333333,\"#9c179e\"],[0.4444444444444444,\"#bd3786\"],[0.5555555555555556,\"#d8576b\"],[0.6666666666666666,\"#ed7953\"],[0.7777777777777778,\"#fb9f3a\"],[0.8888888888888888,\"#fdca26\"],[1.0,\"#f0f921\"]]}],\"choropleth\":[{\"type\":\"choropleth\",\"colorbar\":{\"outlinewidth\":0,\"ticks\":\"\"}}],\"histogram2d\":[{\"type\":\"histogram2d\",\"colorbar\":{\"outlinewidth\":0,\"ticks\":\"\"},\"colorscale\":[[0.0,\"#0d0887\"],[0.1111111111111111,\"#46039f\"],[0.2222222222222222,\"#7201a8\"],[0.3333333333333333,\"#9c179e\"],[0.4444444444444444,\"#bd3786\"],[0.5555555555555556,\"#d8576b\"],[0.6666666666666666,\"#ed7953\"],[0.7777777777777778,\"#fb9f3a\"],[0.8888888888888888,\"#fdca26\"],[1.0,\"#f0f921\"]]}],\"heatmap\":[{\"type\":\"heatmap\",\"colorbar\":{\"outlinewidth\":0,\"ticks\":\"\"},\"colorscale\":[[0.0,\"#0d0887\"],[0.1111111111111111,\"#46039f\"],[0.2222222222222222,\"#7201a8\"],[0.3333333333333333,\"#9c179e\"],[0.4444444444444444,\"#bd3786\"],[0.5555555555555556,\"#d8576b\"],[0.6666666666666666,\"#ed7953\"],[0.7777777777777778,\"#fb9f3a\"],[0.8888888888888888,\"#fdca26\"],[1.0,\"#f0f921\"]]}],\"heatmapgl\":[{\"type\":\"heatmapgl\",\"colorbar\":{\"outlinewidth\":0,\"ticks\":\"\"},\"colorscale\":[[0.0,\"#0d0887\"],[0.1111111111111111,\"#46039f\"],[0.2222222222222222,\"#7201a8\"],[0.3333333333333333,\"#9c179e\"],[0.4444444444444444,\"#bd3786\"],[0.5555555555555556,\"#d8576b\"],[0.6666666666666666,\"#ed7953\"],[0.7777777777777778,\"#fb9f3a\"],[0.8888888888888888,\"#fdca26\"],[1.0,\"#f0f921\"]]}],\"contourcarpet\":[{\"type\":\"contourcarpet\",\"colorbar\":{\"outlinewidth\":0,\"ticks\":\"\"}}],\"contour\":[{\"type\":\"contour\",\"colorbar\":{\"outlinewidth\":0,\"ticks\":\"\"},\"colorscale\":[[0.0,\"#0d0887\"],[0.1111111111111111,\"#46039f\"],[0.2222222222222222,\"#7201a8\"],[0.3333333333333333,\"#9c179e\"],[0.4444444444444444,\"#bd3786\"],[0.5555555555555556,\"#d8576b\"],[0.6666666666666666,\"#ed7953\"],[0.7777777777777778,\"#fb9f3a\"],[0.8888888888888888,\"#fdca26\"],[1.0,\"#f0f921\"]]}],\"surface\":[{\"type\":\"surface\",\"colorbar\":{\"outlinewidth\":0,\"ticks\":\"\"},\"colorscale\":[[0.0,\"#0d0887\"],[0.1111111111111111,\"#46039f\"],[0.2222222222222222,\"#7201a8\"],[0.3333333333333333,\"#9c179e\"],[0.4444444444444444,\"#bd3786\"],[0.5555555555555556,\"#d8576b\"],[0.6666666666666666,\"#ed7953\"],[0.7777777777777778,\"#fb9f3a\"],[0.8888888888888888,\"#fdca26\"],[1.0,\"#f0f921\"]]}],\"mesh3d\":[{\"type\":\"mesh3d\",\"colorbar\":{\"outlinewidth\":0,\"ticks\":\"\"}}],\"scatter\":[{\"fillpattern\":{\"fillmode\":\"overlay\",\"size\":10,\"solidity\":0.2},\"type\":\"scatter\"}],\"parcoords\":[{\"type\":\"parcoords\",\"line\":{\"colorbar\":{\"outlinewidth\":0,\"ticks\":\"\"}}}],\"scatterpolargl\":[{\"type\":\"scatterpolargl\",\"marker\":{\"colorbar\":{\"outlinewidth\":0,\"ticks\":\"\"}}}],\"bar\":[{\"error_x\":{\"color\":\"#2a3f5f\"},\"error_y\":{\"color\":\"#2a3f5f\"},\"marker\":{\"line\":{\"color\":\"#E5ECF6\",\"width\":0.5},\"pattern\":{\"fillmode\":\"overlay\",\"size\":10,\"solidity\":0.2}},\"type\":\"bar\"}],\"scattergeo\":[{\"type\":\"scattergeo\",\"marker\":{\"colorbar\":{\"outlinewidth\":0,\"ticks\":\"\"}}}],\"scatterpolar\":[{\"type\":\"scatterpolar\",\"marker\":{\"colorbar\":{\"outlinewidth\":0,\"ticks\":\"\"}}}],\"histogram\":[{\"marker\":{\"pattern\":{\"fillmode\":\"overlay\",\"size\":10,\"solidity\":0.2}},\"type\":\"histogram\"}],\"scattergl\":[{\"type\":\"scattergl\",\"marker\":{\"colorbar\":{\"outlinewidth\":0,\"ticks\":\"\"}}}],\"scatter3d\":[{\"type\":\"scatter3d\",\"line\":{\"colorbar\":{\"outlinewidth\":0,\"ticks\":\"\"}},\"marker\":{\"colorbar\":{\"outlinewidth\":0,\"ticks\":\"\"}}}],\"scattermapbox\":[{\"type\":\"scattermapbox\",\"marker\":{\"colorbar\":{\"outlinewidth\":0,\"ticks\":\"\"}}}],\"scatterternary\":[{\"type\":\"scatterternary\",\"marker\":{\"colorbar\":{\"outlinewidth\":0,\"ticks\":\"\"}}}],\"scattercarpet\":[{\"type\":\"scattercarpet\",\"marker\":{\"colorbar\":{\"outlinewidth\":0,\"ticks\":\"\"}}}],\"carpet\":[{\"aaxis\":{\"endlinecolor\":\"#2a3f5f\",\"gridcolor\":\"white\",\"linecolor\":\"white\",\"minorgridcolor\":\"white\",\"startlinecolor\":\"#2a3f5f\"},\"baxis\":{\"endlinecolor\":\"#2a3f5f\",\"gridcolor\":\"white\",\"linecolor\":\"white\",\"minorgridcolor\":\"white\",\"startlinecolor\":\"#2a3f5f\"},\"type\":\"carpet\"}],\"table\":[{\"cells\":{\"fill\":{\"color\":\"#EBF0F8\"},\"line\":{\"color\":\"white\"}},\"header\":{\"fill\":{\"color\":\"#C8D4E3\"},\"line\":{\"color\":\"white\"}},\"type\":\"table\"}],\"barpolar\":[{\"marker\":{\"line\":{\"color\":\"#E5ECF6\",\"width\":0.5},\"pattern\":{\"fillmode\":\"overlay\",\"size\":10,\"solidity\":0.2}},\"type\":\"barpolar\"}],\"pie\":[{\"automargin\":true,\"type\":\"pie\"}]},\"layout\":{\"autotypenumbers\":\"strict\",\"colorway\":[\"#636efa\",\"#EF553B\",\"#00cc96\",\"#ab63fa\",\"#FFA15A\",\"#19d3f3\",\"#FF6692\",\"#B6E880\",\"#FF97FF\",\"#FECB52\"],\"font\":{\"color\":\"#2a3f5f\"},\"hovermode\":\"closest\",\"hoverlabel\":{\"align\":\"left\"},\"paper_bgcolor\":\"white\",\"plot_bgcolor\":\"#E5ECF6\",\"polar\":{\"bgcolor\":\"#E5ECF6\",\"angularaxis\":{\"gridcolor\":\"white\",\"linecolor\":\"white\",\"ticks\":\"\"},\"radialaxis\":{\"gridcolor\":\"white\",\"linecolor\":\"white\",\"ticks\":\"\"}},\"ternary\":{\"bgcolor\":\"#E5ECF6\",\"aaxis\":{\"gridcolor\":\"white\",\"linecolor\":\"white\",\"ticks\":\"\"},\"baxis\":{\"gridcolor\":\"white\",\"linecolor\":\"white\",\"ticks\":\"\"},\"caxis\":{\"gridcolor\":\"white\",\"linecolor\":\"white\",\"ticks\":\"\"}},\"coloraxis\":{\"colorbar\":{\"outlinewidth\":0,\"ticks\":\"\"}},\"colorscale\":{\"sequential\":[[0.0,\"#0d0887\"],[0.1111111111111111,\"#46039f\"],[0.2222222222222222,\"#7201a8\"],[0.3333333333333333,\"#9c179e\"],[0.4444444444444444,\"#bd3786\"],[0.5555555555555556,\"#d8576b\"],[0.6666666666666666,\"#ed7953\"],[0.7777777777777778,\"#fb9f3a\"],[0.8888888888888888,\"#fdca26\"],[1.0,\"#f0f921\"]],\"sequentialminus\":[[0.0,\"#0d0887\"],[0.1111111111111111,\"#46039f\"],[0.2222222222222222,\"#7201a8\"],[0.3333333333333333,\"#9c179e\"],[0.4444444444444444,\"#bd3786\"],[0.5555555555555556,\"#d8576b\"],[0.6666666666666666,\"#ed7953\"],[0.7777777777777778,\"#fb9f3a\"],[0.8888888888888888,\"#fdca26\"],[1.0,\"#f0f921\"]],\"diverging\":[[0,\"#8e0152\"],[0.1,\"#c51b7d\"],[0.2,\"#de77ae\"],[0.3,\"#f1b6da\"],[0.4,\"#fde0ef\"],[0.5,\"#f7f7f7\"],[0.6,\"#e6f5d0\"],[0.7,\"#b8e186\"],[0.8,\"#7fbc41\"],[0.9,\"#4d9221\"],[1,\"#276419\"]]},\"xaxis\":{\"gridcolor\":\"white\",\"linecolor\":\"white\",\"ticks\":\"\",\"title\":{\"standoff\":15},\"zerolinecolor\":\"white\",\"automargin\":true,\"zerolinewidth\":2},\"yaxis\":{\"gridcolor\":\"white\",\"linecolor\":\"white\",\"ticks\":\"\",\"title\":{\"standoff\":15},\"zerolinecolor\":\"white\",\"automargin\":true,\"zerolinewidth\":2},\"scene\":{\"xaxis\":{\"backgroundcolor\":\"#E5ECF6\",\"gridcolor\":\"white\",\"linecolor\":\"white\",\"showbackground\":true,\"ticks\":\"\",\"zerolinecolor\":\"white\",\"gridwidth\":2},\"yaxis\":{\"backgroundcolor\":\"#E5ECF6\",\"gridcolor\":\"white\",\"linecolor\":\"white\",\"showbackground\":true,\"ticks\":\"\",\"zerolinecolor\":\"white\",\"gridwidth\":2},\"zaxis\":{\"backgroundcolor\":\"#E5ECF6\",\"gridcolor\":\"white\",\"linecolor\":\"white\",\"showbackground\":true,\"ticks\":\"\",\"zerolinecolor\":\"white\",\"gridwidth\":2}},\"shapedefaults\":{\"line\":{\"color\":\"#2a3f5f\"}},\"annotationdefaults\":{\"arrowcolor\":\"#2a3f5f\",\"arrowhead\":0,\"arrowwidth\":1},\"geo\":{\"bgcolor\":\"white\",\"landcolor\":\"#E5ECF6\",\"subunitcolor\":\"white\",\"showland\":true,\"showlakes\":true,\"lakecolor\":\"white\"},\"title\":{\"x\":0.05},\"mapbox\":{\"style\":\"light\"}}},\"xaxis\":{\"anchor\":\"y\",\"domain\":[0.0,1.0],\"title\":{\"text\":\"Ann\\u00e9e\"}},\"yaxis\":{\"anchor\":\"x\",\"domain\":[0.0,1.0],\"title\":{\"text\":\"Nombre de naissances\"},\"range\":[0,3000]},\"legend\":{\"tracegroupgap\":0},\"title\":{\"text\":\"Evolution du nombre de naissances \\u00e0 Grenoble\"},\"barmode\":\"relative\"},                        {\"responsive\": true}                    ).then(function(){\n",
       "                            \n",
       "var gd = document.getElementById('683a18f1-54d5-4216-8985-477934ddc3ff');\n",
       "var x = new MutationObserver(function (mutations, observer) {{\n",
       "        var display = window.getComputedStyle(gd).display;\n",
       "        if (!display || display === 'none') {{\n",
       "            console.log([gd, 'removed!']);\n",
       "            Plotly.purge(gd);\n",
       "            observer.disconnect();\n",
       "        }}\n",
       "}});\n",
       "\n",
       "// Listen for the removal of the full notebook cells\n",
       "var notebookContainer = gd.closest('#notebook-container');\n",
       "if (notebookContainer) {{\n",
       "    x.observe(notebookContainer, {childList: true});\n",
       "}}\n",
       "\n",
       "// Listen for the clearing of the current output cell\n",
       "var outputEl = gd.closest('.output');\n",
       "if (outputEl) {{\n",
       "    x.observe(outputEl, {childList: true});\n",
       "}}\n",
       "\n",
       "                        })                };                });            </script>        </div>"
      ]
     },
     "metadata": {},
     "output_type": "display_data"
    }
   ],
   "source": [
    "fig = px.bar(data_pop_gre, x=\"annee\", y=\"nombre_naissances\",\n",
    "             title=\"Evolution du nombre de naissances à Grenoble\",\n",
    "             labels={\"annee\":\"Année\",\"nombre_naissances\":\"Nombre de naissances\"})\n",
    "fig.update_layout(yaxis_range=[0,3000])\n",
    "fig.show()"
   ]
  },
  {
   "cell_type": "code",
   "execution_count": 13,
   "id": "6b1d4d7f",
   "metadata": {},
   "outputs": [
    {
     "data": {
      "application/vnd.plotly.v1+json": {
       "config": {
        "plotlyServerURL": "https://plot.ly"
       },
       "data": [
        {
         "alignmentgroup": "True",
         "hovertemplate": "commune=Vizille<br>Année=%{x}<br>Nombre de naissances=%{y}<extra></extra>",
         "legendgroup": "Vizille",
         "marker": {
          "color": "#636efa",
          "pattern": {
           "shape": ""
          }
         },
         "name": "Vizille",
         "offsetgroup": "Vizille",
         "orientation": "v",
         "showlegend": true,
         "textposition": "auto",
         "type": "bar",
         "x": [
          2019,
          2018,
          2017,
          2016,
          2015,
          2014,
          2013,
          2012,
          2011,
          2010,
          2009,
          2008,
          2007
         ],
         "xaxis": "x",
         "y": [
          89,
          80,
          72,
          84,
          102,
          86,
          92,
          92,
          120,
          103,
          107,
          125,
          103
         ],
         "yaxis": "y"
        },
        {
         "alignmentgroup": "True",
         "hovertemplate": "commune=Notre-Dame-de-Commiers<br>Année=%{x}<br>Nombre de naissances=%{y}<extra></extra>",
         "legendgroup": "Notre-Dame-de-Commiers",
         "marker": {
          "color": "#EF553B",
          "pattern": {
           "shape": ""
          }
         },
         "name": "Notre-Dame-de-Commiers",
         "offsetgroup": "Notre-Dame-de-Commiers",
         "orientation": "v",
         "showlegend": true,
         "textposition": "auto",
         "type": "bar",
         "x": [
          2019,
          2018,
          2017,
          2016,
          2015,
          2014,
          2013,
          2012,
          2011,
          2010,
          2009,
          2008,
          2007
         ],
         "xaxis": "x",
         "y": [
          5,
          5,
          5,
          12,
          6,
          9,
          4,
          6,
          6,
          3,
          5,
          10,
          10
         ],
         "yaxis": "y"
        },
        {
         "alignmentgroup": "True",
         "hovertemplate": "commune=Le Fontanil-Cornillon<br>Année=%{x}<br>Nombre de naissances=%{y}<extra></extra>",
         "legendgroup": "Le Fontanil-Cornillon",
         "marker": {
          "color": "#00cc96",
          "pattern": {
           "shape": ""
          }
         },
         "name": "Le Fontanil-Cornillon",
         "offsetgroup": "Le Fontanil-Cornillon",
         "orientation": "v",
         "showlegend": true,
         "textposition": "auto",
         "type": "bar",
         "x": [
          2019,
          2018,
          2017,
          2016,
          2015,
          2014,
          2013,
          2012,
          2011,
          2010,
          2009,
          2008,
          2007
         ],
         "xaxis": "x",
         "y": [
          42,
          40,
          24,
          32,
          28,
          32,
          24,
          37,
          45,
          26,
          37,
          44,
          38
         ],
         "yaxis": "y"
        },
        {
         "alignmentgroup": "True",
         "hovertemplate": "commune=Saint-Martin-le-Vinoux<br>Année=%{x}<br>Nombre de naissances=%{y}<extra></extra>",
         "legendgroup": "Saint-Martin-le-Vinoux",
         "marker": {
          "color": "#ab63fa",
          "pattern": {
           "shape": ""
          }
         },
         "name": "Saint-Martin-le-Vinoux",
         "offsetgroup": "Saint-Martin-le-Vinoux",
         "orientation": "v",
         "showlegend": true,
         "textposition": "auto",
         "type": "bar",
         "x": [
          2019,
          2018,
          2017,
          2016,
          2015,
          2014,
          2013,
          2012,
          2011,
          2010,
          2009,
          2008,
          2007
         ],
         "xaxis": "x",
         "y": [
          90,
          86,
          83,
          81,
          87,
          99,
          83,
          74,
          67,
          80,
          82,
          75,
          74
         ],
         "yaxis": "y"
        },
        {
         "alignmentgroup": "True",
         "hovertemplate": "commune=Seyssinet-Pariset<br>Année=%{x}<br>Nombre de naissances=%{y}<extra></extra>",
         "legendgroup": "Seyssinet-Pariset",
         "marker": {
          "color": "#FFA15A",
          "pattern": {
           "shape": ""
          }
         },
         "name": "Seyssinet-Pariset",
         "offsetgroup": "Seyssinet-Pariset",
         "orientation": "v",
         "showlegend": true,
         "textposition": "auto",
         "type": "bar",
         "x": [
          2019,
          2018,
          2017,
          2016,
          2015,
          2014,
          2013,
          2012,
          2011,
          2010,
          2009,
          2008,
          2007
         ],
         "xaxis": "x",
         "y": [
          120,
          120,
          133,
          146,
          143,
          156,
          162,
          154,
          141,
          174,
          166,
          151,
          166
         ],
         "yaxis": "y"
        },
        {
         "alignmentgroup": "True",
         "hovertemplate": "commune=Le Sappey-en-Chartreuse<br>Année=%{x}<br>Nombre de naissances=%{y}<extra></extra>",
         "legendgroup": "Le Sappey-en-Chartreuse",
         "marker": {
          "color": "#19d3f3",
          "pattern": {
           "shape": ""
          }
         },
         "name": "Le Sappey-en-Chartreuse",
         "offsetgroup": "Le Sappey-en-Chartreuse",
         "orientation": "v",
         "showlegend": true,
         "textposition": "auto",
         "type": "bar",
         "x": [
          2019,
          2018,
          2017,
          2016,
          2015,
          2014,
          2013,
          2012,
          2011,
          2010,
          2009,
          2008,
          2007
         ],
         "xaxis": "x",
         "y": [
          13,
          13,
          21,
          15,
          17,
          14,
          17,
          10,
          16,
          12,
          16,
          27,
          9
         ],
         "yaxis": "y"
        },
        {
         "alignmentgroup": "True",
         "hovertemplate": "commune=Saint-Georges-de-Commiers<br>Année=%{x}<br>Nombre de naissances=%{y}<extra></extra>",
         "legendgroup": "Saint-Georges-de-Commiers",
         "marker": {
          "color": "#FF6692",
          "pattern": {
           "shape": ""
          }
         },
         "name": "Saint-Georges-de-Commiers",
         "offsetgroup": "Saint-Georges-de-Commiers",
         "orientation": "v",
         "showlegend": true,
         "textposition": "auto",
         "type": "bar",
         "x": [
          2019,
          2018,
          2017,
          2016,
          2015,
          2014,
          2013,
          2012,
          2011,
          2010,
          2009,
          2008,
          2007
         ],
         "xaxis": "x",
         "y": [
          22,
          19,
          26,
          23,
          15,
          21,
          29,
          19,
          20,
          12,
          26,
          26,
          13
         ],
         "yaxis": "y"
        },
        {
         "alignmentgroup": "True",
         "hovertemplate": "commune=Le Gua<br>Année=%{x}<br>Nombre de naissances=%{y}<extra></extra>",
         "legendgroup": "Le Gua",
         "marker": {
          "color": "#B6E880",
          "pattern": {
           "shape": ""
          }
         },
         "name": "Le Gua",
         "offsetgroup": "Le Gua",
         "orientation": "v",
         "showlegend": true,
         "textposition": "auto",
         "type": "bar",
         "x": [
          2019,
          2018,
          2017,
          2016,
          2015,
          2014,
          2013,
          2012,
          2011,
          2010,
          2009,
          2008,
          2007
         ],
         "xaxis": "x",
         "y": [
          12,
          22,
          18,
          14,
          18,
          19,
          16,
          17,
          16,
          17,
          25,
          21,
          16
         ],
         "yaxis": "y"
        },
        {
         "alignmentgroup": "True",
         "hovertemplate": "commune=Proveysieux<br>Année=%{x}<br>Nombre de naissances=%{y}<extra></extra>",
         "legendgroup": "Proveysieux",
         "marker": {
          "color": "#FF97FF",
          "pattern": {
           "shape": ""
          }
         },
         "name": "Proveysieux",
         "offsetgroup": "Proveysieux",
         "orientation": "v",
         "showlegend": true,
         "textposition": "auto",
         "type": "bar",
         "x": [
          2019,
          2018,
          2017,
          2016,
          2015,
          2014,
          2013,
          2012,
          2011,
          2010,
          2009,
          2008,
          2007
         ],
         "xaxis": "x",
         "y": [
          8,
          4,
          6,
          7,
          3,
          10,
          6,
          11,
          4,
          6,
          6,
          10,
          13
         ],
         "yaxis": "y"
        },
        {
         "alignmentgroup": "True",
         "hovertemplate": "commune=Noyarey<br>Année=%{x}<br>Nombre de naissances=%{y}<extra></extra>",
         "legendgroup": "Noyarey",
         "marker": {
          "color": "#FECB52",
          "pattern": {
           "shape": ""
          }
         },
         "name": "Noyarey",
         "offsetgroup": "Noyarey",
         "orientation": "v",
         "showlegend": true,
         "textposition": "auto",
         "type": "bar",
         "x": [
          2019,
          2018,
          2017,
          2016,
          2015,
          2014,
          2013,
          2012,
          2011,
          2010,
          2009,
          2008,
          2007
         ],
         "xaxis": "x",
         "y": [
          26,
          28,
          14,
          27,
          22,
          19,
          18,
          20,
          26,
          22,
          16,
          25,
          28
         ],
         "yaxis": "y"
        },
        {
         "alignmentgroup": "True",
         "hovertemplate": "commune=Veurey-Voroize<br>Année=%{x}<br>Nombre de naissances=%{y}<extra></extra>",
         "legendgroup": "Veurey-Voroize",
         "marker": {
          "color": "#636efa",
          "pattern": {
           "shape": ""
          }
         },
         "name": "Veurey-Voroize",
         "offsetgroup": "Veurey-Voroize",
         "orientation": "v",
         "showlegend": true,
         "textposition": "auto",
         "type": "bar",
         "x": [
          2019,
          2018,
          2017,
          2016,
          2015,
          2014,
          2013,
          2012,
          2011,
          2010,
          2009,
          2008,
          2007
         ],
         "xaxis": "x",
         "y": [
          10,
          15,
          15,
          12,
          9,
          9,
          12,
          10,
          14,
          14,
          16,
          12,
          14
         ],
         "yaxis": "y"
        },
        {
         "alignmentgroup": "True",
         "hovertemplate": "commune=Saint-Égrève<br>Année=%{x}<br>Nombre de naissances=%{y}<extra></extra>",
         "legendgroup": "Saint-Égrève",
         "marker": {
          "color": "#EF553B",
          "pattern": {
           "shape": ""
          }
         },
         "name": "Saint-Égrève",
         "offsetgroup": "Saint-Égrève",
         "orientation": "v",
         "showlegend": true,
         "textposition": "auto",
         "type": "bar",
         "x": [
          2019,
          2018,
          2017,
          2016,
          2015,
          2014,
          2013,
          2012,
          2011,
          2010,
          2009,
          2008,
          2007
         ],
         "xaxis": "x",
         "y": [
          182,
          203,
          183,
          182,
          159,
          179,
          171,
          195,
          198,
          210,
          209,
          218,
          212
         ],
         "yaxis": "y"
        },
        {
         "alignmentgroup": "True",
         "hovertemplate": "commune=Jarrie<br>Année=%{x}<br>Nombre de naissances=%{y}<extra></extra>",
         "legendgroup": "Jarrie",
         "marker": {
          "color": "#00cc96",
          "pattern": {
           "shape": ""
          }
         },
         "name": "Jarrie",
         "offsetgroup": "Jarrie",
         "orientation": "v",
         "showlegend": true,
         "textposition": "auto",
         "type": "bar",
         "x": [
          2019,
          2018,
          2017,
          2016,
          2015,
          2014,
          2013,
          2012,
          2011,
          2010,
          2009,
          2008,
          2007
         ],
         "xaxis": "x",
         "y": [
          35,
          33,
          36,
          35,
          38,
          44,
          36,
          45,
          32,
          33,
          40,
          34,
          47
         ],
         "yaxis": "y"
        },
        {
         "alignmentgroup": "True",
         "hovertemplate": "commune=Vaulnaveys-le-Bas<br>Année=%{x}<br>Nombre de naissances=%{y}<extra></extra>",
         "legendgroup": "Vaulnaveys-le-Bas",
         "marker": {
          "color": "#ab63fa",
          "pattern": {
           "shape": ""
          }
         },
         "name": "Vaulnaveys-le-Bas",
         "offsetgroup": "Vaulnaveys-le-Bas",
         "orientation": "v",
         "showlegend": true,
         "textposition": "auto",
         "type": "bar",
         "x": [
          2019,
          2018,
          2017,
          2016,
          2015,
          2014,
          2013,
          2012,
          2011,
          2010,
          2009,
          2008,
          2007
         ],
         "xaxis": "x",
         "y": [
          13,
          5,
          9,
          14,
          17,
          8,
          17,
          15,
          11,
          9,
          13,
          9,
          11
         ],
         "yaxis": "y"
        },
        {
         "alignmentgroup": "True",
         "hovertemplate": "commune=Saint-Martin-d'Hères<br>Année=%{x}<br>Nombre de naissances=%{y}<extra></extra>",
         "legendgroup": "Saint-Martin-d'Hères",
         "marker": {
          "color": "#FFA15A",
          "pattern": {
           "shape": ""
          }
         },
         "name": "Saint-Martin-d'Hères",
         "offsetgroup": "Saint-Martin-d'Hères",
         "orientation": "v",
         "showlegend": true,
         "textposition": "auto",
         "type": "bar",
         "x": [
          2019,
          2018,
          2017,
          2016,
          2015,
          2014,
          2013,
          2012,
          2011,
          2010,
          2009,
          2008,
          2007
         ],
         "xaxis": "x",
         "y": [
          402,
          448,
          465,
          515,
          513,
          603,
          515,
          544,
          549,
          581,
          558,
          543,
          457
         ],
         "yaxis": "y"
        },
        {
         "alignmentgroup": "True",
         "hovertemplate": "commune=Seyssins<br>Année=%{x}<br>Nombre de naissances=%{y}<extra></extra>",
         "legendgroup": "Seyssins",
         "marker": {
          "color": "#19d3f3",
          "pattern": {
           "shape": ""
          }
         },
         "name": "Seyssins",
         "offsetgroup": "Seyssins",
         "orientation": "v",
         "showlegend": true,
         "textposition": "auto",
         "type": "bar",
         "x": [
          2019,
          2018,
          2017,
          2016,
          2015,
          2014,
          2013,
          2012,
          2011,
          2010,
          2009,
          2008,
          2007
         ],
         "xaxis": "x",
         "y": [
          65,
          54,
          68,
          75,
          59,
          59,
          45,
          59,
          58,
          47,
          57,
          68,
          63
         ],
         "yaxis": "y"
        },
        {
         "alignmentgroup": "True",
         "hovertemplate": "commune=Varces-Allières-et-Risset<br>Année=%{x}<br>Nombre de naissances=%{y}<extra></extra>",
         "legendgroup": "Varces-Allières-et-Risset",
         "marker": {
          "color": "#FF6692",
          "pattern": {
           "shape": ""
          }
         },
         "name": "Varces-Allières-et-Risset",
         "offsetgroup": "Varces-Allières-et-Risset",
         "orientation": "v",
         "showlegend": true,
         "textposition": "auto",
         "type": "bar",
         "x": [
          2019,
          2018,
          2017,
          2016,
          2015,
          2014,
          2013,
          2012,
          2011,
          2010,
          2009,
          2008,
          2007
         ],
         "xaxis": "x",
         "y": [
          78,
          82,
          86,
          70,
          88,
          81,
          73,
          88,
          75,
          58,
          59,
          82,
          56
         ],
         "yaxis": "y"
        },
        {
         "alignmentgroup": "True",
         "hovertemplate": "commune=Sarcenas<br>Année=%{x}<br>Nombre de naissances=%{y}<extra></extra>",
         "legendgroup": "Sarcenas",
         "marker": {
          "color": "#B6E880",
          "pattern": {
           "shape": ""
          }
         },
         "name": "Sarcenas",
         "offsetgroup": "Sarcenas",
         "orientation": "v",
         "showlegend": true,
         "textposition": "auto",
         "type": "bar",
         "x": [
          2019,
          2018,
          2017,
          2016,
          2015,
          2014,
          2013,
          2012,
          2011,
          2010,
          2009,
          2008,
          2007
         ],
         "xaxis": "x",
         "y": [
          6,
          3,
          4,
          2,
          3,
          3,
          1,
          1,
          1,
          0,
          2,
          3,
          1
         ],
         "yaxis": "y"
        },
        {
         "alignmentgroup": "True",
         "hovertemplate": "commune=Saint-Pierre-de-Mésage<br>Année=%{x}<br>Nombre de naissances=%{y}<extra></extra>",
         "legendgroup": "Saint-Pierre-de-Mésage",
         "marker": {
          "color": "#FF97FF",
          "pattern": {
           "shape": ""
          }
         },
         "name": "Saint-Pierre-de-Mésage",
         "offsetgroup": "Saint-Pierre-de-Mésage",
         "orientation": "v",
         "showlegend": true,
         "textposition": "auto",
         "type": "bar",
         "x": [
          2019,
          2018,
          2017,
          2016,
          2015,
          2014,
          2013,
          2012,
          2011,
          2010,
          2009,
          2008,
          2007
         ],
         "xaxis": "x",
         "y": [
          5,
          7,
          2,
          1,
          4,
          9,
          8,
          8,
          5,
          9,
          7,
          6,
          7
         ],
         "yaxis": "y"
        },
        {
         "alignmentgroup": "True",
         "hovertemplate": "commune=La Tronche<br>Année=%{x}<br>Nombre de naissances=%{y}<extra></extra>",
         "legendgroup": "La Tronche",
         "marker": {
          "color": "#FECB52",
          "pattern": {
           "shape": ""
          }
         },
         "name": "La Tronche",
         "offsetgroup": "La Tronche",
         "orientation": "v",
         "showlegend": true,
         "textposition": "auto",
         "type": "bar",
         "x": [
          2019,
          2018,
          2017,
          2016,
          2015,
          2014,
          2013,
          2012,
          2011,
          2010,
          2009,
          2008,
          2007
         ],
         "xaxis": "x",
         "y": [
          69,
          71,
          71,
          87,
          75,
          75,
          78,
          72,
          77,
          64,
          80,
          67,
          57
         ],
         "yaxis": "y"
        },
        {
         "alignmentgroup": "True",
         "hovertemplate": "commune=Notre-Dame-de-Mésage<br>Année=%{x}<br>Nombre de naissances=%{y}<extra></extra>",
         "legendgroup": "Notre-Dame-de-Mésage",
         "marker": {
          "color": "#636efa",
          "pattern": {
           "shape": ""
          }
         },
         "name": "Notre-Dame-de-Mésage",
         "offsetgroup": "Notre-Dame-de-Mésage",
         "orientation": "v",
         "showlegend": true,
         "textposition": "auto",
         "type": "bar",
         "x": [
          2019,
          2018,
          2017,
          2016,
          2015,
          2014,
          2013,
          2012,
          2011,
          2010,
          2009,
          2008,
          2007
         ],
         "xaxis": "x",
         "y": [
          5,
          9,
          4,
          3,
          4,
          16,
          4,
          11,
          7,
          11,
          5,
          16,
          15
         ],
         "yaxis": "y"
        },
        {
         "alignmentgroup": "True",
         "hovertemplate": "commune=Eybens<br>Année=%{x}<br>Nombre de naissances=%{y}<extra></extra>",
         "legendgroup": "Eybens",
         "marker": {
          "color": "#EF553B",
          "pattern": {
           "shape": ""
          }
         },
         "name": "Eybens",
         "offsetgroup": "Eybens",
         "orientation": "v",
         "showlegend": true,
         "textposition": "auto",
         "type": "bar",
         "x": [
          2019,
          2018,
          2017,
          2016,
          2015,
          2014,
          2013,
          2012,
          2011,
          2010,
          2009,
          2008,
          2007
         ],
         "xaxis": "x",
         "y": [
          108,
          118,
          134,
          119,
          154,
          140,
          141,
          158,
          120,
          135,
          134,
          122,
          128
         ],
         "yaxis": "y"
        },
        {
         "alignmentgroup": "True",
         "hovertemplate": "commune=Champagnier<br>Année=%{x}<br>Nombre de naissances=%{y}<extra></extra>",
         "legendgroup": "Champagnier",
         "marker": {
          "color": "#00cc96",
          "pattern": {
           "shape": ""
          }
         },
         "name": "Champagnier",
         "offsetgroup": "Champagnier",
         "orientation": "v",
         "showlegend": true,
         "textposition": "auto",
         "type": "bar",
         "x": [
          2019,
          2018,
          2017,
          2016,
          2015,
          2014,
          2013,
          2012,
          2011,
          2010,
          2009,
          2008,
          2007
         ],
         "xaxis": "x",
         "y": [
          6,
          7,
          9,
          10,
          6,
          9,
          10,
          11,
          11,
          17,
          6,
          15,
          11
         ],
         "yaxis": "y"
        },
        {
         "alignmentgroup": "True",
         "hovertemplate": "commune=Mont-Saint-Martin<br>Année=%{x}<br>Nombre de naissances=%{y}<extra></extra>",
         "legendgroup": "Mont-Saint-Martin",
         "marker": {
          "color": "#ab63fa",
          "pattern": {
           "shape": ""
          }
         },
         "name": "Mont-Saint-Martin",
         "offsetgroup": "Mont-Saint-Martin",
         "orientation": "v",
         "showlegend": true,
         "textposition": "auto",
         "type": "bar",
         "x": [
          2019,
          2018,
          2017,
          2016,
          2015,
          2014,
          2013,
          2012,
          2011,
          2010,
          2009,
          2008,
          2007
         ],
         "xaxis": "x",
         "y": [
          3,
          1,
          3,
          0,
          1,
          0,
          1,
          2,
          2,
          0,
          2,
          0,
          0
         ],
         "yaxis": "y"
        },
        {
         "alignmentgroup": "True",
         "hovertemplate": "commune=Miribel-Lanchâtre<br>Année=%{x}<br>Nombre de naissances=%{y}<extra></extra>",
         "legendgroup": "Miribel-Lanchâtre",
         "marker": {
          "color": "#FFA15A",
          "pattern": {
           "shape": ""
          }
         },
         "name": "Miribel-Lanchâtre",
         "offsetgroup": "Miribel-Lanchâtre",
         "orientation": "v",
         "showlegend": true,
         "textposition": "auto",
         "type": "bar",
         "x": [
          2019,
          2018,
          2017,
          2016,
          2015,
          2014,
          2013,
          2012,
          2011,
          2010,
          2009,
          2008,
          2007
         ],
         "xaxis": "x",
         "y": [
          3,
          7,
          1,
          5,
          5,
          5,
          6,
          5,
          4,
          7,
          12,
          6,
          8
         ],
         "yaxis": "y"
        },
        {
         "alignmentgroup": "True",
         "hovertemplate": "commune=Gières<br>Année=%{x}<br>Nombre de naissances=%{y}<extra></extra>",
         "legendgroup": "Gières",
         "marker": {
          "color": "#19d3f3",
          "pattern": {
           "shape": ""
          }
         },
         "name": "Gières",
         "offsetgroup": "Gières",
         "orientation": "v",
         "showlegend": true,
         "textposition": "auto",
         "type": "bar",
         "x": [
          2019,
          2018,
          2017,
          2016,
          2015,
          2014,
          2013,
          2012,
          2011,
          2010,
          2009,
          2008,
          2007
         ],
         "xaxis": "x",
         "y": [
          83,
          98,
          80,
          88,
          82,
          83,
          67,
          65,
          75,
          74,
          59,
          65,
          74
         ],
         "yaxis": "y"
        },
        {
         "alignmentgroup": "True",
         "hovertemplate": "commune=Saint-Barthélemy-de-Séchilienne<br>Année=%{x}<br>Nombre de naissances=%{y}<extra></extra>",
         "legendgroup": "Saint-Barthélemy-de-Séchilienne",
         "marker": {
          "color": "#FF6692",
          "pattern": {
           "shape": ""
          }
         },
         "name": "Saint-Barthélemy-de-Séchilienne",
         "offsetgroup": "Saint-Barthélemy-de-Séchilienne",
         "orientation": "v",
         "showlegend": true,
         "textposition": "auto",
         "type": "bar",
         "x": [
          2019,
          2018,
          2017,
          2016,
          2015,
          2014,
          2013,
          2012,
          2011,
          2010,
          2009,
          2008,
          2007
         ],
         "xaxis": "x",
         "y": [
          3,
          7,
          5,
          3,
          2,
          3,
          6,
          2,
          5,
          8,
          3,
          12,
          1
         ],
         "yaxis": "y"
        },
        {
         "alignmentgroup": "True",
         "hovertemplate": "commune=Herbeys<br>Année=%{x}<br>Nombre de naissances=%{y}<extra></extra>",
         "legendgroup": "Herbeys",
         "marker": {
          "color": "#B6E880",
          "pattern": {
           "shape": ""
          }
         },
         "name": "Herbeys",
         "offsetgroup": "Herbeys",
         "orientation": "v",
         "showlegend": true,
         "textposition": "auto",
         "type": "bar",
         "x": [
          2019,
          2018,
          2017,
          2016,
          2015,
          2014,
          2013,
          2012,
          2011,
          2010,
          2009,
          2008,
          2007
         ],
         "xaxis": "x",
         "y": [
          11,
          11,
          13,
          11,
          8,
          15,
          15,
          13,
          11,
          26,
          14,
          17,
          13
         ],
         "yaxis": "y"
        },
        {
         "alignmentgroup": "True",
         "hovertemplate": "commune=Quaix-en-Chartreuse<br>Année=%{x}<br>Nombre de naissances=%{y}<extra></extra>",
         "legendgroup": "Quaix-en-Chartreuse",
         "marker": {
          "color": "#FF97FF",
          "pattern": {
           "shape": ""
          }
         },
         "name": "Quaix-en-Chartreuse",
         "offsetgroup": "Quaix-en-Chartreuse",
         "orientation": "v",
         "showlegend": true,
         "textposition": "auto",
         "type": "bar",
         "x": [
          2019,
          2018,
          2017,
          2016,
          2015,
          2014,
          2013,
          2012,
          2011,
          2010,
          2009,
          2008,
          2007
         ],
         "xaxis": "x",
         "y": [
          12,
          8,
          8,
          10,
          12,
          4,
          10,
          3,
          11,
          7,
          8,
          8,
          11
         ],
         "yaxis": "y"
        },
        {
         "alignmentgroup": "True",
         "hovertemplate": "commune=Échirolles<br>Année=%{x}<br>Nombre de naissances=%{y}<extra></extra>",
         "legendgroup": "Échirolles",
         "marker": {
          "color": "#FECB52",
          "pattern": {
           "shape": ""
          }
         },
         "name": "Échirolles",
         "offsetgroup": "Échirolles",
         "orientation": "v",
         "showlegend": true,
         "textposition": "auto",
         "type": "bar",
         "x": [
          2019,
          2018,
          2017,
          2016,
          2015,
          2014,
          2013,
          2012,
          2011,
          2010,
          2009,
          2008,
          2007
         ],
         "xaxis": "x",
         "y": [
          514,
          535,
          598,
          569,
          534,
          588,
          572,
          572,
          550,
          617,
          553,
          547,
          553
         ],
         "yaxis": "y"
        },
        {
         "alignmentgroup": "True",
         "hovertemplate": "commune=Bresson<br>Année=%{x}<br>Nombre de naissances=%{y}<extra></extra>",
         "legendgroup": "Bresson",
         "marker": {
          "color": "#636efa",
          "pattern": {
           "shape": ""
          }
         },
         "name": "Bresson",
         "offsetgroup": "Bresson",
         "orientation": "v",
         "showlegend": true,
         "textposition": "auto",
         "type": "bar",
         "x": [
          2019,
          2018,
          2017,
          2016,
          2015,
          2014,
          2013,
          2012,
          2011,
          2010,
          2009,
          2008,
          2007
         ],
         "xaxis": "x",
         "y": [
          8,
          3,
          4,
          6,
          6,
          7,
          4,
          7,
          4,
          1,
          4,
          5,
          9
         ],
         "yaxis": "y"
        },
        {
         "alignmentgroup": "True",
         "hovertemplate": "commune=Sassenage<br>Année=%{x}<br>Nombre de naissances=%{y}<extra></extra>",
         "legendgroup": "Sassenage",
         "marker": {
          "color": "#EF553B",
          "pattern": {
           "shape": ""
          }
         },
         "name": "Sassenage",
         "offsetgroup": "Sassenage",
         "orientation": "v",
         "showlegend": true,
         "textposition": "auto",
         "type": "bar",
         "x": [
          2019,
          2018,
          2017,
          2016,
          2015,
          2014,
          2013,
          2012,
          2011,
          2010,
          2009,
          2008,
          2007
         ],
         "xaxis": "x",
         "y": [
          98,
          110,
          129,
          114,
          140,
          143,
          160,
          146,
          158,
          182,
          140,
          158,
          134
         ],
         "yaxis": "y"
        },
        {
         "alignmentgroup": "True",
         "hovertemplate": "commune=Murianette<br>Année=%{x}<br>Nombre de naissances=%{y}<extra></extra>",
         "legendgroup": "Murianette",
         "marker": {
          "color": "#00cc96",
          "pattern": {
           "shape": ""
          }
         },
         "name": "Murianette",
         "offsetgroup": "Murianette",
         "orientation": "v",
         "showlegend": true,
         "textposition": "auto",
         "type": "bar",
         "x": [
          2019,
          2018,
          2017,
          2016,
          2015,
          2014,
          2013,
          2012,
          2011,
          2010,
          2009,
          2008,
          2007
         ],
         "xaxis": "x",
         "y": [
          4,
          3,
          10,
          5,
          14,
          7,
          14,
          7,
          8,
          15,
          5,
          8,
          5
         ],
         "yaxis": "y"
        },
        {
         "alignmentgroup": "True",
         "hovertemplate": "commune=Vaulnaveys-le-Haut<br>Année=%{x}<br>Nombre de naissances=%{y}<extra></extra>",
         "legendgroup": "Vaulnaveys-le-Haut",
         "marker": {
          "color": "#ab63fa",
          "pattern": {
           "shape": ""
          }
         },
         "name": "Vaulnaveys-le-Haut",
         "offsetgroup": "Vaulnaveys-le-Haut",
         "orientation": "v",
         "showlegend": true,
         "textposition": "auto",
         "type": "bar",
         "x": [
          2019,
          2018,
          2017,
          2016,
          2015,
          2014,
          2013,
          2012,
          2011,
          2010,
          2009,
          2008,
          2007
         ],
         "xaxis": "x",
         "y": [
          40,
          49,
          40,
          44,
          26,
          42,
          37,
          48,
          35,
          40,
          39,
          38,
          32
         ],
         "yaxis": "y"
        },
        {
         "alignmentgroup": "True",
         "hovertemplate": "commune=Domène<br>Année=%{x}<br>Nombre de naissances=%{y}<extra></extra>",
         "legendgroup": "Domène",
         "marker": {
          "color": "#FFA15A",
          "pattern": {
           "shape": ""
          }
         },
         "name": "Domène",
         "offsetgroup": "Domène",
         "orientation": "v",
         "showlegend": true,
         "textposition": "auto",
         "type": "bar",
         "x": [
          2019,
          2018,
          2017,
          2016,
          2015,
          2014,
          2013,
          2012,
          2011,
          2010,
          2009,
          2008,
          2007
         ],
         "xaxis": "x",
         "y": [
          73,
          61,
          69,
          79,
          92,
          73,
          74,
          85,
          84,
          95,
          85,
          75,
          96
         ],
         "yaxis": "y"
        },
        {
         "alignmentgroup": "True",
         "hovertemplate": "commune=Champ-sur-Drac<br>Année=%{x}<br>Nombre de naissances=%{y}<extra></extra>",
         "legendgroup": "Champ-sur-Drac",
         "marker": {
          "color": "#19d3f3",
          "pattern": {
           "shape": ""
          }
         },
         "name": "Champ-sur-Drac",
         "offsetgroup": "Champ-sur-Drac",
         "orientation": "v",
         "showlegend": true,
         "textposition": "auto",
         "type": "bar",
         "x": [
          2019,
          2018,
          2017,
          2016,
          2015,
          2014,
          2013,
          2012,
          2011,
          2010,
          2009,
          2008,
          2007
         ],
         "xaxis": "x",
         "y": [
          36,
          16,
          23,
          35,
          18,
          22,
          28,
          41,
          33,
          33,
          26,
          29,
          27
         ],
         "yaxis": "y"
        },
        {
         "alignmentgroup": "True",
         "hovertemplate": "commune=Poisat<br>Année=%{x}<br>Nombre de naissances=%{y}<extra></extra>",
         "legendgroup": "Poisat",
         "marker": {
          "color": "#FF6692",
          "pattern": {
           "shape": ""
          }
         },
         "name": "Poisat",
         "offsetgroup": "Poisat",
         "orientation": "v",
         "showlegend": true,
         "textposition": "auto",
         "type": "bar",
         "x": [
          2019,
          2018,
          2017,
          2016,
          2015,
          2014,
          2013,
          2012,
          2011,
          2010,
          2009,
          2008,
          2007
         ],
         "xaxis": "x",
         "y": [
          20,
          20,
          14,
          17,
          18,
          21,
          21,
          20,
          15,
          15,
          15,
          26,
          18
         ],
         "yaxis": "y"
        },
        {
         "alignmentgroup": "True",
         "hovertemplate": "commune=Meylan<br>Année=%{x}<br>Nombre de naissances=%{y}<extra></extra>",
         "legendgroup": "Meylan",
         "marker": {
          "color": "#B6E880",
          "pattern": {
           "shape": ""
          }
         },
         "name": "Meylan",
         "offsetgroup": "Meylan",
         "orientation": "v",
         "showlegend": true,
         "textposition": "auto",
         "type": "bar",
         "x": [
          2019,
          2018,
          2017,
          2016,
          2015,
          2014,
          2013,
          2012,
          2011,
          2010,
          2009,
          2008,
          2007
         ],
         "xaxis": "x",
         "y": [
          170,
          176,
          177,
          169,
          139,
          135,
          176,
          152,
          162,
          179,
          173,
          159,
          168
         ],
         "yaxis": "y"
        },
        {
         "alignmentgroup": "True",
         "hovertemplate": "commune=Fontaine<br>Année=%{x}<br>Nombre de naissances=%{y}<extra></extra>",
         "legendgroup": "Fontaine",
         "marker": {
          "color": "#FF97FF",
          "pattern": {
           "shape": ""
          }
         },
         "name": "Fontaine",
         "offsetgroup": "Fontaine",
         "orientation": "v",
         "showlegend": true,
         "textposition": "auto",
         "type": "bar",
         "x": [
          2019,
          2018,
          2017,
          2016,
          2015,
          2014,
          2013,
          2012,
          2011,
          2010,
          2009,
          2008,
          2007
         ],
         "xaxis": "x",
         "y": [
          311,
          323,
          314,
          286,
          302,
          351,
          329,
          315,
          341,
          340,
          350,
          341,
          320
         ],
         "yaxis": "y"
        },
        {
         "alignmentgroup": "True",
         "hovertemplate": "commune=Séchilienne<br>Année=%{x}<br>Nombre de naissances=%{y}<extra></extra>",
         "legendgroup": "Séchilienne",
         "marker": {
          "color": "#FECB52",
          "pattern": {
           "shape": ""
          }
         },
         "name": "Séchilienne",
         "offsetgroup": "Séchilienne",
         "orientation": "v",
         "showlegend": true,
         "textposition": "auto",
         "type": "bar",
         "x": [
          2019,
          2018,
          2017,
          2016,
          2015,
          2014,
          2013,
          2012,
          2011,
          2010,
          2009,
          2008,
          2007
         ],
         "xaxis": "x",
         "y": [
          8,
          13,
          11,
          7,
          16,
          8,
          16,
          7,
          13,
          13,
          12,
          10,
          4
         ],
         "yaxis": "y"
        },
        {
         "alignmentgroup": "True",
         "hovertemplate": "commune=Grenoble<br>Année=%{x}<br>Nombre de naissances=%{y}<extra></extra>",
         "legendgroup": "Grenoble",
         "marker": {
          "color": "#636efa",
          "pattern": {
           "shape": ""
          }
         },
         "name": "Grenoble",
         "offsetgroup": "Grenoble",
         "orientation": "v",
         "showlegend": true,
         "textposition": "auto",
         "type": "bar",
         "x": [
          2019,
          2018,
          2017,
          2016,
          2015,
          2014,
          2013,
          2012,
          2011,
          2010,
          2009,
          2008,
          2007
         ],
         "xaxis": "x",
         "y": [
          2057,
          2122,
          2222,
          2227,
          2308,
          2419,
          2367,
          2343,
          2359,
          2445,
          2344,
          2297,
          2311
         ],
         "yaxis": "y"
        },
        {
         "alignmentgroup": "True",
         "hovertemplate": "commune=Vif<br>Année=%{x}<br>Nombre de naissances=%{y}<extra></extra>",
         "legendgroup": "Vif",
         "marker": {
          "color": "#EF553B",
          "pattern": {
           "shape": ""
          }
         },
         "name": "Vif",
         "offsetgroup": "Vif",
         "orientation": "v",
         "showlegend": true,
         "textposition": "auto",
         "type": "bar",
         "x": [
          2019,
          2018,
          2017,
          2016,
          2015,
          2014,
          2013,
          2012,
          2011,
          2010,
          2009,
          2008,
          2007
         ],
         "xaxis": "x",
         "y": [
          79,
          80,
          96,
          83,
          101,
          77,
          90,
          70,
          66,
          74,
          82,
          95,
          84
         ],
         "yaxis": "y"
        },
        {
         "alignmentgroup": "True",
         "hovertemplate": "commune=Montchaboud<br>Année=%{x}<br>Nombre de naissances=%{y}<extra></extra>",
         "legendgroup": "Montchaboud",
         "marker": {
          "color": "#00cc96",
          "pattern": {
           "shape": ""
          }
         },
         "name": "Montchaboud",
         "offsetgroup": "Montchaboud",
         "orientation": "v",
         "showlegend": true,
         "textposition": "auto",
         "type": "bar",
         "x": [
          2019,
          2018,
          2017,
          2016,
          2015,
          2014,
          2013,
          2012,
          2011,
          2010,
          2009,
          2008,
          2007
         ],
         "xaxis": "x",
         "y": [
          4,
          4,
          2,
          1,
          2,
          1,
          1,
          2,
          3,
          2,
          3,
          3,
          4
         ],
         "yaxis": "y"
        },
        {
         "alignmentgroup": "True",
         "hovertemplate": "commune=Brié-et-Angonnes<br>Année=%{x}<br>Nombre de naissances=%{y}<extra></extra>",
         "legendgroup": "Brié-et-Angonnes",
         "marker": {
          "color": "#ab63fa",
          "pattern": {
           "shape": ""
          }
         },
         "name": "Brié-et-Angonnes",
         "offsetgroup": "Brié-et-Angonnes",
         "orientation": "v",
         "showlegend": true,
         "textposition": "auto",
         "type": "bar",
         "x": [
          2019,
          2018,
          2017,
          2016,
          2015,
          2014,
          2013,
          2012,
          2011,
          2010,
          2009,
          2008,
          2007
         ],
         "xaxis": "x",
         "y": [
          16,
          17,
          26,
          18,
          21,
          24,
          22,
          18,
          25,
          20,
          14,
          26,
          20
         ],
         "yaxis": "y"
        },
        {
         "alignmentgroup": "True",
         "hovertemplate": "commune=Claix<br>Année=%{x}<br>Nombre de naissances=%{y}<extra></extra>",
         "legendgroup": "Claix",
         "marker": {
          "color": "#FFA15A",
          "pattern": {
           "shape": ""
          }
         },
         "name": "Claix",
         "offsetgroup": "Claix",
         "orientation": "v",
         "showlegend": true,
         "textposition": "auto",
         "type": "bar",
         "x": [
          2019,
          2018,
          2017,
          2016,
          2015,
          2014,
          2013,
          2012,
          2011,
          2010,
          2009,
          2008,
          2007
         ],
         "xaxis": "x",
         "y": [
          62,
          67,
          72,
          60,
          62,
          73,
          70,
          51,
          52,
          69,
          59,
          66,
          68
         ],
         "yaxis": "y"
        },
        {
         "alignmentgroup": "True",
         "hovertemplate": "commune=Corenc<br>Année=%{x}<br>Nombre de naissances=%{y}<extra></extra>",
         "legendgroup": "Corenc",
         "marker": {
          "color": "#19d3f3",
          "pattern": {
           "shape": ""
          }
         },
         "name": "Corenc",
         "offsetgroup": "Corenc",
         "orientation": "v",
         "showlegend": true,
         "textposition": "auto",
         "type": "bar",
         "x": [
          2019,
          2018,
          2017,
          2016,
          2015,
          2014,
          2013,
          2012,
          2011,
          2010,
          2009,
          2008,
          2007
         ],
         "xaxis": "x",
         "y": [
          26,
          26,
          39,
          24,
          18,
          27,
          24,
          27,
          25,
          30,
          23,
          16,
          12
         ],
         "yaxis": "y"
        },
        {
         "alignmentgroup": "True",
         "hovertemplate": "commune=Saint-Paul-de-Varces<br>Année=%{x}<br>Nombre de naissances=%{y}<extra></extra>",
         "legendgroup": "Saint-Paul-de-Varces",
         "marker": {
          "color": "#FF6692",
          "pattern": {
           "shape": ""
          }
         },
         "name": "Saint-Paul-de-Varces",
         "offsetgroup": "Saint-Paul-de-Varces",
         "orientation": "v",
         "showlegend": true,
         "textposition": "auto",
         "type": "bar",
         "x": [
          2019,
          2018,
          2017,
          2016,
          2015,
          2014,
          2013,
          2012,
          2011,
          2010,
          2009,
          2008,
          2007
         ],
         "xaxis": "x",
         "y": [
          21,
          18,
          19,
          16,
          22,
          24,
          23,
          15,
          16,
          17,
          17,
          18,
          13
         ],
         "yaxis": "y"
        },
        {
         "alignmentgroup": "True",
         "hovertemplate": "commune=Venon<br>Année=%{x}<br>Nombre de naissances=%{y}<extra></extra>",
         "legendgroup": "Venon",
         "marker": {
          "color": "#B6E880",
          "pattern": {
           "shape": ""
          }
         },
         "name": "Venon",
         "offsetgroup": "Venon",
         "orientation": "v",
         "showlegend": true,
         "textposition": "auto",
         "type": "bar",
         "x": [
          2019,
          2018,
          2017,
          2016,
          2015,
          2014,
          2013,
          2012,
          2011,
          2010,
          2009,
          2008,
          2007
         ],
         "xaxis": "x",
         "y": [
          11,
          6,
          6,
          6,
          4,
          4,
          4,
          5,
          3,
          11,
          4,
          7,
          4
         ],
         "yaxis": "y"
        },
        {
         "alignmentgroup": "True",
         "hovertemplate": "commune=Le Pont-de-Claix<br>Année=%{x}<br>Nombre de naissances=%{y}<extra></extra>",
         "legendgroup": "Le Pont-de-Claix",
         "marker": {
          "color": "#FF97FF",
          "pattern": {
           "shape": ""
          }
         },
         "name": "Le Pont-de-Claix",
         "offsetgroup": "Le Pont-de-Claix",
         "orientation": "v",
         "showlegend": true,
         "textposition": "auto",
         "type": "bar",
         "x": [
          2019,
          2018,
          2017,
          2016,
          2015,
          2014,
          2013,
          2012,
          2011,
          2010,
          2009,
          2008,
          2007
         ],
         "xaxis": "x",
         "y": [
          132,
          157,
          142,
          146,
          161,
          164,
          180,
          186,
          170,
          162,
          193,
          155,
          205
         ],
         "yaxis": "y"
        }
       ],
       "layout": {
        "barmode": "relative",
        "legend": {
         "title": {
          "text": "commune"
         },
         "tracegroupgap": 0
        },
        "template": {
         "data": {
          "bar": [
           {
            "error_x": {
             "color": "#2a3f5f"
            },
            "error_y": {
             "color": "#2a3f5f"
            },
            "marker": {
             "line": {
              "color": "#E5ECF6",
              "width": 0.5
             },
             "pattern": {
              "fillmode": "overlay",
              "size": 10,
              "solidity": 0.2
             }
            },
            "type": "bar"
           }
          ],
          "barpolar": [
           {
            "marker": {
             "line": {
              "color": "#E5ECF6",
              "width": 0.5
             },
             "pattern": {
              "fillmode": "overlay",
              "size": 10,
              "solidity": 0.2
             }
            },
            "type": "barpolar"
           }
          ],
          "carpet": [
           {
            "aaxis": {
             "endlinecolor": "#2a3f5f",
             "gridcolor": "white",
             "linecolor": "white",
             "minorgridcolor": "white",
             "startlinecolor": "#2a3f5f"
            },
            "baxis": {
             "endlinecolor": "#2a3f5f",
             "gridcolor": "white",
             "linecolor": "white",
             "minorgridcolor": "white",
             "startlinecolor": "#2a3f5f"
            },
            "type": "carpet"
           }
          ],
          "choropleth": [
           {
            "colorbar": {
             "outlinewidth": 0,
             "ticks": ""
            },
            "type": "choropleth"
           }
          ],
          "contour": [
           {
            "colorbar": {
             "outlinewidth": 0,
             "ticks": ""
            },
            "colorscale": [
             [
              0,
              "#0d0887"
             ],
             [
              0.1111111111111111,
              "#46039f"
             ],
             [
              0.2222222222222222,
              "#7201a8"
             ],
             [
              0.3333333333333333,
              "#9c179e"
             ],
             [
              0.4444444444444444,
              "#bd3786"
             ],
             [
              0.5555555555555556,
              "#d8576b"
             ],
             [
              0.6666666666666666,
              "#ed7953"
             ],
             [
              0.7777777777777778,
              "#fb9f3a"
             ],
             [
              0.8888888888888888,
              "#fdca26"
             ],
             [
              1,
              "#f0f921"
             ]
            ],
            "type": "contour"
           }
          ],
          "contourcarpet": [
           {
            "colorbar": {
             "outlinewidth": 0,
             "ticks": ""
            },
            "type": "contourcarpet"
           }
          ],
          "heatmap": [
           {
            "colorbar": {
             "outlinewidth": 0,
             "ticks": ""
            },
            "colorscale": [
             [
              0,
              "#0d0887"
             ],
             [
              0.1111111111111111,
              "#46039f"
             ],
             [
              0.2222222222222222,
              "#7201a8"
             ],
             [
              0.3333333333333333,
              "#9c179e"
             ],
             [
              0.4444444444444444,
              "#bd3786"
             ],
             [
              0.5555555555555556,
              "#d8576b"
             ],
             [
              0.6666666666666666,
              "#ed7953"
             ],
             [
              0.7777777777777778,
              "#fb9f3a"
             ],
             [
              0.8888888888888888,
              "#fdca26"
             ],
             [
              1,
              "#f0f921"
             ]
            ],
            "type": "heatmap"
           }
          ],
          "heatmapgl": [
           {
            "colorbar": {
             "outlinewidth": 0,
             "ticks": ""
            },
            "colorscale": [
             [
              0,
              "#0d0887"
             ],
             [
              0.1111111111111111,
              "#46039f"
             ],
             [
              0.2222222222222222,
              "#7201a8"
             ],
             [
              0.3333333333333333,
              "#9c179e"
             ],
             [
              0.4444444444444444,
              "#bd3786"
             ],
             [
              0.5555555555555556,
              "#d8576b"
             ],
             [
              0.6666666666666666,
              "#ed7953"
             ],
             [
              0.7777777777777778,
              "#fb9f3a"
             ],
             [
              0.8888888888888888,
              "#fdca26"
             ],
             [
              1,
              "#f0f921"
             ]
            ],
            "type": "heatmapgl"
           }
          ],
          "histogram": [
           {
            "marker": {
             "pattern": {
              "fillmode": "overlay",
              "size": 10,
              "solidity": 0.2
             }
            },
            "type": "histogram"
           }
          ],
          "histogram2d": [
           {
            "colorbar": {
             "outlinewidth": 0,
             "ticks": ""
            },
            "colorscale": [
             [
              0,
              "#0d0887"
             ],
             [
              0.1111111111111111,
              "#46039f"
             ],
             [
              0.2222222222222222,
              "#7201a8"
             ],
             [
              0.3333333333333333,
              "#9c179e"
             ],
             [
              0.4444444444444444,
              "#bd3786"
             ],
             [
              0.5555555555555556,
              "#d8576b"
             ],
             [
              0.6666666666666666,
              "#ed7953"
             ],
             [
              0.7777777777777778,
              "#fb9f3a"
             ],
             [
              0.8888888888888888,
              "#fdca26"
             ],
             [
              1,
              "#f0f921"
             ]
            ],
            "type": "histogram2d"
           }
          ],
          "histogram2dcontour": [
           {
            "colorbar": {
             "outlinewidth": 0,
             "ticks": ""
            },
            "colorscale": [
             [
              0,
              "#0d0887"
             ],
             [
              0.1111111111111111,
              "#46039f"
             ],
             [
              0.2222222222222222,
              "#7201a8"
             ],
             [
              0.3333333333333333,
              "#9c179e"
             ],
             [
              0.4444444444444444,
              "#bd3786"
             ],
             [
              0.5555555555555556,
              "#d8576b"
             ],
             [
              0.6666666666666666,
              "#ed7953"
             ],
             [
              0.7777777777777778,
              "#fb9f3a"
             ],
             [
              0.8888888888888888,
              "#fdca26"
             ],
             [
              1,
              "#f0f921"
             ]
            ],
            "type": "histogram2dcontour"
           }
          ],
          "mesh3d": [
           {
            "colorbar": {
             "outlinewidth": 0,
             "ticks": ""
            },
            "type": "mesh3d"
           }
          ],
          "parcoords": [
           {
            "line": {
             "colorbar": {
              "outlinewidth": 0,
              "ticks": ""
             }
            },
            "type": "parcoords"
           }
          ],
          "pie": [
           {
            "automargin": true,
            "type": "pie"
           }
          ],
          "scatter": [
           {
            "fillpattern": {
             "fillmode": "overlay",
             "size": 10,
             "solidity": 0.2
            },
            "type": "scatter"
           }
          ],
          "scatter3d": [
           {
            "line": {
             "colorbar": {
              "outlinewidth": 0,
              "ticks": ""
             }
            },
            "marker": {
             "colorbar": {
              "outlinewidth": 0,
              "ticks": ""
             }
            },
            "type": "scatter3d"
           }
          ],
          "scattercarpet": [
           {
            "marker": {
             "colorbar": {
              "outlinewidth": 0,
              "ticks": ""
             }
            },
            "type": "scattercarpet"
           }
          ],
          "scattergeo": [
           {
            "marker": {
             "colorbar": {
              "outlinewidth": 0,
              "ticks": ""
             }
            },
            "type": "scattergeo"
           }
          ],
          "scattergl": [
           {
            "marker": {
             "colorbar": {
              "outlinewidth": 0,
              "ticks": ""
             }
            },
            "type": "scattergl"
           }
          ],
          "scattermapbox": [
           {
            "marker": {
             "colorbar": {
              "outlinewidth": 0,
              "ticks": ""
             }
            },
            "type": "scattermapbox"
           }
          ],
          "scatterpolar": [
           {
            "marker": {
             "colorbar": {
              "outlinewidth": 0,
              "ticks": ""
             }
            },
            "type": "scatterpolar"
           }
          ],
          "scatterpolargl": [
           {
            "marker": {
             "colorbar": {
              "outlinewidth": 0,
              "ticks": ""
             }
            },
            "type": "scatterpolargl"
           }
          ],
          "scatterternary": [
           {
            "marker": {
             "colorbar": {
              "outlinewidth": 0,
              "ticks": ""
             }
            },
            "type": "scatterternary"
           }
          ],
          "surface": [
           {
            "colorbar": {
             "outlinewidth": 0,
             "ticks": ""
            },
            "colorscale": [
             [
              0,
              "#0d0887"
             ],
             [
              0.1111111111111111,
              "#46039f"
             ],
             [
              0.2222222222222222,
              "#7201a8"
             ],
             [
              0.3333333333333333,
              "#9c179e"
             ],
             [
              0.4444444444444444,
              "#bd3786"
             ],
             [
              0.5555555555555556,
              "#d8576b"
             ],
             [
              0.6666666666666666,
              "#ed7953"
             ],
             [
              0.7777777777777778,
              "#fb9f3a"
             ],
             [
              0.8888888888888888,
              "#fdca26"
             ],
             [
              1,
              "#f0f921"
             ]
            ],
            "type": "surface"
           }
          ],
          "table": [
           {
            "cells": {
             "fill": {
              "color": "#EBF0F8"
             },
             "line": {
              "color": "white"
             }
            },
            "header": {
             "fill": {
              "color": "#C8D4E3"
             },
             "line": {
              "color": "white"
             }
            },
            "type": "table"
           }
          ]
         },
         "layout": {
          "annotationdefaults": {
           "arrowcolor": "#2a3f5f",
           "arrowhead": 0,
           "arrowwidth": 1
          },
          "autotypenumbers": "strict",
          "coloraxis": {
           "colorbar": {
            "outlinewidth": 0,
            "ticks": ""
           }
          },
          "colorscale": {
           "diverging": [
            [
             0,
             "#8e0152"
            ],
            [
             0.1,
             "#c51b7d"
            ],
            [
             0.2,
             "#de77ae"
            ],
            [
             0.3,
             "#f1b6da"
            ],
            [
             0.4,
             "#fde0ef"
            ],
            [
             0.5,
             "#f7f7f7"
            ],
            [
             0.6,
             "#e6f5d0"
            ],
            [
             0.7,
             "#b8e186"
            ],
            [
             0.8,
             "#7fbc41"
            ],
            [
             0.9,
             "#4d9221"
            ],
            [
             1,
             "#276419"
            ]
           ],
           "sequential": [
            [
             0,
             "#0d0887"
            ],
            [
             0.1111111111111111,
             "#46039f"
            ],
            [
             0.2222222222222222,
             "#7201a8"
            ],
            [
             0.3333333333333333,
             "#9c179e"
            ],
            [
             0.4444444444444444,
             "#bd3786"
            ],
            [
             0.5555555555555556,
             "#d8576b"
            ],
            [
             0.6666666666666666,
             "#ed7953"
            ],
            [
             0.7777777777777778,
             "#fb9f3a"
            ],
            [
             0.8888888888888888,
             "#fdca26"
            ],
            [
             1,
             "#f0f921"
            ]
           ],
           "sequentialminus": [
            [
             0,
             "#0d0887"
            ],
            [
             0.1111111111111111,
             "#46039f"
            ],
            [
             0.2222222222222222,
             "#7201a8"
            ],
            [
             0.3333333333333333,
             "#9c179e"
            ],
            [
             0.4444444444444444,
             "#bd3786"
            ],
            [
             0.5555555555555556,
             "#d8576b"
            ],
            [
             0.6666666666666666,
             "#ed7953"
            ],
            [
             0.7777777777777778,
             "#fb9f3a"
            ],
            [
             0.8888888888888888,
             "#fdca26"
            ],
            [
             1,
             "#f0f921"
            ]
           ]
          },
          "colorway": [
           "#636efa",
           "#EF553B",
           "#00cc96",
           "#ab63fa",
           "#FFA15A",
           "#19d3f3",
           "#FF6692",
           "#B6E880",
           "#FF97FF",
           "#FECB52"
          ],
          "font": {
           "color": "#2a3f5f"
          },
          "geo": {
           "bgcolor": "white",
           "lakecolor": "white",
           "landcolor": "#E5ECF6",
           "showlakes": true,
           "showland": true,
           "subunitcolor": "white"
          },
          "hoverlabel": {
           "align": "left"
          },
          "hovermode": "closest",
          "mapbox": {
           "style": "light"
          },
          "paper_bgcolor": "white",
          "plot_bgcolor": "#E5ECF6",
          "polar": {
           "angularaxis": {
            "gridcolor": "white",
            "linecolor": "white",
            "ticks": ""
           },
           "bgcolor": "#E5ECF6",
           "radialaxis": {
            "gridcolor": "white",
            "linecolor": "white",
            "ticks": ""
           }
          },
          "scene": {
           "xaxis": {
            "backgroundcolor": "#E5ECF6",
            "gridcolor": "white",
            "gridwidth": 2,
            "linecolor": "white",
            "showbackground": true,
            "ticks": "",
            "zerolinecolor": "white"
           },
           "yaxis": {
            "backgroundcolor": "#E5ECF6",
            "gridcolor": "white",
            "gridwidth": 2,
            "linecolor": "white",
            "showbackground": true,
            "ticks": "",
            "zerolinecolor": "white"
           },
           "zaxis": {
            "backgroundcolor": "#E5ECF6",
            "gridcolor": "white",
            "gridwidth": 2,
            "linecolor": "white",
            "showbackground": true,
            "ticks": "",
            "zerolinecolor": "white"
           }
          },
          "shapedefaults": {
           "line": {
            "color": "#2a3f5f"
           }
          },
          "ternary": {
           "aaxis": {
            "gridcolor": "white",
            "linecolor": "white",
            "ticks": ""
           },
           "baxis": {
            "gridcolor": "white",
            "linecolor": "white",
            "ticks": ""
           },
           "bgcolor": "#E5ECF6",
           "caxis": {
            "gridcolor": "white",
            "linecolor": "white",
            "ticks": ""
           }
          },
          "title": {
           "x": 0.05
          },
          "xaxis": {
           "automargin": true,
           "gridcolor": "white",
           "linecolor": "white",
           "ticks": "",
           "title": {
            "standoff": 15
           },
           "zerolinecolor": "white",
           "zerolinewidth": 2
          },
          "yaxis": {
           "automargin": true,
           "gridcolor": "white",
           "linecolor": "white",
           "ticks": "",
           "title": {
            "standoff": 15
           },
           "zerolinecolor": "white",
           "zerolinewidth": 2
          }
         }
        },
        "title": {
         "text": "Evolution du nombre de naissances à Grenoble"
        },
        "xaxis": {
         "anchor": "y",
         "domain": [
          0,
          1
         ],
         "title": {
          "text": "Année"
         }
        },
        "yaxis": {
         "anchor": "x",
         "domain": [
          0,
          1
         ],
         "title": {
          "text": "Nombre de naissances"
         }
        }
       }
      },
      "text/html": [
       "<div>                            <div id=\"2cde6eb0-b151-4431-be18-bc58679ac189\" class=\"plotly-graph-div\" style=\"height:525px; width:100%;\"></div>            <script type=\"text/javascript\">                require([\"plotly\"], function(Plotly) {                    window.PLOTLYENV=window.PLOTLYENV || {};                                    if (document.getElementById(\"2cde6eb0-b151-4431-be18-bc58679ac189\")) {                    Plotly.newPlot(                        \"2cde6eb0-b151-4431-be18-bc58679ac189\",                        [{\"alignmentgroup\":\"True\",\"hovertemplate\":\"commune=Vizille<br>Ann\\u00e9e=%{x}<br>Nombre de naissances=%{y}<extra></extra>\",\"legendgroup\":\"Vizille\",\"marker\":{\"color\":\"#636efa\",\"pattern\":{\"shape\":\"\"}},\"name\":\"Vizille\",\"offsetgroup\":\"Vizille\",\"orientation\":\"v\",\"showlegend\":true,\"textposition\":\"auto\",\"x\":[2019,2018,2017,2016,2015,2014,2013,2012,2011,2010,2009,2008,2007],\"xaxis\":\"x\",\"y\":[89,80,72,84,102,86,92,92,120,103,107,125,103],\"yaxis\":\"y\",\"type\":\"bar\"},{\"alignmentgroup\":\"True\",\"hovertemplate\":\"commune=Notre-Dame-de-Commiers<br>Ann\\u00e9e=%{x}<br>Nombre de naissances=%{y}<extra></extra>\",\"legendgroup\":\"Notre-Dame-de-Commiers\",\"marker\":{\"color\":\"#EF553B\",\"pattern\":{\"shape\":\"\"}},\"name\":\"Notre-Dame-de-Commiers\",\"offsetgroup\":\"Notre-Dame-de-Commiers\",\"orientation\":\"v\",\"showlegend\":true,\"textposition\":\"auto\",\"x\":[2019,2018,2017,2016,2015,2014,2013,2012,2011,2010,2009,2008,2007],\"xaxis\":\"x\",\"y\":[5,5,5,12,6,9,4,6,6,3,5,10,10],\"yaxis\":\"y\",\"type\":\"bar\"},{\"alignmentgroup\":\"True\",\"hovertemplate\":\"commune=Le Fontanil-Cornillon<br>Ann\\u00e9e=%{x}<br>Nombre de naissances=%{y}<extra></extra>\",\"legendgroup\":\"Le Fontanil-Cornillon\",\"marker\":{\"color\":\"#00cc96\",\"pattern\":{\"shape\":\"\"}},\"name\":\"Le Fontanil-Cornillon\",\"offsetgroup\":\"Le Fontanil-Cornillon\",\"orientation\":\"v\",\"showlegend\":true,\"textposition\":\"auto\",\"x\":[2019,2018,2017,2016,2015,2014,2013,2012,2011,2010,2009,2008,2007],\"xaxis\":\"x\",\"y\":[42,40,24,32,28,32,24,37,45,26,37,44,38],\"yaxis\":\"y\",\"type\":\"bar\"},{\"alignmentgroup\":\"True\",\"hovertemplate\":\"commune=Saint-Martin-le-Vinoux<br>Ann\\u00e9e=%{x}<br>Nombre de naissances=%{y}<extra></extra>\",\"legendgroup\":\"Saint-Martin-le-Vinoux\",\"marker\":{\"color\":\"#ab63fa\",\"pattern\":{\"shape\":\"\"}},\"name\":\"Saint-Martin-le-Vinoux\",\"offsetgroup\":\"Saint-Martin-le-Vinoux\",\"orientation\":\"v\",\"showlegend\":true,\"textposition\":\"auto\",\"x\":[2019,2018,2017,2016,2015,2014,2013,2012,2011,2010,2009,2008,2007],\"xaxis\":\"x\",\"y\":[90,86,83,81,87,99,83,74,67,80,82,75,74],\"yaxis\":\"y\",\"type\":\"bar\"},{\"alignmentgroup\":\"True\",\"hovertemplate\":\"commune=Seyssinet-Pariset<br>Ann\\u00e9e=%{x}<br>Nombre de naissances=%{y}<extra></extra>\",\"legendgroup\":\"Seyssinet-Pariset\",\"marker\":{\"color\":\"#FFA15A\",\"pattern\":{\"shape\":\"\"}},\"name\":\"Seyssinet-Pariset\",\"offsetgroup\":\"Seyssinet-Pariset\",\"orientation\":\"v\",\"showlegend\":true,\"textposition\":\"auto\",\"x\":[2019,2018,2017,2016,2015,2014,2013,2012,2011,2010,2009,2008,2007],\"xaxis\":\"x\",\"y\":[120,120,133,146,143,156,162,154,141,174,166,151,166],\"yaxis\":\"y\",\"type\":\"bar\"},{\"alignmentgroup\":\"True\",\"hovertemplate\":\"commune=Le Sappey-en-Chartreuse<br>Ann\\u00e9e=%{x}<br>Nombre de naissances=%{y}<extra></extra>\",\"legendgroup\":\"Le Sappey-en-Chartreuse\",\"marker\":{\"color\":\"#19d3f3\",\"pattern\":{\"shape\":\"\"}},\"name\":\"Le Sappey-en-Chartreuse\",\"offsetgroup\":\"Le Sappey-en-Chartreuse\",\"orientation\":\"v\",\"showlegend\":true,\"textposition\":\"auto\",\"x\":[2019,2018,2017,2016,2015,2014,2013,2012,2011,2010,2009,2008,2007],\"xaxis\":\"x\",\"y\":[13,13,21,15,17,14,17,10,16,12,16,27,9],\"yaxis\":\"y\",\"type\":\"bar\"},{\"alignmentgroup\":\"True\",\"hovertemplate\":\"commune=Saint-Georges-de-Commiers<br>Ann\\u00e9e=%{x}<br>Nombre de naissances=%{y}<extra></extra>\",\"legendgroup\":\"Saint-Georges-de-Commiers\",\"marker\":{\"color\":\"#FF6692\",\"pattern\":{\"shape\":\"\"}},\"name\":\"Saint-Georges-de-Commiers\",\"offsetgroup\":\"Saint-Georges-de-Commiers\",\"orientation\":\"v\",\"showlegend\":true,\"textposition\":\"auto\",\"x\":[2019,2018,2017,2016,2015,2014,2013,2012,2011,2010,2009,2008,2007],\"xaxis\":\"x\",\"y\":[22,19,26,23,15,21,29,19,20,12,26,26,13],\"yaxis\":\"y\",\"type\":\"bar\"},{\"alignmentgroup\":\"True\",\"hovertemplate\":\"commune=Le Gua<br>Ann\\u00e9e=%{x}<br>Nombre de naissances=%{y}<extra></extra>\",\"legendgroup\":\"Le Gua\",\"marker\":{\"color\":\"#B6E880\",\"pattern\":{\"shape\":\"\"}},\"name\":\"Le Gua\",\"offsetgroup\":\"Le Gua\",\"orientation\":\"v\",\"showlegend\":true,\"textposition\":\"auto\",\"x\":[2019,2018,2017,2016,2015,2014,2013,2012,2011,2010,2009,2008,2007],\"xaxis\":\"x\",\"y\":[12,22,18,14,18,19,16,17,16,17,25,21,16],\"yaxis\":\"y\",\"type\":\"bar\"},{\"alignmentgroup\":\"True\",\"hovertemplate\":\"commune=Proveysieux<br>Ann\\u00e9e=%{x}<br>Nombre de naissances=%{y}<extra></extra>\",\"legendgroup\":\"Proveysieux\",\"marker\":{\"color\":\"#FF97FF\",\"pattern\":{\"shape\":\"\"}},\"name\":\"Proveysieux\",\"offsetgroup\":\"Proveysieux\",\"orientation\":\"v\",\"showlegend\":true,\"textposition\":\"auto\",\"x\":[2019,2018,2017,2016,2015,2014,2013,2012,2011,2010,2009,2008,2007],\"xaxis\":\"x\",\"y\":[8,4,6,7,3,10,6,11,4,6,6,10,13],\"yaxis\":\"y\",\"type\":\"bar\"},{\"alignmentgroup\":\"True\",\"hovertemplate\":\"commune=Noyarey<br>Ann\\u00e9e=%{x}<br>Nombre de naissances=%{y}<extra></extra>\",\"legendgroup\":\"Noyarey\",\"marker\":{\"color\":\"#FECB52\",\"pattern\":{\"shape\":\"\"}},\"name\":\"Noyarey\",\"offsetgroup\":\"Noyarey\",\"orientation\":\"v\",\"showlegend\":true,\"textposition\":\"auto\",\"x\":[2019,2018,2017,2016,2015,2014,2013,2012,2011,2010,2009,2008,2007],\"xaxis\":\"x\",\"y\":[26,28,14,27,22,19,18,20,26,22,16,25,28],\"yaxis\":\"y\",\"type\":\"bar\"},{\"alignmentgroup\":\"True\",\"hovertemplate\":\"commune=Veurey-Voroize<br>Ann\\u00e9e=%{x}<br>Nombre de naissances=%{y}<extra></extra>\",\"legendgroup\":\"Veurey-Voroize\",\"marker\":{\"color\":\"#636efa\",\"pattern\":{\"shape\":\"\"}},\"name\":\"Veurey-Voroize\",\"offsetgroup\":\"Veurey-Voroize\",\"orientation\":\"v\",\"showlegend\":true,\"textposition\":\"auto\",\"x\":[2019,2018,2017,2016,2015,2014,2013,2012,2011,2010,2009,2008,2007],\"xaxis\":\"x\",\"y\":[10,15,15,12,9,9,12,10,14,14,16,12,14],\"yaxis\":\"y\",\"type\":\"bar\"},{\"alignmentgroup\":\"True\",\"hovertemplate\":\"commune=Saint-\\u00c9gr\\u00e8ve<br>Ann\\u00e9e=%{x}<br>Nombre de naissances=%{y}<extra></extra>\",\"legendgroup\":\"Saint-\\u00c9gr\\u00e8ve\",\"marker\":{\"color\":\"#EF553B\",\"pattern\":{\"shape\":\"\"}},\"name\":\"Saint-\\u00c9gr\\u00e8ve\",\"offsetgroup\":\"Saint-\\u00c9gr\\u00e8ve\",\"orientation\":\"v\",\"showlegend\":true,\"textposition\":\"auto\",\"x\":[2019,2018,2017,2016,2015,2014,2013,2012,2011,2010,2009,2008,2007],\"xaxis\":\"x\",\"y\":[182,203,183,182,159,179,171,195,198,210,209,218,212],\"yaxis\":\"y\",\"type\":\"bar\"},{\"alignmentgroup\":\"True\",\"hovertemplate\":\"commune=Jarrie<br>Ann\\u00e9e=%{x}<br>Nombre de naissances=%{y}<extra></extra>\",\"legendgroup\":\"Jarrie\",\"marker\":{\"color\":\"#00cc96\",\"pattern\":{\"shape\":\"\"}},\"name\":\"Jarrie\",\"offsetgroup\":\"Jarrie\",\"orientation\":\"v\",\"showlegend\":true,\"textposition\":\"auto\",\"x\":[2019,2018,2017,2016,2015,2014,2013,2012,2011,2010,2009,2008,2007],\"xaxis\":\"x\",\"y\":[35,33,36,35,38,44,36,45,32,33,40,34,47],\"yaxis\":\"y\",\"type\":\"bar\"},{\"alignmentgroup\":\"True\",\"hovertemplate\":\"commune=Vaulnaveys-le-Bas<br>Ann\\u00e9e=%{x}<br>Nombre de naissances=%{y}<extra></extra>\",\"legendgroup\":\"Vaulnaveys-le-Bas\",\"marker\":{\"color\":\"#ab63fa\",\"pattern\":{\"shape\":\"\"}},\"name\":\"Vaulnaveys-le-Bas\",\"offsetgroup\":\"Vaulnaveys-le-Bas\",\"orientation\":\"v\",\"showlegend\":true,\"textposition\":\"auto\",\"x\":[2019,2018,2017,2016,2015,2014,2013,2012,2011,2010,2009,2008,2007],\"xaxis\":\"x\",\"y\":[13,5,9,14,17,8,17,15,11,9,13,9,11],\"yaxis\":\"y\",\"type\":\"bar\"},{\"alignmentgroup\":\"True\",\"hovertemplate\":\"commune=Saint-Martin-d'H\\u00e8res<br>Ann\\u00e9e=%{x}<br>Nombre de naissances=%{y}<extra></extra>\",\"legendgroup\":\"Saint-Martin-d'H\\u00e8res\",\"marker\":{\"color\":\"#FFA15A\",\"pattern\":{\"shape\":\"\"}},\"name\":\"Saint-Martin-d'H\\u00e8res\",\"offsetgroup\":\"Saint-Martin-d'H\\u00e8res\",\"orientation\":\"v\",\"showlegend\":true,\"textposition\":\"auto\",\"x\":[2019,2018,2017,2016,2015,2014,2013,2012,2011,2010,2009,2008,2007],\"xaxis\":\"x\",\"y\":[402,448,465,515,513,603,515,544,549,581,558,543,457],\"yaxis\":\"y\",\"type\":\"bar\"},{\"alignmentgroup\":\"True\",\"hovertemplate\":\"commune=Seyssins<br>Ann\\u00e9e=%{x}<br>Nombre de naissances=%{y}<extra></extra>\",\"legendgroup\":\"Seyssins\",\"marker\":{\"color\":\"#19d3f3\",\"pattern\":{\"shape\":\"\"}},\"name\":\"Seyssins\",\"offsetgroup\":\"Seyssins\",\"orientation\":\"v\",\"showlegend\":true,\"textposition\":\"auto\",\"x\":[2019,2018,2017,2016,2015,2014,2013,2012,2011,2010,2009,2008,2007],\"xaxis\":\"x\",\"y\":[65,54,68,75,59,59,45,59,58,47,57,68,63],\"yaxis\":\"y\",\"type\":\"bar\"},{\"alignmentgroup\":\"True\",\"hovertemplate\":\"commune=Varces-Alli\\u00e8res-et-Risset<br>Ann\\u00e9e=%{x}<br>Nombre de naissances=%{y}<extra></extra>\",\"legendgroup\":\"Varces-Alli\\u00e8res-et-Risset\",\"marker\":{\"color\":\"#FF6692\",\"pattern\":{\"shape\":\"\"}},\"name\":\"Varces-Alli\\u00e8res-et-Risset\",\"offsetgroup\":\"Varces-Alli\\u00e8res-et-Risset\",\"orientation\":\"v\",\"showlegend\":true,\"textposition\":\"auto\",\"x\":[2019,2018,2017,2016,2015,2014,2013,2012,2011,2010,2009,2008,2007],\"xaxis\":\"x\",\"y\":[78,82,86,70,88,81,73,88,75,58,59,82,56],\"yaxis\":\"y\",\"type\":\"bar\"},{\"alignmentgroup\":\"True\",\"hovertemplate\":\"commune=Sarcenas<br>Ann\\u00e9e=%{x}<br>Nombre de naissances=%{y}<extra></extra>\",\"legendgroup\":\"Sarcenas\",\"marker\":{\"color\":\"#B6E880\",\"pattern\":{\"shape\":\"\"}},\"name\":\"Sarcenas\",\"offsetgroup\":\"Sarcenas\",\"orientation\":\"v\",\"showlegend\":true,\"textposition\":\"auto\",\"x\":[2019,2018,2017,2016,2015,2014,2013,2012,2011,2010,2009,2008,2007],\"xaxis\":\"x\",\"y\":[6,3,4,2,3,3,1,1,1,0,2,3,1],\"yaxis\":\"y\",\"type\":\"bar\"},{\"alignmentgroup\":\"True\",\"hovertemplate\":\"commune=Saint-Pierre-de-M\\u00e9sage<br>Ann\\u00e9e=%{x}<br>Nombre de naissances=%{y}<extra></extra>\",\"legendgroup\":\"Saint-Pierre-de-M\\u00e9sage\",\"marker\":{\"color\":\"#FF97FF\",\"pattern\":{\"shape\":\"\"}},\"name\":\"Saint-Pierre-de-M\\u00e9sage\",\"offsetgroup\":\"Saint-Pierre-de-M\\u00e9sage\",\"orientation\":\"v\",\"showlegend\":true,\"textposition\":\"auto\",\"x\":[2019,2018,2017,2016,2015,2014,2013,2012,2011,2010,2009,2008,2007],\"xaxis\":\"x\",\"y\":[5,7,2,1,4,9,8,8,5,9,7,6,7],\"yaxis\":\"y\",\"type\":\"bar\"},{\"alignmentgroup\":\"True\",\"hovertemplate\":\"commune=La Tronche<br>Ann\\u00e9e=%{x}<br>Nombre de naissances=%{y}<extra></extra>\",\"legendgroup\":\"La Tronche\",\"marker\":{\"color\":\"#FECB52\",\"pattern\":{\"shape\":\"\"}},\"name\":\"La Tronche\",\"offsetgroup\":\"La Tronche\",\"orientation\":\"v\",\"showlegend\":true,\"textposition\":\"auto\",\"x\":[2019,2018,2017,2016,2015,2014,2013,2012,2011,2010,2009,2008,2007],\"xaxis\":\"x\",\"y\":[69,71,71,87,75,75,78,72,77,64,80,67,57],\"yaxis\":\"y\",\"type\":\"bar\"},{\"alignmentgroup\":\"True\",\"hovertemplate\":\"commune=Notre-Dame-de-M\\u00e9sage<br>Ann\\u00e9e=%{x}<br>Nombre de naissances=%{y}<extra></extra>\",\"legendgroup\":\"Notre-Dame-de-M\\u00e9sage\",\"marker\":{\"color\":\"#636efa\",\"pattern\":{\"shape\":\"\"}},\"name\":\"Notre-Dame-de-M\\u00e9sage\",\"offsetgroup\":\"Notre-Dame-de-M\\u00e9sage\",\"orientation\":\"v\",\"showlegend\":true,\"textposition\":\"auto\",\"x\":[2019,2018,2017,2016,2015,2014,2013,2012,2011,2010,2009,2008,2007],\"xaxis\":\"x\",\"y\":[5,9,4,3,4,16,4,11,7,11,5,16,15],\"yaxis\":\"y\",\"type\":\"bar\"},{\"alignmentgroup\":\"True\",\"hovertemplate\":\"commune=Eybens<br>Ann\\u00e9e=%{x}<br>Nombre de naissances=%{y}<extra></extra>\",\"legendgroup\":\"Eybens\",\"marker\":{\"color\":\"#EF553B\",\"pattern\":{\"shape\":\"\"}},\"name\":\"Eybens\",\"offsetgroup\":\"Eybens\",\"orientation\":\"v\",\"showlegend\":true,\"textposition\":\"auto\",\"x\":[2019,2018,2017,2016,2015,2014,2013,2012,2011,2010,2009,2008,2007],\"xaxis\":\"x\",\"y\":[108,118,134,119,154,140,141,158,120,135,134,122,128],\"yaxis\":\"y\",\"type\":\"bar\"},{\"alignmentgroup\":\"True\",\"hovertemplate\":\"commune=Champagnier<br>Ann\\u00e9e=%{x}<br>Nombre de naissances=%{y}<extra></extra>\",\"legendgroup\":\"Champagnier\",\"marker\":{\"color\":\"#00cc96\",\"pattern\":{\"shape\":\"\"}},\"name\":\"Champagnier\",\"offsetgroup\":\"Champagnier\",\"orientation\":\"v\",\"showlegend\":true,\"textposition\":\"auto\",\"x\":[2019,2018,2017,2016,2015,2014,2013,2012,2011,2010,2009,2008,2007],\"xaxis\":\"x\",\"y\":[6,7,9,10,6,9,10,11,11,17,6,15,11],\"yaxis\":\"y\",\"type\":\"bar\"},{\"alignmentgroup\":\"True\",\"hovertemplate\":\"commune=Mont-Saint-Martin<br>Ann\\u00e9e=%{x}<br>Nombre de naissances=%{y}<extra></extra>\",\"legendgroup\":\"Mont-Saint-Martin\",\"marker\":{\"color\":\"#ab63fa\",\"pattern\":{\"shape\":\"\"}},\"name\":\"Mont-Saint-Martin\",\"offsetgroup\":\"Mont-Saint-Martin\",\"orientation\":\"v\",\"showlegend\":true,\"textposition\":\"auto\",\"x\":[2019,2018,2017,2016,2015,2014,2013,2012,2011,2010,2009,2008,2007],\"xaxis\":\"x\",\"y\":[3,1,3,0,1,0,1,2,2,0,2,0,0],\"yaxis\":\"y\",\"type\":\"bar\"},{\"alignmentgroup\":\"True\",\"hovertemplate\":\"commune=Miribel-Lanch\\u00e2tre<br>Ann\\u00e9e=%{x}<br>Nombre de naissances=%{y}<extra></extra>\",\"legendgroup\":\"Miribel-Lanch\\u00e2tre\",\"marker\":{\"color\":\"#FFA15A\",\"pattern\":{\"shape\":\"\"}},\"name\":\"Miribel-Lanch\\u00e2tre\",\"offsetgroup\":\"Miribel-Lanch\\u00e2tre\",\"orientation\":\"v\",\"showlegend\":true,\"textposition\":\"auto\",\"x\":[2019,2018,2017,2016,2015,2014,2013,2012,2011,2010,2009,2008,2007],\"xaxis\":\"x\",\"y\":[3,7,1,5,5,5,6,5,4,7,12,6,8],\"yaxis\":\"y\",\"type\":\"bar\"},{\"alignmentgroup\":\"True\",\"hovertemplate\":\"commune=Gi\\u00e8res<br>Ann\\u00e9e=%{x}<br>Nombre de naissances=%{y}<extra></extra>\",\"legendgroup\":\"Gi\\u00e8res\",\"marker\":{\"color\":\"#19d3f3\",\"pattern\":{\"shape\":\"\"}},\"name\":\"Gi\\u00e8res\",\"offsetgroup\":\"Gi\\u00e8res\",\"orientation\":\"v\",\"showlegend\":true,\"textposition\":\"auto\",\"x\":[2019,2018,2017,2016,2015,2014,2013,2012,2011,2010,2009,2008,2007],\"xaxis\":\"x\",\"y\":[83,98,80,88,82,83,67,65,75,74,59,65,74],\"yaxis\":\"y\",\"type\":\"bar\"},{\"alignmentgroup\":\"True\",\"hovertemplate\":\"commune=Saint-Barth\\u00e9lemy-de-S\\u00e9chilienne<br>Ann\\u00e9e=%{x}<br>Nombre de naissances=%{y}<extra></extra>\",\"legendgroup\":\"Saint-Barth\\u00e9lemy-de-S\\u00e9chilienne\",\"marker\":{\"color\":\"#FF6692\",\"pattern\":{\"shape\":\"\"}},\"name\":\"Saint-Barth\\u00e9lemy-de-S\\u00e9chilienne\",\"offsetgroup\":\"Saint-Barth\\u00e9lemy-de-S\\u00e9chilienne\",\"orientation\":\"v\",\"showlegend\":true,\"textposition\":\"auto\",\"x\":[2019,2018,2017,2016,2015,2014,2013,2012,2011,2010,2009,2008,2007],\"xaxis\":\"x\",\"y\":[3,7,5,3,2,3,6,2,5,8,3,12,1],\"yaxis\":\"y\",\"type\":\"bar\"},{\"alignmentgroup\":\"True\",\"hovertemplate\":\"commune=Herbeys<br>Ann\\u00e9e=%{x}<br>Nombre de naissances=%{y}<extra></extra>\",\"legendgroup\":\"Herbeys\",\"marker\":{\"color\":\"#B6E880\",\"pattern\":{\"shape\":\"\"}},\"name\":\"Herbeys\",\"offsetgroup\":\"Herbeys\",\"orientation\":\"v\",\"showlegend\":true,\"textposition\":\"auto\",\"x\":[2019,2018,2017,2016,2015,2014,2013,2012,2011,2010,2009,2008,2007],\"xaxis\":\"x\",\"y\":[11,11,13,11,8,15,15,13,11,26,14,17,13],\"yaxis\":\"y\",\"type\":\"bar\"},{\"alignmentgroup\":\"True\",\"hovertemplate\":\"commune=Quaix-en-Chartreuse<br>Ann\\u00e9e=%{x}<br>Nombre de naissances=%{y}<extra></extra>\",\"legendgroup\":\"Quaix-en-Chartreuse\",\"marker\":{\"color\":\"#FF97FF\",\"pattern\":{\"shape\":\"\"}},\"name\":\"Quaix-en-Chartreuse\",\"offsetgroup\":\"Quaix-en-Chartreuse\",\"orientation\":\"v\",\"showlegend\":true,\"textposition\":\"auto\",\"x\":[2019,2018,2017,2016,2015,2014,2013,2012,2011,2010,2009,2008,2007],\"xaxis\":\"x\",\"y\":[12,8,8,10,12,4,10,3,11,7,8,8,11],\"yaxis\":\"y\",\"type\":\"bar\"},{\"alignmentgroup\":\"True\",\"hovertemplate\":\"commune=\\u00c9chirolles<br>Ann\\u00e9e=%{x}<br>Nombre de naissances=%{y}<extra></extra>\",\"legendgroup\":\"\\u00c9chirolles\",\"marker\":{\"color\":\"#FECB52\",\"pattern\":{\"shape\":\"\"}},\"name\":\"\\u00c9chirolles\",\"offsetgroup\":\"\\u00c9chirolles\",\"orientation\":\"v\",\"showlegend\":true,\"textposition\":\"auto\",\"x\":[2019,2018,2017,2016,2015,2014,2013,2012,2011,2010,2009,2008,2007],\"xaxis\":\"x\",\"y\":[514,535,598,569,534,588,572,572,550,617,553,547,553],\"yaxis\":\"y\",\"type\":\"bar\"},{\"alignmentgroup\":\"True\",\"hovertemplate\":\"commune=Bresson<br>Ann\\u00e9e=%{x}<br>Nombre de naissances=%{y}<extra></extra>\",\"legendgroup\":\"Bresson\",\"marker\":{\"color\":\"#636efa\",\"pattern\":{\"shape\":\"\"}},\"name\":\"Bresson\",\"offsetgroup\":\"Bresson\",\"orientation\":\"v\",\"showlegend\":true,\"textposition\":\"auto\",\"x\":[2019,2018,2017,2016,2015,2014,2013,2012,2011,2010,2009,2008,2007],\"xaxis\":\"x\",\"y\":[8,3,4,6,6,7,4,7,4,1,4,5,9],\"yaxis\":\"y\",\"type\":\"bar\"},{\"alignmentgroup\":\"True\",\"hovertemplate\":\"commune=Sassenage<br>Ann\\u00e9e=%{x}<br>Nombre de naissances=%{y}<extra></extra>\",\"legendgroup\":\"Sassenage\",\"marker\":{\"color\":\"#EF553B\",\"pattern\":{\"shape\":\"\"}},\"name\":\"Sassenage\",\"offsetgroup\":\"Sassenage\",\"orientation\":\"v\",\"showlegend\":true,\"textposition\":\"auto\",\"x\":[2019,2018,2017,2016,2015,2014,2013,2012,2011,2010,2009,2008,2007],\"xaxis\":\"x\",\"y\":[98,110,129,114,140,143,160,146,158,182,140,158,134],\"yaxis\":\"y\",\"type\":\"bar\"},{\"alignmentgroup\":\"True\",\"hovertemplate\":\"commune=Murianette<br>Ann\\u00e9e=%{x}<br>Nombre de naissances=%{y}<extra></extra>\",\"legendgroup\":\"Murianette\",\"marker\":{\"color\":\"#00cc96\",\"pattern\":{\"shape\":\"\"}},\"name\":\"Murianette\",\"offsetgroup\":\"Murianette\",\"orientation\":\"v\",\"showlegend\":true,\"textposition\":\"auto\",\"x\":[2019,2018,2017,2016,2015,2014,2013,2012,2011,2010,2009,2008,2007],\"xaxis\":\"x\",\"y\":[4,3,10,5,14,7,14,7,8,15,5,8,5],\"yaxis\":\"y\",\"type\":\"bar\"},{\"alignmentgroup\":\"True\",\"hovertemplate\":\"commune=Vaulnaveys-le-Haut<br>Ann\\u00e9e=%{x}<br>Nombre de naissances=%{y}<extra></extra>\",\"legendgroup\":\"Vaulnaveys-le-Haut\",\"marker\":{\"color\":\"#ab63fa\",\"pattern\":{\"shape\":\"\"}},\"name\":\"Vaulnaveys-le-Haut\",\"offsetgroup\":\"Vaulnaveys-le-Haut\",\"orientation\":\"v\",\"showlegend\":true,\"textposition\":\"auto\",\"x\":[2019,2018,2017,2016,2015,2014,2013,2012,2011,2010,2009,2008,2007],\"xaxis\":\"x\",\"y\":[40,49,40,44,26,42,37,48,35,40,39,38,32],\"yaxis\":\"y\",\"type\":\"bar\"},{\"alignmentgroup\":\"True\",\"hovertemplate\":\"commune=Dom\\u00e8ne<br>Ann\\u00e9e=%{x}<br>Nombre de naissances=%{y}<extra></extra>\",\"legendgroup\":\"Dom\\u00e8ne\",\"marker\":{\"color\":\"#FFA15A\",\"pattern\":{\"shape\":\"\"}},\"name\":\"Dom\\u00e8ne\",\"offsetgroup\":\"Dom\\u00e8ne\",\"orientation\":\"v\",\"showlegend\":true,\"textposition\":\"auto\",\"x\":[2019,2018,2017,2016,2015,2014,2013,2012,2011,2010,2009,2008,2007],\"xaxis\":\"x\",\"y\":[73,61,69,79,92,73,74,85,84,95,85,75,96],\"yaxis\":\"y\",\"type\":\"bar\"},{\"alignmentgroup\":\"True\",\"hovertemplate\":\"commune=Champ-sur-Drac<br>Ann\\u00e9e=%{x}<br>Nombre de naissances=%{y}<extra></extra>\",\"legendgroup\":\"Champ-sur-Drac\",\"marker\":{\"color\":\"#19d3f3\",\"pattern\":{\"shape\":\"\"}},\"name\":\"Champ-sur-Drac\",\"offsetgroup\":\"Champ-sur-Drac\",\"orientation\":\"v\",\"showlegend\":true,\"textposition\":\"auto\",\"x\":[2019,2018,2017,2016,2015,2014,2013,2012,2011,2010,2009,2008,2007],\"xaxis\":\"x\",\"y\":[36,16,23,35,18,22,28,41,33,33,26,29,27],\"yaxis\":\"y\",\"type\":\"bar\"},{\"alignmentgroup\":\"True\",\"hovertemplate\":\"commune=Poisat<br>Ann\\u00e9e=%{x}<br>Nombre de naissances=%{y}<extra></extra>\",\"legendgroup\":\"Poisat\",\"marker\":{\"color\":\"#FF6692\",\"pattern\":{\"shape\":\"\"}},\"name\":\"Poisat\",\"offsetgroup\":\"Poisat\",\"orientation\":\"v\",\"showlegend\":true,\"textposition\":\"auto\",\"x\":[2019,2018,2017,2016,2015,2014,2013,2012,2011,2010,2009,2008,2007],\"xaxis\":\"x\",\"y\":[20,20,14,17,18,21,21,20,15,15,15,26,18],\"yaxis\":\"y\",\"type\":\"bar\"},{\"alignmentgroup\":\"True\",\"hovertemplate\":\"commune=Meylan<br>Ann\\u00e9e=%{x}<br>Nombre de naissances=%{y}<extra></extra>\",\"legendgroup\":\"Meylan\",\"marker\":{\"color\":\"#B6E880\",\"pattern\":{\"shape\":\"\"}},\"name\":\"Meylan\",\"offsetgroup\":\"Meylan\",\"orientation\":\"v\",\"showlegend\":true,\"textposition\":\"auto\",\"x\":[2019,2018,2017,2016,2015,2014,2013,2012,2011,2010,2009,2008,2007],\"xaxis\":\"x\",\"y\":[170,176,177,169,139,135,176,152,162,179,173,159,168],\"yaxis\":\"y\",\"type\":\"bar\"},{\"alignmentgroup\":\"True\",\"hovertemplate\":\"commune=Fontaine<br>Ann\\u00e9e=%{x}<br>Nombre de naissances=%{y}<extra></extra>\",\"legendgroup\":\"Fontaine\",\"marker\":{\"color\":\"#FF97FF\",\"pattern\":{\"shape\":\"\"}},\"name\":\"Fontaine\",\"offsetgroup\":\"Fontaine\",\"orientation\":\"v\",\"showlegend\":true,\"textposition\":\"auto\",\"x\":[2019,2018,2017,2016,2015,2014,2013,2012,2011,2010,2009,2008,2007],\"xaxis\":\"x\",\"y\":[311,323,314,286,302,351,329,315,341,340,350,341,320],\"yaxis\":\"y\",\"type\":\"bar\"},{\"alignmentgroup\":\"True\",\"hovertemplate\":\"commune=S\\u00e9chilienne<br>Ann\\u00e9e=%{x}<br>Nombre de naissances=%{y}<extra></extra>\",\"legendgroup\":\"S\\u00e9chilienne\",\"marker\":{\"color\":\"#FECB52\",\"pattern\":{\"shape\":\"\"}},\"name\":\"S\\u00e9chilienne\",\"offsetgroup\":\"S\\u00e9chilienne\",\"orientation\":\"v\",\"showlegend\":true,\"textposition\":\"auto\",\"x\":[2019,2018,2017,2016,2015,2014,2013,2012,2011,2010,2009,2008,2007],\"xaxis\":\"x\",\"y\":[8,13,11,7,16,8,16,7,13,13,12,10,4],\"yaxis\":\"y\",\"type\":\"bar\"},{\"alignmentgroup\":\"True\",\"hovertemplate\":\"commune=Grenoble<br>Ann\\u00e9e=%{x}<br>Nombre de naissances=%{y}<extra></extra>\",\"legendgroup\":\"Grenoble\",\"marker\":{\"color\":\"#636efa\",\"pattern\":{\"shape\":\"\"}},\"name\":\"Grenoble\",\"offsetgroup\":\"Grenoble\",\"orientation\":\"v\",\"showlegend\":true,\"textposition\":\"auto\",\"x\":[2019,2018,2017,2016,2015,2014,2013,2012,2011,2010,2009,2008,2007],\"xaxis\":\"x\",\"y\":[2057,2122,2222,2227,2308,2419,2367,2343,2359,2445,2344,2297,2311],\"yaxis\":\"y\",\"type\":\"bar\"},{\"alignmentgroup\":\"True\",\"hovertemplate\":\"commune=Vif<br>Ann\\u00e9e=%{x}<br>Nombre de naissances=%{y}<extra></extra>\",\"legendgroup\":\"Vif\",\"marker\":{\"color\":\"#EF553B\",\"pattern\":{\"shape\":\"\"}},\"name\":\"Vif\",\"offsetgroup\":\"Vif\",\"orientation\":\"v\",\"showlegend\":true,\"textposition\":\"auto\",\"x\":[2019,2018,2017,2016,2015,2014,2013,2012,2011,2010,2009,2008,2007],\"xaxis\":\"x\",\"y\":[79,80,96,83,101,77,90,70,66,74,82,95,84],\"yaxis\":\"y\",\"type\":\"bar\"},{\"alignmentgroup\":\"True\",\"hovertemplate\":\"commune=Montchaboud<br>Ann\\u00e9e=%{x}<br>Nombre de naissances=%{y}<extra></extra>\",\"legendgroup\":\"Montchaboud\",\"marker\":{\"color\":\"#00cc96\",\"pattern\":{\"shape\":\"\"}},\"name\":\"Montchaboud\",\"offsetgroup\":\"Montchaboud\",\"orientation\":\"v\",\"showlegend\":true,\"textposition\":\"auto\",\"x\":[2019,2018,2017,2016,2015,2014,2013,2012,2011,2010,2009,2008,2007],\"xaxis\":\"x\",\"y\":[4,4,2,1,2,1,1,2,3,2,3,3,4],\"yaxis\":\"y\",\"type\":\"bar\"},{\"alignmentgroup\":\"True\",\"hovertemplate\":\"commune=Bri\\u00e9-et-Angonnes<br>Ann\\u00e9e=%{x}<br>Nombre de naissances=%{y}<extra></extra>\",\"legendgroup\":\"Bri\\u00e9-et-Angonnes\",\"marker\":{\"color\":\"#ab63fa\",\"pattern\":{\"shape\":\"\"}},\"name\":\"Bri\\u00e9-et-Angonnes\",\"offsetgroup\":\"Bri\\u00e9-et-Angonnes\",\"orientation\":\"v\",\"showlegend\":true,\"textposition\":\"auto\",\"x\":[2019,2018,2017,2016,2015,2014,2013,2012,2011,2010,2009,2008,2007],\"xaxis\":\"x\",\"y\":[16,17,26,18,21,24,22,18,25,20,14,26,20],\"yaxis\":\"y\",\"type\":\"bar\"},{\"alignmentgroup\":\"True\",\"hovertemplate\":\"commune=Claix<br>Ann\\u00e9e=%{x}<br>Nombre de naissances=%{y}<extra></extra>\",\"legendgroup\":\"Claix\",\"marker\":{\"color\":\"#FFA15A\",\"pattern\":{\"shape\":\"\"}},\"name\":\"Claix\",\"offsetgroup\":\"Claix\",\"orientation\":\"v\",\"showlegend\":true,\"textposition\":\"auto\",\"x\":[2019,2018,2017,2016,2015,2014,2013,2012,2011,2010,2009,2008,2007],\"xaxis\":\"x\",\"y\":[62,67,72,60,62,73,70,51,52,69,59,66,68],\"yaxis\":\"y\",\"type\":\"bar\"},{\"alignmentgroup\":\"True\",\"hovertemplate\":\"commune=Corenc<br>Ann\\u00e9e=%{x}<br>Nombre de naissances=%{y}<extra></extra>\",\"legendgroup\":\"Corenc\",\"marker\":{\"color\":\"#19d3f3\",\"pattern\":{\"shape\":\"\"}},\"name\":\"Corenc\",\"offsetgroup\":\"Corenc\",\"orientation\":\"v\",\"showlegend\":true,\"textposition\":\"auto\",\"x\":[2019,2018,2017,2016,2015,2014,2013,2012,2011,2010,2009,2008,2007],\"xaxis\":\"x\",\"y\":[26,26,39,24,18,27,24,27,25,30,23,16,12],\"yaxis\":\"y\",\"type\":\"bar\"},{\"alignmentgroup\":\"True\",\"hovertemplate\":\"commune=Saint-Paul-de-Varces<br>Ann\\u00e9e=%{x}<br>Nombre de naissances=%{y}<extra></extra>\",\"legendgroup\":\"Saint-Paul-de-Varces\",\"marker\":{\"color\":\"#FF6692\",\"pattern\":{\"shape\":\"\"}},\"name\":\"Saint-Paul-de-Varces\",\"offsetgroup\":\"Saint-Paul-de-Varces\",\"orientation\":\"v\",\"showlegend\":true,\"textposition\":\"auto\",\"x\":[2019,2018,2017,2016,2015,2014,2013,2012,2011,2010,2009,2008,2007],\"xaxis\":\"x\",\"y\":[21,18,19,16,22,24,23,15,16,17,17,18,13],\"yaxis\":\"y\",\"type\":\"bar\"},{\"alignmentgroup\":\"True\",\"hovertemplate\":\"commune=Venon<br>Ann\\u00e9e=%{x}<br>Nombre de naissances=%{y}<extra></extra>\",\"legendgroup\":\"Venon\",\"marker\":{\"color\":\"#B6E880\",\"pattern\":{\"shape\":\"\"}},\"name\":\"Venon\",\"offsetgroup\":\"Venon\",\"orientation\":\"v\",\"showlegend\":true,\"textposition\":\"auto\",\"x\":[2019,2018,2017,2016,2015,2014,2013,2012,2011,2010,2009,2008,2007],\"xaxis\":\"x\",\"y\":[11,6,6,6,4,4,4,5,3,11,4,7,4],\"yaxis\":\"y\",\"type\":\"bar\"},{\"alignmentgroup\":\"True\",\"hovertemplate\":\"commune=Le Pont-de-Claix<br>Ann\\u00e9e=%{x}<br>Nombre de naissances=%{y}<extra></extra>\",\"legendgroup\":\"Le Pont-de-Claix\",\"marker\":{\"color\":\"#FF97FF\",\"pattern\":{\"shape\":\"\"}},\"name\":\"Le Pont-de-Claix\",\"offsetgroup\":\"Le Pont-de-Claix\",\"orientation\":\"v\",\"showlegend\":true,\"textposition\":\"auto\",\"x\":[2019,2018,2017,2016,2015,2014,2013,2012,2011,2010,2009,2008,2007],\"xaxis\":\"x\",\"y\":[132,157,142,146,161,164,180,186,170,162,193,155,205],\"yaxis\":\"y\",\"type\":\"bar\"}],                        {\"template\":{\"data\":{\"histogram2dcontour\":[{\"type\":\"histogram2dcontour\",\"colorbar\":{\"outlinewidth\":0,\"ticks\":\"\"},\"colorscale\":[[0.0,\"#0d0887\"],[0.1111111111111111,\"#46039f\"],[0.2222222222222222,\"#7201a8\"],[0.3333333333333333,\"#9c179e\"],[0.4444444444444444,\"#bd3786\"],[0.5555555555555556,\"#d8576b\"],[0.6666666666666666,\"#ed7953\"],[0.7777777777777778,\"#fb9f3a\"],[0.8888888888888888,\"#fdca26\"],[1.0,\"#f0f921\"]]}],\"choropleth\":[{\"type\":\"choropleth\",\"colorbar\":{\"outlinewidth\":0,\"ticks\":\"\"}}],\"histogram2d\":[{\"type\":\"histogram2d\",\"colorbar\":{\"outlinewidth\":0,\"ticks\":\"\"},\"colorscale\":[[0.0,\"#0d0887\"],[0.1111111111111111,\"#46039f\"],[0.2222222222222222,\"#7201a8\"],[0.3333333333333333,\"#9c179e\"],[0.4444444444444444,\"#bd3786\"],[0.5555555555555556,\"#d8576b\"],[0.6666666666666666,\"#ed7953\"],[0.7777777777777778,\"#fb9f3a\"],[0.8888888888888888,\"#fdca26\"],[1.0,\"#f0f921\"]]}],\"heatmap\":[{\"type\":\"heatmap\",\"colorbar\":{\"outlinewidth\":0,\"ticks\":\"\"},\"colorscale\":[[0.0,\"#0d0887\"],[0.1111111111111111,\"#46039f\"],[0.2222222222222222,\"#7201a8\"],[0.3333333333333333,\"#9c179e\"],[0.4444444444444444,\"#bd3786\"],[0.5555555555555556,\"#d8576b\"],[0.6666666666666666,\"#ed7953\"],[0.7777777777777778,\"#fb9f3a\"],[0.8888888888888888,\"#fdca26\"],[1.0,\"#f0f921\"]]}],\"heatmapgl\":[{\"type\":\"heatmapgl\",\"colorbar\":{\"outlinewidth\":0,\"ticks\":\"\"},\"colorscale\":[[0.0,\"#0d0887\"],[0.1111111111111111,\"#46039f\"],[0.2222222222222222,\"#7201a8\"],[0.3333333333333333,\"#9c179e\"],[0.4444444444444444,\"#bd3786\"],[0.5555555555555556,\"#d8576b\"],[0.6666666666666666,\"#ed7953\"],[0.7777777777777778,\"#fb9f3a\"],[0.8888888888888888,\"#fdca26\"],[1.0,\"#f0f921\"]]}],\"contourcarpet\":[{\"type\":\"contourcarpet\",\"colorbar\":{\"outlinewidth\":0,\"ticks\":\"\"}}],\"contour\":[{\"type\":\"contour\",\"colorbar\":{\"outlinewidth\":0,\"ticks\":\"\"},\"colorscale\":[[0.0,\"#0d0887\"],[0.1111111111111111,\"#46039f\"],[0.2222222222222222,\"#7201a8\"],[0.3333333333333333,\"#9c179e\"],[0.4444444444444444,\"#bd3786\"],[0.5555555555555556,\"#d8576b\"],[0.6666666666666666,\"#ed7953\"],[0.7777777777777778,\"#fb9f3a\"],[0.8888888888888888,\"#fdca26\"],[1.0,\"#f0f921\"]]}],\"surface\":[{\"type\":\"surface\",\"colorbar\":{\"outlinewidth\":0,\"ticks\":\"\"},\"colorscale\":[[0.0,\"#0d0887\"],[0.1111111111111111,\"#46039f\"],[0.2222222222222222,\"#7201a8\"],[0.3333333333333333,\"#9c179e\"],[0.4444444444444444,\"#bd3786\"],[0.5555555555555556,\"#d8576b\"],[0.6666666666666666,\"#ed7953\"],[0.7777777777777778,\"#fb9f3a\"],[0.8888888888888888,\"#fdca26\"],[1.0,\"#f0f921\"]]}],\"mesh3d\":[{\"type\":\"mesh3d\",\"colorbar\":{\"outlinewidth\":0,\"ticks\":\"\"}}],\"scatter\":[{\"fillpattern\":{\"fillmode\":\"overlay\",\"size\":10,\"solidity\":0.2},\"type\":\"scatter\"}],\"parcoords\":[{\"type\":\"parcoords\",\"line\":{\"colorbar\":{\"outlinewidth\":0,\"ticks\":\"\"}}}],\"scatterpolargl\":[{\"type\":\"scatterpolargl\",\"marker\":{\"colorbar\":{\"outlinewidth\":0,\"ticks\":\"\"}}}],\"bar\":[{\"error_x\":{\"color\":\"#2a3f5f\"},\"error_y\":{\"color\":\"#2a3f5f\"},\"marker\":{\"line\":{\"color\":\"#E5ECF6\",\"width\":0.5},\"pattern\":{\"fillmode\":\"overlay\",\"size\":10,\"solidity\":0.2}},\"type\":\"bar\"}],\"scattergeo\":[{\"type\":\"scattergeo\",\"marker\":{\"colorbar\":{\"outlinewidth\":0,\"ticks\":\"\"}}}],\"scatterpolar\":[{\"type\":\"scatterpolar\",\"marker\":{\"colorbar\":{\"outlinewidth\":0,\"ticks\":\"\"}}}],\"histogram\":[{\"marker\":{\"pattern\":{\"fillmode\":\"overlay\",\"size\":10,\"solidity\":0.2}},\"type\":\"histogram\"}],\"scattergl\":[{\"type\":\"scattergl\",\"marker\":{\"colorbar\":{\"outlinewidth\":0,\"ticks\":\"\"}}}],\"scatter3d\":[{\"type\":\"scatter3d\",\"line\":{\"colorbar\":{\"outlinewidth\":0,\"ticks\":\"\"}},\"marker\":{\"colorbar\":{\"outlinewidth\":0,\"ticks\":\"\"}}}],\"scattermapbox\":[{\"type\":\"scattermapbox\",\"marker\":{\"colorbar\":{\"outlinewidth\":0,\"ticks\":\"\"}}}],\"scatterternary\":[{\"type\":\"scatterternary\",\"marker\":{\"colorbar\":{\"outlinewidth\":0,\"ticks\":\"\"}}}],\"scattercarpet\":[{\"type\":\"scattercarpet\",\"marker\":{\"colorbar\":{\"outlinewidth\":0,\"ticks\":\"\"}}}],\"carpet\":[{\"aaxis\":{\"endlinecolor\":\"#2a3f5f\",\"gridcolor\":\"white\",\"linecolor\":\"white\",\"minorgridcolor\":\"white\",\"startlinecolor\":\"#2a3f5f\"},\"baxis\":{\"endlinecolor\":\"#2a3f5f\",\"gridcolor\":\"white\",\"linecolor\":\"white\",\"minorgridcolor\":\"white\",\"startlinecolor\":\"#2a3f5f\"},\"type\":\"carpet\"}],\"table\":[{\"cells\":{\"fill\":{\"color\":\"#EBF0F8\"},\"line\":{\"color\":\"white\"}},\"header\":{\"fill\":{\"color\":\"#C8D4E3\"},\"line\":{\"color\":\"white\"}},\"type\":\"table\"}],\"barpolar\":[{\"marker\":{\"line\":{\"color\":\"#E5ECF6\",\"width\":0.5},\"pattern\":{\"fillmode\":\"overlay\",\"size\":10,\"solidity\":0.2}},\"type\":\"barpolar\"}],\"pie\":[{\"automargin\":true,\"type\":\"pie\"}]},\"layout\":{\"autotypenumbers\":\"strict\",\"colorway\":[\"#636efa\",\"#EF553B\",\"#00cc96\",\"#ab63fa\",\"#FFA15A\",\"#19d3f3\",\"#FF6692\",\"#B6E880\",\"#FF97FF\",\"#FECB52\"],\"font\":{\"color\":\"#2a3f5f\"},\"hovermode\":\"closest\",\"hoverlabel\":{\"align\":\"left\"},\"paper_bgcolor\":\"white\",\"plot_bgcolor\":\"#E5ECF6\",\"polar\":{\"bgcolor\":\"#E5ECF6\",\"angularaxis\":{\"gridcolor\":\"white\",\"linecolor\":\"white\",\"ticks\":\"\"},\"radialaxis\":{\"gridcolor\":\"white\",\"linecolor\":\"white\",\"ticks\":\"\"}},\"ternary\":{\"bgcolor\":\"#E5ECF6\",\"aaxis\":{\"gridcolor\":\"white\",\"linecolor\":\"white\",\"ticks\":\"\"},\"baxis\":{\"gridcolor\":\"white\",\"linecolor\":\"white\",\"ticks\":\"\"},\"caxis\":{\"gridcolor\":\"white\",\"linecolor\":\"white\",\"ticks\":\"\"}},\"coloraxis\":{\"colorbar\":{\"outlinewidth\":0,\"ticks\":\"\"}},\"colorscale\":{\"sequential\":[[0.0,\"#0d0887\"],[0.1111111111111111,\"#46039f\"],[0.2222222222222222,\"#7201a8\"],[0.3333333333333333,\"#9c179e\"],[0.4444444444444444,\"#bd3786\"],[0.5555555555555556,\"#d8576b\"],[0.6666666666666666,\"#ed7953\"],[0.7777777777777778,\"#fb9f3a\"],[0.8888888888888888,\"#fdca26\"],[1.0,\"#f0f921\"]],\"sequentialminus\":[[0.0,\"#0d0887\"],[0.1111111111111111,\"#46039f\"],[0.2222222222222222,\"#7201a8\"],[0.3333333333333333,\"#9c179e\"],[0.4444444444444444,\"#bd3786\"],[0.5555555555555556,\"#d8576b\"],[0.6666666666666666,\"#ed7953\"],[0.7777777777777778,\"#fb9f3a\"],[0.8888888888888888,\"#fdca26\"],[1.0,\"#f0f921\"]],\"diverging\":[[0,\"#8e0152\"],[0.1,\"#c51b7d\"],[0.2,\"#de77ae\"],[0.3,\"#f1b6da\"],[0.4,\"#fde0ef\"],[0.5,\"#f7f7f7\"],[0.6,\"#e6f5d0\"],[0.7,\"#b8e186\"],[0.8,\"#7fbc41\"],[0.9,\"#4d9221\"],[1,\"#276419\"]]},\"xaxis\":{\"gridcolor\":\"white\",\"linecolor\":\"white\",\"ticks\":\"\",\"title\":{\"standoff\":15},\"zerolinecolor\":\"white\",\"automargin\":true,\"zerolinewidth\":2},\"yaxis\":{\"gridcolor\":\"white\",\"linecolor\":\"white\",\"ticks\":\"\",\"title\":{\"standoff\":15},\"zerolinecolor\":\"white\",\"automargin\":true,\"zerolinewidth\":2},\"scene\":{\"xaxis\":{\"backgroundcolor\":\"#E5ECF6\",\"gridcolor\":\"white\",\"linecolor\":\"white\",\"showbackground\":true,\"ticks\":\"\",\"zerolinecolor\":\"white\",\"gridwidth\":2},\"yaxis\":{\"backgroundcolor\":\"#E5ECF6\",\"gridcolor\":\"white\",\"linecolor\":\"white\",\"showbackground\":true,\"ticks\":\"\",\"zerolinecolor\":\"white\",\"gridwidth\":2},\"zaxis\":{\"backgroundcolor\":\"#E5ECF6\",\"gridcolor\":\"white\",\"linecolor\":\"white\",\"showbackground\":true,\"ticks\":\"\",\"zerolinecolor\":\"white\",\"gridwidth\":2}},\"shapedefaults\":{\"line\":{\"color\":\"#2a3f5f\"}},\"annotationdefaults\":{\"arrowcolor\":\"#2a3f5f\",\"arrowhead\":0,\"arrowwidth\":1},\"geo\":{\"bgcolor\":\"white\",\"landcolor\":\"#E5ECF6\",\"subunitcolor\":\"white\",\"showland\":true,\"showlakes\":true,\"lakecolor\":\"white\"},\"title\":{\"x\":0.05},\"mapbox\":{\"style\":\"light\"}}},\"xaxis\":{\"anchor\":\"y\",\"domain\":[0.0,1.0],\"title\":{\"text\":\"Ann\\u00e9e\"}},\"yaxis\":{\"anchor\":\"x\",\"domain\":[0.0,1.0],\"title\":{\"text\":\"Nombre de naissances\"}},\"legend\":{\"title\":{\"text\":\"commune\"},\"tracegroupgap\":0},\"title\":{\"text\":\"Evolution du nombre de naissances \\u00e0 Grenoble\"},\"barmode\":\"relative\"},                        {\"responsive\": true}                    ).then(function(){\n",
       "                            \n",
       "var gd = document.getElementById('2cde6eb0-b151-4431-be18-bc58679ac189');\n",
       "var x = new MutationObserver(function (mutations, observer) {{\n",
       "        var display = window.getComputedStyle(gd).display;\n",
       "        if (!display || display === 'none') {{\n",
       "            console.log([gd, 'removed!']);\n",
       "            Plotly.purge(gd);\n",
       "            observer.disconnect();\n",
       "        }}\n",
       "}});\n",
       "\n",
       "// Listen for the removal of the full notebook cells\n",
       "var notebookContainer = gd.closest('#notebook-container');\n",
       "if (notebookContainer) {{\n",
       "    x.observe(notebookContainer, {childList: true});\n",
       "}}\n",
       "\n",
       "// Listen for the clearing of the current output cell\n",
       "var outputEl = gd.closest('.output');\n",
       "if (outputEl) {{\n",
       "    x.observe(outputEl, {childList: true});\n",
       "}}\n",
       "\n",
       "                        })                };                });            </script>        </div>"
      ]
     },
     "metadata": {},
     "output_type": "display_data"
    }
   ],
   "source": [
    "fig = px.bar(data_pop, x=\"annee\", y=\"nombre_naissances\",\n",
    "             color=\"commune\",\n",
    "             title=\"Evolution du nombre de naissances à Grenoble\",\n",
    "             labels={\"annee\":\"Année\",\"nombre_naissances\":\"Nombre de naissances\"})\n",
    "fig.show()"
   ]
  },
  {
   "cell_type": "markdown",
   "id": "96fe8456",
   "metadata": {},
   "source": [
    "## Lire des données géographiques"
   ]
  },
  {
   "cell_type": "code",
   "execution_count": 15,
   "id": "88a4f6cc",
   "metadata": {},
   "outputs": [],
   "source": [
    "import shapely\n",
    "from shapely.geometry import Point, LineString, Polygon, MultiPolygon\n",
    "\n",
    "import matplotlib\n",
    "import geopandas as gpd\n"
   ]
  },
  {
   "cell_type": "markdown",
   "id": "5a214c6b",
   "metadata": {},
   "source": [
    "Lire des données : \"bornes recharge véhicules électriques métro grenoble.json\", \"taux_pauvrete_grenoble_iris.csv\" (sur Moodle)"
   ]
  },
  {
   "cell_type": "code",
   "execution_count": 16,
   "id": "1b87d151",
   "metadata": {},
   "outputs": [],
   "source": [
    "data_bornes = gpd.read_file(\"bornes recharge véhicules électriques métro grenoble.json\")"
   ]
  },
  {
   "cell_type": "code",
   "execution_count": 18,
   "id": "32d08e18",
   "metadata": {},
   "outputs": [
    {
     "data": {
      "text/html": [
       "<div>\n",
       "<style scoped>\n",
       "    .dataframe tbody tr th:only-of-type {\n",
       "        vertical-align: middle;\n",
       "    }\n",
       "\n",
       "    .dataframe tbody tr th {\n",
       "        vertical-align: top;\n",
       "    }\n",
       "\n",
       "    .dataframe thead th {\n",
       "        text-align: right;\n",
       "    }\n",
       "</style>\n",
       "<table border=\"1\" class=\"dataframe\">\n",
       "  <thead>\n",
       "    <tr style=\"text-align: right;\">\n",
       "      <th></th>\n",
       "      <th>n_amenageur</th>\n",
       "      <th>n_operateur</th>\n",
       "      <th>n_enseigne</th>\n",
       "      <th>id_station</th>\n",
       "      <th>n_station</th>\n",
       "      <th>ad_station</th>\n",
       "      <th>code_insee</th>\n",
       "      <th>Xlongitude</th>\n",
       "      <th>Ylatitude</th>\n",
       "      <th>nbre_pdc</th>\n",
       "      <th>epci</th>\n",
       "      <th>commune</th>\n",
       "      <th>id</th>\n",
       "      <th>CODE</th>\n",
       "      <th>type</th>\n",
       "      <th>pdc</th>\n",
       "      <th>geometry</th>\n",
       "    </tr>\n",
       "  </thead>\n",
       "  <tbody>\n",
       "    <tr>\n",
       "      <th>0</th>\n",
       "      <td>Grenoble-Alpes Métropole</td>\n",
       "      <td>BOUYGUES ENERGIES ET SERVICES</td>\n",
       "      <td>Grenoble</td>\n",
       "      <td>FR*M38*P38421*001</td>\n",
       "      <td>SAINT-MARTIN-D'HERES - Avenue Centrale - BU</td>\n",
       "      <td>Avenue Centrale 38400 SAINT-MARTIN-D'HERES</td>\n",
       "      <td>38421</td>\n",
       "      <td>5.769781</td>\n",
       "      <td>45.19160</td>\n",
       "      <td>1</td>\n",
       "      <td>LaMetro</td>\n",
       "      <td>Saint-Martin-d'Hères</td>\n",
       "      <td>FR*M38*P38421*001</td>\n",
       "      <td>FR*M38*P38421*001</td>\n",
       "      <td>irve</td>\n",
       "      <td>[ { \"id_pdc\": \"FR*M38*E38421*001*1\", \"puiss_ma...</td>\n",
       "      <td>POINT (5.76978 45.19160)</td>\n",
       "    </tr>\n",
       "    <tr>\n",
       "      <th>1</th>\n",
       "      <td>Grenoble-Alpes Métropole</td>\n",
       "      <td>BOUYGUES ENERGIES ET SERVICES</td>\n",
       "      <td>Grenoble</td>\n",
       "      <td>FR*M38*P38185*002</td>\n",
       "      <td>GRENOBLE - Rue Jacquard - Balzac</td>\n",
       "      <td>Rue Jacquard 38000 GRENOBLE</td>\n",
       "      <td>38185</td>\n",
       "      <td>5.724746</td>\n",
       "      <td>45.17461</td>\n",
       "      <td>2</td>\n",
       "      <td>LaMetro</td>\n",
       "      <td>Grenoble</td>\n",
       "      <td>FR*M38*P38185*002</td>\n",
       "      <td>FR*M38*P38185*002</td>\n",
       "      <td>irve</td>\n",
       "      <td>[ { \"id_pdc\": \"FR*M38*E38185*002*1\", \"puiss_ma...</td>\n",
       "      <td>POINT (5.72475 45.17461)</td>\n",
       "    </tr>\n",
       "    <tr>\n",
       "      <th>2</th>\n",
       "      <td>Grenoble-Alpes Métropole</td>\n",
       "      <td>BOUYGUES ENERGIES ET SERVICES</td>\n",
       "      <td>Grenoble</td>\n",
       "      <td>FR*M38*P38185*018</td>\n",
       "      <td>GRENOBLE - Rue Thiers</td>\n",
       "      <td>Rue Thiers 38000 GRENOBLE</td>\n",
       "      <td>38185</td>\n",
       "      <td>5.719674</td>\n",
       "      <td>45.18509</td>\n",
       "      <td>1</td>\n",
       "      <td>LaMetro</td>\n",
       "      <td>Grenoble</td>\n",
       "      <td>FR*M38*P38185*018</td>\n",
       "      <td>FR*M38*P38185*018</td>\n",
       "      <td>irve</td>\n",
       "      <td>[ { \"id_pdc\": \"FR*M38*E38185*018*1\", \"puiss_ma...</td>\n",
       "      <td>POINT (5.71967 45.18509)</td>\n",
       "    </tr>\n",
       "    <tr>\n",
       "      <th>3</th>\n",
       "      <td>Grenoble-Alpes Métropole</td>\n",
       "      <td>BOUYGUES ENERGIES ET SERVICES</td>\n",
       "      <td>Grenoble</td>\n",
       "      <td>FR*M38*P38485*001</td>\n",
       "      <td>SEYSSINET-PARISET - Rue Lamartine</td>\n",
       "      <td>Rue Lamartine 38170 SEYSSINET-PARISET</td>\n",
       "      <td>38485</td>\n",
       "      <td>5.695541</td>\n",
       "      <td>45.17999</td>\n",
       "      <td>2</td>\n",
       "      <td>LaMetro</td>\n",
       "      <td>Seyssinet-Pariset</td>\n",
       "      <td>FR*M38*P38485*001</td>\n",
       "      <td>FR*M38*P38485*001</td>\n",
       "      <td>irve</td>\n",
       "      <td>[ { \"id_pdc\": \"FR*M38*E38485*001*2\", \"puiss_ma...</td>\n",
       "      <td>POINT (5.69554 45.17999)</td>\n",
       "    </tr>\n",
       "    <tr>\n",
       "      <th>4</th>\n",
       "      <td>Grenoble-Alpes Métropole</td>\n",
       "      <td>BOUYGUES ENERGIES ET SERVICES</td>\n",
       "      <td>Grenoble</td>\n",
       "      <td>FR*M38*P38185*015</td>\n",
       "      <td>GRENOBLE - Place De Lavalette - ND - Musée</td>\n",
       "      <td>Place De Lavalette 38000 GRENOBLE</td>\n",
       "      <td>38185</td>\n",
       "      <td>5.731627</td>\n",
       "      <td>45.19407</td>\n",
       "      <td>1</td>\n",
       "      <td>LaMetro</td>\n",
       "      <td>Grenoble</td>\n",
       "      <td>FR*M38*P38185*015</td>\n",
       "      <td>FR*M38*P38185*015</td>\n",
       "      <td>irve</td>\n",
       "      <td>[ { \"id_pdc\": \"FR*M38*E38185*015*1\", \"puiss_ma...</td>\n",
       "      <td>POINT (5.73163 45.19407)</td>\n",
       "    </tr>\n",
       "  </tbody>\n",
       "</table>\n",
       "</div>"
      ],
      "text/plain": [
       "                n_amenageur                    n_operateur n_enseigne  \\\n",
       "0  Grenoble-Alpes Métropole  BOUYGUES ENERGIES ET SERVICES   Grenoble   \n",
       "1  Grenoble-Alpes Métropole  BOUYGUES ENERGIES ET SERVICES   Grenoble   \n",
       "2  Grenoble-Alpes Métropole  BOUYGUES ENERGIES ET SERVICES   Grenoble   \n",
       "3  Grenoble-Alpes Métropole  BOUYGUES ENERGIES ET SERVICES   Grenoble   \n",
       "4  Grenoble-Alpes Métropole  BOUYGUES ENERGIES ET SERVICES   Grenoble   \n",
       "\n",
       "          id_station                                    n_station  \\\n",
       "0  FR*M38*P38421*001  SAINT-MARTIN-D'HERES - Avenue Centrale - BU   \n",
       "1  FR*M38*P38185*002             GRENOBLE - Rue Jacquard - Balzac   \n",
       "2  FR*M38*P38185*018                        GRENOBLE - Rue Thiers   \n",
       "3  FR*M38*P38485*001            SEYSSINET-PARISET - Rue Lamartine   \n",
       "4  FR*M38*P38185*015   GRENOBLE - Place De Lavalette - ND - Musée   \n",
       "\n",
       "                                   ad_station code_insee  Xlongitude  \\\n",
       "0  Avenue Centrale 38400 SAINT-MARTIN-D'HERES      38421    5.769781   \n",
       "1                 Rue Jacquard 38000 GRENOBLE      38185    5.724746   \n",
       "2                   Rue Thiers 38000 GRENOBLE      38185    5.719674   \n",
       "3       Rue Lamartine 38170 SEYSSINET-PARISET      38485    5.695541   \n",
       "4           Place De Lavalette 38000 GRENOBLE      38185    5.731627   \n",
       "\n",
       "   Ylatitude  nbre_pdc     epci               commune                 id  \\\n",
       "0   45.19160         1  LaMetro  Saint-Martin-d'Hères  FR*M38*P38421*001   \n",
       "1   45.17461         2  LaMetro              Grenoble  FR*M38*P38185*002   \n",
       "2   45.18509         1  LaMetro              Grenoble  FR*M38*P38185*018   \n",
       "3   45.17999         2  LaMetro     Seyssinet-Pariset  FR*M38*P38485*001   \n",
       "4   45.19407         1  LaMetro              Grenoble  FR*M38*P38185*015   \n",
       "\n",
       "                CODE  type                                                pdc  \\\n",
       "0  FR*M38*P38421*001  irve  [ { \"id_pdc\": \"FR*M38*E38421*001*1\", \"puiss_ma...   \n",
       "1  FR*M38*P38185*002  irve  [ { \"id_pdc\": \"FR*M38*E38185*002*1\", \"puiss_ma...   \n",
       "2  FR*M38*P38185*018  irve  [ { \"id_pdc\": \"FR*M38*E38185*018*1\", \"puiss_ma...   \n",
       "3  FR*M38*P38485*001  irve  [ { \"id_pdc\": \"FR*M38*E38485*001*2\", \"puiss_ma...   \n",
       "4  FR*M38*P38185*015  irve  [ { \"id_pdc\": \"FR*M38*E38185*015*1\", \"puiss_ma...   \n",
       "\n",
       "                   geometry  \n",
       "0  POINT (5.76978 45.19160)  \n",
       "1  POINT (5.72475 45.17461)  \n",
       "2  POINT (5.71967 45.18509)  \n",
       "3  POINT (5.69554 45.17999)  \n",
       "4  POINT (5.73163 45.19407)  "
      ]
     },
     "execution_count": 18,
     "metadata": {},
     "output_type": "execute_result"
    }
   ],
   "source": [
    "data_bornes.head()"
   ]
  },
  {
   "cell_type": "code",
   "execution_count": 19,
   "id": "578eb1fa",
   "metadata": {},
   "outputs": [
    {
     "data": {
      "text/plain": [
       "geopandas.geodataframe.GeoDataFrame"
      ]
     },
     "execution_count": 19,
     "metadata": {},
     "output_type": "execute_result"
    }
   ],
   "source": [
    "type(data_bornes) #lecture avec gpd.read_file : déjà une GeoDataFrame"
   ]
  },
  {
   "cell_type": "code",
   "execution_count": 20,
   "id": "636f32d7",
   "metadata": {},
   "outputs": [],
   "source": [
    "data_pauvrete = pd.read_csv(\"taux_pauvrete_grenoble_iris.csv\")"
   ]
  },
  {
   "cell_type": "code",
   "execution_count": 21,
   "id": "9c845494",
   "metadata": {
    "scrolled": true
   },
   "outputs": [
    {
     "data": {
      "text/html": [
       "<div>\n",
       "<style scoped>\n",
       "    .dataframe tbody tr th:only-of-type {\n",
       "        vertical-align: middle;\n",
       "    }\n",
       "\n",
       "    .dataframe tbody tr th {\n",
       "        vertical-align: top;\n",
       "    }\n",
       "\n",
       "    .dataframe thead th {\n",
       "        text-align: right;\n",
       "    }\n",
       "</style>\n",
       "<table border=\"1\" class=\"dataframe\">\n",
       "  <thead>\n",
       "    <tr style=\"text-align: right;\">\n",
       "      <th></th>\n",
       "      <th>IRIS</th>\n",
       "      <th>Taux de pauvreté</th>\n",
       "      <th>Nom IRIS</th>\n",
       "      <th>Commune</th>\n",
       "      <th>geometry</th>\n",
       "    </tr>\n",
       "  </thead>\n",
       "  <tbody>\n",
       "    <tr>\n",
       "      <th>0</th>\n",
       "      <td>381850102</td>\n",
       "      <td>18.0</td>\n",
       "      <td>Jean Macé</td>\n",
       "      <td>Grenoble</td>\n",
       "      <td>POLYGON ((5.698869586747465 45.208610482032135...</td>\n",
       "    </tr>\n",
       "    <tr>\n",
       "      <th>1</th>\n",
       "      <td>381850103</td>\n",
       "      <td>16.7</td>\n",
       "      <td>Europole</td>\n",
       "      <td>Grenoble</td>\n",
       "      <td>POLYGON ((5.703190852556995 45.19257539821455,...</td>\n",
       "    </tr>\n",
       "    <tr>\n",
       "      <th>2</th>\n",
       "      <td>381850104</td>\n",
       "      <td>12.1</td>\n",
       "      <td>Diderot</td>\n",
       "      <td>Grenoble</td>\n",
       "      <td>POLYGON ((5.704671399829011 45.19215393076612,...</td>\n",
       "    </tr>\n",
       "    <tr>\n",
       "      <th>3</th>\n",
       "      <td>381850105</td>\n",
       "      <td>NaN</td>\n",
       "      <td>Gare</td>\n",
       "      <td>Grenoble</td>\n",
       "      <td>POLYGON ((5.7203094134 45.19207936011034, 5.72...</td>\n",
       "    </tr>\n",
       "    <tr>\n",
       "      <th>4</th>\n",
       "      <td>381850106</td>\n",
       "      <td>22.6</td>\n",
       "      <td>Cours Berriat</td>\n",
       "      <td>Grenoble</td>\n",
       "      <td>POLYGON ((5.7093027000225325 45.18737110866366...</td>\n",
       "    </tr>\n",
       "  </tbody>\n",
       "</table>\n",
       "</div>"
      ],
      "text/plain": [
       "        IRIS  Taux de pauvreté       Nom IRIS   Commune  \\\n",
       "0  381850102              18.0      Jean Macé  Grenoble   \n",
       "1  381850103              16.7       Europole  Grenoble   \n",
       "2  381850104              12.1        Diderot  Grenoble   \n",
       "3  381850105               NaN           Gare  Grenoble   \n",
       "4  381850106              22.6  Cours Berriat  Grenoble   \n",
       "\n",
       "                                            geometry  \n",
       "0  POLYGON ((5.698869586747465 45.208610482032135...  \n",
       "1  POLYGON ((5.703190852556995 45.19257539821455,...  \n",
       "2  POLYGON ((5.704671399829011 45.19215393076612,...  \n",
       "3  POLYGON ((5.7203094134 45.19207936011034, 5.72...  \n",
       "4  POLYGON ((5.7093027000225325 45.18737110866366...  "
      ]
     },
     "execution_count": 21,
     "metadata": {},
     "output_type": "execute_result"
    }
   ],
   "source": [
    "data_pauvrete.head()"
   ]
  },
  {
   "cell_type": "code",
   "execution_count": 24,
   "id": "2c1934ff",
   "metadata": {},
   "outputs": [
    {
     "data": {
      "text/plain": [
       "pandas.core.frame.DataFrame"
      ]
     },
     "execution_count": 24,
     "metadata": {},
     "output_type": "execute_result"
    }
   ],
   "source": [
    "type(data_pauvrete) #lecture avec pd.read_csv : pas encore une GeoDataFrame"
   ]
  },
  {
   "cell_type": "code",
   "execution_count": 27,
   "id": "7bce45e6",
   "metadata": {},
   "outputs": [
    {
     "data": {
      "image/svg+xml": [
       "<svg xmlns=\"http://www.w3.org/2000/svg\" xmlns:xlink=\"http://www.w3.org/1999/xlink\" width=\"100.0\" height=\"100.0\" viewBox=\"5.68356820102857 45.18981686825831 0.038232668926712954 0.02334811704481865\" preserveAspectRatio=\"xMinYMin meet\"><g transform=\"matrix(1,0,0,-1,0,90.40298185356144)\"><path fill-rule=\"evenodd\" fill=\"#66cc99\" stroke=\"#555555\" stroke-width=\"0.0007646533785342591\" opacity=\"0.6\" d=\"M 5.698869586747465,45.208610482032135 L 5.702105802746155,45.20750873771934 L 5.703665723117503,45.20695473355787 L 5.70508838346996,45.2064355656153 L 5.706240432919772,45.205960778077305 L 5.7068901012254125,45.205744118108804 L 5.707701512365789,45.20555146146597 L 5.70872397410128,45.205322145675126 L 5.709353065782934,45.205180749105786 L 5.709838878251429,45.205054538757096 L 5.7101858053647225,45.20492899465942 L 5.710482692396785,45.20479655566455 L 5.710828572339831,45.204623284502894 L 5.7110852129564895,45.20444947626069 L 5.713140575761398,45.20297514502435 L 5.7136550625746985,45.20257433122802 L 5.713937726485574,45.20230708549171 L 5.714478208254644,45.201733553909065 L 5.71477246098081,45.20139034415979 L 5.715033975361194,45.200976754486824 L 5.715192810393528,45.200679181327054 L 5.715273068336579,45.20046910945995 L 5.715402593382187,45.2000668373932 L 5.715464945323512,45.199829271366575 L 5.7154712774932825,45.19972370594288 L 5.715458210660125,45.199612305692604 L 5.715407900263494,45.198945022916796 L 5.715091613165983,45.196870616006734 L 5.715087513369093,45.19628870109671 L 5.715345909141919,45.195287766103775 L 5.715738503631962,45.194661965403256 L 5.716277705217059,45.19411638446646 L 5.716826625869665,45.19371832024746 L 5.71774145865564,45.1932987320095 L 5.718742023458522,45.192991468931446 L 5.719607361210716,45.19283795029598 L 5.720384845180219,45.19231987811474 L 5.72034793866445,45.192294649892965 L 5.72030681876718,45.19228754338948 L 5.720188549041183,45.192292227380854 L 5.719952404230186,45.19230969394284 L 5.715420538090458,45.1912433841881 L 5.715370335995059,45.19123289303337 L 5.715314514983207,45.19123785469431 L 5.715022529562158,45.19180985274494 L 5.714265389721206,45.19345448073336 L 5.713443236787477,45.19520429267366 L 5.712333806889955,45.19628806806768 L 5.711466124174501,45.1978110297984 L 5.711177518742077,45.19845410981442 L 5.710881048197408,45.19888295383405 L 5.7096341813536995,45.19866095729261 L 5.709408736222284,45.19858444239955 L 5.7092842309393825,45.198539713607936 L 5.709252722379513,45.19852065735682 L 5.709228501190746,45.19849421665682 L 5.709196736435206,45.198443633376314 L 5.708617242372595,45.198896456785654 L 5.70805991385408,45.19930729568598 L 5.707103834776407,45.20003592569273 L 5.705430076249085,45.201312599023446 L 5.704034018774221,45.20237800522691 L 5.701691914428178,45.204172631960766 L 5.699488022918192,45.20595575666328 L 5.69730637158326,45.207753614023204 L 5.696108492027054,45.20865375920077 L 5.69598672159441,45.208744992066045 L 5.69586367771223,45.208836255535786 L 5.6957379568855755,45.20892488064978 L 5.695608242587667,45.20900999823462 L 5.695475851356392,45.20909247744202 L 5.695340696254505,45.20917051846866 L 5.695200144240648,45.209242382966046 L 5.69505810146391,45.20930977852903 L 5.694912152220506,45.209375466291945 L 5.694762122658229,45.20943584665094 L 5.694608143188167,45.20949361928091 L 5.6944475373087275,45.209546145912206 L 5.694118599311407,45.209649582982244 L 5.693951323010543,45.209695963197184 L 5.6937813264956105,45.20973880499516 L 5.693609839422231,45.209777177756365 L 5.693436861828522,45.20981108147379 L 5.6932637537073365,45.20984228523025 L 5.693089198570667,45.20986991983099 L 5.692740044348066,45.209924288316685 L 5.69256540183979,45.20995012230341 L 5.692389355815124,45.209973287018585 L 5.691857310787624,45.210041071772686 L 5.691500038279366,45.2100857216405 L 5.691143777852171,45.21012494029249 L 5.6909633906067665,45.21013739602197 L 5.690785940043907,45.210157889194456 L 5.690608532747305,45.21017928198409 L 5.690432441794033,45.21020154371752 L 5.689762406569268,45.210288860004354 L 5.688622552282191,45.21046586740302 L 5.6883101796290525,45.2105166334112 L 5.687341620909838,45.21067779126165 L 5.686892791242704,45.210753459765066 L 5.6853121405127816,45.21117348163295 L 5.685185964568756,45.211253095903686 L 5.685007271376571,45.21161867066719 L 5.684984225803634,45.21174896052807 L 5.685032171431559,45.21173879827039 L 5.68522637008096,45.21169538810193 L 5.688485802982317,45.21098720259767 L 5.69071534045258,45.21064970428876 L 5.69294489439289,45.210313061405 L 5.695175651045029,45.209975443422714 L 5.698869586747465,45.208610482032135 z\" /></g></svg>"
      ],
      "text/plain": [
       "<POLYGON ((5.699 45.209, 5.702 45.208, 5.704 45.207, 5.705 45.206, 5.706 45....>"
      ]
     },
     "execution_count": 27,
     "metadata": {},
     "output_type": "execute_result"
    }
   ],
   "source": [
    "shapely.wkt.loads(data_pauvrete.geometry.iloc[0]) #voici ce que contient la 1ère ligne de la variable \"geometry\""
   ]
  },
  {
   "cell_type": "code",
   "execution_count": 28,
   "id": "98c4f011",
   "metadata": {},
   "outputs": [],
   "source": [
    "#on convertit la variable \"geometry\" en objet géométrique (c'était une string)\n",
    "data_pauvrete.geometry =  data_pauvrete.geometry.apply(lambda pt: shapely.wkt.loads(pt)) \n",
    "\n",
    "#on convertit la DataFrame en GeoDataFrame\n",
    "data_pauvrete = gpd.GeoDataFrame(data_pauvrete)"
   ]
  },
  {
   "cell_type": "code",
   "execution_count": 29,
   "id": "3f6ecfa7",
   "metadata": {},
   "outputs": [
    {
     "data": {
      "text/plain": [
       "geopandas.geodataframe.GeoDataFrame"
      ]
     },
     "execution_count": 29,
     "metadata": {},
     "output_type": "execute_result"
    }
   ],
   "source": [
    "type(data_pauvrete)"
   ]
  },
  {
   "cell_type": "markdown",
   "id": "18cb145a",
   "metadata": {},
   "source": [
    "## Visualiser les cartes de façon statique"
   ]
  },
  {
   "cell_type": "markdown",
   "id": "aba58f51",
   "metadata": {},
   "source": [
    "df.plot()"
   ]
  },
  {
   "cell_type": "code",
   "execution_count": 30,
   "id": "c62727ad",
   "metadata": {},
   "outputs": [
    {
     "data": {
      "text/plain": [
       "<AxesSubplot: >"
      ]
     },
     "execution_count": 30,
     "metadata": {},
     "output_type": "execute_result"
    },
    {
     "data": {
      "image/png": "[encoded data removed]",
      "text/plain": [
       "<Figure size 640x480 with 1 Axes>"
      ]
     },
     "metadata": {},
     "output_type": "display_data"
    }
   ],
   "source": [
    "data_pauvrete.plot()"
   ]
  },
  {
   "cell_type": "code",
   "execution_count": 31,
   "id": "be708c5b",
   "metadata": {},
   "outputs": [
    {
     "data": {
      "text/plain": [
       "<AxesSubplot: >"
      ]
     },
     "execution_count": 31,
     "metadata": {},
     "output_type": "execute_result"
    },
    {
     "data": {
      "image/png": "[encoded data removed]",
      "text/plain": [
       "<Figure size 640x480 with 1 Axes>"
      ]
     },
     "metadata": {},
     "output_type": "display_data"
    }
   ],
   "source": [
    "data_bornes.plot()"
   ]
  },
  {
   "cell_type": "markdown",
   "id": "5b5f1735",
   "metadata": {},
   "source": [
    "## Créer des cartes interactives avec Plotly"
   ]
  },
  {
   "cell_type": "code",
   "execution_count": 35,
   "id": "c8d2576a",
   "metadata": {
    "scrolled": true
   },
   "outputs": [
    {
     "data": {
      "application/vnd.plotly.v1+json": {
       "config": {
        "plotlyServerURL": "https://plot.ly"
       },
       "data": [
        {
         "customdata": [
          [
           "SAINT-MARTIN-D'HERES - Avenue Centrale - BU",
           "FR*M38*P38421*001"
          ],
          [
           "GRENOBLE - Rue Jacquard - Balzac",
           "FR*M38*P38185*002"
          ],
          [
           "GRENOBLE - Rue Thiers",
           "FR*M38*P38185*018"
          ],
          [
           "SEYSSINET-PARISET - Rue Lamartine",
           "FR*M38*P38485*001"
          ],
          [
           "GRENOBLE - Place De Lavalette - ND - Musée",
           "FR*M38*P38185*015"
          ],
          [
           "SAINT-MARTIN-D'HERES - Rue De La Houille Blanche - Les taillées",
           "FR*M38*P38421*002"
          ],
          [
           "GRENOBLE - Avenue Doyen Louis Weil - Gare Schuman",
           "FR*M38*P38185*008"
          ],
          [
           "GRENOBLE - Cours De La Libération Et Du Général De Gaulle - Louise Michel",
           "FR*M38*P38185*012"
          ],
          [
           "GRENOBLE - Place Jean Achard",
           "FR*M38*P38185*001"
          ],
          [
           "GRENOBLE - Rue Marceau - Bonne",
           "FR*M38*P38185*003"
          ],
          [
           "GRENOBLE - Quai Stéphane Jay",
           "FR*M38*P38185*017"
          ],
          [
           "GRENOBLE - Place Victor Hugo - Victor Hugo",
           "FR*M38*P38185*020"
          ],
          [
           "GRENOBLE - Place Saint-Bruno",
           "FR*M38*P38185*016"
          ],
          [
           "GRENOBLE - Rue Jules Horowitz - Horowitz",
           "FR*M38*P38185*010"
          ],
          [
           "GRENOBLE - Boulevard Jean Pain - Jean Pain",
           "FR*M38*P38185*011"
          ],
          [
           "MEYLAN - Allée Des Amphores",
           "FR*M38*P38185*014"
          ],
          [
           "GRENOBLE - Place De La Gare - Gare Gueymard",
           "FR*M38*P38185*009"
          ],
          [
           "GRENOBLE - Rue Félix Esclangon - Cité Internationale",
           "FR*M38*P38185*006"
          ],
          [
           "GRENOBLE - Rue Commandant Gilot - Dumont",
           "FR*M38*P38185*007"
          ],
          [
           "GRENOBLE - Place André Malraux - CCI",
           "FR*M38*P38185*013"
          ],
          [
           "LA TRONCHE - Avenue De L'Obiou",
           "FR*M38*P38516*001"
          ],
          [
           "GRENOBLE - Place Dr Léon Martin - Vaucanson",
           "FR*M38*P38185*019"
          ],
          [
           "PONT-DE-CLAIX - Parking-Relais L'Etoile",
           "FR*M38*P38317*001"
          ],
          [
           "GRENOBLE - Avenue Des Martyrs - CEA Cambridge ",
           "FR*M38*P38185*004"
          ],
          [
           "GRENOBLE - Rue Victor Lastella - Chambre des Métiers",
           "FR*M38*P38185*005"
          ],
          [
           "GIERES - Rue De La Gare",
           "FR*M38*P38179*001"
          ]
         ],
         "hovertemplate": "Nom station : %{customdata[0]}<br>ID station : %{customdata[1]}",
         "lat": [
          45.1916,
          45.17461,
          45.18509,
          45.17999,
          45.19407,
          45.19191,
          45.1918,
          45.16981,
          45.18938,
          45.1836,
          45.19302,
          45.18895,
          45.186,
          45.20505,
          45.18797,
          45.21114,
          45.18996,
          45.19574,
          45.1814,
          45.18551,
          45.19941,
          45.18818,
          45.13755,
          45.2022,
          45.1844,
          45.18462
         ],
         "legendgroup": "",
         "lon": [
          5.769781,
          5.724746,
          5.719674,
          5.695541,
          5.731627,
          5.757221,
          5.71311,
          5.712591,
          5.72939,
          5.721397,
          5.725525,
          5.723815,
          5.713633,
          5.699334,
          5.738264,
          5.786497,
          5.715617,
          5.710719,
          5.72151,
          5.729505,
          5.750434,
          5.727782,
          5.703982,
          5.704735,
          5.704011,
          5.784519
         ],
         "marker": {
          "color": "#636efa"
         },
         "mode": "markers",
         "name": "",
         "showlegend": false,
         "subplot": "mapbox",
         "type": "scattermapbox"
        }
       ],
       "layout": {
        "legend": {
         "tracegroupgap": 0
        },
        "mapbox": {
         "center": {
          "lat": 45.18742153846154,
          "lon": 5.7274984615384605
         },
         "domain": {
          "x": [
           0,
           1
          ],
          "y": [
           0,
           1
          ]
         },
         "style": "carto-positron",
         "zoom": 8
        },
        "margin": {
         "t": 60
        },
        "template": {
         "data": {
          "bar": [
           {
            "error_x": {
             "color": "#2a3f5f"
            },
            "error_y": {
             "color": "#2a3f5f"
            },
            "marker": {
             "line": {
              "color": "#E5ECF6",
              "width": 0.5
             },
             "pattern": {
              "fillmode": "overlay",
              "size": 10,
              "solidity": 0.2
             }
            },
            "type": "bar"
           }
          ],
          "barpolar": [
           {
            "marker": {
             "line": {
              "color": "#E5ECF6",
              "width": 0.5
             },
             "pattern": {
              "fillmode": "overlay",
              "size": 10,
              "solidity": 0.2
             }
            },
            "type": "barpolar"
           }
          ],
          "carpet": [
           {
            "aaxis": {
             "endlinecolor": "#2a3f5f",
             "gridcolor": "white",
             "linecolor": "white",
             "minorgridcolor": "white",
             "startlinecolor": "#2a3f5f"
            },
            "baxis": {
             "endlinecolor": "#2a3f5f",
             "gridcolor": "white",
             "linecolor": "white",
             "minorgridcolor": "white",
             "startlinecolor": "#2a3f5f"
            },
            "type": "carpet"
           }
          ],
          "choropleth": [
           {
            "colorbar": {
             "outlinewidth": 0,
             "ticks": ""
            },
            "type": "choropleth"
           }
          ],
          "contour": [
           {
            "colorbar": {
             "outlinewidth": 0,
             "ticks": ""
            },
            "colorscale": [
             [
              0,
              "#0d0887"
             ],
             [
              0.1111111111111111,
              "#46039f"
             ],
             [
              0.2222222222222222,
              "#7201a8"
             ],
             [
              0.3333333333333333,
              "#9c179e"
             ],
             [
              0.4444444444444444,
              "#bd3786"
             ],
             [
              0.5555555555555556,
              "#d8576b"
             ],
             [
              0.6666666666666666,
              "#ed7953"
             ],
             [
              0.7777777777777778,
              "#fb9f3a"
             ],
             [
              0.8888888888888888,
              "#fdca26"
             ],
             [
              1,
              "#f0f921"
             ]
            ],
            "type": "contour"
           }
          ],
          "contourcarpet": [
           {
            "colorbar": {
             "outlinewidth": 0,
             "ticks": ""
            },
            "type": "contourcarpet"
           }
          ],
          "heatmap": [
           {
            "colorbar": {
             "outlinewidth": 0,
             "ticks": ""
            },
            "colorscale": [
             [
              0,
              "#0d0887"
             ],
             [
              0.1111111111111111,
              "#46039f"
             ],
             [
              0.2222222222222222,
              "#7201a8"
             ],
             [
              0.3333333333333333,
              "#9c179e"
             ],
             [
              0.4444444444444444,
              "#bd3786"
             ],
             [
              0.5555555555555556,
              "#d8576b"
             ],
             [
              0.6666666666666666,
              "#ed7953"
             ],
             [
              0.7777777777777778,
              "#fb9f3a"
             ],
             [
              0.8888888888888888,
              "#fdca26"
             ],
             [
              1,
              "#f0f921"
             ]
            ],
            "type": "heatmap"
           }
          ],
          "heatmapgl": [
           {
            "colorbar": {
             "outlinewidth": 0,
             "ticks": ""
            },
            "colorscale": [
             [
              0,
              "#0d0887"
             ],
             [
              0.1111111111111111,
              "#46039f"
             ],
             [
              0.2222222222222222,
              "#7201a8"
             ],
             [
              0.3333333333333333,
              "#9c179e"
             ],
             [
              0.4444444444444444,
              "#bd3786"
             ],
             [
              0.5555555555555556,
              "#d8576b"
             ],
             [
              0.6666666666666666,
              "#ed7953"
             ],
             [
              0.7777777777777778,
              "#fb9f3a"
             ],
             [
              0.8888888888888888,
              "#fdca26"
             ],
             [
              1,
              "#f0f921"
             ]
            ],
            "type": "heatmapgl"
           }
          ],
          "histogram": [
           {
            "marker": {
             "pattern": {
              "fillmode": "overlay",
              "size": 10,
              "solidity": 0.2
             }
            },
            "type": "histogram"
           }
          ],
          "histogram2d": [
           {
            "colorbar": {
             "outlinewidth": 0,
             "ticks": ""
            },
            "colorscale": [
             [
              0,
              "#0d0887"
             ],
             [
              0.1111111111111111,
              "#46039f"
             ],
             [
              0.2222222222222222,
              "#7201a8"
             ],
             [
              0.3333333333333333,
              "#9c179e"
             ],
             [
              0.4444444444444444,
              "#bd3786"
             ],
             [
              0.5555555555555556,
              "#d8576b"
             ],
             [
              0.6666666666666666,
              "#ed7953"
             ],
             [
              0.7777777777777778,
              "#fb9f3a"
             ],
             [
              0.8888888888888888,
              "#fdca26"
             ],
             [
              1,
              "#f0f921"
             ]
            ],
            "type": "histogram2d"
           }
          ],
          "histogram2dcontour": [
           {
            "colorbar": {
             "outlinewidth": 0,
             "ticks": ""
            },
            "colorscale": [
             [
              0,
              "#0d0887"
             ],
             [
              0.1111111111111111,
              "#46039f"
             ],
             [
              0.2222222222222222,
              "#7201a8"
             ],
             [
              0.3333333333333333,
              "#9c179e"
             ],
             [
              0.4444444444444444,
              "#bd3786"
             ],
             [
              0.5555555555555556,
              "#d8576b"
             ],
             [
              0.6666666666666666,
              "#ed7953"
             ],
             [
              0.7777777777777778,
              "#fb9f3a"
             ],
             [
              0.8888888888888888,
              "#fdca26"
             ],
             [
              1,
              "#f0f921"
             ]
            ],
            "type": "histogram2dcontour"
           }
          ],
          "mesh3d": [
           {
            "colorbar": {
             "outlinewidth": 0,
             "ticks": ""
            },
            "type": "mesh3d"
           }
          ],
          "parcoords": [
           {
            "line": {
             "colorbar": {
              "outlinewidth": 0,
              "ticks": ""
             }
            },
            "type": "parcoords"
           }
          ],
          "pie": [
           {
            "automargin": true,
            "type": "pie"
           }
          ],
          "scatter": [
           {
            "fillpattern": {
             "fillmode": "overlay",
             "size": 10,
             "solidity": 0.2
            },
            "type": "scatter"
           }
          ],
          "scatter3d": [
           {
            "line": {
             "colorbar": {
              "outlinewidth": 0,
              "ticks": ""
             }
            },
            "marker": {
             "colorbar": {
              "outlinewidth": 0,
              "ticks": ""
             }
            },
            "type": "scatter3d"
           }
          ],
          "scattercarpet": [
           {
            "marker": {
             "colorbar": {
              "outlinewidth": 0,
              "ticks": ""
             }
            },
            "type": "scattercarpet"
           }
          ],
          "scattergeo": [
           {
            "marker": {
             "colorbar": {
              "outlinewidth": 0,
              "ticks": ""
             }
            },
            "type": "scattergeo"
           }
          ],
          "scattergl": [
           {
            "marker": {
             "colorbar": {
              "outlinewidth": 0,
              "ticks": ""
             }
            },
            "type": "scattergl"
           }
          ],
          "scattermapbox": [
           {
            "marker": {
             "colorbar": {
              "outlinewidth": 0,
              "ticks": ""
             }
            },
            "type": "scattermapbox"
           }
          ],
          "scatterpolar": [
           {
            "marker": {
             "colorbar": {
              "outlinewidth": 0,
              "ticks": ""
             }
            },
            "type": "scatterpolar"
           }
          ],
          "scatterpolargl": [
           {
            "marker": {
             "colorbar": {
              "outlinewidth": 0,
              "ticks": ""
             }
            },
            "type": "scatterpolargl"
           }
          ],
          "scatterternary": [
           {
            "marker": {
             "colorbar": {
              "outlinewidth": 0,
              "ticks": ""
             }
            },
            "type": "scatterternary"
           }
          ],
          "surface": [
           {
            "colorbar": {
             "outlinewidth": 0,
             "ticks": ""
            },
            "colorscale": [
             [
              0,
              "#0d0887"
             ],
             [
              0.1111111111111111,
              "#46039f"
             ],
             [
              0.2222222222222222,
              "#7201a8"
             ],
             [
              0.3333333333333333,
              "#9c179e"
             ],
             [
              0.4444444444444444,
              "#bd3786"
             ],
             [
              0.5555555555555556,
              "#d8576b"
             ],
             [
              0.6666666666666666,
              "#ed7953"
             ],
             [
              0.7777777777777778,
              "#fb9f3a"
             ],
             [
              0.8888888888888888,
              "#fdca26"
             ],
             [
              1,
              "#f0f921"
             ]
            ],
            "type": "surface"
           }
          ],
          "table": [
           {
            "cells": {
             "fill": {
              "color": "#EBF0F8"
             },
             "line": {
              "color": "white"
             }
            },
            "header": {
             "fill": {
              "color": "#C8D4E3"
             },
             "line": {
              "color": "white"
             }
            },
            "type": "table"
           }
          ]
         },
         "layout": {
          "annotationdefaults": {
           "arrowcolor": "#2a3f5f",
           "arrowhead": 0,
           "arrowwidth": 1
          },
          "autotypenumbers": "strict",
          "coloraxis": {
           "colorbar": {
            "outlinewidth": 0,
            "ticks": ""
           }
          },
          "colorscale": {
           "diverging": [
            [
             0,
             "#8e0152"
            ],
            [
             0.1,
             "#c51b7d"
            ],
            [
             0.2,
             "#de77ae"
            ],
            [
             0.3,
             "#f1b6da"
            ],
            [
             0.4,
             "#fde0ef"
            ],
            [
             0.5,
             "#f7f7f7"
            ],
            [
             0.6,
             "#e6f5d0"
            ],
            [
             0.7,
             "#b8e186"
            ],
            [
             0.8,
             "#7fbc41"
            ],
            [
             0.9,
             "#4d9221"
            ],
            [
             1,
             "#276419"
            ]
           ],
           "sequential": [
            [
             0,
             "#0d0887"
            ],
            [
             0.1111111111111111,
             "#46039f"
            ],
            [
             0.2222222222222222,
             "#7201a8"
            ],
            [
             0.3333333333333333,
             "#9c179e"
            ],
            [
             0.4444444444444444,
             "#bd3786"
            ],
            [
             0.5555555555555556,
             "#d8576b"
            ],
            [
             0.6666666666666666,
             "#ed7953"
            ],
            [
             0.7777777777777778,
             "#fb9f3a"
            ],
            [
             0.8888888888888888,
             "#fdca26"
            ],
            [
             1,
             "#f0f921"
            ]
           ],
           "sequentialminus": [
            [
             0,
             "#0d0887"
            ],
            [
             0.1111111111111111,
             "#46039f"
            ],
            [
             0.2222222222222222,
             "#7201a8"
            ],
            [
             0.3333333333333333,
             "#9c179e"
            ],
            [
             0.4444444444444444,
             "#bd3786"
            ],
            [
             0.5555555555555556,
             "#d8576b"
            ],
            [
             0.6666666666666666,
             "#ed7953"
            ],
            [
             0.7777777777777778,
             "#fb9f3a"
            ],
            [
             0.8888888888888888,
             "#fdca26"
            ],
            [
             1,
             "#f0f921"
            ]
           ]
          },
          "colorway": [
           "#636efa",
           "#EF553B",
           "#00cc96",
           "#ab63fa",
           "#FFA15A",
           "#19d3f3",
           "#FF6692",
           "#B6E880",
           "#FF97FF",
           "#FECB52"
          ],
          "font": {
           "color": "#2a3f5f"
          },
          "geo": {
           "bgcolor": "white",
           "lakecolor": "white",
           "landcolor": "#E5ECF6",
           "showlakes": true,
           "showland": true,
           "subunitcolor": "white"
          },
          "hoverlabel": {
           "align": "left"
          },
          "hovermode": "closest",
          "mapbox": {
           "style": "light"
          },
          "paper_bgcolor": "white",
          "plot_bgcolor": "#E5ECF6",
          "polar": {
           "angularaxis": {
            "gridcolor": "white",
            "linecolor": "white",
            "ticks": ""
           },
           "bgcolor": "#E5ECF6",
           "radialaxis": {
            "gridcolor": "white",
            "linecolor": "white",
            "ticks": ""
           }
          },
          "scene": {
           "xaxis": {
            "backgroundcolor": "#E5ECF6",
            "gridcolor": "white",
            "gridwidth": 2,
            "linecolor": "white",
            "showbackground": true,
            "ticks": "",
            "zerolinecolor": "white"
           },
           "yaxis": {
            "backgroundcolor": "#E5ECF6",
            "gridcolor": "white",
            "gridwidth": 2,
            "linecolor": "white",
            "showbackground": true,
            "ticks": "",
            "zerolinecolor": "white"
           },
           "zaxis": {
            "backgroundcolor": "#E5ECF6",
            "gridcolor": "white",
            "gridwidth": 2,
            "linecolor": "white",
            "showbackground": true,
            "ticks": "",
            "zerolinecolor": "white"
           }
          },
          "shapedefaults": {
           "line": {
            "color": "#2a3f5f"
           }
          },
          "ternary": {
           "aaxis": {
            "gridcolor": "white",
            "linecolor": "white",
            "ticks": ""
           },
           "baxis": {
            "gridcolor": "white",
            "linecolor": "white",
            "ticks": ""
           },
           "bgcolor": "#E5ECF6",
           "caxis": {
            "gridcolor": "white",
            "linecolor": "white",
            "ticks": ""
           }
          },
          "title": {
           "x": 0.05
          },
          "xaxis": {
           "automargin": true,
           "gridcolor": "white",
           "linecolor": "white",
           "ticks": "",
           "title": {
            "standoff": 15
           },
           "zerolinecolor": "white",
           "zerolinewidth": 2
          },
          "yaxis": {
           "automargin": true,
           "gridcolor": "white",
           "linecolor": "white",
           "ticks": "",
           "title": {
            "standoff": 15
           },
           "zerolinecolor": "white",
           "zerolinewidth": 2
          }
         }
        }
       }
      },
      "text/html": [
       "<div>                            <div id=\"088d8178-080f-48fa-a708-8f58014f5d00\" class=\"plotly-graph-div\" style=\"height:525px; width:100%;\"></div>            <script type=\"text/javascript\">                require([\"plotly\"], function(Plotly) {                    window.PLOTLYENV=window.PLOTLYENV || {};                                    if (document.getElementById(\"088d8178-080f-48fa-a708-8f58014f5d00\")) {                    Plotly.newPlot(                        \"088d8178-080f-48fa-a708-8f58014f5d00\",                        [{\"customdata\":[[\"SAINT-MARTIN-D'HERES - Avenue Centrale - BU\",\"FR*M38*P38421*001\"],[\"GRENOBLE - Rue Jacquard - Balzac\",\"FR*M38*P38185*002\"],[\"GRENOBLE - Rue Thiers\",\"FR*M38*P38185*018\"],[\"SEYSSINET-PARISET - Rue Lamartine\",\"FR*M38*P38485*001\"],[\"GRENOBLE - Place De Lavalette - ND - Mus\\u00e9e\",\"FR*M38*P38185*015\"],[\"SAINT-MARTIN-D'HERES - Rue De La Houille Blanche - Les taill\\u00e9es\",\"FR*M38*P38421*002\"],[\"GRENOBLE - Avenue Doyen Louis Weil - Gare Schuman\",\"FR*M38*P38185*008\"],[\"GRENOBLE - Cours De La Lib\\u00e9ration Et Du G\\u00e9n\\u00e9ral De Gaulle - Louise Michel\",\"FR*M38*P38185*012\"],[\"GRENOBLE - Place Jean Achard\",\"FR*M38*P38185*001\"],[\"GRENOBLE - Rue Marceau - Bonne\",\"FR*M38*P38185*003\"],[\"GRENOBLE - Quai St\\u00e9phane Jay\",\"FR*M38*P38185*017\"],[\"GRENOBLE - Place Victor Hugo - Victor Hugo\",\"FR*M38*P38185*020\"],[\"GRENOBLE - Place Saint-Bruno\",\"FR*M38*P38185*016\"],[\"GRENOBLE - Rue Jules Horowitz - Horowitz\",\"FR*M38*P38185*010\"],[\"GRENOBLE - Boulevard Jean Pain - Jean Pain\",\"FR*M38*P38185*011\"],[\"MEYLAN - All\\u00e9e Des Amphores\",\"FR*M38*P38185*014\"],[\"GRENOBLE - Place De La Gare - Gare Gueymard\",\"FR*M38*P38185*009\"],[\"GRENOBLE - Rue F\\u00e9lix Esclangon - Cit\\u00e9 Internationale\",\"FR*M38*P38185*006\"],[\"GRENOBLE - Rue Commandant Gilot - Dumont\",\"FR*M38*P38185*007\"],[\"GRENOBLE - Place Andr\\u00e9 Malraux - CCI\",\"FR*M38*P38185*013\"],[\"LA TRONCHE - Avenue De L'Obiou\",\"FR*M38*P38516*001\"],[\"GRENOBLE - Place Dr L\\u00e9on Martin - Vaucanson\",\"FR*M38*P38185*019\"],[\"PONT-DE-CLAIX - Parking-Relais L'Etoile\",\"FR*M38*P38317*001\"],[\"GRENOBLE - Avenue Des Martyrs - CEA Cambridge \",\"FR*M38*P38185*004\"],[\"GRENOBLE - Rue Victor Lastella - Chambre des M\\u00e9tiers\",\"FR*M38*P38185*005\"],[\"GIERES - Rue De La Gare\",\"FR*M38*P38179*001\"]],\"hovertemplate\":\"Nom station : %{customdata[0]}<br>ID station : %{customdata[1]}\",\"lat\":[45.1916,45.17461,45.18509,45.17999,45.19407,45.19191,45.1918,45.16981,45.18938,45.1836,45.19302,45.18895,45.186,45.20505,45.18797,45.21114,45.18996,45.19574,45.1814,45.18551,45.19941,45.18818,45.13755,45.2022,45.1844,45.18462],\"legendgroup\":\"\",\"lon\":[5.769781,5.724746,5.719674,5.695541,5.731627,5.757221,5.71311,5.712591,5.72939,5.721397,5.725525,5.723815,5.713633,5.699334,5.738264,5.786497,5.715617,5.710719,5.72151,5.729505,5.750434,5.727782,5.703982,5.704735,5.704011,5.784519],\"marker\":{\"color\":\"#636efa\"},\"mode\":\"markers\",\"name\":\"\",\"showlegend\":false,\"subplot\":\"mapbox\",\"type\":\"scattermapbox\"}],                        {\"template\":{\"data\":{\"histogram2dcontour\":[{\"type\":\"histogram2dcontour\",\"colorbar\":{\"outlinewidth\":0,\"ticks\":\"\"},\"colorscale\":[[0.0,\"#0d0887\"],[0.1111111111111111,\"#46039f\"],[0.2222222222222222,\"#7201a8\"],[0.3333333333333333,\"#9c179e\"],[0.4444444444444444,\"#bd3786\"],[0.5555555555555556,\"#d8576b\"],[0.6666666666666666,\"#ed7953\"],[0.7777777777777778,\"#fb9f3a\"],[0.8888888888888888,\"#fdca26\"],[1.0,\"#f0f921\"]]}],\"choropleth\":[{\"type\":\"choropleth\",\"colorbar\":{\"outlinewidth\":0,\"ticks\":\"\"}}],\"histogram2d\":[{\"type\":\"histogram2d\",\"colorbar\":{\"outlinewidth\":0,\"ticks\":\"\"},\"colorscale\":[[0.0,\"#0d0887\"],[0.1111111111111111,\"#46039f\"],[0.2222222222222222,\"#7201a8\"],[0.3333333333333333,\"#9c179e\"],[0.4444444444444444,\"#bd3786\"],[0.5555555555555556,\"#d8576b\"],[0.6666666666666666,\"#ed7953\"],[0.7777777777777778,\"#fb9f3a\"],[0.8888888888888888,\"#fdca26\"],[1.0,\"#f0f921\"]]}],\"heatmap\":[{\"type\":\"heatmap\",\"colorbar\":{\"outlinewidth\":0,\"ticks\":\"\"},\"colorscale\":[[0.0,\"#0d0887\"],[0.1111111111111111,\"#46039f\"],[0.2222222222222222,\"#7201a8\"],[0.3333333333333333,\"#9c179e\"],[0.4444444444444444,\"#bd3786\"],[0.5555555555555556,\"#d8576b\"],[0.6666666666666666,\"#ed7953\"],[0.7777777777777778,\"#fb9f3a\"],[0.8888888888888888,\"#fdca26\"],[1.0,\"#f0f921\"]]}],\"heatmapgl\":[{\"type\":\"heatmapgl\",\"colorbar\":{\"outlinewidth\":0,\"ticks\":\"\"},\"colorscale\":[[0.0,\"#0d0887\"],[0.1111111111111111,\"#46039f\"],[0.2222222222222222,\"#7201a8\"],[0.3333333333333333,\"#9c179e\"],[0.4444444444444444,\"#bd3786\"],[0.5555555555555556,\"#d8576b\"],[0.6666666666666666,\"#ed7953\"],[0.7777777777777778,\"#fb9f3a\"],[0.8888888888888888,\"#fdca26\"],[1.0,\"#f0f921\"]]}],\"contourcarpet\":[{\"type\":\"contourcarpet\",\"colorbar\":{\"outlinewidth\":0,\"ticks\":\"\"}}],\"contour\":[{\"type\":\"contour\",\"colorbar\":{\"outlinewidth\":0,\"ticks\":\"\"},\"colorscale\":[[0.0,\"#0d0887\"],[0.1111111111111111,\"#46039f\"],[0.2222222222222222,\"#7201a8\"],[0.3333333333333333,\"#9c179e\"],[0.4444444444444444,\"#bd3786\"],[0.5555555555555556,\"#d8576b\"],[0.6666666666666666,\"#ed7953\"],[0.7777777777777778,\"#fb9f3a\"],[0.8888888888888888,\"#fdca26\"],[1.0,\"#f0f921\"]]}],\"surface\":[{\"type\":\"surface\",\"colorbar\":{\"outlinewidth\":0,\"ticks\":\"\"},\"colorscale\":[[0.0,\"#0d0887\"],[0.1111111111111111,\"#46039f\"],[0.2222222222222222,\"#7201a8\"],[0.3333333333333333,\"#9c179e\"],[0.4444444444444444,\"#bd3786\"],[0.5555555555555556,\"#d8576b\"],[0.6666666666666666,\"#ed7953\"],[0.7777777777777778,\"#fb9f3a\"],[0.8888888888888888,\"#fdca26\"],[1.0,\"#f0f921\"]]}],\"mesh3d\":[{\"type\":\"mesh3d\",\"colorbar\":{\"outlinewidth\":0,\"ticks\":\"\"}}],\"scatter\":[{\"fillpattern\":{\"fillmode\":\"overlay\",\"size\":10,\"solidity\":0.2},\"type\":\"scatter\"}],\"parcoords\":[{\"type\":\"parcoords\",\"line\":{\"colorbar\":{\"outlinewidth\":0,\"ticks\":\"\"}}}],\"scatterpolargl\":[{\"type\":\"scatterpolargl\",\"marker\":{\"colorbar\":{\"outlinewidth\":0,\"ticks\":\"\"}}}],\"bar\":[{\"error_x\":{\"color\":\"#2a3f5f\"},\"error_y\":{\"color\":\"#2a3f5f\"},\"marker\":{\"line\":{\"color\":\"#E5ECF6\",\"width\":0.5},\"pattern\":{\"fillmode\":\"overlay\",\"size\":10,\"solidity\":0.2}},\"type\":\"bar\"}],\"scattergeo\":[{\"type\":\"scattergeo\",\"marker\":{\"colorbar\":{\"outlinewidth\":0,\"ticks\":\"\"}}}],\"scatterpolar\":[{\"type\":\"scatterpolar\",\"marker\":{\"colorbar\":{\"outlinewidth\":0,\"ticks\":\"\"}}}],\"histogram\":[{\"marker\":{\"pattern\":{\"fillmode\":\"overlay\",\"size\":10,\"solidity\":0.2}},\"type\":\"histogram\"}],\"scattergl\":[{\"type\":\"scattergl\",\"marker\":{\"colorbar\":{\"outlinewidth\":0,\"ticks\":\"\"}}}],\"scatter3d\":[{\"type\":\"scatter3d\",\"line\":{\"colorbar\":{\"outlinewidth\":0,\"ticks\":\"\"}},\"marker\":{\"colorbar\":{\"outlinewidth\":0,\"ticks\":\"\"}}}],\"scattermapbox\":[{\"type\":\"scattermapbox\",\"marker\":{\"colorbar\":{\"outlinewidth\":0,\"ticks\":\"\"}}}],\"scatterternary\":[{\"type\":\"scatterternary\",\"marker\":{\"colorbar\":{\"outlinewidth\":0,\"ticks\":\"\"}}}],\"scattercarpet\":[{\"type\":\"scattercarpet\",\"marker\":{\"colorbar\":{\"outlinewidth\":0,\"ticks\":\"\"}}}],\"carpet\":[{\"aaxis\":{\"endlinecolor\":\"#2a3f5f\",\"gridcolor\":\"white\",\"linecolor\":\"white\",\"minorgridcolor\":\"white\",\"startlinecolor\":\"#2a3f5f\"},\"baxis\":{\"endlinecolor\":\"#2a3f5f\",\"gridcolor\":\"white\",\"linecolor\":\"white\",\"minorgridcolor\":\"white\",\"startlinecolor\":\"#2a3f5f\"},\"type\":\"carpet\"}],\"table\":[{\"cells\":{\"fill\":{\"color\":\"#EBF0F8\"},\"line\":{\"color\":\"white\"}},\"header\":{\"fill\":{\"color\":\"#C8D4E3\"},\"line\":{\"color\":\"white\"}},\"type\":\"table\"}],\"barpolar\":[{\"marker\":{\"line\":{\"color\":\"#E5ECF6\",\"width\":0.5},\"pattern\":{\"fillmode\":\"overlay\",\"size\":10,\"solidity\":0.2}},\"type\":\"barpolar\"}],\"pie\":[{\"automargin\":true,\"type\":\"pie\"}]},\"layout\":{\"autotypenumbers\":\"strict\",\"colorway\":[\"#636efa\",\"#EF553B\",\"#00cc96\",\"#ab63fa\",\"#FFA15A\",\"#19d3f3\",\"#FF6692\",\"#B6E880\",\"#FF97FF\",\"#FECB52\"],\"font\":{\"color\":\"#2a3f5f\"},\"hovermode\":\"closest\",\"hoverlabel\":{\"align\":\"left\"},\"paper_bgcolor\":\"white\",\"plot_bgcolor\":\"#E5ECF6\",\"polar\":{\"bgcolor\":\"#E5ECF6\",\"angularaxis\":{\"gridcolor\":\"white\",\"linecolor\":\"white\",\"ticks\":\"\"},\"radialaxis\":{\"gridcolor\":\"white\",\"linecolor\":\"white\",\"ticks\":\"\"}},\"ternary\":{\"bgcolor\":\"#E5ECF6\",\"aaxis\":{\"gridcolor\":\"white\",\"linecolor\":\"white\",\"ticks\":\"\"},\"baxis\":{\"gridcolor\":\"white\",\"linecolor\":\"white\",\"ticks\":\"\"},\"caxis\":{\"gridcolor\":\"white\",\"linecolor\":\"white\",\"ticks\":\"\"}},\"coloraxis\":{\"colorbar\":{\"outlinewidth\":0,\"ticks\":\"\"}},\"colorscale\":{\"sequential\":[[0.0,\"#0d0887\"],[0.1111111111111111,\"#46039f\"],[0.2222222222222222,\"#7201a8\"],[0.3333333333333333,\"#9c179e\"],[0.4444444444444444,\"#bd3786\"],[0.5555555555555556,\"#d8576b\"],[0.6666666666666666,\"#ed7953\"],[0.7777777777777778,\"#fb9f3a\"],[0.8888888888888888,\"#fdca26\"],[1.0,\"#f0f921\"]],\"sequentialminus\":[[0.0,\"#0d0887\"],[0.1111111111111111,\"#46039f\"],[0.2222222222222222,\"#7201a8\"],[0.3333333333333333,\"#9c179e\"],[0.4444444444444444,\"#bd3786\"],[0.5555555555555556,\"#d8576b\"],[0.6666666666666666,\"#ed7953\"],[0.7777777777777778,\"#fb9f3a\"],[0.8888888888888888,\"#fdca26\"],[1.0,\"#f0f921\"]],\"diverging\":[[0,\"#8e0152\"],[0.1,\"#c51b7d\"],[0.2,\"#de77ae\"],[0.3,\"#f1b6da\"],[0.4,\"#fde0ef\"],[0.5,\"#f7f7f7\"],[0.6,\"#e6f5d0\"],[0.7,\"#b8e186\"],[0.8,\"#7fbc41\"],[0.9,\"#4d9221\"],[1,\"#276419\"]]},\"xaxis\":{\"gridcolor\":\"white\",\"linecolor\":\"white\",\"ticks\":\"\",\"title\":{\"standoff\":15},\"zerolinecolor\":\"white\",\"automargin\":true,\"zerolinewidth\":2},\"yaxis\":{\"gridcolor\":\"white\",\"linecolor\":\"white\",\"ticks\":\"\",\"title\":{\"standoff\":15},\"zerolinecolor\":\"white\",\"automargin\":true,\"zerolinewidth\":2},\"scene\":{\"xaxis\":{\"backgroundcolor\":\"#E5ECF6\",\"gridcolor\":\"white\",\"linecolor\":\"white\",\"showbackground\":true,\"ticks\":\"\",\"zerolinecolor\":\"white\",\"gridwidth\":2},\"yaxis\":{\"backgroundcolor\":\"#E5ECF6\",\"gridcolor\":\"white\",\"linecolor\":\"white\",\"showbackground\":true,\"ticks\":\"\",\"zerolinecolor\":\"white\",\"gridwidth\":2},\"zaxis\":{\"backgroundcolor\":\"#E5ECF6\",\"gridcolor\":\"white\",\"linecolor\":\"white\",\"showbackground\":true,\"ticks\":\"\",\"zerolinecolor\":\"white\",\"gridwidth\":2}},\"shapedefaults\":{\"line\":{\"color\":\"#2a3f5f\"}},\"annotationdefaults\":{\"arrowcolor\":\"#2a3f5f\",\"arrowhead\":0,\"arrowwidth\":1},\"geo\":{\"bgcolor\":\"white\",\"landcolor\":\"#E5ECF6\",\"subunitcolor\":\"white\",\"showland\":true,\"showlakes\":true,\"lakecolor\":\"white\"},\"title\":{\"x\":0.05},\"mapbox\":{\"style\":\"light\"}}},\"mapbox\":{\"domain\":{\"x\":[0.0,1.0],\"y\":[0.0,1.0]},\"center\":{\"lat\":45.18742153846154,\"lon\":5.7274984615384605},\"zoom\":8,\"style\":\"carto-positron\"},\"legend\":{\"tracegroupgap\":0},\"margin\":{\"t\":60}},                        {\"responsive\": true}                    ).then(function(){\n",
       "                            \n",
       "var gd = document.getElementById('088d8178-080f-48fa-a708-8f58014f5d00');\n",
       "var x = new MutationObserver(function (mutations, observer) {{\n",
       "        var display = window.getComputedStyle(gd).display;\n",
       "        if (!display || display === 'none') {{\n",
       "            console.log([gd, 'removed!']);\n",
       "            Plotly.purge(gd);\n",
       "            observer.disconnect();\n",
       "        }}\n",
       "}});\n",
       "\n",
       "// Listen for the removal of the full notebook cells\n",
       "var notebookContainer = gd.closest('#notebook-container');\n",
       "if (notebookContainer) {{\n",
       "    x.observe(notebookContainer, {childList: true});\n",
       "}}\n",
       "\n",
       "// Listen for the clearing of the current output cell\n",
       "var outputEl = gd.closest('.output');\n",
       "if (outputEl) {{\n",
       "    x.observe(outputEl, {childList: true});\n",
       "}}\n",
       "\n",
       "                        })                };                });            </script>        </div>"
      ]
     },
     "metadata": {},
     "output_type": "display_data"
    }
   ],
   "source": [
    "fig = px.scatter_mapbox(data_bornes,lat=\"Ylatitude\", lon=\"Xlongitude\", \n",
    "                        mapbox_style=\"carto-positron\", #fond de carte\n",
    "                        custom_data=[\"n_station\",\"id_station\"]) #pour customiser les variables qui apparaissent dans l'étiquette (quand on survole)\n",
    "\n",
    "fig.update_traces(hovertemplate=\"<br>\".join([ \"Nom station : %{customdata[0]}\", \"ID station : %{customdata[1]}\" ])) #pour customiser les variables qui apparaissent dans l'étiquette (quand on survole)\n",
    "fig.show()"
   ]
  },
  {
   "cell_type": "code",
   "execution_count": 46,
   "id": "90479ea1",
   "metadata": {},
   "outputs": [
    {
     "data": {
      "application/vnd.plotly.v1+json": {
       "config": {
        "plotlyServerURL": "https://plot.ly"
       },
       "data": [
        {
         "coloraxis": "coloraxis",
         "geojson": {
          "bbox": [
           5.684984225803634,
           45.15852904177261,
           5.7530775068395394,
           45.21174896052807
          ],
          "features": [
           {
            "bbox": [
             5.684984225803634,
             45.19123289303337,
             5.720384845180219,
             45.21174896052807
            ],
            "geometry": {
             "coordinates": [
              [
               [
                5.698869586747465,
                45.208610482032135
               ],
               [
                5.702105802746155,
                45.20750873771934
               ],
               [
                5.703665723117503,
                45.20695473355787
               ],
               [
                5.70508838346996,
                45.2064355656153
               ],
               [
                5.706240432919772,
                45.205960778077305
               ],
               [
                5.7068901012254125,
                45.205744118108804
               ],
               [
                5.707701512365789,
                45.20555146146597
               ],
               [
                5.70872397410128,
                45.205322145675126
               ],
               [
                5.709353065782934,
                45.205180749105786
               ],
               [
                5.709838878251429,
                45.205054538757096
               ],
               [
                5.7101858053647225,
                45.20492899465942
               ],
               [
                5.710482692396785,
                45.20479655566455
               ],
               [
                5.710828572339831,
                45.204623284502894
               ],
               [
                5.7110852129564895,
                45.20444947626069
               ],
               [
                5.713140575761398,
                45.20297514502435
               ],
               [
                5.7136550625746985,
                45.20257433122802
               ],
               [
                5.713937726485574,
                45.20230708549171
               ],
               [
                5.714478208254644,
                45.201733553909065
               ],
               [
                5.71477246098081,
                45.20139034415979
               ],
               [
                5.715033975361194,
                45.200976754486824
               ],
               [
                5.715192810393528,
                45.200679181327054
               ],
               [
                5.715273068336579,
                45.20046910945995
               ],
               [
                5.715402593382187,
                45.2000668373932
               ],
               [
                5.715464945323512,
                45.199829271366575
               ],
               [
                5.7154712774932825,
                45.19972370594288
               ],
               [
                5.715458210660125,
                45.199612305692604
               ],
               [
                5.715407900263494,
                45.198945022916796
               ],
               [
                5.715091613165983,
                45.196870616006734
               ],
               [
                5.715087513369093,
                45.19628870109671
               ],
               [
                5.715345909141919,
                45.195287766103775
               ],
               [
                5.715738503631962,
                45.194661965403256
               ],
               [
                5.716277705217059,
                45.19411638446646
               ],
               [
                5.716826625869665,
                45.19371832024746
               ],
               [
                5.71774145865564,
                45.1932987320095
               ],
               [
                5.718742023458522,
                45.192991468931446
               ],
               [
                5.719607361210716,
                45.19283795029598
               ],
               [
                5.720384845180219,
                45.19231987811474
               ],
               [
                5.72034793866445,
                45.192294649892965
               ],
               [
                5.72030681876718,
                45.19228754338948
               ],
               [
                5.720188549041183,
                45.192292227380854
               ],
               [
                5.719952404230186,
                45.19230969394284
               ],
               [
                5.715420538090458,
                45.1912433841881
               ],
               [
                5.715370335995059,
                45.19123289303337
               ],
               [
                5.715314514983207,
                45.19123785469431
               ],
               [
                5.715022529562158,
                45.19180985274494
               ],
               [
                5.714265389721206,
                45.19345448073336
               ],
               [
                5.713443236787477,
                45.19520429267366
               ],
               [
                5.712333806889955,
                45.19628806806768
               ],
               [
                5.711466124174501,
                45.1978110297984
               ],
               [
                5.711177518742077,
                45.19845410981442
               ],
               [
                5.710881048197408,
                45.19888295383405
               ],
               [
                5.7096341813536995,
                45.19866095729261
               ],
               [
                5.709408736222284,
                45.19858444239955
               ],
               [
                5.7092842309393825,
                45.198539713607936
               ],
               [
                5.709252722379513,
                45.19852065735682
               ],
               [
                5.709228501190746,
                45.19849421665682
               ],
               [
                5.709196736435206,
                45.198443633376314
               ],
               [
                5.708617242372595,
                45.198896456785654
               ],
               [
                5.70805991385408,
                45.19930729568598
               ],
               [
                5.707103834776407,
                45.20003592569273
               ],
               [
                5.705430076249085,
                45.201312599023446
               ],
               [
                5.704034018774221,
                45.20237800522691
               ],
               [
                5.701691914428178,
                45.204172631960766
               ],
               [
                5.699488022918192,
                45.20595575666328
               ],
               [
                5.69730637158326,
                45.207753614023204
               ],
               [
                5.696108492027054,
                45.20865375920077
               ],
               [
                5.69598672159441,
                45.208744992066045
               ],
               [
                5.69586367771223,
                45.208836255535786
               ],
               [
                5.6957379568855755,
                45.20892488064978
               ],
               [
                5.695608242587667,
                45.20900999823462
               ],
               [
                5.695475851356392,
                45.20909247744202
               ],
               [
                5.695340696254505,
                45.20917051846866
               ],
               [
                5.695200144240648,
                45.209242382966046
               ],
               [
                5.69505810146391,
                45.20930977852903
               ],
               [
                5.694912152220506,
                45.209375466291945
               ],
               [
                5.694762122658229,
                45.20943584665094
               ],
               [
                5.694608143188167,
                45.20949361928091
               ],
               [
                5.6944475373087275,
                45.209546145912206
               ],
               [
                5.694118599311407,
                45.209649582982244
               ],
               [
                5.693951323010543,
                45.209695963197184
               ],
               [
                5.6937813264956105,
                45.20973880499516
               ],
               [
                5.693609839422231,
                45.209777177756365
               ],
               [
                5.693436861828522,
                45.20981108147379
               ],
               [
                5.6932637537073365,
                45.20984228523025
               ],
               [
                5.693089198570667,
                45.20986991983099
               ],
               [
                5.692740044348066,
                45.209924288316685
               ],
               [
                5.69256540183979,
                45.20995012230341
               ],
               [
                5.692389355815124,
                45.209973287018585
               ],
               [
                5.691857310787624,
                45.210041071772686
               ],
               [
                5.691500038279366,
                45.2100857216405
               ],
               [
                5.691143777852171,
                45.21012494029249
               ],
               [
                5.6909633906067665,
                45.21013739602197
               ],
               [
                5.690785940043907,
                45.210157889194456
               ],
               [
                5.690608532747305,
                45.21017928198409
               ],
               [
                5.690432441794033,
                45.21020154371752
               ],
               [
                5.689762406569268,
                45.210288860004354
               ],
               [
                5.688622552282191,
                45.21046586740302
               ],
               [
                5.6883101796290525,
                45.2105166334112
               ],
               [
                5.687341620909838,
                45.21067779126165
               ],
               [
                5.686892791242704,
                45.210753459765066
               ],
               [
                5.6853121405127816,
                45.21117348163295
               ],
               [
                5.685185964568756,
                45.211253095903686
               ],
               [
                5.685007271376571,
                45.21161867066719
               ],
               [
                5.684984225803634,
                45.21174896052807
               ],
               [
                5.685032171431559,
                45.21173879827039
               ],
               [
                5.68522637008096,
                45.21169538810193
               ],
               [
                5.688485802982317,
                45.21098720259767
               ],
               [
                5.69071534045258,
                45.21064970428876
               ],
               [
                5.69294489439289,
                45.210313061405
               ],
               [
                5.695175651045029,
                45.209975443422714
               ],
               [
                5.698869586747465,
                45.208610482032135
               ]
              ]
             ],
             "type": "Polygon"
            },
            "id": "0",
            "properties": {},
            "type": "Feature"
           },
           {
            "bbox": [
             5.7031885251318455,
             45.188282570076716,
             5.715814271935475,
             45.19888295383405
            ],
            "geometry": {
             "coordinates": [
              [
               [
                5.703190852556995,
                45.19257539821455
               ],
               [
                5.7031885251318455,
                45.19257995930462
               ],
               [
                5.707757146303249,
                45.192358416742294
               ],
               [
                5.7101996454696256,
                45.19427222086695
               ],
               [
                5.710357100634524,
                45.196464912544776
               ],
               [
                5.7098896548331926,
                45.197466403809315
               ],
               [
                5.70959515152432,
                45.19790961165005
               ],
               [
                5.709225012054683,
                45.198396097833644
               ],
               [
                5.709196736435206,
                45.198443633376314
               ],
               [
                5.709228501190746,
                45.19849421665682
               ],
               [
                5.709252722379513,
                45.19852065735682
               ],
               [
                5.7092842309393825,
                45.198539713607936
               ],
               [
                5.709408736222284,
                45.19858444239955
               ],
               [
                5.7096341813536995,
                45.19866095729261
               ],
               [
                5.710881048197408,
                45.19888295383405
               ],
               [
                5.711177518742077,
                45.19845410981442
               ],
               [
                5.711466124174501,
                45.1978110297984
               ],
               [
                5.712333806889955,
                45.19628806806768
               ],
               [
                5.713443236787477,
                45.19520429267366
               ],
               [
                5.714265389721206,
                45.19345448073336
               ],
               [
                5.715022529562158,
                45.19180985274494
               ],
               [
                5.715314514983207,
                45.19123785469431
               ],
               [
                5.715370335995059,
                45.19123289303337
               ],
               [
                5.715593753719393,
                45.19079680372181
               ],
               [
                5.715798513744934,
                45.190396304926495
               ],
               [
                5.715760976251963,
                45.19014855587791
               ],
               [
                5.715749087675711,
                45.190113708054504
               ],
               [
                5.715713465821486,
                45.190010064463436
               ],
               [
                5.715762163611494,
                45.18930884129455
               ],
               [
                5.715814271935475,
                45.189122878697916
               ],
               [
                5.715784613865768,
                45.189063236622566
               ],
               [
                5.715643017595995,
                45.18895496377293
               ],
               [
                5.715605677617736,
                45.188920735153836
               ],
               [
                5.715559301142574,
                45.188857895963515
               ],
               [
                5.715592236332294,
                45.188644470492065
               ],
               [
                5.715650929259324,
                45.18843672500274
               ],
               [
                5.715728792229127,
                45.188282570076716
               ],
               [
                5.715644933830462,
                45.18828731316723
               ],
               [
                5.715573713575673,
                45.18828994682721
               ],
               [
                5.71553558019201,
                45.188291775501476
               ],
               [
                5.7154847968889095,
                45.18840022399952
               ],
               [
                5.715254930203931,
                45.18852023652954
               ],
               [
                5.715097077439506,
                45.188601557968184
               ],
               [
                5.714114475780195,
                45.1892245860245
               ],
               [
                5.713858439632767,
                45.18940919927047
               ],
               [
                5.713041078775582,
                45.18999846845627
               ],
               [
                5.711440812000885,
                45.19086442262644
               ],
               [
                5.7104187891383,
                45.19093969640929
               ],
               [
                5.70965331203806,
                45.19099792221487
               ],
               [
                5.7079764359817835,
                45.19112690749539
               ],
               [
                5.707117171031231,
                45.191195499499
               ],
               [
                5.706893397095058,
                45.191231558332156
               ],
               [
                5.706749799498251,
                45.19126567260849
               ],
               [
                5.706586493985593,
                45.19131377875547
               ],
               [
                5.706197820490078,
                45.19144392901127
               ],
               [
                5.705305577507407,
                45.19185746800049
               ],
               [
                5.704671399829011,
                45.19215393076612
               ],
               [
                5.704390944652337,
                45.19225622592307
               ],
               [
                5.704180144780392,
                45.19232349798435
               ],
               [
                5.70400121311225,
                45.19236477120082
               ],
               [
                5.703845895206768,
                45.19239375986212
               ],
               [
                5.703641561675897,
                45.19241042127248
               ],
               [
                5.703366097699477,
                45.19240538032352
               ],
               [
                5.703302359608418,
                45.19245737684833
               ],
               [
                5.703190852556995,
                45.19257539821455
               ]
              ]
             ],
             "type": "Polygon"
            },
            "id": "1",
            "properties": {},
            "type": "Feature"
           },
           {
            "bbox": [
             5.7016257166190805,
             45.188858409390846,
             5.713858439632767,
             45.1924280656014
            ],
            "geometry": {
             "coordinates": [
              [
               [
                5.704671399829011,
                45.19215393076612
               ],
               [
                5.705305577507407,
                45.19185746800049
               ],
               [
                5.706197820490078,
                45.19144392901127
               ],
               [
                5.706586493985593,
                45.19131377875547
               ],
               [
                5.706749799498251,
                45.19126567260849
               ],
               [
                5.706893397095058,
                45.191231558332156
               ],
               [
                5.707117171031231,
                45.191195499499
               ],
               [
                5.7079764359817835,
                45.19112690749539
               ],
               [
                5.70965331203806,
                45.19099792221487
               ],
               [
                5.7104187891383,
                45.19093969640929
               ],
               [
                5.711440812000885,
                45.19086442262644
               ],
               [
                5.713041078775582,
                45.18999846845627
               ],
               [
                5.713858439632767,
                45.18940919927047
               ],
               [
                5.71288071477916,
                45.189268092437246
               ],
               [
                5.711972414493251,
                45.18913970563468
               ],
               [
                5.711215901474725,
                45.18904095995273
               ],
               [
                5.706412642237184,
                45.188858409390846
               ],
               [
                5.705874598225508,
                45.18887685928795
               ],
               [
                5.704819611966716,
                45.18892855602528
               ],
               [
                5.703339437765568,
                45.189013965587186
               ],
               [
                5.702664290507216,
                45.18906905528128
               ],
               [
                5.7016257166190805,
                45.189223031993265
               ],
               [
                5.7016308552258685,
                45.18969770549556
               ],
               [
                5.7017296666341695,
                45.19242337565474
               ],
               [
                5.701729797320195,
                45.19242607532787
               ],
               [
                5.702280333093423,
                45.1924280656014
               ],
               [
                5.703213812824761,
                45.19241807761627
               ],
               [
                5.703366097699477,
                45.19240538032352
               ],
               [
                5.703641561675897,
                45.19241042127248
               ],
               [
                5.703845895206768,
                45.19239375986212
               ],
               [
                5.70400121311225,
                45.19236477120082
               ],
               [
                5.704180144780392,
                45.19232349798435
               ],
               [
                5.704390944652337,
                45.19225622592307
               ],
               [
                5.704671399829011,
                45.19215393076612
               ]
              ]
             ],
             "type": "Polygon"
            },
            "id": "2",
            "properties": {},
            "type": "Feature"
           },
           {
            "bbox": [
             5.715370335995059,
             45.189122878697916,
             5.72034793866445,
             45.19230969394284
            ],
            "geometry": {
             "coordinates": [
              [
               [
                5.7203094134,
                45.19207936011034
               ],
               [
                5.720193962877517,
                45.19172359441769
               ],
               [
                5.72012528988951,
                45.19151714784856
               ],
               [
                5.720083515884498,
                45.19139203245874
               ],
               [
                5.720042092916678,
                45.19127411612597
               ],
               [
                5.719926380916868,
                45.19096520618831
               ],
               [
                5.719758889162065,
                45.19061341116159
               ],
               [
                5.7195386188642985,
                45.18998901246153
               ],
               [
                5.71938302878988,
                45.18954142622939
               ],
               [
                5.718925372767511,
                45.18961474044746
               ],
               [
                5.717743115021433,
                45.189800297162826
               ],
               [
                5.716608872684068,
                45.18982069960638
               ],
               [
                5.716527703363804,
                45.189671315306114
               ],
               [
                5.716185273033802,
                45.18936341474183
               ],
               [
                5.715950874329229,
                45.1891546920877
               ],
               [
                5.715814271935475,
                45.189122878697916
               ],
               [
                5.715762163611494,
                45.18930884129455
               ],
               [
                5.715713465821486,
                45.190010064463436
               ],
               [
                5.715749087675711,
                45.190113708054504
               ],
               [
                5.715760976251963,
                45.19014855587791
               ],
               [
                5.715798513744934,
                45.190396304926495
               ],
               [
                5.715593753719393,
                45.19079680372181
               ],
               [
                5.715370335995059,
                45.19123289303337
               ],
               [
                5.715420538090458,
                45.1912433841881
               ],
               [
                5.719952404230186,
                45.19230969394284
               ],
               [
                5.720188549041183,
                45.192292227380854
               ],
               [
                5.72030681876718,
                45.19228754338948
               ],
               [
                5.72034793866445,
                45.192294649892965
               ],
               [
                5.720327489041451,
                45.19226721871001
               ],
               [
                5.720320643939927,
                45.19223134741682
               ],
               [
                5.72033732143298,
                45.19218138860082
               ],
               [
                5.720330388612494,
                45.192143717541505
               ],
               [
                5.7203094134,
                45.19207936011034
               ]
              ]
             ],
             "type": "Polygon"
            },
            "id": "3",
            "properties": {},
            "type": "Feature"
           },
           {
            "bbox": [
             5.705848820785069,
             45.18731979840749,
             5.71553558019201,
             45.18940919927047
            ],
            "geometry": {
             "coordinates": [
              [
               [
                5.7093027000225325,
                45.18737110866366
               ],
               [
                5.708245331263784,
                45.187425599186554
               ],
               [
                5.7074066222051,
                45.18747027138555
               ],
               [
                5.706329106923138,
                45.18752973707034
               ],
               [
                5.705848820785069,
                45.187556697141055
               ],
               [
                5.705877184502877,
                45.18811549705773
               ],
               [
                5.705901963096138,
                45.18878429940309
               ],
               [
                5.705874598225508,
                45.18887685928795
               ],
               [
                5.706412642237184,
                45.188858409390846
               ],
               [
                5.711215901474725,
                45.18904095995273
               ],
               [
                5.711972414493251,
                45.18913970563468
               ],
               [
                5.71288071477916,
                45.189268092437246
               ],
               [
                5.713858439632767,
                45.18940919927047
               ],
               [
                5.714114475780195,
                45.1892245860245
               ],
               [
                5.715097077439506,
                45.188601557968184
               ],
               [
                5.715254930203931,
                45.18852023652954
               ],
               [
                5.7154847968889095,
                45.18840022399952
               ],
               [
                5.71553558019201,
                45.188291775501476
               ],
               [
                5.715494901661308,
                45.18829366608069
               ],
               [
                5.715372822274011,
                45.18829843784447
               ],
               [
                5.712591511600289,
                45.18777414010605
               ],
               [
                5.712503861617535,
                45.1873600318915
               ],
               [
                5.711565368352845,
                45.187422476405935
               ],
               [
                5.710302889230153,
                45.18731979840749
               ],
               [
                5.7093027000225325,
                45.18737110866366
               ]
              ]
             ],
             "type": "Polygon"
            },
            "id": "4",
            "properties": {},
            "type": "Feature"
           },
           {
            "bbox": [
             5.715559301142574,
             45.184437678484116,
             5.71938302878988,
             45.18982069960638
            ],
            "geometry": {
             "coordinates": [
              [
               [
                5.715728792229127,
                45.188282570076716
               ],
               [
                5.715650929259324,
                45.18843672500274
               ],
               [
                5.715592236332294,
                45.188644470492065
               ],
               [
                5.715559301142574,
                45.188857895963515
               ],
               [
                5.715605677617736,
                45.188920735153836
               ],
               [
                5.715643017595995,
                45.18895496377293
               ],
               [
                5.715784613865768,
                45.189063236622566
               ],
               [
                5.715814271935475,
                45.189122878697916
               ],
               [
                5.715950874329229,
                45.1891546920877
               ],
               [
                5.716185273033802,
                45.18936341474183
               ],
               [
                5.716527703363804,
                45.189671315306114
               ],
               [
                5.716608872684068,
                45.18982069960638
               ],
               [
                5.717743115021433,
                45.189800297162826
               ],
               [
                5.718925372767511,
                45.18961474044746
               ],
               [
                5.71938302878988,
                45.18954142622939
               ],
               [
                5.719239990546089,
                45.18911605789915
               ],
               [
                5.718907280558949,
                45.18814482848188
               ],
               [
                5.718873014333088,
                45.18804295471337
               ],
               [
                5.718766004236198,
                45.18772932739655
               ],
               [
                5.718180477036852,
                45.185987634904606
               ],
               [
                5.718141782413406,
                45.18587325556338
               ],
               [
                5.718026312963766,
                45.18554271584285
               ],
               [
                5.717848636621313,
                45.185033500792706
               ],
               [
                5.717697371401963,
                45.184621846063465
               ],
               [
                5.717667452752608,
                45.18453067765176
               ],
               [
                5.717638719059887,
                45.184437678484116
               ],
               [
                5.717544543449565,
                45.18459673679657
               ],
               [
                5.7171288022754565,
                45.18553033208012
               ],
               [
                5.717079384697032,
                45.18564055002602
               ],
               [
                5.716953558802256,
                45.185908492258264
               ],
               [
                5.716769755671482,
                45.18629406807961
               ],
               [
                5.716332489520133,
                45.18720475934023
               ],
               [
                5.716109622710674,
                45.18759939316309
               ],
               [
                5.715913224850774,
                45.18788346656472
               ],
               [
                5.71584524251431,
                45.18797881947489
               ],
               [
                5.715732084531486,
                45.18827167857491
               ],
               [
                5.715728792229127,
                45.188282570076716
               ]
              ]
             ],
             "type": "Polygon"
            },
            "id": "5",
            "properties": {},
            "type": "Feature"
           },
           {
            "bbox": [
             5.7056614672959896,
             45.18403799048273,
             5.712503861617535,
             45.187556697141055
            ],
            "geometry": {
             "coordinates": [
              [
               [
                5.705680231134098,
                45.184657036123994
               ],
               [
                5.70575522414113,
                45.18602015060995
               ],
               [
                5.705792530060873,
                45.186605761916894
               ],
               [
                5.705820814085212,
                45.18697896878283
               ],
               [
                5.705848820785069,
                45.187556697141055
               ],
               [
                5.706329106923138,
                45.18752973707034
               ],
               [
                5.7074066222051,
                45.18747027138555
               ],
               [
                5.708245331263784,
                45.187425599186554
               ],
               [
                5.7093027000225325,
                45.18737110866366
               ],
               [
                5.710302889230153,
                45.18731979840749
               ],
               [
                5.711565368352845,
                45.187422476405935
               ],
               [
                5.712503861617535,
                45.1873600318915
               ],
               [
                5.712470232838877,
                45.18719237173902
               ],
               [
                5.712185791650278,
                45.185691096268954
               ],
               [
                5.711886278954718,
                45.1856362084091
               ],
               [
                5.711451462671817,
                45.18547108732256
               ],
               [
                5.710796831732865,
                45.185213100197934
               ],
               [
                5.710081531032336,
                45.18491243611277
               ],
               [
                5.710026819100172,
                45.184887637082085
               ],
               [
                5.709824557985872,
                45.18478893895397
               ],
               [
                5.709559869465335,
                45.18463769918484
               ],
               [
                5.709283779495555,
                45.18446150907732
               ],
               [
                5.709140448680011,
                45.18436948782701
               ],
               [
                5.707838916581417,
                45.18403799048273
               ],
               [
                5.706923015597119,
                45.18414489633304
               ],
               [
                5.7056614672959896,
                45.184296211919374
               ],
               [
                5.705680231134098,
                45.184657036123994
               ]
              ]
             ],
             "type": "Polygon"
            },
            "id": "6",
            "properties": {},
            "type": "Feature"
           },
           {
            "bbox": [
             5.711852380872206,
             45.18296725350992,
             5.717638719059887,
             45.18829843784447
            ],
            "geometry": {
             "coordinates": [
              [
               [
                5.716769755671482,
                45.18629406807961
               ],
               [
                5.716953558802256,
                45.185908492258264
               ],
               [
                5.717079384697032,
                45.18564055002602
               ],
               [
                5.7171288022754565,
                45.18553033208012
               ],
               [
                5.717544543449565,
                45.18459673679657
               ],
               [
                5.717638719059887,
                45.184437678484116
               ],
               [
                5.717503035350581,
                45.18400582333294
               ],
               [
                5.71725132416398,
                45.183231729227536
               ],
               [
                5.717160738511098,
                45.18296725350992
               ],
               [
                5.716641141498137,
                45.183442088951274
               ],
               [
                5.714335209058036,
                45.18391262834159
               ],
               [
                5.712946246914112,
                45.18416803156632
               ],
               [
                5.711852380872206,
                45.18428290743779
               ],
               [
                5.711914686442229,
                45.18454266842951
               ],
               [
                5.712030838149554,
                45.18501915044606
               ],
               [
                5.712185791650278,
                45.185691096268954
               ],
               [
                5.712470232838877,
                45.18719237173902
               ],
               [
                5.712503861617535,
                45.1873600318915
               ],
               [
                5.712591511600289,
                45.18777414010605
               ],
               [
                5.715372822274011,
                45.18829843784447
               ],
               [
                5.715494901661308,
                45.18829366608069
               ],
               [
                5.71553558019201,
                45.188291775501476
               ],
               [
                5.715573713575673,
                45.18828994682721
               ],
               [
                5.715644933830462,
                45.18828731316723
               ],
               [
                5.715728792229127,
                45.188282570076716
               ],
               [
                5.715732084531486,
                45.18827167857491
               ],
               [
                5.71584524251431,
                45.18797881947489
               ],
               [
                5.715913224850774,
                45.18788346656472
               ],
               [
                5.716109622710674,
                45.18759939316309
               ],
               [
                5.716332489520133,
                45.18720475934023
               ],
               [
                5.716769755671482,
                45.18629406807961
               ]
              ]
             ],
             "type": "Polygon"
            },
            "id": "7",
            "properties": {},
            "type": "Feature"
           },
           {
            "bbox": [
             5.705527036189595,
             45.181707926469414,
             5.712185791650278,
             45.185691096268954
            ],
            "geometry": {
             "coordinates": [
              [
               [
                5.705635201348825,
                45.18378060703983
               ],
               [
                5.7056614672959896,
                45.184296211919374
               ],
               [
                5.706923015597119,
                45.18414489633304
               ],
               [
                5.707838916581417,
                45.18403799048273
               ],
               [
                5.709140448680011,
                45.18436948782701
               ],
               [
                5.709283779495555,
                45.18446150907732
               ],
               [
                5.709559869465335,
                45.18463769918484
               ],
               [
                5.709824557985872,
                45.18478893895397
               ],
               [
                5.710026819100172,
                45.184887637082085
               ],
               [
                5.710081531032336,
                45.18491243611277
               ],
               [
                5.710796831732865,
                45.185213100197934
               ],
               [
                5.711451462671817,
                45.18547108732256
               ],
               [
                5.711886278954718,
                45.1856362084091
               ],
               [
                5.712185791650278,
                45.185691096268954
               ],
               [
                5.712030838149554,
                45.18501915044606
               ],
               [
                5.711914686442229,
                45.18454266842951
               ],
               [
                5.711852380872206,
                45.18428290743779
               ],
               [
                5.71175571275195,
                45.18381406053982
               ],
               [
                5.711644184353957,
                45.18327530078772
               ],
               [
                5.711512983404919,
                45.18259376837076
               ],
               [
                5.711345186467404,
                45.18170951101047
               ],
               [
                5.710371830312528,
                45.181707926469414
               ],
               [
                5.708300669768681,
                45.18176541241842
               ],
               [
                5.707740845187833,
                45.181779896752246
               ],
               [
                5.707502901103173,
                45.18178566929231
               ],
               [
                5.706826674162731,
                45.18179035954242
               ],
               [
                5.7061918628572466,
                45.181808456606376
               ],
               [
                5.705527036189595,
                45.18183808900212
               ],
               [
                5.705534166276793,
                45.18206405328881
               ],
               [
                5.705586558556531,
                45.18296102526101
               ],
               [
                5.705635201348825,
                45.18378060703983
               ]
              ]
             ],
             "type": "Polygon"
            },
            "id": "8",
            "properties": {},
            "type": "Feature"
           },
           {
            "bbox": [
             5.711229183542571,
             45.180930430586976,
             5.717160738511098,
             45.18428290743779
            ],
            "geometry": {
             "coordinates": [
              [
               [
                5.711345186467404,
                45.18170951101047
               ],
               [
                5.711512983404919,
                45.18259376837076
               ],
               [
                5.711644184353957,
                45.18327530078772
               ],
               [
                5.71175571275195,
                45.18381406053982
               ],
               [
                5.711852380872206,
                45.18428290743779
               ],
               [
                5.712946246914112,
                45.18416803156632
               ],
               [
                5.714335209058036,
                45.18391262834159
               ],
               [
                5.716641141498137,
                45.183442088951274
               ],
               [
                5.717160738511098,
                45.18296725350992
               ],
               [
                5.717096123851206,
                45.18276521196427
               ],
               [
                5.716779364217822,
                45.18188458696849
               ],
               [
                5.716653432352225,
                45.181469611993826
               ],
               [
                5.71664238194145,
                45.18139960695247
               ],
               [
                5.715796625569711,
                45.18137604391641
               ],
               [
                5.715655208687805,
                45.18100919514702
               ],
               [
                5.714004211186771,
                45.180930430586976
               ],
               [
                5.713530634482894,
                45.181094206018564
               ],
               [
                5.712175517777866,
                45.18112714520155
               ],
               [
                5.711460247844534,
                45.18114092102356
               ],
               [
                5.711244773213513,
                45.18113714625235
               ],
               [
                5.711229183542571,
                45.181209600713316
               ],
               [
                5.711345186467404,
                45.18170951101047
               ]
              ]
             ],
             "type": "Polygon"
            },
            "id": "9",
            "properties": {},
            "type": "Feature"
           },
           {
            "bbox": [
             5.715087513369093,
             45.19218138860082,
             5.729505936148153,
             45.19978748920559
            ],
            "geometry": {
             "coordinates": [
              [
               [
                5.715458210660125,
                45.199612305692604
               ],
               [
                5.716024746026353,
                45.19965348269777
               ],
               [
                5.716487701006545,
                45.199687266722776
               ],
               [
                5.717068326675325,
                45.19972989753363
               ],
               [
                5.717848479327769,
                45.19978748920559
               ],
               [
                5.7219744217580795,
                45.19860402332263
               ],
               [
                5.722023534132087,
                45.19853975905963
               ],
               [
                5.722177279810323,
                45.19853060460159
               ],
               [
                5.72256298300035,
                45.19854822783513
               ],
               [
                5.7225863725277915,
                45.19829629106505
               ],
               [
                5.722587250198983,
                45.19828816106877
               ],
               [
                5.722998009123593,
                45.19814029698153
               ],
               [
                5.723262967409669,
                45.19805995579311
               ],
               [
                5.7256853251792,
                45.19766658554487
               ],
               [
                5.726594256752159,
                45.19754348301601
               ],
               [
                5.728379384602888,
                45.19670612694542
               ],
               [
                5.728778300019671,
                45.1947268856293
               ],
               [
                5.729505936148153,
                45.19405049746501
               ],
               [
                5.729155829098189,
                45.19384823357637
               ],
               [
                5.729083894899088,
                45.19381035011589
               ],
               [
                5.728978782862083,
                45.19377147578255
               ],
               [
                5.728916637728059,
                45.193751372038385
               ],
               [
                5.728622240888091,
                45.193672076636126
               ],
               [
                5.727021467248432,
                45.193299456565846
               ],
               [
                5.725766142147887,
                45.1930075740244
               ],
               [
                5.72575578495696,
                45.193004223105376
               ],
               [
                5.725378057634144,
                45.19291434072454
               ],
               [
                5.725138045123295,
                45.192852628649554
               ],
               [
                5.724726878962966,
                45.19275635279993
               ],
               [
                5.724178266187804,
                45.19266342978238
               ],
               [
                5.723401102410656,
                45.19258689173435
               ],
               [
                5.722135895366234,
                45.1924573819776
               ],
               [
                5.7217196904890395,
                45.19241437437228
               ],
               [
                5.721120047716059,
                45.19234610551682
               ],
               [
                5.720847128238292,
                45.192314917999596
               ],
               [
                5.7207958708451985,
                45.19230895971916
               ],
               [
                5.72060681570762,
                45.19227302465192
               ],
               [
                5.7206002769427995,
                45.192269580203465
               ],
               [
                5.720582021044468,
                45.19226101560618
               ],
               [
                5.72033732143298,
                45.19218138860082
               ],
               [
                5.720320643939927,
                45.19223134741682
               ],
               [
                5.720327489041451,
                45.19226721871001
               ],
               [
                5.72034793866445,
                45.192294649892965
               ],
               [
                5.720384845180219,
                45.19231987811474
               ],
               [
                5.719607361210716,
                45.19283795029598
               ],
               [
                5.718742023458522,
                45.192991468931446
               ],
               [
                5.71774145865564,
                45.1932987320095
               ],
               [
                5.716826625869665,
                45.19371832024746
               ],
               [
                5.716277705217059,
                45.19411638446646
               ],
               [
                5.715738503631962,
                45.194661965403256
               ],
               [
                5.715345909141919,
                45.195287766103775
               ],
               [
                5.715087513369093,
                45.19628870109671
               ],
               [
                5.715091613165983,
                45.196870616006734
               ],
               [
                5.715407900263494,
                45.198945022916796
               ],
               [
                5.715458210660125,
                45.199612305692604
               ]
              ]
             ],
             "type": "Polygon"
            },
            "id": "10",
            "properties": {},
            "type": "Feature"
           },
           {
            "bbox": [
             5.72256298300035,
             45.19278728088409,
             5.735186178168406,
             45.20501405221416
            ],
            "geometry": {
             "coordinates": [
              [
               [
                5.73414475061994,
                45.20176270868878
               ],
               [
                5.734553458015411,
                45.201495024417184
               ],
               [
                5.734646056226571,
                45.20143419396211
               ],
               [
                5.735125887935317,
                45.20090168497685
               ],
               [
                5.735186178168406,
                45.20083173497089
               ],
               [
                5.735146316678931,
                45.200798475043456
               ],
               [
                5.734905611278537,
                45.200593547087585
               ],
               [
                5.734814641751426,
                45.20047955165466
               ],
               [
                5.734718707486197,
                45.20034225281342
               ],
               [
                5.734565075360832,
                45.20009374717822
               ],
               [
                5.734527489875258,
                45.2000288977175
               ],
               [
                5.734396499810601,
                45.199748303735014
               ],
               [
                5.734342394509369,
                45.19960637630918
               ],
               [
                5.734198990224963,
                45.19915039911906
               ],
               [
                5.733737813643307,
                45.19741022827246
               ],
               [
                5.73373213829999,
                45.197346399163514
               ],
               [
                5.733740777583794,
                45.1973146540469
               ],
               [
                5.7337700456233875,
                45.19728780953162
               ],
               [
                5.7338173086975415,
                45.19726412817825
               ],
               [
                5.733763532695808,
                45.197206882716856
               ],
               [
                5.733761819109964,
                45.197197915089774
               ],
               [
                5.734003769243887,
                45.196960443547034
               ],
               [
                5.734206344300884,
                45.19669960993032
               ],
               [
                5.734704192188786,
                45.19604142785191
               ],
               [
                5.734806629986106,
                45.19586953810833
               ],
               [
                5.73470953123875,
                45.19578632565994
               ],
               [
                5.733475427593508,
                45.19481108094866
               ],
               [
                5.732729985488076,
                45.194238303118894
               ],
               [
                5.732600585522975,
                45.19411984142346
               ],
               [
                5.7325213108183375,
                45.19403619094812
               ],
               [
                5.732480867958884,
                45.1939128487329
               ],
               [
                5.732356251632772,
                45.193787962997696
               ],
               [
                5.731747525480821,
                45.1931442610902
               ],
               [
                5.7315374050428884,
                45.19291245111072
               ],
               [
                5.731485564317745,
                45.19284254401186
               ],
               [
                5.731461198402585,
                45.19278728088409
               ],
               [
                5.731280347727013,
                45.192789003114996
               ],
               [
                5.729948977660922,
                45.19352161366622
               ],
               [
                5.729955088468837,
                45.19359444171539
               ],
               [
                5.729869921770979,
                45.19370283733885
               ],
               [
                5.729688697913344,
                45.19387935162762
               ],
               [
                5.729505936148153,
                45.19405049746501
               ],
               [
                5.728778300019671,
                45.1947268856293
               ],
               [
                5.728379384602888,
                45.19670612694542
               ],
               [
                5.726594256752159,
                45.19754348301601
               ],
               [
                5.7256853251792,
                45.19766658554487
               ],
               [
                5.723262967409669,
                45.19805995579311
               ],
               [
                5.722998009123593,
                45.19814029698153
               ],
               [
                5.722587250198983,
                45.19828816106877
               ],
               [
                5.7225863725277915,
                45.19829629106505
               ],
               [
                5.72256298300035,
                45.19854822783513
               ],
               [
                5.722582162837488,
                45.19854956200788
               ],
               [
                5.723020486167339,
                45.19839201610961
               ],
               [
                5.7236937147371,
                45.19855668536065
               ],
               [
                5.724508582669891,
                45.198777357220436
               ],
               [
                5.72487546566674,
                45.198905348415835
               ],
               [
                5.72514123642057,
                45.19918086051431
               ],
               [
                5.725514905979227,
                45.19965645311802
               ],
               [
                5.725183139562154,
                45.201134912410076
               ],
               [
                5.724866664470764,
                45.201648073301556
               ],
               [
                5.724488315967298,
                45.20259069732392
               ],
               [
                5.724845033649384,
                45.20418028903363
               ],
               [
                5.725295634653928,
                45.204612562113915
               ],
               [
                5.7257154262737355,
                45.20501405221416
               ],
               [
                5.726106690562426,
                45.20483151605112
               ],
               [
                5.730059353147263,
                45.20299338498297
               ],
               [
                5.733625398096186,
                45.20187903640294
               ],
               [
                5.73414475061994,
                45.20176270868878
               ]
              ]
             ],
             "type": "Polygon"
            },
            "id": "11",
            "properties": {},
            "type": "Feature"
           },
           {
            "bbox": [
             5.718873014333088,
             45.18775818319686,
             5.723573458359357,
             45.19241437437228
            ],
            "geometry": {
             "coordinates": [
              [
               [
                5.718873014333088,
                45.18804295471337
               ],
               [
                5.718907280558949,
                45.18814482848188
               ],
               [
                5.719239990546089,
                45.18911605789915
               ],
               [
                5.71938302878988,
                45.18954142622939
               ],
               [
                5.7195386188642985,
                45.18998901246153
               ],
               [
                5.719758889162065,
                45.19061341116159
               ],
               [
                5.719926380916868,
                45.19096520618831
               ],
               [
                5.720042092916678,
                45.19127411612597
               ],
               [
                5.720083515884498,
                45.19139203245874
               ],
               [
                5.72012528988951,
                45.19151714784856
               ],
               [
                5.720193962877517,
                45.19172359441769
               ],
               [
                5.7203094134,
                45.19207936011034
               ],
               [
                5.720330388612494,
                45.192143717541505
               ],
               [
                5.72033732143298,
                45.19218138860082
               ],
               [
                5.720582021044468,
                45.19226101560618
               ],
               [
                5.7206002769427995,
                45.192269580203465
               ],
               [
                5.72060681570762,
                45.19227302465192
               ],
               [
                5.7207958708451985,
                45.19230895971916
               ],
               [
                5.720847128238292,
                45.192314917999596
               ],
               [
                5.721120047716059,
                45.19234610551682
               ],
               [
                5.7217196904890395,
                45.19241437437228
               ],
               [
                5.721753920738832,
                45.19235858162299
               ],
               [
                5.721554689443142,
                45.19075523811289
               ],
               [
                5.721952536321705,
                45.190160819014274
               ],
               [
                5.72273104741335,
                45.18901203723806
               ],
               [
                5.723260378300808,
                45.18824052185001
               ],
               [
                5.723573458359357,
                45.18776348650122
               ],
               [
                5.72338463711873,
                45.18775818319686
               ],
               [
                5.723090018797795,
                45.1877779844907
               ],
               [
                5.72163144876246,
                45.18788743657233
               ],
               [
                5.7192538179975,
                45.18803998500657
               ],
               [
                5.719097248726507,
                45.188042898235345
               ],
               [
                5.718938046637903,
                45.18804407347415
               ],
               [
                5.718873014333088,
                45.18804295471337
               ]
              ]
             ],
             "type": "Polygon"
            },
            "id": "12",
            "properties": {},
            "type": "Feature"
           },
           {
            "bbox": [
             5.721554689443142,
             45.18776348650122,
             5.726542749411556,
             45.192852628649554
            ],
            "geometry": {
             "coordinates": [
              [
               [
                5.725325050459904,
                45.192324608599094
               ],
               [
                5.725107361681605,
                45.19125868830775
               ],
               [
                5.72477744365071,
                45.18966844961778
               ],
               [
                5.725600586727177,
                45.18888704703377
               ],
               [
                5.7263391987735766,
                45.1882014019059
               ],
               [
                5.726542749411556,
                45.18801263530486
               ],
               [
                5.72639850625577,
                45.18795489376296
               ],
               [
                5.7256946896253,
                45.18791802557372
               ],
               [
                5.724826142883596,
                45.187873462040585
               ],
               [
                5.723709404977633,
                45.18783404739947
               ],
               [
                5.723573458359357,
                45.18776348650122
               ],
               [
                5.723260378300808,
                45.18824052185001
               ],
               [
                5.72273104741335,
                45.18901203723806
               ],
               [
                5.721952536321705,
                45.190160819014274
               ],
               [
                5.721554689443142,
                45.19075523811289
               ],
               [
                5.721753920738832,
                45.19235858162299
               ],
               [
                5.7217196904890395,
                45.19241437437228
               ],
               [
                5.722135895366234,
                45.1924573819776
               ],
               [
                5.723401102410656,
                45.19258689173435
               ],
               [
                5.724178266187804,
                45.19266342978238
               ],
               [
                5.724726878962966,
                45.19275635279993
               ],
               [
                5.725138045123295,
                45.192852628649554
               ],
               [
                5.725322900622239,
                45.192332769677144
               ],
               [
                5.725325050459904,
                45.192324608599094
               ]
              ]
             ],
             "type": "Polygon"
            },
            "id": "13",
            "properties": {},
            "type": "Feature"
           },
           {
            "bbox": [
             5.72477744365071,
             45.18801263530486,
             5.731405368922956,
             45.193004223105376
            ],
            "geometry": {
             "coordinates": [
              [
               [
                5.729016898167808,
                45.19056404150992
               ],
               [
                5.729178692994765,
                45.19053756191862
               ],
               [
                5.730485404537377,
                45.19050019996298
               ],
               [
                5.730478584918446,
                45.190386846291666
               ],
               [
                5.731114926132001,
                45.19005954780331
               ],
               [
                5.731405368922956,
                45.18969386042801
               ],
               [
                5.730824194842869,
                45.18948194018045
               ],
               [
                5.727579134374333,
                45.18836301275515
               ],
               [
                5.726542749411556,
                45.18801263530486
               ],
               [
                5.7263391987735766,
                45.1882014019059
               ],
               [
                5.725600586727177,
                45.18888704703377
               ],
               [
                5.72477744365071,
                45.18966844961778
               ],
               [
                5.725107361681605,
                45.19125868830775
               ],
               [
                5.725325050459904,
                45.192324608599094
               ],
               [
                5.725322900622239,
                45.192332769677144
               ],
               [
                5.725138045123295,
                45.192852628649554
               ],
               [
                5.725378057634144,
                45.19291434072454
               ],
               [
                5.72575578495696,
                45.193004223105376
               ],
               [
                5.72577763640868,
                45.19295593892805
               ],
               [
                5.72819547750846,
                45.19085891207432
               ],
               [
                5.729016898167808,
                45.19056404150992
               ]
              ]
             ],
             "type": "Polygon"
            },
            "id": "14",
            "properties": {},
            "type": "Feature"
           },
           {
            "bbox": [
             5.72575578495696,
             45.19050019996298,
             5.731461198402585,
             45.19405049746501
            ],
            "geometry": {
             "coordinates": [
              [
               [
                5.729869921770979,
                45.19370283733885
               ],
               [
                5.729955088468837,
                45.19359444171539
               ],
               [
                5.729948977660922,
                45.19352161366622
               ],
               [
                5.731280347727013,
                45.192789003114996
               ],
               [
                5.731461198402585,
                45.19278728088409
               ],
               [
                5.7314567197839095,
                45.19277387611504
               ],
               [
                5.730465643515749,
                45.19069528989823
               ],
               [
                5.730485404537377,
                45.19050019996298
               ],
               [
                5.729178692994765,
                45.19053756191862
               ],
               [
                5.729016898167808,
                45.19056404150992
               ],
               [
                5.72819547750846,
                45.19085891207432
               ],
               [
                5.72577763640868,
                45.19295593892805
               ],
               [
                5.72575578495696,
                45.193004223105376
               ],
               [
                5.725766142147887,
                45.1930075740244
               ],
               [
                5.727021467248432,
                45.193299456565846
               ],
               [
                5.728622240888091,
                45.193672076636126
               ],
               [
                5.728916637728059,
                45.193751372038385
               ],
               [
                5.728978782862083,
                45.19377147578255
               ],
               [
                5.729083894899088,
                45.19381035011589
               ],
               [
                5.729155829098189,
                45.19384823357637
               ],
               [
                5.729505936148153,
                45.19405049746501
               ],
               [
                5.729688697913344,
                45.19387935162762
               ],
               [
                5.729869921770979,
                45.19370283733885
               ]
              ]
             ],
             "type": "Polygon"
            },
            "id": "15",
            "properties": {},
            "type": "Feature"
           },
           {
            "bbox": [
             5.730465643515749,
             45.18969386042801,
             5.735067643817928,
             45.1939128487329
            ],
            "geometry": {
             "coordinates": [
              [
               [
                5.734067505308837,
                45.1910305764733
               ],
               [
                5.733912657505986,
                45.19091273979263
               ],
               [
                5.733832779588654,
                45.19086874728213
               ],
               [
                5.732207529406319,
                45.190073352614355
               ],
               [
                5.731441706211546,
                45.1897073865555
               ],
               [
                5.731405368922956,
                45.18969386042801
               ],
               [
                5.731114926132001,
                45.19005954780331
               ],
               [
                5.730478584918446,
                45.190386846291666
               ],
               [
                5.730485404537377,
                45.19050019996298
               ],
               [
                5.730465643515749,
                45.19069528989823
               ],
               [
                5.7314567197839095,
                45.19277387611504
               ],
               [
                5.731461198402585,
                45.19278728088409
               ],
               [
                5.731485564317745,
                45.19284254401186
               ],
               [
                5.7315374050428884,
                45.19291245111072
               ],
               [
                5.731747525480821,
                45.1931442610902
               ],
               [
                5.732356251632772,
                45.193787962997696
               ],
               [
                5.732480867958884,
                45.1939128487329
               ],
               [
                5.732564739209455,
                45.193257601386094
               ],
               [
                5.7339410357269625,
                45.193260842131
               ],
               [
                5.735067643817928,
                45.19279718060621
               ],
               [
                5.734852662795524,
                45.19210240307103
               ],
               [
                5.734813368759352,
                45.19202858622105
               ],
               [
                5.7341745612255535,
                45.19113516826272
               ],
               [
                5.734067505308837,
                45.1910305764733
               ]
              ]
             ],
             "type": "Polygon"
            },
            "id": "16",
            "properties": {},
            "type": "Feature"
           },
           {
            "bbox": [
             5.732480867958884,
             45.19115436105948,
             5.741335807503772,
             45.19586953810833
            ],
            "geometry": {
             "coordinates": [
              [
               [
                5.741335807503772,
                45.192027168185184
               ],
               [
                5.741333080665102,
                45.19163441623102
               ],
               [
                5.741206426925514,
                45.19162401212089
               ],
               [
                5.738353456751939,
                45.19115436105948
               ],
               [
                5.736496140075129,
                45.191422445306834
               ],
               [
                5.7349267040221195,
                45.191949228053694
               ],
               [
                5.73487673037885,
                45.19199550033703
               ],
               [
                5.734813368759352,
                45.19202858622105
               ],
               [
                5.734852662795524,
                45.19210240307103
               ],
               [
                5.735067643817928,
                45.19279718060621
               ],
               [
                5.7339410357269625,
                45.193260842131
               ],
               [
                5.732564739209455,
                45.193257601386094
               ],
               [
                5.732480867958884,
                45.1939128487329
               ],
               [
                5.7325213108183375,
                45.19403619094812
               ],
               [
                5.732600585522975,
                45.19411984142346
               ],
               [
                5.732729985488076,
                45.194238303118894
               ],
               [
                5.733475427593508,
                45.19481108094866
               ],
               [
                5.73470953123875,
                45.19578632565994
               ],
               [
                5.734806629986106,
                45.19586953810833
               ],
               [
                5.734918233694146,
                45.1958586953828
               ],
               [
                5.737443549717328,
                45.19390478394139
               ],
               [
                5.738969508887898,
                45.193036668260454
               ],
               [
                5.741335807503772,
                45.192027168185184
               ]
              ]
             ],
             "type": "Polygon"
            },
            "id": "17",
            "properties": {},
            "type": "Feature"
           },
           {
            "bbox": [
             5.733761819109964,
             45.19163441623102,
             5.743262468035354,
             45.20074334181604
            ],
            "geometry": {
             "coordinates": [
              [
               [
                5.741226936003794,
                45.200732230767514
               ],
               [
                5.741295430128957,
                45.20067378835563
               ],
               [
                5.741363968318,
                45.20061624577957
               ],
               [
                5.7413811249469635,
                45.20060231006764
               ],
               [
                5.741421492910755,
                45.2005679832241
               ],
               [
                5.7419148839703915,
                45.20010538554265
               ],
               [
                5.7422761401120015,
                45.19959918118044
               ],
               [
                5.742582438029749,
                45.199089820850894
               ],
               [
                5.742708303302905,
                45.198824548595816
               ],
               [
                5.7431316662190435,
                45.197793356027326
               ],
               [
                5.743195504206223,
                45.1975106870417
               ],
               [
                5.7432452868943855,
                45.19720133452048
               ],
               [
                5.743262468035354,
                45.196799083000755
               ],
               [
                5.743162303843374,
                45.196083477214074
               ],
               [
                5.743081824936175,
                45.195768316014245
               ],
               [
                5.74290412845992,
                45.19531589439345
               ],
               [
                5.742612088287934,
                45.19468879237859
               ],
               [
                5.742327886925082,
                45.19411735690452
               ],
               [
                5.742168543885044,
                45.19377890579875
               ],
               [
                5.741981510320636,
                45.193317702996666
               ],
               [
                5.741923545663572,
                45.19309749028859
               ],
               [
                5.7417944276691895,
                45.1924663850217
               ],
               [
                5.741789296932276,
                45.192232261153514
               ],
               [
                5.7419082857394,
                45.19167164359074
               ],
               [
                5.74153789557047,
                45.19165371212501
               ],
               [
                5.741333080665102,
                45.19163441623102
               ],
               [
                5.741335807503772,
                45.192027168185184
               ],
               [
                5.738969508887898,
                45.193036668260454
               ],
               [
                5.737443549717328,
                45.19390478394139
               ],
               [
                5.734918233694146,
                45.1958586953828
               ],
               [
                5.734806629986106,
                45.19586953810833
               ],
               [
                5.734704192188786,
                45.19604142785191
               ],
               [
                5.734206344300884,
                45.19669960993032
               ],
               [
                5.734003769243887,
                45.196960443547034
               ],
               [
                5.733761819109964,
                45.197197915089774
               ],
               [
                5.733763532695808,
                45.197206882716856
               ],
               [
                5.7338173086975415,
                45.19726412817825
               ],
               [
                5.733937433681472,
                45.19727109701053
               ],
               [
                5.738571691087871,
                45.198588236726394
               ],
               [
                5.74118461371392,
                45.20070083525489
               ],
               [
                5.741214738048665,
                45.20074334181604
               ],
               [
                5.741226936003794,
                45.200732230767514
               ]
              ]
             ],
             "type": "Polygon"
            },
            "id": "18",
            "properties": {},
            "type": "Feature"
           },
           {
            "bbox": [
             5.73373213829999,
             45.19726412817825,
             5.741214738048665,
             45.20221489818416
            ],
            "geometry": {
             "coordinates": [
              [
               [
                5.738571691087871,
                45.198588236726394
               ],
               [
                5.733937433681472,
                45.19727109701053
               ],
               [
                5.7338173086975415,
                45.19726412817825
               ],
               [
                5.7337700456233875,
                45.19728780953162
               ],
               [
                5.733740777583794,
                45.1973146540469
               ],
               [
                5.73373213829999,
                45.197346399163514
               ],
               [
                5.733737813643307,
                45.19741022827246
               ],
               [
                5.734198990224963,
                45.19915039911906
               ],
               [
                5.734342394509369,
                45.19960637630918
               ],
               [
                5.734396499810601,
                45.199748303735014
               ],
               [
                5.734527489875258,
                45.2000288977175
               ],
               [
                5.734565075360832,
                45.20009374717822
               ],
               [
                5.734718707486197,
                45.20034225281342
               ],
               [
                5.734814641751426,
                45.20047955165466
               ],
               [
                5.734905611278537,
                45.200593547087585
               ],
               [
                5.735146316678931,
                45.200798475043456
               ],
               [
                5.735186178168406,
                45.20083173497089
               ],
               [
                5.735125887935317,
                45.20090168497685
               ],
               [
                5.734646056226571,
                45.20143419396211
               ],
               [
                5.7348942272580485,
                45.201271347943894
               ],
               [
                5.735522863378617,
                45.201694714726
               ],
               [
                5.735877037799508,
                45.20190046494741
               ],
               [
                5.7361843629366405,
                45.20203438445516
               ],
               [
                5.736402442076511,
                45.2021155319342
               ],
               [
                5.7366900005095145,
                45.202184164425816
               ],
               [
                5.736949983481862,
                45.20221022605298
               ],
               [
                5.73727391233609,
                45.20221489818416
               ],
               [
                5.737685095843045,
                45.2022057173601
               ],
               [
                5.7380579528241284,
                45.202168644179636
               ],
               [
                5.739103272002131,
                45.201941188232524
               ],
               [
                5.739351280274415,
                45.201853115870755
               ],
               [
                5.739697309047282,
                45.201659027010436
               ],
               [
                5.740745333854294,
                45.20104587699332
               ],
               [
                5.741082133446143,
                45.200845703462704
               ],
               [
                5.741182881888212,
                45.20076935092906
               ],
               [
                5.741214738048665,
                45.20074334181604
               ],
               [
                5.74118461371392,
                45.20070083525489
               ],
               [
                5.738571691087871,
                45.198588236726394
               ]
              ]
             ],
             "type": "Polygon"
            },
            "id": "19",
            "properties": {},
            "type": "Feature"
           },
           {
            "bbox": [
             5.718141782413406,
             45.18525056370366,
             5.724684621753665,
             45.18804407347415
            ],
            "geometry": {
             "coordinates": [
              [
               [
                5.718938046637903,
                45.18804407347415
               ],
               [
                5.719097248726507,
                45.188042898235345
               ],
               [
                5.7192538179975,
                45.18803998500657
               ],
               [
                5.72163144876246,
                45.18788743657233
               ],
               [
                5.723090018797795,
                45.1877779844907
               ],
               [
                5.72338463711873,
                45.18775818319686
               ],
               [
                5.723573458359357,
                45.18776348650122
               ],
               [
                5.7235793381223425,
                45.18775343254881
               ],
               [
                5.724116981079483,
                45.186943869889795
               ],
               [
                5.724684621753665,
                45.18612276069513
               ],
               [
                5.724040760888782,
                45.185878100883876
               ],
               [
                5.722940247214518,
                45.18546528933381
               ],
               [
                5.722324616242533,
                45.18525056370366
               ],
               [
                5.722174857074959,
                45.18536683528438
               ],
               [
                5.722162395370953,
                45.185372544924185
               ],
               [
                5.722035145416425,
                45.185427903549524
               ],
               [
                5.721550189714957,
                45.18548928181349
               ],
               [
                5.720486504223732,
                45.18562242617738
               ],
               [
                5.718505678002428,
                45.185863492200106
               ],
               [
                5.718299793461987,
                45.18587391221781
               ],
               [
                5.718218264817325,
                45.18587409584019
               ],
               [
                5.718141782413406,
                45.18587325556338
               ],
               [
                5.718180477036852,
                45.185987634904606
               ],
               [
                5.718766004236198,
                45.18772932739655
               ],
               [
                5.718873014333088,
                45.18804295471337
               ],
               [
                5.718938046637903,
                45.18804407347415
               ]
              ]
             ],
             "type": "Polygon"
            },
            "id": "20",
            "properties": {},
            "type": "Feature"
           },
           {
            "bbox": [
             5.723573458359357,
             45.184857749598635,
             5.73493543920789,
             45.18969386042801
            ],
            "geometry": {
             "coordinates": [
              [
               [
                5.73493543920789,
                45.186563088455976
               ],
               [
                5.734711980147311,
                45.18647486408926
               ],
               [
                5.732136016498047,
                45.1854369796302
               ],
               [
                5.731969745373857,
                45.18537167594306
               ],
               [
                5.731793558923186,
                45.185312020434196
               ],
               [
                5.731326967264253,
                45.18543605886952
               ],
               [
                5.729980529456318,
                45.185752800334896
               ],
               [
                5.729008885900806,
                45.185970266646805
               ],
               [
                5.728847544167124,
                45.1860057447563
               ],
               [
                5.728785492424198,
                45.185961313126654
               ],
               [
                5.728730375230554,
                45.185928424343274
               ],
               [
                5.7268068447606755,
                45.18528169890534
               ],
               [
                5.725536334426029,
                45.184857749598635
               ],
               [
                5.724978459880697,
                45.18566961554857
               ],
               [
                5.724684621753665,
                45.18612276069513
               ],
               [
                5.724116981079483,
                45.186943869889795
               ],
               [
                5.7235793381223425,
                45.18775343254881
               ],
               [
                5.723573458359357,
                45.18776348650122
               ],
               [
                5.723709404977633,
                45.18783404739947
               ],
               [
                5.724826142883596,
                45.187873462040585
               ],
               [
                5.7256946896253,
                45.18791802557372
               ],
               [
                5.72639850625577,
                45.18795489376296
               ],
               [
                5.726542749411556,
                45.18801263530486
               ],
               [
                5.727579134374333,
                45.18836301275515
               ],
               [
                5.730824194842869,
                45.18948194018045
               ],
               [
                5.731405368922956,
                45.18969386042801
               ],
               [
                5.7317182300005145,
                45.18931771307458
               ],
               [
                5.734455702625883,
                45.18717307788878
               ],
               [
                5.73493543920789,
                45.186563088455976
               ]
              ]
             ],
             "type": "Polygon"
            },
            "id": "21",
            "properties": {},
            "type": "Feature"
           },
           {
            "bbox": [
             5.731405368922956,
             45.186563088455976,
             5.7428109455936855,
             45.19202858622105
            ],
            "geometry": {
             "coordinates": [
              [
               [
                5.740657974290287,
                45.18881026587815
               ],
               [
                5.740563220902577,
                45.188774752025765
               ],
               [
                5.7384942928795555,
                45.187974123740176
               ],
               [
                5.735245966075998,
                45.18668611802628
               ],
               [
                5.73493543920789,
                45.186563088455976
               ],
               [
                5.734455702625883,
                45.18717307788878
               ],
               [
                5.7317182300005145,
                45.18931771307458
               ],
               [
                5.731405368922956,
                45.18969386042801
               ],
               [
                5.731441706211546,
                45.1897073865555
               ],
               [
                5.732207529406319,
                45.190073352614355
               ],
               [
                5.733832779588654,
                45.19086874728213
               ],
               [
                5.733912657505986,
                45.19091273979263
               ],
               [
                5.734067505308837,
                45.1910305764733
               ],
               [
                5.7341745612255535,
                45.19113516826272
               ],
               [
                5.734813368759352,
                45.19202858622105
               ],
               [
                5.73487673037885,
                45.19199550033703
               ],
               [
                5.7349267040221195,
                45.191949228053694
               ],
               [
                5.736496140075129,
                45.191422445306834
               ],
               [
                5.738353456751939,
                45.19115436105948
               ],
               [
                5.741206426925514,
                45.19162401212089
               ],
               [
                5.741333080665102,
                45.19163441623102
               ],
               [
                5.74153789557047,
                45.19165371212501
               ],
               [
                5.7419082857394,
                45.19167164359074
               ],
               [
                5.741931066995827,
                45.19156477060708
               ],
               [
                5.742047529944828,
                45.191186209067766
               ],
               [
                5.742283003900043,
                45.19068849975829
               ],
               [
                5.742503157136226,
                45.19042361425679
               ],
               [
                5.74271015968222,
                45.19020229754277
               ],
               [
                5.7428109455936855,
                45.19004936058305
               ],
               [
                5.742801364239227,
                45.19000995372986
               ],
               [
                5.742310149674631,
                45.18968506340259
               ],
               [
                5.741639823185439,
                45.1892672668093
               ],
               [
                5.741515347828277,
                45.18919734629562
               ],
               [
                5.741381964744892,
                45.189127644422605
               ],
               [
                5.741166907116161,
                45.18902931552247
               ],
               [
                5.741022248480295,
                45.188963493985085
               ],
               [
                5.740676143765439,
                45.18881702743658
               ],
               [
                5.740657974290287,
                45.18881026587815
               ]
              ]
             ],
             "type": "Polygon"
            },
            "id": "22",
            "properties": {},
            "type": "Feature"
           },
           {
            "bbox": [
             5.71664238194145,
             45.181374888030206,
             5.722702135896392,
             45.18453067765176
            ],
            "geometry": {
             "coordinates": [
              [
               [
                5.717638719059887,
                45.184437678484116
               ],
               [
                5.717667452752608,
                45.18453067765176
               ],
               [
                5.717710366745357,
                45.18452242513191
               ],
               [
                5.720645639417738,
                45.18423468619171
               ],
               [
                5.721409481120911,
                45.18346557184947
               ],
               [
                5.721944613335689,
                45.182683109949785
               ],
               [
                5.722240605719602,
                45.18224793894773
               ],
               [
                5.722373813967535,
                45.182053688098094
               ],
               [
                5.722693799577755,
                45.18158819914162
               ],
               [
                5.722702135896392,
                45.18157628340611
               ],
               [
                5.7224745048853585,
                45.18155841158537
               ],
               [
                5.719077855867441,
                45.181603375546416
               ],
               [
                5.718705129333137,
                45.18153587487676
               ],
               [
                5.718419234684578,
                45.181472564701025
               ],
               [
                5.716917619899387,
                45.181374888030206
               ],
               [
                5.71664238194145,
                45.18139960695247
               ],
               [
                5.716653432352225,
                45.181469611993826
               ],
               [
                5.716779364217822,
                45.18188458696849
               ],
               [
                5.717096123851206,
                45.18276521196427
               ],
               [
                5.717160738511098,
                45.18296725350992
               ],
               [
                5.71725132416398,
                45.183231729227536
               ],
               [
                5.717503035350581,
                45.18400582333294
               ],
               [
                5.717638719059887,
                45.184437678484116
               ]
              ]
             ],
             "type": "Polygon"
            },
            "id": "23",
            "properties": {},
            "type": "Feature"
           },
           {
            "bbox": [
             5.717667452752608,
             45.18157628340611,
             5.727051041378515,
             45.18612276069513
            ],
            "geometry": {
             "coordinates": [
              [
               [
                5.722940247214518,
                45.18546528933381
               ],
               [
                5.724040760888782,
                45.185878100883876
               ],
               [
                5.724684621753665,
                45.18612276069513
               ],
               [
                5.724978459880697,
                45.18566961554857
               ],
               [
                5.725536334426029,
                45.184857749598635
               ],
               [
                5.72580572202311,
                45.184452048707705
               ],
               [
                5.725943397783267,
                45.184245070877786
               ],
               [
                5.726411831435479,
                45.18355881515565
               ],
               [
                5.726901355169863,
                45.18283510292621
               ],
               [
                5.727051041378515,
                45.182587287262855
               ],
               [
                5.72695025275443,
                45.18255821651628
               ],
               [
                5.726088090419904,
                45.182303586847965
               ],
               [
                5.725034673823125,
                45.18199325676375
               ],
               [
                5.724076617778575,
                45.181809425693
               ],
               [
                5.723334660716121,
                45.18166806417147
               ],
               [
                5.722702135896392,
                45.18157628340611
               ],
               [
                5.722693799577755,
                45.18158819914162
               ],
               [
                5.722373813967535,
                45.182053688098094
               ],
               [
                5.722240605719602,
                45.18224793894773
               ],
               [
                5.721944613335689,
                45.182683109949785
               ],
               [
                5.721409481120911,
                45.18346557184947
               ],
               [
                5.720645639417738,
                45.18423468619171
               ],
               [
                5.717710366745357,
                45.18452242513191
               ],
               [
                5.717667452752608,
                45.18453067765176
               ],
               [
                5.717697371401963,
                45.184621846063465
               ],
               [
                5.717848636621313,
                45.185033500792706
               ],
               [
                5.718026312963766,
                45.18554271584285
               ],
               [
                5.718141782413406,
                45.18587325556338
               ],
               [
                5.718218264817325,
                45.18587409584019
               ],
               [
                5.718299793461987,
                45.18587391221781
               ],
               [
                5.718505678002428,
                45.185863492200106
               ],
               [
                5.720486504223732,
                45.18562242617738
               ],
               [
                5.721550189714957,
                45.18548928181349
               ],
               [
                5.722035145416425,
                45.185427903549524
               ],
               [
                5.722162395370953,
                45.185372544924185
               ],
               [
                5.722174857074959,
                45.18536683528438
               ],
               [
                5.722324616242533,
                45.18525056370366
               ],
               [
                5.722940247214518,
                45.18546528933381
               ]
              ]
             ],
             "type": "Polygon"
            },
            "id": "24",
            "properties": {},
            "type": "Feature"
           },
           {
            "bbox": [
             5.725536334426029,
             45.182111147273524,
             5.731793558923186,
             45.1860057447563
            ],
            "geometry": {
             "coordinates": [
              [
               [
                5.728310928069368,
                45.18256009995231
               ],
               [
                5.727333961437512,
                45.18214611452065
               ],
               [
                5.727253268470573,
                45.182111147273524
               ],
               [
                5.727125083865129,
                45.18235573499135
               ],
               [
                5.7270519986569886,
                45.182502574261854
               ],
               [
                5.727051041378515,
                45.182587287262855
               ],
               [
                5.726901355169863,
                45.18283510292621
               ],
               [
                5.726411831435479,
                45.18355881515565
               ],
               [
                5.725943397783267,
                45.184245070877786
               ],
               [
                5.72580572202311,
                45.184452048707705
               ],
               [
                5.725536334426029,
                45.184857749598635
               ],
               [
                5.7268068447606755,
                45.18528169890534
               ],
               [
                5.728730375230554,
                45.185928424343274
               ],
               [
                5.728785492424198,
                45.185961313126654
               ],
               [
                5.728847544167124,
                45.1860057447563
               ],
               [
                5.729008885900806,
                45.185970266646805
               ],
               [
                5.729980529456318,
                45.185752800334896
               ],
               [
                5.731326967264253,
                45.18543605886952
               ],
               [
                5.731793558923186,
                45.185312020434196
               ],
               [
                5.731792972315148,
                45.18522193921864
               ],
               [
                5.731761831888822,
                45.18505422267207
               ],
               [
                5.7315410284099855,
                45.18403073548163
               ],
               [
                5.731490948224833,
                45.18394456844275
               ],
               [
                5.731390498099542,
                45.18387044553021
               ],
               [
                5.73115314201291,
                45.18375822879775
               ],
               [
                5.73100859689034,
                45.1836941941219
               ],
               [
                5.730458633777489,
                45.18344186810164
               ],
               [
                5.729377948223433,
                45.18299169603278
               ],
               [
                5.728310928069368,
                45.18256009995231
               ]
              ]
             ],
             "type": "Polygon"
            },
            "id": "25",
            "properties": {},
            "type": "Feature"
           },
           {
            "bbox": [
             5.700742293985806,
             45.172477926003715,
             5.706826674162731,
             45.189223031993265
            ],
            "geometry": {
             "coordinates": [
              [
               [
                5.705635201348825,
                45.18378060703983
               ],
               [
                5.705586558556531,
                45.18296102526101
               ],
               [
                5.705534166276793,
                45.18206405328881
               ],
               [
                5.705527036189595,
                45.18183808900212
               ],
               [
                5.7061918628572466,
                45.181808456606376
               ],
               [
                5.706826674162731,
                45.18179035954242
               ],
               [
                5.706825138223213,
                45.18162732571335
               ],
               [
                5.706785438914954,
                45.18093996648301
               ],
               [
                5.705378053857051,
                45.17936860803498
               ],
               [
                5.705375249842352,
                45.17920560511878
               ],
               [
                5.705368564535775,
                45.17896251227301
               ],
               [
                5.705325360418632,
                45.1781761345506
               ],
               [
                5.705286374684217,
                45.17737163584903
               ],
               [
                5.705277173516992,
                45.177181759776694
               ],
               [
                5.705195514087685,
                45.175890885328634
               ],
               [
                5.705111119261045,
                45.17451719083684
               ],
               [
                5.705057814579349,
                45.173495912739604
               ],
               [
                5.705037373752362,
                45.17304773873619
               ],
               [
                5.705022704064922,
                45.172666094641386
               ],
               [
                5.705017408421127,
                45.172477926003715
               ],
               [
                5.704786300730125,
                45.172492537401936
               ],
               [
                5.703893194862049,
                45.172540308801246
               ],
               [
                5.702537182038223,
                45.172576761308754
               ],
               [
                5.701974259620836,
                45.17255165249446
               ],
               [
                5.700742293985806,
                45.172624720897694
               ],
               [
                5.700972941508401,
                45.1737327017364
               ],
               [
                5.701133730360571,
                45.17573971143449
               ],
               [
                5.7008728362447885,
                45.177350603307936
               ],
               [
                5.700841007361781,
                45.177640575989415
               ],
               [
                5.700869038683986,
                45.17858858966585
               ],
               [
                5.700990050757767,
                45.17998392363665
               ],
               [
                5.70115567928271,
                45.17998441978903
               ],
               [
                5.701194543129855,
                45.18012943187653
               ],
               [
                5.701335965902227,
                45.18297298884089
               ],
               [
                5.701341685621433,
                45.18317015699387
               ],
               [
                5.701361298692124,
                45.18389133797944
               ],
               [
                5.701393117251768,
                45.18507530874682
               ],
               [
                5.701405790608782,
                45.18533717665651
               ],
               [
                5.7014722989412485,
                45.18657977055992
               ],
               [
                5.701543315365939,
                45.18786279822874
               ],
               [
                5.701551295494521,
                45.188001350521986
               ],
               [
                5.7016139807536295,
                45.18903321671463
               ],
               [
                5.7016257166190805,
                45.189223031993265
               ],
               [
                5.702664290507216,
                45.18906905528128
               ],
               [
                5.703339437765568,
                45.189013965587186
               ],
               [
                5.704819611966716,
                45.18892855602528
               ],
               [
                5.705874598225508,
                45.18887685928795
               ],
               [
                5.705901963096138,
                45.18878429940309
               ],
               [
                5.705877184502877,
                45.18811549705773
               ],
               [
                5.705848820785069,
                45.187556697141055
               ],
               [
                5.705820814085212,
                45.18697896878283
               ],
               [
                5.705792530060873,
                45.186605761916894
               ],
               [
                5.70575522414113,
                45.18602015060995
               ],
               [
                5.705680231134098,
                45.184657036123994
               ],
               [
                5.7056614672959896,
                45.184296211919374
               ],
               [
                5.705635201348825,
                45.18378060703983
               ]
              ]
             ],
             "type": "Polygon"
            },
            "id": "26",
            "properties": {},
            "type": "Feature"
           },
           {
            "bbox": [
             5.705375249842352,
             45.178838332191866,
             5.711345186467404,
             45.18179035954242
            ],
            "geometry": {
             "coordinates": [
              [
               [
                5.707502901103173,
                45.18178566929231
               ],
               [
                5.707740845187833,
                45.181779896752246
               ],
               [
                5.708300669768681,
                45.18176541241842
               ],
               [
                5.710371830312528,
                45.181707926469414
               ],
               [
                5.711345186467404,
                45.18170951101047
               ],
               [
                5.711229183542571,
                45.181209600713316
               ],
               [
                5.711244773213513,
                45.18113714625235
               ],
               [
                5.710238109147776,
                45.18100032701997
               ],
               [
                5.7096812096231595,
                45.180917448061685
               ],
               [
                5.708605631323389,
                45.18075165529699
               ],
               [
                5.70809288350416,
                45.17974062419726
               ],
               [
                5.7079297535968605,
                45.17939771855397
               ],
               [
                5.707665681424384,
                45.178838332191866
               ],
               [
                5.7068532689669675,
                45.17897606350459
               ],
               [
                5.706525159073508,
                45.17903987968452
               ],
               [
                5.705723355991342,
                45.17918635479259
               ],
               [
                5.7055980455497535,
                45.17920290693139
               ],
               [
                5.705492395172996,
                45.17920456722216
               ],
               [
                5.705375249842352,
                45.17920560511878
               ],
               [
                5.705378053857051,
                45.17936860803498
               ],
               [
                5.706785438914954,
                45.18093996648301
               ],
               [
                5.706825138223213,
                45.18162732571335
               ],
               [
                5.706826674162731,
                45.18179035954242
               ],
               [
                5.707502901103173,
                45.18178566929231
               ]
              ]
             ],
             "type": "Polygon"
            },
            "id": "27",
            "properties": {},
            "type": "Feature"
           },
           {
            "bbox": [
             5.7079297535968605,
             45.1787571830348,
             5.715655208687805,
             45.18114092102356
            ],
            "geometry": {
             "coordinates": [
              [
               [
                5.715543943055831,
                45.180581249108116
               ],
               [
                5.715457192862295,
                45.180264424143665
               ],
               [
                5.715389208063288,
                45.18007147344067
               ],
               [
                5.715338152611542,
                45.17993847435198
               ],
               [
                5.715186038166314,
                45.17956107416633
               ],
               [
                5.714947874499632,
                45.1789335018033
               ],
               [
                5.71494008444524,
                45.178773322604485
               ],
               [
                5.713936771455338,
                45.1787571830348
               ],
               [
                5.713685803561668,
                45.17880923409995
               ],
               [
                5.71153687359291,
                45.17912544347706
               ],
               [
                5.7082594856158355,
                45.17934106645148
               ],
               [
                5.7079297535968605,
                45.17939771855397
               ],
               [
                5.70809288350416,
                45.17974062419726
               ],
               [
                5.708605631323389,
                45.18075165529699
               ],
               [
                5.7096812096231595,
                45.180917448061685
               ],
               [
                5.710238109147776,
                45.18100032701997
               ],
               [
                5.711244773213513,
                45.18113714625235
               ],
               [
                5.711460247844534,
                45.18114092102356
               ],
               [
                5.712175517777866,
                45.18112714520155
               ],
               [
                5.713530634482894,
                45.181094206018564
               ],
               [
                5.714004211186771,
                45.180930430586976
               ],
               [
                5.715655208687805,
                45.18100919514702
               ],
               [
                5.715543943055831,
                45.180581249108116
               ]
              ]
             ],
             "type": "Polygon"
            },
            "id": "28",
            "properties": {},
            "type": "Feature"
           },
           {
            "bbox": [
             5.71494008444524,
             45.178773322604485,
             5.718823235499249,
             45.18153587487676
            ],
            "geometry": {
             "coordinates": [
              [
               [
                5.715389208063288,
                45.18007147344067
               ],
               [
                5.715457192862295,
                45.180264424143665
               ],
               [
                5.715543943055831,
                45.180581249108116
               ],
               [
                5.715655208687805,
                45.18100919514702
               ],
               [
                5.715796625569711,
                45.18137604391641
               ],
               [
                5.71664238194145,
                45.18139960695247
               ],
               [
                5.716917619899387,
                45.181374888030206
               ],
               [
                5.718419234684578,
                45.181472564701025
               ],
               [
                5.718705129333137,
                45.18153587487676
               ],
               [
                5.718760292768022,
                45.181334520246445
               ],
               [
                5.718802601633629,
                45.1811046483415
               ],
               [
                5.718823235499249,
                45.180874403498926
               ],
               [
                5.718820792129385,
                45.18061498950743
               ],
               [
                5.718792646370432,
                45.18019403073955
               ],
               [
                5.718745757525737,
                45.17993750141833
               ],
               [
                5.718726367885235,
                45.179879412043014
               ],
               [
                5.718492377629482,
                45.17920759801291
               ],
               [
                5.718417834023935,
                45.1792202251607
               ],
               [
                5.716146757677215,
                45.17919894023177
               ],
               [
                5.715680898776095,
                45.17878773249124
               ],
               [
                5.71494008444524,
                45.178773322604485
               ],
               [
                5.714947874499632,
                45.1789335018033
               ],
               [
                5.715186038166314,
                45.17956107416633
               ],
               [
                5.715338152611542,
                45.17993847435198
               ],
               [
                5.715389208063288,
                45.18007147344067
               ]
              ]
             ],
             "type": "Polygon"
            },
            "id": "29",
            "properties": {},
            "type": "Feature"
           },
           {
            "bbox": [
             5.705286374684217,
             45.176448576186466,
             5.713936771455338,
             45.17939771855397
            ],
            "geometry": {
             "coordinates": [
              [
               [
                5.705375249842352,
                45.17920560511878
               ],
               [
                5.705492395172996,
                45.17920456722216
               ],
               [
                5.7055980455497535,
                45.17920290693139
               ],
               [
                5.705723355991342,
                45.17918635479259
               ],
               [
                5.706525159073508,
                45.17903987968452
               ],
               [
                5.7068532689669675,
                45.17897606350459
               ],
               [
                5.707665681424384,
                45.178838332191866
               ],
               [
                5.7079297535968605,
                45.17939771855397
               ],
               [
                5.7082594856158355,
                45.17934106645148
               ],
               [
                5.71153687359291,
                45.17912544347706
               ],
               [
                5.713685803561668,
                45.17880923409995
               ],
               [
                5.713936771455338,
                45.1787571830348
               ],
               [
                5.713352113940765,
                45.1775262904097
               ],
               [
                5.712952778504506,
                45.17670082129623
               ],
               [
                5.711506214456327,
                45.176448576186466
               ],
               [
                5.70955812836834,
                45.17654454321242
               ],
               [
                5.709418649129498,
                45.17658396744288
               ],
               [
                5.70898963873693,
                45.17669438720403
               ],
               [
                5.708508985668148,
                45.17681687000444
               ],
               [
                5.707914432987973,
                45.176954727718886
               ],
               [
                5.705620686036408,
                45.17722568689489
               ],
               [
                5.705286374684217,
                45.17737163584903
               ],
               [
                5.705325360418632,
                45.1781761345506
               ],
               [
                5.705368564535775,
                45.17896251227301
               ],
               [
                5.705375249842352,
                45.17920560511878
               ]
              ]
             ],
             "type": "Polygon"
            },
            "id": "30",
            "properties": {},
            "type": "Feature"
           },
           {
            "bbox": [
             5.713352113940765,
             45.1738485020403,
             5.718492377629482,
             45.1792202251607
            ],
            "geometry": {
             "coordinates": [
              [
               [
                5.717997288611317,
                45.1773853246937
               ],
               [
                5.717752085850472,
                45.17671828778522
               ],
               [
                5.717675018006673,
                45.17649582844491
               ],
               [
                5.717160344368046,
                45.17497674919275
               ],
               [
                5.717032756623204,
                45.17457983487881
               ],
               [
                5.71683583307747,
                45.17393594704179
               ],
               [
                5.716801007750705,
                45.1738485020403
               ],
               [
                5.71638620279861,
                45.17396220896873
               ],
               [
                5.7148576745956685,
                45.17427599661724
               ],
               [
                5.714661175427026,
                45.17429519205932
               ],
               [
                5.714552461668389,
                45.174312251769194
               ],
               [
                5.714495647762409,
                45.174322643244224
               ],
               [
                5.714364554866185,
                45.17437718594941
               ],
               [
                5.714332219981397,
                45.174393288542156
               ],
               [
                5.7142191133616445,
                45.1744509973672
               ],
               [
                5.714274634167309,
                45.174597402205244
               ],
               [
                5.714659514862533,
                45.17562322816556
               ],
               [
                5.7149166890678815,
                45.17635394670156
               ],
               [
                5.715161625174276,
                45.17712100058098
               ],
               [
                5.714245443809375,
                45.17732437760073
               ],
               [
                5.713352113940765,
                45.1775262904097
               ],
               [
                5.713936771455338,
                45.1787571830348
               ],
               [
                5.71494008444524,
                45.178773322604485
               ],
               [
                5.715680898776095,
                45.17878773249124
               ],
               [
                5.716146757677215,
                45.17919894023177
               ],
               [
                5.718417834023935,
                45.1792202251607
               ],
               [
                5.718492377629482,
                45.17920759801291
               ],
               [
                5.718415478683145,
                45.17898873858539
               ],
               [
                5.718184269718586,
                45.178164596108125
               ],
               [
                5.718243631526015,
                45.17815414076641
               ],
               [
                5.718172220365847,
                45.177917128639166
               ],
               [
                5.717997288611317,
                45.1773853246937
               ]
              ]
             ],
             "type": "Polygon"
            },
            "id": "31",
            "properties": {},
            "type": "Feature"
           },
           {
            "bbox": [
             5.705017408421127,
             45.172342443082776,
             5.710186827857269,
             45.17737163584903
            ],
            "geometry": {
             "coordinates": [
              [
               [
                5.705195514087685,
                45.175890885328634
               ],
               [
                5.705277173516992,
                45.177181759776694
               ],
               [
                5.705286374684217,
                45.17737163584903
               ],
               [
                5.705620686036408,
                45.17722568689489
               ],
               [
                5.707914432987973,
                45.176954727718886
               ],
               [
                5.708508985668148,
                45.17681687000444
               ],
               [
                5.70898963873693,
                45.17669438720403
               ],
               [
                5.709418649129498,
                45.17658396744288
               ],
               [
                5.709357339488124,
                45.17647554062097
               ],
               [
                5.708960061246782,
                45.17576983475374
               ],
               [
                5.7089082270458045,
                45.17567289001681
               ],
               [
                5.708777504072608,
                45.17542019484393
               ],
               [
                5.7086245607806845,
                45.17507704349277
               ],
               [
                5.708562998560366,
                45.17493708942258
               ],
               [
                5.708538488507031,
                45.17487822197885
               ],
               [
                5.710137899128764,
                45.17297984052721
               ],
               [
                5.710186827857269,
                45.17291198230406
               ],
               [
                5.709140573658526,
                45.17255989198906
               ],
               [
                5.708802630728889,
                45.17244646848332
               ],
               [
                5.708746964977719,
                45.172427998967684
               ],
               [
                5.708607513911593,
                45.17238903957204
               ],
               [
                5.708472578158548,
                45.172364385515664
               ],
               [
                5.708300922963552,
                45.172344226269246
               ],
               [
                5.707928912993973,
                45.172342443082776
               ],
               [
                5.707708645549056,
                45.17234418429246
               ],
               [
                5.7072698628232565,
                45.17235753327585
               ],
               [
                5.707109782047081,
                45.17236592159035
               ],
               [
                5.706676567752465,
                45.17238904352219
               ],
               [
                5.706333593158075,
                45.17240817337306
               ],
               [
                5.705697216102555,
                45.17244432699864
               ],
               [
                5.705163582644139,
                45.17247167971392
               ],
               [
                5.705017408421127,
                45.172477926003715
               ],
               [
                5.705022704064922,
                45.172666094641386
               ],
               [
                5.705037373752362,
                45.17304773873619
               ],
               [
                5.705057814579349,
                45.173495912739604
               ],
               [
                5.705111119261045,
                45.17451719083684
               ],
               [
                5.705195514087685,
                45.175890885328634
               ]
              ]
             ],
             "type": "Polygon"
            },
            "id": "32",
            "properties": {},
            "type": "Feature"
           },
           {
            "bbox": [
             5.708538488507031,
             45.17240636621428,
             5.715161625174276,
             45.1775262904097
            ],
            "geometry": {
             "coordinates": [
              [
               [
                5.7149166890678815,
                45.17635394670156
               ],
               [
                5.714659514862533,
                45.17562322816556
               ],
               [
                5.714274634167309,
                45.174597402205244
               ],
               [
                5.7142191133616445,
                45.1744509973672
               ],
               [
                5.714112344749515,
                45.17403645594149
               ],
               [
                5.713673627231844,
                45.17261011625609
               ],
               [
                5.713605133058412,
                45.17240636621428
               ],
               [
                5.71349914202139,
                45.172426962545785
               ],
               [
                5.710328083130742,
                45.172935579907985
               ],
               [
                5.710186827857269,
                45.17291198230406
               ],
               [
                5.710137899128764,
                45.17297984052721
               ],
               [
                5.708538488507031,
                45.17487822197885
               ],
               [
                5.708562998560366,
                45.17493708942258
               ],
               [
                5.7086245607806845,
                45.17507704349277
               ],
               [
                5.708777504072608,
                45.17542019484393
               ],
               [
                5.7089082270458045,
                45.17567289001681
               ],
               [
                5.708960061246782,
                45.17576983475374
               ],
               [
                5.709357339488124,
                45.17647554062097
               ],
               [
                5.709418649129498,
                45.17658396744288
               ],
               [
                5.70955812836834,
                45.17654454321242
               ],
               [
                5.711506214456327,
                45.176448576186466
               ],
               [
                5.712952778504506,
                45.17670082129623
               ],
               [
                5.713352113940765,
                45.1775262904097
               ],
               [
                5.714245443809375,
                45.17732437760073
               ],
               [
                5.715161625174276,
                45.17712100058098
               ],
               [
                5.7149166890678815,
                45.17635394670156
               ]
              ]
             ],
             "type": "Polygon"
            },
            "id": "33",
            "properties": {},
            "type": "Feature"
           },
           {
            "bbox": [
             5.701462939402912,
             45.16766642357617,
             5.705017408421127,
             45.172576761308754
            ],
            "geometry": {
             "coordinates": [
              [
               [
                5.702201594384199,
                45.16790630138503
               ],
               [
                5.702057749048874,
                45.167934110246684
               ],
               [
                5.701813421903292,
                45.168043634778925
               ],
               [
                5.701696411764155,
                45.168099623468514
               ],
               [
                5.701607639873701,
                45.16818646124367
               ],
               [
                5.701545451687855,
                45.16826995249757
               ],
               [
                5.701499713871385,
                45.1683512435558
               ],
               [
                5.701476743599714,
                45.168429280557
               ],
               [
                5.701462939402912,
                45.168512501280595
               ],
               [
                5.701472938360646,
                45.16864019273853
               ],
               [
                5.701479507230252,
                45.16867066567694
               ],
               [
                5.70152369489644,
                45.1688732084046
               ],
               [
                5.701654067352065,
                45.169356559812186
               ],
               [
                5.701727409879709,
                45.169608849304566
               ],
               [
                5.701780877509057,
                45.169871530356815
               ],
               [
                5.701870849874813,
                45.17036216650191
               ],
               [
                5.701884010455595,
                45.17060780472242
               ],
               [
                5.7019579811167524,
                45.172188967273726
               ],
               [
                5.701974259620836,
                45.17255165249446
               ],
               [
                5.702537182038223,
                45.172576761308754
               ],
               [
                5.703893194862049,
                45.172540308801246
               ],
               [
                5.704786300730125,
                45.172492537401936
               ],
               [
                5.705017408421127,
                45.172477926003715
               ],
               [
                5.705001482494516,
                45.172044057749446
               ],
               [
                5.704993951237685,
                45.171704585002445
               ],
               [
                5.704960403713993,
                45.170644088176175
               ],
               [
                5.704930619366933,
                45.17005559402204
               ],
               [
                5.70490113292541,
                45.16949952664274
               ],
               [
                5.704826900252771,
                45.168230097234165
               ],
               [
                5.7046563541120765,
                45.16778556239511
               ],
               [
                5.704367843483699,
                45.16766642357617
               ],
               [
                5.702201594384199,
                45.16790630138503
               ]
              ]
             ],
             "type": "Polygon"
            },
            "id": "34",
            "properties": {},
            "type": "Feature"
           },
           {
            "bbox": [
             5.699699203886909,
             45.15852904177261,
             5.720191958286651,
             45.172935579907985
            ],
            "geometry": {
             "coordinates": [
              [
               [
                5.712308189568041,
                45.16356449472865
               ],
               [
                5.712680297863223,
                45.16341219812966
               ],
               [
                5.712742761575681,
                45.16338725487435
               ],
               [
                5.71352026973938,
                45.16303409768137
               ],
               [
                5.714074984152399,
                45.16276113316054
               ],
               [
                5.714531043618071,
                45.16252840577736
               ],
               [
                5.714818091139081,
                45.16238177507769
               ],
               [
                5.715749194366719,
                45.16183566585979
               ],
               [
                5.716630004411555,
                45.16140789596362
               ],
               [
                5.717464523068709,
                45.16104971820018
               ],
               [
                5.719622568137867,
                45.16022952735829
               ],
               [
                5.720191958286651,
                45.160075999269836
               ],
               [
                5.720172844486328,
                45.1597620351706
               ],
               [
                5.720028171129911,
                45.159170938296796
               ],
               [
                5.719696117802392,
                45.15912497687795
               ],
               [
                5.71936660883054,
                45.1590789524659
               ],
               [
                5.717633096799034,
                45.15901848590847
               ],
               [
                5.715083119732218,
                45.15892741279355
               ],
               [
                5.711679057804837,
                45.15879127574419
               ],
               [
                5.7109288200401265,
                45.15876085786804
               ],
               [
                5.710617137485026,
                45.158662120047296
               ],
               [
                5.7104397861761464,
                45.15860246211368
               ],
               [
                5.710412595871713,
                45.15859321234652
               ],
               [
                5.709530837713568,
                45.15852904177261
               ],
               [
                5.70933438628791,
                45.158574355210966
               ],
               [
                5.709229604505156,
                45.15859311677223
               ],
               [
                5.709209385086071,
                45.1585963106117
               ],
               [
                5.70907556779491,
                45.15862028183463
               ],
               [
                5.708767057434549,
                45.1586656125082
               ],
               [
                5.708554338232135,
                45.1586905978866
               ],
               [
                5.7083146033944985,
                45.15870993210744
               ],
               [
                5.7077286053126945,
                45.15873136388636
               ],
               [
                5.707333966251543,
                45.1587337339122
               ],
               [
                5.706980028075334,
                45.15873511497495
               ],
               [
                5.706144786822805,
                45.158737359496264
               ],
               [
                5.7057906305885115,
                45.158734237374944
               ],
               [
                5.704977629767292,
                45.158722419653735
               ],
               [
                5.704333269667524,
                45.15869569694296
               ],
               [
                5.700210108032675,
                45.16025148384697
               ],
               [
                5.699699203886909,
                45.16043052152662
               ],
               [
                5.699796585393923,
                45.160732682107216
               ],
               [
                5.700110393170597,
                45.161665667494766
               ],
               [
                5.700180552256338,
                45.161826138458196
               ],
               [
                5.700352928902179,
                45.162046300196145
               ],
               [
                5.700855355723753,
                45.1647459653337
               ],
               [
                5.700877500243265,
                45.16675722739847
               ],
               [
                5.700799465087455,
                45.167224001239
               ],
               [
                5.700761083073339,
                45.16745737276214
               ],
               [
                5.7005038864956346,
                45.16830147192241
               ],
               [
                5.70049079464148,
                45.1685837829908
               ],
               [
                5.700491290788983,
                45.16877837403379
               ],
               [
                5.7005912567787025,
                45.16994987976124
               ],
               [
                5.700665553391578,
                45.17080127222534
               ],
               [
                5.70074147142144,
                45.17108052827289
               ],
               [
                5.700786808973202,
                45.17230741325215
               ],
               [
                5.700742293985806,
                45.172624720897694
               ],
               [
                5.701974259620836,
                45.17255165249446
               ],
               [
                5.7019579811167524,
                45.172188967273726
               ],
               [
                5.701884010455595,
                45.17060780472242
               ],
               [
                5.701870849874813,
                45.17036216650191
               ],
               [
                5.701780877509057,
                45.169871530356815
               ],
               [
                5.701727409879709,
                45.169608849304566
               ],
               [
                5.701654067352065,
                45.169356559812186
               ],
               [
                5.70152369489644,
                45.1688732084046
               ],
               [
                5.701479507230252,
                45.16867066567694
               ],
               [
                5.701472938360646,
                45.16864019273853
               ],
               [
                5.701462939402912,
                45.168512501280595
               ],
               [
                5.701476743599714,
                45.168429280557
               ],
               [
                5.701499713871385,
                45.1683512435558
               ],
               [
                5.701545451687855,
                45.16826995249757
               ],
               [
                5.701607639873701,
                45.16818646124367
               ],
               [
                5.701696411764155,
                45.168099623468514
               ],
               [
                5.701813421903292,
                45.168043634778925
               ],
               [
                5.702057749048874,
                45.167934110246684
               ],
               [
                5.702201594384199,
                45.16790630138503
               ],
               [
                5.704367843483699,
                45.16766642357617
               ],
               [
                5.7046563541120765,
                45.16778556239511
               ],
               [
                5.704826900252771,
                45.168230097234165
               ],
               [
                5.70490113292541,
                45.16949952664274
               ],
               [
                5.704930619366933,
                45.17005559402204
               ],
               [
                5.704960403713993,
                45.170644088176175
               ],
               [
                5.704993951237685,
                45.171704585002445
               ],
               [
                5.705001482494516,
                45.172044057749446
               ],
               [
                5.705017408421127,
                45.172477926003715
               ],
               [
                5.705163582644139,
                45.17247167971392
               ],
               [
                5.705697216102555,
                45.17244432699864
               ],
               [
                5.706333593158075,
                45.17240817337306
               ],
               [
                5.706676567752465,
                45.17238904352219
               ],
               [
                5.707109782047081,
                45.17236592159035
               ],
               [
                5.7072698628232565,
                45.17235753327585
               ],
               [
                5.707708645549056,
                45.17234418429246
               ],
               [
                5.707928912993973,
                45.172342443082776
               ],
               [
                5.708300922963552,
                45.172344226269246
               ],
               [
                5.708472578158548,
                45.172364385515664
               ],
               [
                5.708607513911593,
                45.17238903957204
               ],
               [
                5.708746964977719,
                45.172427998967684
               ],
               [
                5.708802630728889,
                45.17244646848332
               ],
               [
                5.709140573658526,
                45.17255989198906
               ],
               [
                5.710186827857269,
                45.17291198230406
               ],
               [
                5.710328083130742,
                45.172935579907985
               ],
               [
                5.71349914202139,
                45.172426962545785
               ],
               [
                5.713605133058412,
                45.17240636621428
               ],
               [
                5.71356790437053,
                45.17229555423162
               ],
               [
                5.712994560527514,
                45.17045715107973
               ],
               [
                5.712474347267325,
                45.168794040292184
               ],
               [
                5.712092129643909,
                45.16758525408036
               ],
               [
                5.712041229129639,
                45.167428826012646
               ],
               [
                5.71184096078138,
                45.16681924960564
               ],
               [
                5.711509570611434,
                45.165817345249145
               ],
               [
                5.711345829320019,
                45.16533031004452
               ],
               [
                5.711146920606209,
                45.16480088397671
               ],
               [
                5.712308189568041,
                45.16356449472865
               ]
              ]
             ],
             "type": "Polygon"
            },
            "id": "35",
            "properties": {},
            "type": "Feature"
           },
           {
            "bbox": [
             5.711146920606209,
             45.16341219812966,
             5.716801007750705,
             45.1744509973672
            ],
            "geometry": {
             "coordinates": [
              [
               [
                5.7148576745956685,
                45.17427599661724
               ],
               [
                5.71638620279861,
                45.17396220896873
               ],
               [
                5.716801007750705,
                45.1738485020403
               ],
               [
                5.716751839917389,
                45.17372807115121
               ],
               [
                5.716710349506695,
                45.17360835428911
               ],
               [
                5.71654991640469,
                45.17313836164917
               ],
               [
                5.716144421225283,
                45.17189861877726
               ],
               [
                5.715725428822922,
                45.170695241568325
               ],
               [
                5.71559211010937,
                45.170337206651055
               ],
               [
                5.7154036617166994,
                45.16989312145963
               ],
               [
                5.714266805053211,
                45.16723145894716
               ],
               [
                5.713677016619753,
                45.165866458084395
               ],
               [
                5.71331609990993,
                45.165017536363145
               ],
               [
                5.713164914248123,
                45.164658132326494
               ],
               [
                5.712997727041066,
                45.164257673828104
               ],
               [
                5.71284545251343,
                45.16387577240108
               ],
               [
                5.712729749629782,
                45.16356505716508
               ],
               [
                5.712690994266658,
                45.16344887675714
               ],
               [
                5.712680341579011,
                45.16341309801051
               ],
               [
                5.712680297863223,
                45.16341219812966
               ],
               [
                5.712308189568041,
                45.16356449472865
               ],
               [
                5.711146920606209,
                45.16480088397671
               ],
               [
                5.711345829320019,
                45.16533031004452
               ],
               [
                5.711509570611434,
                45.165817345249145
               ],
               [
                5.71184096078138,
                45.16681924960564
               ],
               [
                5.712041229129639,
                45.167428826012646
               ],
               [
                5.712092129643909,
                45.16758525408036
               ],
               [
                5.712474347267325,
                45.168794040292184
               ],
               [
                5.712994560527514,
                45.17045715107973
               ],
               [
                5.71356790437053,
                45.17229555423162
               ],
               [
                5.713605133058412,
                45.17240636621428
               ],
               [
                5.713673627231844,
                45.17261011625609
               ],
               [
                5.714112344749515,
                45.17403645594149
               ],
               [
                5.7142191133616445,
                45.1744509973672
               ],
               [
                5.714332219981397,
                45.174393288542156
               ],
               [
                5.714364554866185,
                45.17437718594941
               ],
               [
                5.714495647762409,
                45.174322643244224
               ],
               [
                5.714552461668389,
                45.174312251769194
               ],
               [
                5.714661175427026,
                45.17429519205932
               ],
               [
                5.7148576745956685,
                45.17427599661724
               ]
              ]
             ],
             "type": "Polygon"
            },
            "id": "36",
            "properties": {},
            "type": "Feature"
           },
           {
            "bbox": [
             5.718184269718586,
             45.17815414076641,
             5.723765440885016,
             45.181603375546416
            ],
            "geometry": {
             "coordinates": [
              [
               [
                5.718184269718586,
                45.178164596108125
               ],
               [
                5.718415478683145,
                45.17898873858539
               ],
               [
                5.718492377629482,
                45.17920759801291
               ],
               [
                5.718726367885235,
                45.179879412043014
               ],
               [
                5.718745757525737,
                45.17993750141833
               ],
               [
                5.718792646370432,
                45.18019403073955
               ],
               [
                5.718820792129385,
                45.18061498950743
               ],
               [
                5.718823235499249,
                45.180874403498926
               ],
               [
                5.718802601633629,
                45.1811046483415
               ],
               [
                5.718760292768022,
                45.181334520246445
               ],
               [
                5.718705129333137,
                45.18153587487676
               ],
               [
                5.719077855867441,
                45.181603375546416
               ],
               [
                5.7224745048853585,
                45.18155841158537
               ],
               [
                5.722702135896392,
                45.18157628340611
               ],
               [
                5.723117675523817,
                45.181006654499576
               ],
               [
                5.723611502412758,
                45.17977021124134
               ],
               [
                5.723738110296877,
                45.17933646662433
               ],
               [
                5.723765440885016,
                45.1792439025627
               ],
               [
                5.721078077121748,
                45.179437392685365
               ],
               [
                5.720345538121865,
                45.17969760642089
               ],
               [
                5.720271961795118,
                45.17962552191979
               ],
               [
                5.719947953822139,
                45.17938115298897
               ],
               [
                5.719387647930001,
                45.178966856085935
               ],
               [
                5.718839897159378,
                45.17857477447619
               ],
               [
                5.718416705699346,
                45.178281463643586
               ],
               [
                5.7182716213646705,
                45.17817958653768
               ],
               [
                5.718243631526015,
                45.17815414076641
               ],
               [
                5.718184269718586,
                45.178164596108125
               ]
              ]
             ],
             "type": "Polygon"
            },
            "id": "37",
            "properties": {},
            "type": "Feature"
           },
           {
            "bbox": [
             5.722702135896392,
             45.17933646662433,
             5.728275946699244,
             45.182587287262855
            ],
            "geometry": {
             "coordinates": [
              [
               [
                5.726240417736404,
                45.17939699666768
               ],
               [
                5.725470503977998,
                45.17938697103534
               ],
               [
                5.724686243118345,
                45.17937008275949
               ],
               [
                5.7244233456250475,
                45.1793602837329
               ],
               [
                5.723738110296877,
                45.17933646662433
               ],
               [
                5.723611502412758,
                45.17977021124134
               ],
               [
                5.723117675523817,
                45.181006654499576
               ],
               [
                5.722702135896392,
                45.18157628340611
               ],
               [
                5.723334660716121,
                45.18166806417147
               ],
               [
                5.724076617778575,
                45.181809425693
               ],
               [
                5.725034673823125,
                45.18199325676375
               ],
               [
                5.726088090419904,
                45.182303586847965
               ],
               [
                5.72695025275443,
                45.18255821651628
               ],
               [
                5.727051041378515,
                45.182587287262855
               ],
               [
                5.7270519986569886,
                45.182502574261854
               ],
               [
                5.727125083865129,
                45.18235573499135
               ],
               [
                5.727253268470573,
                45.182111147273524
               ],
               [
                5.727325959542047,
                45.181982336556175
               ],
               [
                5.727428355591281,
                45.18186180940446
               ],
               [
                5.727724853651144,
                45.18167257070711
               ],
               [
                5.727969254324901,
                45.18135576824987
               ],
               [
                5.728275946699244,
                45.18095815856622
               ],
               [
                5.728038758790852,
                45.18100540037741
               ],
               [
                5.7268042836416155,
                45.181213056136215
               ],
               [
                5.726604283679561,
                45.18056114783326
               ],
               [
                5.726469414678295,
                45.18009504639191
               ],
               [
                5.726240417736404,
                45.17939699666768
               ]
              ]
             ],
             "type": "Polygon"
            },
            "id": "38",
            "properties": {},
            "type": "Feature"
           },
           {
            "bbox": [
             5.727253268470573,
             45.180627158777455,
             5.731642004757693,
             45.1836941941219
            ],
            "geometry": {
             "coordinates": [
              [
               [
                5.731172347800708,
                45.18368207859183
               ],
               [
                5.731271991389737,
                45.18366162112219
               ],
               [
                5.7313895769057845,
                45.18361729964532
               ],
               [
                5.731532293963469,
                45.183513800888434
               ],
               [
                5.731549221293837,
                45.18320886373866
               ],
               [
                5.731596968333162,
                45.182258088450524
               ],
               [
                5.7316396937213225,
                45.18120472736056
               ],
               [
                5.731642004757693,
                45.180627158777455
               ],
               [
                5.731105144697467,
                45.18064209955766
               ],
               [
                5.73105688195639,
                45.18064508250041
               ],
               [
                5.729563455216026,
                45.180741080652226
               ],
               [
                5.729435207577777,
                45.18074962288891
               ],
               [
                5.728900592616404,
                45.18083657441403
               ],
               [
                5.728601234286254,
                45.18088894138667
               ],
               [
                5.72849277585732,
                45.180911413966214
               ],
               [
                5.728275946699244,
                45.18095815856622
               ],
               [
                5.727969254324901,
                45.18135576824987
               ],
               [
                5.727724853651144,
                45.18167257070711
               ],
               [
                5.727428355591281,
                45.18186180940446
               ],
               [
                5.727325959542047,
                45.181982336556175
               ],
               [
                5.727253268470573,
                45.182111147273524
               ],
               [
                5.727333961437512,
                45.18214611452065
               ],
               [
                5.728310928069368,
                45.18256009995231
               ],
               [
                5.729377948223433,
                45.18299169603278
               ],
               [
                5.730458633777489,
                45.18344186810164
               ],
               [
                5.73100859689034,
                45.1836941941219
               ],
               [
                5.731172347800708,
                45.18368207859183
               ]
              ]
             ],
             "type": "Polygon"
            },
            "id": "39",
            "properties": {},
            "type": "Feature"
           },
           {
            "bbox": [
             5.73100859689034,
             45.18062298470095,
             5.7349234205106425,
             45.18537167594306
            ],
            "geometry": {
             "coordinates": [
              [
               [
                5.731549221293837,
                45.18320886373866
               ],
               [
                5.731532293963469,
                45.183513800888434
               ],
               [
                5.7313895769057845,
                45.18361729964532
               ],
               [
                5.731271991389737,
                45.18366162112219
               ],
               [
                5.731172347800708,
                45.18368207859183
               ],
               [
                5.73100859689034,
                45.1836941941219
               ],
               [
                5.73115314201291,
                45.18375822879775
               ],
               [
                5.731390498099542,
                45.18387044553021
               ],
               [
                5.731490948224833,
                45.18394456844275
               ],
               [
                5.7315410284099855,
                45.18403073548163
               ],
               [
                5.731761831888822,
                45.18505422267207
               ],
               [
                5.731792972315148,
                45.18522193921864
               ],
               [
                5.731793558923186,
                45.185312020434196
               ],
               [
                5.731969745373857,
                45.18537167594306
               ],
               [
                5.7320445487764955,
                45.18531218379268
               ],
               [
                5.732443777916006,
                45.18493121707561
               ],
               [
                5.732809201955341,
                45.18448440580169
               ],
               [
                5.733346073557323,
                45.18371445620924
               ],
               [
                5.733427968307899,
                45.18359172247412
               ],
               [
                5.7338201175077215,
                45.18283252229278
               ],
               [
                5.7346129260502074,
                45.18125444578786
               ],
               [
                5.7349234205106425,
                45.18062337590483
               ],
               [
                5.7342775268922725,
                45.18062298470095
               ],
               [
                5.732876314332846,
                45.18062487063917
               ],
               [
                5.731642004757693,
                45.180627158777455
               ],
               [
                5.7316396937213225,
                45.18120472736056
               ],
               [
                5.731596968333162,
                45.182258088450524
               ],
               [
                5.731549221293837,
                45.18320886373866
               ]
              ]
             ],
             "type": "Polygon"
            },
            "id": "40",
            "properties": {},
            "type": "Feature"
           },
           {
            "bbox": [
             5.731969745373857,
             45.1805551784562,
             5.742864455956749,
             45.18881026587815
            ],
            "geometry": {
             "coordinates": [
              [
               [
                5.733427968307899,
                45.18359172247412
               ],
               [
                5.733346073557323,
                45.18371445620924
               ],
               [
                5.732809201955341,
                45.18448440580169
               ],
               [
                5.732443777916006,
                45.18493121707561
               ],
               [
                5.7320445487764955,
                45.18531218379268
               ],
               [
                5.731969745373857,
                45.18537167594306
               ],
               [
                5.732136016498047,
                45.1854369796302
               ],
               [
                5.734711980147311,
                45.18647486408926
               ],
               [
                5.73493543920789,
                45.186563088455976
               ],
               [
                5.735245966075998,
                45.18668611802628
               ],
               [
                5.7384942928795555,
                45.187974123740176
               ],
               [
                5.740563220902577,
                45.188774752025765
               ],
               [
                5.740657974290287,
                45.18881026587815
               ],
               [
                5.7406935973934665,
                45.1887832633704
               ],
               [
                5.742629042264259,
                45.18626979564181
               ],
               [
                5.742864455956749,
                45.18579731338306
               ],
               [
                5.7426714291766014,
                45.185680427105616
               ],
               [
                5.742097876200949,
                45.18531251237778
               ],
               [
                5.741049365879309,
                45.18463822151165
               ],
               [
                5.7409190156917,
                45.18442248956711
               ],
               [
                5.740864079084654,
                45.18223991422319
               ],
               [
                5.740883085423502,
                45.18213403529669
               ],
               [
                5.741012551195959,
                45.18170920710783
               ],
               [
                5.741148616070069,
                45.18134097707498
               ],
               [
                5.741172331611963,
                45.18127912941009
               ],
               [
                5.741533338066864,
                45.18064049195843
               ],
               [
                5.741595391845954,
                45.1805551784562
               ],
               [
                5.741026381116974,
                45.18058987693528
               ],
               [
                5.737811404051097,
                45.18062374292757
               ],
               [
                5.73771461451629,
                45.18062431534284
               ],
               [
                5.73500884677096,
                45.18062488629278
               ],
               [
                5.7349234205106425,
                45.18062337590483
               ],
               [
                5.7346129260502074,
                45.18125444578786
               ],
               [
                5.7338201175077215,
                45.18283252229278
               ],
               [
                5.733427968307899,
                45.18359172247412
               ]
              ]
             ],
             "type": "Polygon"
            },
            "id": "41",
            "properties": {},
            "type": "Feature"
           },
           {
            "bbox": [
             5.716801007750705,
             45.17173970055698,
             5.725493030891212,
             45.17962552191979
            ],
            "geometry": {
             "coordinates": [
              [
               [
                5.718172220365847,
                45.177917128639166
               ],
               [
                5.718243631526015,
                45.17815414076641
               ],
               [
                5.7182716213646705,
                45.17817958653768
               ],
               [
                5.718416705699346,
                45.178281463643586
               ],
               [
                5.718839897159378,
                45.17857477447619
               ],
               [
                5.719387647930001,
                45.178966856085935
               ],
               [
                5.719947953822139,
                45.17938115298897
               ],
               [
                5.720271961795118,
                45.17962552191979
               ],
               [
                5.720443343518134,
                45.17935196038063
               ],
               [
                5.720687995634496,
                45.178987418304914
               ],
               [
                5.720917287459144,
                45.17869983089895
               ],
               [
                5.721429170741393,
                45.178094524428424
               ],
               [
                5.7217208869921174,
                45.177807214873894
               ],
               [
                5.722218407927247,
                45.177325684965105
               ],
               [
                5.722675076486843,
                45.17694695677176
               ],
               [
                5.722882064803967,
                45.17677703271416
               ],
               [
                5.723067774488538,
                45.17664096263614
               ],
               [
                5.723438094443832,
                45.176372452132554
               ],
               [
                5.724174515006095,
                45.175905804390986
               ],
               [
                5.724550487403278,
                45.17570111952608
               ],
               [
                5.724668545955121,
                45.17569283141789
               ],
               [
                5.724773751320457,
                45.17570828174099
               ],
               [
                5.724835041818219,
                45.1757374175606
               ],
               [
                5.724860878388318,
                45.17566651252345
               ],
               [
                5.725152432524735,
                45.175376494525565
               ],
               [
                5.725437977184239,
                45.1751460852557
               ],
               [
                5.725493030891212,
                45.175073565539364
               ],
               [
                5.725448934011421,
                45.17497914169719
               ],
               [
                5.72541067142834,
                45.1748737639418
               ],
               [
                5.725316068216645,
                45.17460578904518
               ],
               [
                5.724454806169886,
                45.17212217716686
               ],
               [
                5.7243266034786675,
                45.17173970055698
               ],
               [
                5.723965964083625,
                45.1718665291303
               ],
               [
                5.722614460347884,
                45.17223016079738
               ],
               [
                5.7185903755774286,
                45.17334634147977
               ],
               [
                5.716878967154196,
                45.173827684131375
               ],
               [
                5.716801007750705,
                45.1738485020403
               ],
               [
                5.71683583307747,
                45.17393594704179
               ],
               [
                5.717032756623204,
                45.17457983487881
               ],
               [
                5.717160344368046,
                45.17497674919275
               ],
               [
                5.717675018006673,
                45.17649582844491
               ],
               [
                5.717752085850472,
                45.17671828778522
               ],
               [
                5.717997288611317,
                45.1773853246937
               ],
               [
                5.718172220365847,
                45.177917128639166
               ]
              ]
             ],
             "type": "Polygon"
            },
            "id": "42",
            "properties": {},
            "type": "Feature"
           },
           {
            "bbox": [
             5.720271961795118,
             45.17569283141789,
             5.726240417736404,
             45.17969760642089
            ],
            "geometry": {
             "coordinates": [
              [
               [
                5.724773751320457,
                45.17570828174099
               ],
               [
                5.724668545955121,
                45.17569283141789
               ],
               [
                5.724550487403278,
                45.17570111952608
               ],
               [
                5.724174515006095,
                45.175905804390986
               ],
               [
                5.723438094443832,
                45.176372452132554
               ],
               [
                5.723067774488538,
                45.17664096263614
               ],
               [
                5.722882064803967,
                45.17677703271416
               ],
               [
                5.722675076486843,
                45.17694695677176
               ],
               [
                5.722218407927247,
                45.177325684965105
               ],
               [
                5.7217208869921174,
                45.177807214873894
               ],
               [
                5.721429170741393,
                45.178094524428424
               ],
               [
                5.720917287459144,
                45.17869983089895
               ],
               [
                5.720687995634496,
                45.178987418304914
               ],
               [
                5.720443343518134,
                45.17935196038063
               ],
               [
                5.720271961795118,
                45.17962552191979
               ],
               [
                5.720345538121865,
                45.17969760642089
               ],
               [
                5.721078077121748,
                45.179437392685365
               ],
               [
                5.723765440885016,
                45.1792439025627
               ],
               [
                5.723738110296877,
                45.17933646662433
               ],
               [
                5.7244233456250475,
                45.1793602837329
               ],
               [
                5.724686243118345,
                45.17937008275949
               ],
               [
                5.725470503977998,
                45.17938697103534
               ],
               [
                5.726240417736404,
                45.17939699666768
               ],
               [
                5.726140177923967,
                45.179013837714756
               ],
               [
                5.725994596621279,
                45.178354293030765
               ],
               [
                5.725985364879466,
                45.17811306338901
               ],
               [
                5.726013338350655,
                45.177877231631825
               ],
               [
                5.726019739957277,
                45.17782572100078
               ],
               [
                5.726072009020639,
                45.17746136059993
               ],
               [
                5.7261224419842165,
                45.177189843079894
               ],
               [
                5.726160862708585,
                45.177037544622976
               ],
               [
                5.7262120460707875,
                45.17683358012305
               ],
               [
                5.726228138240849,
                45.17671966708001
               ],
               [
                5.72618447618827,
                45.17660811472507
               ],
               [
                5.725706008611193,
                45.17607022164145
               ],
               [
                5.724814866712742,
                45.175846024300895
               ],
               [
                5.724835041818219,
                45.1757374175606
               ],
               [
                5.724773751320457,
                45.17570828174099
               ]
              ]
             ],
             "type": "Polygon"
            },
            "id": "43",
            "properties": {},
            "type": "Feature"
           },
           {
            "bbox": [
             5.725985364879466,
             45.17627501844937,
             5.731750750161932,
             45.181213056136215
            ],
            "geometry": {
             "coordinates": [
              [
               [
                5.731642004757693,
                45.180627158777455
               ],
               [
                5.731681321260252,
                45.18015499715525
               ],
               [
                5.73169442964622,
                45.17985015364446
               ],
               [
                5.731716961022743,
                45.17924325974256
               ],
               [
                5.731750750161932,
                45.17829372769688
               ],
               [
                5.731739994611279,
                45.17653803140404
               ],
               [
                5.731734896101677,
                45.17648590088064
               ],
               [
                5.731737315302552,
                45.17627501844937
               ],
               [
                5.7316217059441525,
                45.176489572511834
               ],
               [
                5.731581970382367,
                45.176562621444155
               ],
               [
                5.73134024383815,
                45.176881168939296
               ],
               [
                5.731016047424358,
                45.17728462183447
               ],
               [
                5.730700792418564,
                45.177662628220276
               ],
               [
                5.728253109983419,
                45.177754026528845
               ],
               [
                5.727260988342002,
                45.17762781726968
               ],
               [
                5.726425630613073,
                45.1769815241067
               ],
               [
                5.726324892111112,
                45.17690109760604
               ],
               [
                5.726240557841069,
                45.17676531222176
               ],
               [
                5.726228138240849,
                45.17671966708001
               ],
               [
                5.7262120460707875,
                45.17683358012305
               ],
               [
                5.726160862708585,
                45.177037544622976
               ],
               [
                5.7261224419842165,
                45.177189843079894
               ],
               [
                5.726072009020639,
                45.17746136059993
               ],
               [
                5.726019739957277,
                45.17782572100078
               ],
               [
                5.726013338350655,
                45.177877231631825
               ],
               [
                5.725985364879466,
                45.17811306338901
               ],
               [
                5.725994596621279,
                45.178354293030765
               ],
               [
                5.726140177923967,
                45.179013837714756
               ],
               [
                5.726240417736404,
                45.17939699666768
               ],
               [
                5.726469414678295,
                45.18009504639191
               ],
               [
                5.726604283679561,
                45.18056114783326
               ],
               [
                5.7268042836416155,
                45.181213056136215
               ],
               [
                5.728038758790852,
                45.18100540037741
               ],
               [
                5.728275946699244,
                45.18095815856622
               ],
               [
                5.72849277585732,
                45.180911413966214
               ],
               [
                5.728601234286254,
                45.18088894138667
               ],
               [
                5.728900592616404,
                45.18083657441403
               ],
               [
                5.729435207577777,
                45.18074962288891
               ],
               [
                5.729563455216026,
                45.180741080652226
               ],
               [
                5.73105688195639,
                45.18064508250041
               ],
               [
                5.731105144697467,
                45.18064209955766
               ],
               [
                5.731642004757693,
                45.180627158777455
               ]
              ]
             ],
             "type": "Polygon"
            },
            "id": "44",
            "properties": {},
            "type": "Feature"
           },
           {
            "bbox": [
             5.731642004757693,
             45.17319225026278,
             5.738656575714769,
             45.180627158777455
            ],
            "geometry": {
             "coordinates": [
              [
               [
                5.734190008995983,
                45.17319225026278
               ],
               [
                5.7323297558803326,
                45.17320628132903
               ],
               [
                5.732095447350953,
                45.173207513439266
               ],
               [
                5.7319260220023445,
                45.17320715662469
               ],
               [
                5.731817751253065,
                45.173207104366085
               ],
               [
                5.731788953963732,
                45.1733474571006
               ],
               [
                5.731767961330531,
                45.173465094936624
               ],
               [
                5.731767847953751,
                45.17356690543787
               ],
               [
                5.7317776041959405,
                45.173662167658236
               ],
               [
                5.731806096392199,
                45.17377589123973
               ],
               [
                5.7317390232554155,
                45.176257858517204
               ],
               [
                5.731737315302552,
                45.17627501844937
               ],
               [
                5.731734896101677,
                45.17648590088064
               ],
               [
                5.731739994611279,
                45.17653803140404
               ],
               [
                5.731750750161932,
                45.17829372769688
               ],
               [
                5.731716961022743,
                45.17924325974256
               ],
               [
                5.73169442964622,
                45.17985015364446
               ],
               [
                5.731681321260252,
                45.18015499715525
               ],
               [
                5.731642004757693,
                45.180627158777455
               ],
               [
                5.732876314332846,
                45.18062487063917
               ],
               [
                5.7342775268922725,
                45.18062298470095
               ],
               [
                5.7349234205106425,
                45.18062337590483
               ],
               [
                5.735461112652617,
                45.17953355568391
               ],
               [
                5.7370168303892815,
                45.176499733363634
               ],
               [
                5.737312231814218,
                45.17589965888072
               ],
               [
                5.737341170767699,
                45.17584038689684
               ],
               [
                5.737591447876154,
                45.1753333159685
               ],
               [
                5.737613502815715,
                45.175289529035034
               ],
               [
                5.737997815085527,
                45.17452870312667
               ],
               [
                5.738133515762533,
                45.1742568886522
               ],
               [
                5.738656575714769,
                45.173208854586534
               ],
               [
                5.738551900902034,
                45.17320421582736
               ],
               [
                5.738370540070185,
                45.17319425118786
               ],
               [
                5.734190008995983,
                45.17319225026278
               ]
              ]
             ],
             "type": "Polygon"
            },
            "id": "45",
            "properties": {},
            "type": "Feature"
           },
           {
            "bbox": [
             5.7349234205106425,
             45.17589965888072,
             5.742997105023786,
             45.18062488629278
            ],
            "geometry": {
             "coordinates": [
              [
               [
                5.735461112652617,
                45.17953355568391
               ],
               [
                5.7349234205106425,
                45.18062337590483
               ],
               [
                5.73500884677096,
                45.18062488629278
               ],
               [
                5.73771461451629,
                45.18062431534284
               ],
               [
                5.737811404051097,
                45.18062374292757
               ],
               [
                5.741026381116974,
                45.18058987693528
               ],
               [
                5.741595391845954,
                45.1805551784562
               ],
               [
                5.741758968024402,
                45.180332227084506
               ],
               [
                5.7419200329251785,
                45.18008411030702
               ],
               [
                5.742144196320913,
                45.17961641092797
               ],
               [
                5.742196624701743,
                45.179490790421475
               ],
               [
                5.742510861163059,
                45.17867851271077
               ],
               [
                5.7425300152229,
                45.17862758832852
               ],
               [
                5.742853084261629,
                45.17776193595884
               ],
               [
                5.742997105023786,
                45.177374587798326
               ],
               [
                5.742838179415388,
                45.177328941231885
               ],
               [
                5.7416241350567105,
                45.17699028133419
               ],
               [
                5.739884164213782,
                45.17652487383442
               ],
               [
                5.738476238443157,
                45.176180129123615
               ],
               [
                5.737312231814218,
                45.17589965888072
               ],
               [
                5.7370168303892815,
                45.176499733363634
               ],
               [
                5.735461112652617,
                45.17953355568391
               ]
              ]
             ],
             "type": "Polygon"
            },
            "id": "46",
            "properties": {},
            "type": "Feature"
           },
           {
            "bbox": [
             5.724814866712742,
             45.17320332462807,
             5.731817751253065,
             45.177754026528845
            ],
            "geometry": {
             "coordinates": [
              [
               [
                5.731788953963732,
                45.1733474571006
               ],
               [
                5.731817751253065,
                45.173207104366085
               ],
               [
                5.731751331655068,
                45.17320332462807
               ],
               [
                5.73122929021008,
                45.17325934880529
               ],
               [
                5.730950154161626,
                45.173307624270734
               ],
               [
                5.729909678577271,
                45.17351958007069
               ],
               [
                5.72974096000432,
                45.173559745490685
               ],
               [
                5.729244936692114,
                45.17367909142242
               ],
               [
                5.72902129461266,
                45.17374222186293
               ],
               [
                5.728902015920449,
                45.17377757309215
               ],
               [
                5.72880787388949,
                45.17380600284875
               ],
               [
                5.728360018609168,
                45.17394669067039
               ],
               [
                5.727848375958186,
                45.17411145972779
               ],
               [
                5.727436226615302,
                45.17425307281148
               ],
               [
                5.727148489331836,
                45.17436011066128
               ],
               [
                5.726601132879777,
                45.174576199900685
               ],
               [
                5.726105363567845,
                45.174779313794396
               ],
               [
                5.725604021924344,
                45.17502490621431
               ],
               [
                5.725493030891212,
                45.175073565539364
               ],
               [
                5.725437977184239,
                45.1751460852557
               ],
               [
                5.725152432524735,
                45.175376494525565
               ],
               [
                5.724860878388318,
                45.17566651252345
               ],
               [
                5.724835041818219,
                45.1757374175606
               ],
               [
                5.724814866712742,
                45.175846024300895
               ],
               [
                5.725706008611193,
                45.17607022164145
               ],
               [
                5.72618447618827,
                45.17660811472507
               ],
               [
                5.726228138240849,
                45.17671966708001
               ],
               [
                5.726240557841069,
                45.17676531222176
               ],
               [
                5.726324892111112,
                45.17690109760604
               ],
               [
                5.726425630613073,
                45.1769815241067
               ],
               [
                5.727260988342002,
                45.17762781726968
               ],
               [
                5.728253109983419,
                45.177754026528845
               ],
               [
                5.730700792418564,
                45.177662628220276
               ],
               [
                5.731016047424358,
                45.17728462183447
               ],
               [
                5.73134024383815,
                45.176881168939296
               ],
               [
                5.731581970382367,
                45.176562621444155
               ],
               [
                5.7316217059441525,
                45.176489572511834
               ],
               [
                5.731737315302552,
                45.17627501844937
               ],
               [
                5.7317390232554155,
                45.176257858517204
               ],
               [
                5.731806096392199,
                45.17377589123973
               ],
               [
                5.7317776041959405,
                45.173662167658236
               ],
               [
                5.731767847953751,
                45.17356690543787
               ],
               [
                5.731767961330531,
                45.173465094936624
               ],
               [
                5.731788953963732,
                45.1733474571006
               ]
              ]
             ],
             "type": "Polygon"
            },
            "id": "47",
            "properties": {},
            "type": "Feature"
           },
           {
            "bbox": [
             5.723007430724912,
             45.16686321278142,
             5.73200317719219,
             45.175073565539364
            ],
            "geometry": {
             "coordinates": [
              [
               [
                5.725955638667651,
                45.16902589632061
               ],
               [
                5.725456452045221,
                45.16858401158696
               ],
               [
                5.725143669347228,
                45.168307851935545
               ],
               [
                5.723932663697407,
                45.16724186769648
               ],
               [
                5.723500273207506,
                45.16686321278142
               ],
               [
                5.723362117245019,
                45.16750355566402
               ],
               [
                5.723141924744865,
                45.169752292572284
               ],
               [
                5.723073274604314,
                45.169833251442064
               ],
               [
                5.723007430724912,
                45.16986729243016
               ],
               [
                5.7238176984810245,
                45.17096829762041
               ],
               [
                5.7240585910603725,
                45.17128495720662
               ],
               [
                5.724182438370104,
                45.17144770855877
               ],
               [
                5.724290406605825,
                45.17162436171867
               ],
               [
                5.7243266034786675,
                45.17173970055698
               ],
               [
                5.724454806169886,
                45.17212217716686
               ],
               [
                5.725316068216645,
                45.17460578904518
               ],
               [
                5.72541067142834,
                45.1748737639418
               ],
               [
                5.725448934011421,
                45.17497914169719
               ],
               [
                5.725493030891212,
                45.175073565539364
               ],
               [
                5.725604021924344,
                45.17502490621431
               ],
               [
                5.726105363567845,
                45.174779313794396
               ],
               [
                5.726601132879777,
                45.174576199900685
               ],
               [
                5.727148489331836,
                45.17436011066128
               ],
               [
                5.727436226615302,
                45.17425307281148
               ],
               [
                5.727848375958186,
                45.17411145972779
               ],
               [
                5.728360018609168,
                45.17394669067039
               ],
               [
                5.72880787388949,
                45.17380600284875
               ],
               [
                5.728902015920449,
                45.17377757309215
               ],
               [
                5.72902129461266,
                45.17374222186293
               ],
               [
                5.729244936692114,
                45.17367909142242
               ],
               [
                5.72974096000432,
                45.173559745490685
               ],
               [
                5.729909678577271,
                45.17351958007069
               ],
               [
                5.730950154161626,
                45.173307624270734
               ],
               [
                5.73122929021008,
                45.17325934880529
               ],
               [
                5.731751331655068,
                45.17320332462807
               ],
               [
                5.731817751253065,
                45.173207104366085
               ],
               [
                5.731847164847845,
                45.173079349882975
               ],
               [
                5.731920099049042,
                45.172721687814985
               ],
               [
                5.731935204904597,
                45.17256184927584
               ],
               [
                5.73200317719219,
                45.17074926955097
               ],
               [
                5.73197652846831,
                45.16895522431524
               ],
               [
                5.731937474668194,
                45.16888590621126
               ],
               [
                5.731808427471707,
                45.168929608545696
               ],
               [
                5.731625603311139,
                45.168993547244504
               ],
               [
                5.7314806343242894,
                45.16905025229853
               ],
               [
                5.73092334568143,
                45.16927021109341
               ],
               [
                5.726777412825148,
                45.16976171483853
               ],
               [
                5.725955638667651,
                45.16902589632061
               ]
              ]
             ],
             "type": "Polygon"
            },
            "id": "48",
            "properties": {},
            "type": "Feature"
           },
           {
            "bbox": [
             5.71559211010937,
             45.168822919375934,
             5.7243266034786675,
             45.1738485020403
            ],
            "geometry": {
             "coordinates": [
              [
               [
                5.71654991640469,
                45.17313836164917
               ],
               [
                5.716710349506695,
                45.17360835428911
               ],
               [
                5.716751839917389,
                45.17372807115121
               ],
               [
                5.716801007750705,
                45.1738485020403
               ],
               [
                5.716878967154196,
                45.173827684131375
               ],
               [
                5.7185903755774286,
                45.17334634147977
               ],
               [
                5.722614460347884,
                45.17223016079738
               ],
               [
                5.723965964083625,
                45.1718665291303
               ],
               [
                5.7243266034786675,
                45.17173970055698
               ],
               [
                5.724290406605825,
                45.17162436171867
               ],
               [
                5.724182438370104,
                45.17144770855877
               ],
               [
                5.7240585910603725,
                45.17128495720662
               ],
               [
                5.7238176984810245,
                45.17096829762041
               ],
               [
                5.723007430724912,
                45.16986729243016
               ],
               [
                5.722608934760792,
                45.16945266934056
               ],
               [
                5.7194310687789836,
                45.168822919375934
               ],
               [
                5.71741516209776,
                45.16916844337102
               ],
               [
                5.716368875270498,
                45.16986242126856
               ],
               [
                5.715898542751247,
                45.170169380283035
               ],
               [
                5.71559211010937,
                45.170337206651055
               ],
               [
                5.715725428822922,
                45.170695241568325
               ],
               [
                5.716144421225283,
                45.17189861877726
               ],
               [
                5.71654991640469,
                45.17313836164917
               ]
              ]
             ],
             "type": "Polygon"
            },
            "id": "49",
            "properties": {},
            "type": "Feature"
           },
           {
            "bbox": [
             5.712680297863223,
             45.160075999269836,
             5.723500273207506,
             45.170337206651055
            ],
            "geometry": {
             "coordinates": [
              [
               [
                5.71284545251343,
                45.16387577240108
               ],
               [
                5.712997727041066,
                45.164257673828104
               ],
               [
                5.713164914248123,
                45.164658132326494
               ],
               [
                5.71331609990993,
                45.165017536363145
               ],
               [
                5.713677016619753,
                45.165866458084395
               ],
               [
                5.714266805053211,
                45.16723145894716
               ],
               [
                5.7154036617166994,
                45.16989312145963
               ],
               [
                5.71559211010937,
                45.170337206651055
               ],
               [
                5.715898542751247,
                45.170169380283035
               ],
               [
                5.716368875270498,
                45.16986242126856
               ],
               [
                5.71741516209776,
                45.16916844337102
               ],
               [
                5.7194310687789836,
                45.168822919375934
               ],
               [
                5.722608934760792,
                45.16945266934056
               ],
               [
                5.723007430724912,
                45.16986729243016
               ],
               [
                5.723073274604314,
                45.169833251442064
               ],
               [
                5.723141924744865,
                45.169752292572284
               ],
               [
                5.723362117245019,
                45.16750355566402
               ],
               [
                5.723500273207506,
                45.16686321278142
               ],
               [
                5.723352049897117,
                45.16672267886965
               ],
               [
                5.722699683822088,
                45.1661421718931
               ],
               [
                5.721756514184754,
                45.16531739128561
               ],
               [
                5.720855820955085,
                45.162462635183694
               ],
               [
                5.720184797073317,
                45.160504123235654
               ],
               [
                5.720191958286651,
                45.160075999269836
               ],
               [
                5.719622568137867,
                45.16022952735829
               ],
               [
                5.717464523068709,
                45.16104971820018
               ],
               [
                5.716630004411555,
                45.16140789596362
               ],
               [
                5.715749194366719,
                45.16183566585979
               ],
               [
                5.714818091139081,
                45.16238177507769
               ],
               [
                5.714531043618071,
                45.16252840577736
               ],
               [
                5.714074984152399,
                45.16276113316054
               ],
               [
                5.71352026973938,
                45.16303409768137
               ],
               [
                5.712742761575681,
                45.16338725487435
               ],
               [
                5.712680297863223,
                45.16341219812966
               ],
               [
                5.712680341579011,
                45.16341309801051
               ],
               [
                5.712690994266658,
                45.16344887675714
               ],
               [
                5.712729749629782,
                45.16356505716508
               ],
               [
                5.71284545251343,
                45.16387577240108
               ]
              ]
             ],
             "type": "Polygon"
            },
            "id": "50",
            "properties": {},
            "type": "Feature"
           },
           {
            "bbox": [
             5.740657974290287,
             45.184378352898186,
             5.749280810431652,
             45.19020229754277
            ],
            "geometry": {
             "coordinates": [
              [
               [
                5.740676143765439,
                45.18881702743658
               ],
               [
                5.741022248480295,
                45.188963493985085
               ],
               [
                5.741166907116161,
                45.18902931552247
               ],
               [
                5.741381964744892,
                45.189127644422605
               ],
               [
                5.741515347828277,
                45.18919734629562
               ],
               [
                5.741639823185439,
                45.1892672668093
               ],
               [
                5.742310149674631,
                45.18968506340259
               ],
               [
                5.742801364239227,
                45.19000995372986
               ],
               [
                5.7428109455936855,
                45.19004936058305
               ],
               [
                5.74271015968222,
                45.19020229754277
               ],
               [
                5.742931832403775,
                45.19002026221243
               ],
               [
                5.743080244003155,
                45.189903094074054
               ],
               [
                5.743551610666188,
                45.189616716284654
               ],
               [
                5.743874265068478,
                45.18946733440799
               ],
               [
                5.7445747533081155,
                45.18922847638262
               ],
               [
                5.745416623775959,
                45.18898883938835
               ],
               [
                5.745897666070523,
                45.18889952397169
               ],
               [
                5.746328999657062,
                45.18883575547535
               ],
               [
                5.746779831016068,
                45.18880574205718
               ],
               [
                5.747209914118314,
                45.188794256716356
               ],
               [
                5.747654172461115,
                45.18878602462886
               ],
               [
                5.748057455056409,
                45.18879952173158
               ],
               [
                5.748390980744808,
                45.188845367742914
               ],
               [
                5.748681638533529,
                45.18890037707757
               ],
               [
                5.748934297114247,
                45.18895992535161
               ],
               [
                5.749280810431652,
                45.189088337530734
               ],
               [
                5.748646805478192,
                45.18855526500969
               ],
               [
                5.748027861681931,
                45.18801731363716
               ],
               [
                5.748019916262849,
                45.18801120251157
               ],
               [
                5.7478611090610245,
                45.187916907242396
               ],
               [
                5.74779812192894,
                45.187879716464394
               ],
               [
                5.746523426227846,
                45.18662451553423
               ],
               [
                5.746500642185934,
                45.186601651166725
               ],
               [
                5.746400442718242,
                45.18645545799832
               ],
               [
                5.746389652445244,
                45.18636562732673
               ],
               [
                5.746410332246621,
                45.18629394250679
               ],
               [
                5.746543687456541,
                45.18610416201448
               ],
               [
                5.746809777781554,
                45.18581561290931
               ],
               [
                5.747192524077917,
                45.18548995534526
               ],
               [
                5.7473832131892495,
                45.18527443660482
               ],
               [
                5.7474217826682255,
                45.185177985244266
               ],
               [
                5.747426163917862,
                45.18516346200718
               ],
               [
                5.746653099891293,
                45.18506536369719
               ],
               [
                5.745881698185882,
                45.18494919998298
               ],
               [
                5.74463816003051,
                45.18450678191171
               ],
               [
                5.7445632506314634,
                45.18448609995387
               ],
               [
                5.743522186680524,
                45.184378352898186
               ],
               [
                5.743094809951506,
                45.18529972804461
               ],
               [
                5.742864455956749,
                45.18579731338306
               ],
               [
                5.742629042264259,
                45.18626979564181
               ],
               [
                5.7406935973934665,
                45.1887832633704
               ],
               [
                5.740657974290287,
                45.18881026587815
               ],
               [
                5.740676143765439,
                45.18881702743658
               ]
              ]
             ],
             "type": "Polygon"
            },
            "id": "51",
            "properties": {},
            "type": "Feature"
           },
           {
            "bbox": [
             5.740864079084654,
             45.1805551784562,
             5.74798650611453,
             45.18579731338306
            ],
            "geometry": {
             "coordinates": [
              [
               [
                5.741595391845954,
                45.1805551784562
               ],
               [
                5.741533338066864,
                45.18064049195843
               ],
               [
                5.741172331611963,
                45.18127912941009
               ],
               [
                5.741148616070069,
                45.18134097707498
               ],
               [
                5.741012551195959,
                45.18170920710783
               ],
               [
                5.740883085423502,
                45.18213403529669
               ],
               [
                5.740864079084654,
                45.18223991422319
               ],
               [
                5.7409190156917,
                45.18442248956711
               ],
               [
                5.741049365879309,
                45.18463822151165
               ],
               [
                5.742097876200949,
                45.18531251237778
               ],
               [
                5.7426714291766014,
                45.185680427105616
               ],
               [
                5.742864455956749,
                45.18579731338306
               ],
               [
                5.743094809951506,
                45.18529972804461
               ],
               [
                5.743522186680524,
                45.184378352898186
               ],
               [
                5.7445632506314634,
                45.18448609995387
               ],
               [
                5.74463816003051,
                45.18450678191171
               ],
               [
                5.745881698185882,
                45.18494919998298
               ],
               [
                5.746653099891293,
                45.18506536369719
               ],
               [
                5.747426163917862,
                45.18516346200718
               ],
               [
                5.747437857999345,
                45.18511632413182
               ],
               [
                5.747432434002269,
                45.185057895124274
               ],
               [
                5.747498294689974,
                45.183911151466276
               ],
               [
                5.747859551686404,
                45.18242468078468
               ],
               [
                5.747916781491268,
                45.182267405393915
               ],
               [
                5.74798650611453,
                45.182182800208615
               ],
               [
                5.747877723030114,
                45.18225034782294
               ],
               [
                5.7475309893467035,
                45.182401236055405
               ],
               [
                5.747506990531458,
                45.18240543069321
               ],
               [
                5.7474123442362,
                45.182397850029
               ],
               [
                5.747209663218059,
                45.18236950359729
               ],
               [
                5.747092765900726,
                45.18234985691029
               ],
               [
                5.7463841901584995,
                45.18213755034286
               ],
               [
                5.742473274091302,
                45.180843539508466
               ],
               [
                5.741595391845954,
                45.1805551784562
               ]
              ]
             ],
             "type": "Polygon"
            },
            "id": "52",
            "properties": {},
            "type": "Feature"
           },
           {
            "bbox": [
             5.741595391845954,
             45.177374587798326,
             5.751188588450036,
             45.18240543069321
            ],
            "geometry": {
             "coordinates": [
              [
               [
                5.750993375081991,
                45.17880309404021
               ],
               [
                5.746683085478719,
                45.17821822398335
               ],
               [
                5.743869433640536,
                45.17770631914758
               ],
               [
                5.742997105023786,
                45.177374587798326
               ],
               [
                5.742853084261629,
                45.17776193595884
               ],
               [
                5.7425300152229,
                45.17862758832852
               ],
               [
                5.742510861163059,
                45.17867851271077
               ],
               [
                5.742196624701743,
                45.179490790421475
               ],
               [
                5.742144196320913,
                45.17961641092797
               ],
               [
                5.7419200329251785,
                45.18008411030702
               ],
               [
                5.741758968024402,
                45.180332227084506
               ],
               [
                5.741595391845954,
                45.1805551784562
               ],
               [
                5.742473274091302,
                45.180843539508466
               ],
               [
                5.7463841901584995,
                45.18213755034286
               ],
               [
                5.747092765900726,
                45.18234985691029
               ],
               [
                5.747209663218059,
                45.18236950359729
               ],
               [
                5.7474123442362,
                45.182397850029
               ],
               [
                5.747506990531458,
                45.18240543069321
               ],
               [
                5.7475309893467035,
                45.182401236055405
               ],
               [
                5.747877723030114,
                45.18225034782294
               ],
               [
                5.74798650611453,
                45.182182800208615
               ],
               [
                5.748092566904897,
                45.182111715667276
               ],
               [
                5.74823814840305,
                45.182015331899294
               ],
               [
                5.748996655741092,
                45.18158581309718
               ],
               [
                5.750259700333994,
                45.18084744032836
               ],
               [
                5.750356982033515,
                45.18077927275159
               ],
               [
                5.750428181759141,
                45.180673006488576
               ],
               [
                5.750453380807502,
                45.18061562485254
               ],
               [
                5.75109775836027,
                45.17898251525493
               ],
               [
                5.751188588450036,
                45.17883522125023
               ],
               [
                5.750993375081991,
                45.17880309404021
               ]
              ]
             ],
             "type": "Polygon"
            },
            "id": "53",
            "properties": {},
            "type": "Feature"
           },
           {
            "bbox": [
             5.737312231814218,
             45.173208854586534,
             5.745077630455137,
             45.177374587798326
            ],
            "geometry": {
             "coordinates": [
              [
               [
                5.7416241350567105,
                45.17699028133419
               ],
               [
                5.742838179415388,
                45.177328941231885
               ],
               [
                5.742997105023786,
                45.177374587798326
               ],
               [
                5.743109925355199,
                45.17697449198185
               ],
               [
                5.743161597387149,
                45.17683357327967
               ],
               [
                5.74320556702799,
                45.17674329756364
               ],
               [
                5.7433169478127635,
                45.17659910912777
               ],
               [
                5.743507488855017,
                45.17638089782458
               ],
               [
                5.744027645094094,
                45.175845552930426
               ],
               [
                5.744495915383817,
                45.175369142862884
               ],
               [
                5.745042958519305,
                45.174759253018614
               ],
               [
                5.745077630455137,
                45.1746872243808
               ],
               [
                5.744191300691268,
                45.17445855724925
               ],
               [
                5.743265396149083,
                45.17420202548725
               ],
               [
                5.74304979360145,
                45.17414335741956
               ],
               [
                5.7426173618394065,
                45.17402695117662
               ],
               [
                5.7418742144063675,
                45.17383438918101
               ],
               [
                5.741714248520637,
                45.17379327166836
               ],
               [
                5.74081127528999,
                45.17356228448219
               ],
               [
                5.740349812476819,
                45.17345108751628
               ],
               [
                5.7402288545744975,
                45.17342612817687
               ],
               [
                5.738823552948864,
                45.17323719091073
               ],
               [
                5.738656575714769,
                45.173208854586534
               ],
               [
                5.738133515762533,
                45.1742568886522
               ],
               [
                5.737997815085527,
                45.17452870312667
               ],
               [
                5.737613502815715,
                45.175289529035034
               ],
               [
                5.737591447876154,
                45.1753333159685
               ],
               [
                5.737341170767699,
                45.17584038689684
               ],
               [
                5.737312231814218,
                45.17589965888072
               ],
               [
                5.738476238443157,
                45.176180129123615
               ],
               [
                5.739884164213782,
                45.17652487383442
               ],
               [
                5.7416241350567105,
                45.17699028133419
               ]
              ]
             ],
             "type": "Polygon"
            },
            "id": "54",
            "properties": {},
            "type": "Feature"
           },
           {
            "bbox": [
             5.742997105023786,
             45.16889676976317,
             5.7530775068395394,
             45.17883522125023
            ],
            "geometry": {
             "coordinates": [
              [
               [
                5.745755307609932,
                45.17315964397162
               ],
               [
                5.74572101395573,
                45.17329112681249
               ],
               [
                5.745301093010851,
                45.17423214871673
               ],
               [
                5.745148379043839,
                45.17454583539067
               ],
               [
                5.745077630455137,
                45.1746872243808
               ],
               [
                5.745042958519305,
                45.174759253018614
               ],
               [
                5.744495915383817,
                45.175369142862884
               ],
               [
                5.744027645094094,
                45.175845552930426
               ],
               [
                5.743507488855017,
                45.17638089782458
               ],
               [
                5.7433169478127635,
                45.17659910912777
               ],
               [
                5.74320556702799,
                45.17674329756364
               ],
               [
                5.743161597387149,
                45.17683357327967
               ],
               [
                5.743109925355199,
                45.17697449198185
               ],
               [
                5.742997105023786,
                45.177374587798326
               ],
               [
                5.743869433640536,
                45.17770631914758
               ],
               [
                5.746683085478719,
                45.17821822398335
               ],
               [
                5.750993375081991,
                45.17880309404021
               ],
               [
                5.751188588450036,
                45.17883522125023
               ],
               [
                5.751455113382279,
                45.178401594483674
               ],
               [
                5.751534418466331,
                45.17820142754973
               ],
               [
                5.751734854439839,
                45.17766762076238
               ],
               [
                5.751830743966388,
                45.17739046289173
               ],
               [
                5.751927207179838,
                45.17720248602998
               ],
               [
                5.75203288633165,
                45.17702058854318
               ],
               [
                5.752227997526875,
                45.17671485550662
               ],
               [
                5.752268327287316,
                45.17665439737735
               ],
               [
                5.752325315465023,
                45.17657010336901
               ],
               [
                5.753051943094561,
                45.17565121774047
               ],
               [
                5.7530775068395394,
                45.17562716205944
               ],
               [
                5.753010698691478,
                45.175563940944045
               ],
               [
                5.75285078006067,
                45.17539490126763
               ],
               [
                5.752783558594815,
                45.17529745367181
               ],
               [
                5.752708882266881,
                45.175126311053496
               ],
               [
                5.75262497670658,
                45.17484547870832
               ],
               [
                5.752487833543198,
                45.17436324309558
               ],
               [
                5.752375232813248,
                45.17399122036794
               ],
               [
                5.752176851827082,
                45.17342940845853
               ],
               [
                5.751925356959299,
                45.172720247640854
               ],
               [
                5.751688968887658,
                45.17211072066633
               ],
               [
                5.751590619100129,
                45.17187258932177
               ],
               [
                5.751537117988897,
                45.17174326925744
               ],
               [
                5.751187324793038,
                45.17110680620836
               ],
               [
                5.751027281010445,
                45.170831454298934
               ],
               [
                5.750592429774298,
                45.170174562817124
               ],
               [
                5.750534996654782,
                45.170068764307
               ],
               [
                5.750489766579818,
                45.16997798129573
               ],
               [
                5.7504581889051725,
                45.169905781909115
               ],
               [
                5.750281716490633,
                45.16965876389171
               ],
               [
                5.7497245306600515,
                45.16889676976317
               ],
               [
                5.749185276619728,
                45.16906772529067
               ],
               [
                5.747152622096094,
                45.16982053560885
               ],
               [
                5.745982823801218,
                45.1710521089687
               ],
               [
                5.745621365296812,
                45.17149796821428
               ],
               [
                5.7454222425922685,
                45.17159296334036
               ],
               [
                5.745610504734675,
                45.1722613472643
               ],
               [
                5.745684967776487,
                45.17250637774378
               ],
               [
                5.745748259034815,
                45.17288682690305
               ],
               [
                5.745764389459448,
                45.17305941408046
               ],
               [
                5.745755307609932,
                45.17315964397162
               ]
              ]
             ],
             "type": "Polygon"
            },
            "id": "55",
            "properties": {},
            "type": "Feature"
           },
           {
            "bbox": [
             5.738656575714769,
             45.17035087705519,
             5.745764389459448,
             45.1746872243808
            ],
            "geometry": {
             "coordinates": [
              [
               [
                5.740349812476819,
                45.17345108751628
               ],
               [
                5.74081127528999,
                45.17356228448219
               ],
               [
                5.741714248520637,
                45.17379327166836
               ],
               [
                5.7418742144063675,
                45.17383438918101
               ],
               [
                5.7426173618394065,
                45.17402695117662
               ],
               [
                5.74304979360145,
                45.17414335741956
               ],
               [
                5.743265396149083,
                45.17420202548725
               ],
               [
                5.744191300691268,
                45.17445855724925
               ],
               [
                5.745077630455137,
                45.1746872243808
               ],
               [
                5.745148379043839,
                45.17454583539067
               ],
               [
                5.745301093010851,
                45.17423214871673
               ],
               [
                5.74572101395573,
                45.17329112681249
               ],
               [
                5.745755307609932,
                45.17315964397162
               ],
               [
                5.745764389459448,
                45.17305941408046
               ],
               [
                5.745748259034815,
                45.17288682690305
               ],
               [
                5.745684967776487,
                45.17250637774378
               ],
               [
                5.745610504734675,
                45.1722613472643
               ],
               [
                5.7454222425922685,
                45.17159296334036
               ],
               [
                5.745152281791501,
                45.17035087705519
               ],
               [
                5.744495919276796,
                45.170420179181114
               ],
               [
                5.743540609832925,
                45.17052295580005
               ],
               [
                5.740392770783605,
                45.17084897128675
               ],
               [
                5.739887804388122,
                45.17070730797596
               ],
               [
                5.739646192376887,
                45.17115651061303
               ],
               [
                5.739056623255667,
                45.17235393908944
               ],
               [
                5.738784945729419,
                45.17294352584676
               ],
               [
                5.738699674853393,
                45.17312671079621
               ],
               [
                5.738656575714769,
                45.173208854586534
               ],
               [
                5.738823552948864,
                45.17323719091073
               ],
               [
                5.7402288545744975,
                45.17342612817687
               ],
               [
                5.740349812476819,
                45.17345108751628
               ]
              ]
             ],
             "type": "Polygon"
            },
            "id": "56",
            "properties": {},
            "type": "Feature"
           },
           {
            "bbox": [
             5.739887804388122,
             45.16637418205624,
             5.745152281791501,
             45.17084897128675
            ],
            "geometry": {
             "coordinates": [
              [
               [
                5.743948546515664,
                45.16811998255438
               ],
               [
                5.7430221814084055,
                45.16637418205624
               ],
               [
                5.741619777589565,
                45.16670776752614
               ],
               [
                5.74186716759531,
                45.1666881741744
               ],
               [
                5.741594707783399,
                45.16726066947129
               ],
               [
                5.741272437281343,
                45.1679082661807
               ],
               [
                5.741040504241011,
                45.1683725505794
               ],
               [
                5.74067122319155,
                45.169100584341756
               ],
               [
                5.740318505793835,
                45.16980298322462
               ],
               [
                5.739969736983673,
                45.170534114520976
               ],
               [
                5.739932481065316,
                45.1706314316212
               ],
               [
                5.739887804388122,
                45.17070730797596
               ],
               [
                5.740392770783605,
                45.17084897128675
               ],
               [
                5.743540609832925,
                45.17052295580005
               ],
               [
                5.744495919276796,
                45.170420179181114
               ],
               [
                5.745152281791501,
                45.17035087705519
               ],
               [
                5.745117912524826,
                45.17019585686404
               ],
               [
                5.744785207256715,
                45.16930939036189
               ],
               [
                5.744152873386556,
                45.168338394981035
               ],
               [
                5.743948546515664,
                45.16811998255438
               ]
              ]
             ],
             "type": "Polygon"
            },
            "id": "57",
            "properties": {},
            "type": "Feature"
           },
           {
            "bbox": [
             5.731817751253065,
             45.16882616523848,
             5.739932481065316,
             45.173208854586534
            ],
            "geometry": {
             "coordinates": [
              [
               [
                5.737958250246611,
                45.17016364335863
               ],
               [
                5.7350713385724825,
                45.16944610784809
               ],
               [
                5.733517271514107,
                45.169051732097564
               ],
               [
                5.732903239513259,
                45.168892888932284
               ],
               [
                5.732867223728536,
                45.16888566246237
               ],
               [
                5.732661570424139,
                45.1688474534086
               ],
               [
                5.732621738341341,
                45.16884032032289
               ],
               [
                5.732353580354255,
                45.16882616523848
               ],
               [
                5.732182108430947,
                45.16883576973141
               ],
               [
                5.732070690281857,
                45.16884930927977
               ],
               [
                5.7320238860287365,
                45.16885586098223
               ],
               [
                5.731937474668194,
                45.16888590621126
               ],
               [
                5.73197652846831,
                45.16895522431524
               ],
               [
                5.73200317719219,
                45.17074926955097
               ],
               [
                5.731935204904597,
                45.17256184927584
               ],
               [
                5.731920099049042,
                45.172721687814985
               ],
               [
                5.731847164847845,
                45.173079349882975
               ],
               [
                5.731817751253065,
                45.173207104366085
               ],
               [
                5.7319260220023445,
                45.17320715662469
               ],
               [
                5.732095447350953,
                45.173207513439266
               ],
               [
                5.7323297558803326,
                45.17320628132903
               ],
               [
                5.734190008995983,
                45.17319225026278
               ],
               [
                5.738370540070185,
                45.17319425118786
               ],
               [
                5.738551900902034,
                45.17320421582736
               ],
               [
                5.738656575714769,
                45.173208854586534
               ],
               [
                5.738699674853393,
                45.17312671079621
               ],
               [
                5.738784945729419,
                45.17294352584676
               ],
               [
                5.739056623255667,
                45.17235393908944
               ],
               [
                5.739646192376887,
                45.17115651061303
               ],
               [
                5.739887804388122,
                45.17070730797596
               ],
               [
                5.739932481065316,
                45.1706314316212
               ],
               [
                5.73973672880085,
                45.17058758645833
               ],
               [
                5.737958250246611,
                45.17016364335863
               ]
              ]
             ],
             "type": "Polygon"
            },
            "id": "58",
            "properties": {},
            "type": "Feature"
           },
           {
            "bbox": [
             5.731880114223879,
             45.165659397602425,
             5.74186716759531,
             45.1706314316212
            ],
            "geometry": {
             "coordinates": [
              [
               [
                5.737034686007589,
                45.16654914845592
               ],
               [
                5.736189966643764,
                45.16664644763364
               ],
               [
                5.734806466858827,
                45.16661279484736
               ],
               [
                5.734100110845748,
                45.16659677042611
               ],
               [
                5.733952242564432,
                45.16659408703456
               ],
               [
                5.733695984199065,
                45.16658865339064
               ],
               [
                5.733269836068907,
                45.166572965777
               ],
               [
                5.7329729157490545,
                45.16656942750336
               ],
               [
                5.732589318702607,
                45.16656440742549
               ],
               [
                5.732100052027769,
                45.166560171619906
               ],
               [
                5.731951272481015,
                45.1668512182454
               ],
               [
                5.731880114223879,
                45.16849449535604
               ],
               [
                5.731895794787336,
                45.16860673048641
               ],
               [
                5.731937474668194,
                45.16888590621126
               ],
               [
                5.7320238860287365,
                45.16885586098223
               ],
               [
                5.732070690281857,
                45.16884930927977
               ],
               [
                5.732182108430947,
                45.16883576973141
               ],
               [
                5.732353580354255,
                45.16882616523848
               ],
               [
                5.732621738341341,
                45.16884032032289
               ],
               [
                5.732661570424139,
                45.1688474534086
               ],
               [
                5.732867223728536,
                45.16888566246237
               ],
               [
                5.732903239513259,
                45.168892888932284
               ],
               [
                5.733517271514107,
                45.169051732097564
               ],
               [
                5.7350713385724825,
                45.16944610784809
               ],
               [
                5.737958250246611,
                45.17016364335863
               ],
               [
                5.73973672880085,
                45.17058758645833
               ],
               [
                5.739932481065316,
                45.1706314316212
               ],
               [
                5.739969736983673,
                45.170534114520976
               ],
               [
                5.740318505793835,
                45.16980298322462
               ],
               [
                5.74067122319155,
                45.169100584341756
               ],
               [
                5.741040504241011,
                45.1683725505794
               ],
               [
                5.741272437281343,
                45.1679082661807
               ],
               [
                5.741594707783399,
                45.16726066947129
               ],
               [
                5.74186716759531,
                45.1666881741744
               ],
               [
                5.741619777589565,
                45.16670776752614
               ],
               [
                5.741239589667737,
                45.1667981946675
               ],
               [
                5.740799062247089,
                45.165659397602425
               ],
               [
                5.740724718444048,
                45.16567563908529
               ],
               [
                5.740655948621938,
                45.165701654110066
               ],
               [
                5.739937038327616,
                45.165896798705276
               ],
               [
                5.737873424164758,
                45.166407842822956
               ],
               [
                5.737034686007589,
                45.16654914845592
               ]
              ]
             ],
             "type": "Polygon"
            },
            "id": "59",
            "properties": {},
            "type": "Feature"
           },
           {
            "bbox": [
             5.73063175639403,
             45.16204007968051,
             5.735947680242706,
             45.16540731333102
            ],
            "geometry": {
             "coordinates": [
              [
               [
                5.735356025901971,
                45.16418206649991
               ],
               [
                5.735947680242706,
                45.16310533618895
               ],
               [
                5.735643616867319,
                45.162877643415605
               ],
               [
                5.735289369506605,
                45.16261334022779
               ],
               [
                5.734120703696611,
                45.16212754209166
               ],
               [
                5.734013268615456,
                45.16204007968051
               ],
               [
                5.733565906298127,
                45.1623447517697
               ],
               [
                5.731044785512895,
                45.16276957669503
               ],
               [
                5.730891703285749,
                45.162738186707486
               ],
               [
                5.730656998583272,
                45.162730417060075
               ],
               [
                5.730643213541813,
                45.16320375356393
               ],
               [
                5.73063175639403,
                45.16369865595904
               ],
               [
                5.7306321457603575,
                45.16394100221453
               ],
               [
                5.730710794471702,
                45.163960700151016
               ],
               [
                5.732395769039691,
                45.16508167566421
               ],
               [
                5.732964348138665,
                45.16540560705818
               ],
               [
                5.7329682523504255,
                45.16540731333102
               ],
               [
                5.734228865202625,
                45.165272818638606
               ],
               [
                5.734230874673948,
                45.16523583033858
               ],
               [
                5.734248228217168,
                45.164966020256315
               ],
               [
                5.734676212920489,
                45.16462938632467
               ],
               [
                5.7352235351389025,
                45.16425919274346
               ],
               [
                5.735356025901971,
                45.16418206649991
               ]
              ]
             ],
             "type": "Polygon"
            },
            "id": "60",
            "properties": {},
            "type": "Feature"
           },
           {
            "bbox": [
             5.730656998583272,
             45.159176708846616,
             5.740306328456158,
             45.163332888755306
            ],
            "geometry": {
             "coordinates": [
              [
               [
                5.737883800542939,
                45.1604117416407
               ],
               [
                5.7378747733328055,
                45.16059125283024
               ],
               [
                5.737866091489757,
                45.160751835534654
               ],
               [
                5.737847632191602,
                45.16107663165474
               ],
               [
                5.7378205619292615,
                45.161199825587246
               ],
               [
                5.737770236096707,
                45.16129025492388
               ],
               [
                5.737327936692062,
                45.16156778985739
               ],
               [
                5.7366668676538195,
                45.16156508735464
               ],
               [
                5.736651875799649,
                45.161596988440536
               ],
               [
                5.736581180064435,
                45.16179152641855
               ],
               [
                5.736568163088271,
                45.161993659134765
               ],
               [
                5.736552416169007,
                45.16232199222092
               ],
               [
                5.736563856175165,
                45.162789306203905
               ],
               [
                5.737204933689174,
                45.16277358011983
               ],
               [
                5.738181999142371,
                45.162935201367674
               ],
               [
                5.740148716053463,
                45.163332888755306
               ],
               [
                5.740306328456158,
                45.16324883276446
               ],
               [
                5.7402943947993705,
                45.1632392153684
               ],
               [
                5.740148084148858,
                45.16287882321302
               ],
               [
                5.739846401243135,
                45.161246495562544
               ],
               [
                5.739918317810082,
                45.16066181221214
               ],
               [
                5.7397930983097885,
                45.15984862328737
               ],
               [
                5.739329154627579,
                45.15971045760621
               ],
               [
                5.739308583391814,
                45.159706457942555
               ],
               [
                5.739285424202061,
                45.15970162086529
               ],
               [
                5.739010455283606,
                45.15965161193775
               ],
               [
                5.738650834976004,
                45.15958926514337
               ],
               [
                5.738058750569382,
                45.15948667413987
               ],
               [
                5.737504259280653,
                45.15939757285004
               ],
               [
                5.73713385678138,
                45.159349000110645
               ],
               [
                5.7367814379292765,
                45.159303588807134
               ],
               [
                5.736691787530283,
                45.15929317467841
               ],
               [
                5.736188888471943,
                45.15924334420675
               ],
               [
                5.73565945677934,
                45.15919776591632
               ],
               [
                5.73530568636115,
                45.159176708846616
               ],
               [
                5.732723535939858,
                45.15936612144959
               ],
               [
                5.730919784926572,
                45.15958867758579
               ],
               [
                5.73069576246327,
                45.161023068077306
               ],
               [
                5.730763064445165,
                45.16114935572728
               ],
               [
                5.730780831892264,
                45.1611741474515
               ],
               [
                5.7307359911112385,
                45.16135093031907
               ],
               [
                5.7307288916620545,
                45.161388043052625
               ],
               [
                5.730708077309492,
                45.1615092798596
               ],
               [
                5.730694335074186,
                45.16169701390243
               ],
               [
                5.730662537272782,
                45.16253117141027
               ],
               [
                5.730656998583272,
                45.162730417060075
               ],
               [
                5.730891703285749,
                45.162738186707486
               ],
               [
                5.731044785512895,
                45.16276957669503
               ],
               [
                5.733565906298127,
                45.1623447517697
               ],
               [
                5.734013268615456,
                45.16204007968051
               ],
               [
                5.73378681965812,
                45.16186273544229
               ],
               [
                5.733725578174179,
                45.16180837704073
               ],
               [
                5.7329367522060215,
                45.160990718944944
               ],
               [
                5.7328020458636475,
                45.160710219039224
               ],
               [
                5.7328047297421305,
                45.16053086403577
               ],
               [
                5.732882198209802,
                45.16037039902564
               ],
               [
                5.733012392857904,
                45.160246482276186
               ],
               [
                5.734136535146924,
                45.1601360508704
               ],
               [
                5.735194338030501,
                45.16012724014208
               ],
               [
                5.736590976844387,
                45.16019840185199
               ],
               [
                5.737297877472856,
                45.1602531361262
               ],
               [
                5.7374667415614855,
                45.160268813793735
               ],
               [
                5.737593455862116,
                45.16028192168235
               ],
               [
                5.737886887785723,
                45.16031886771643
               ],
               [
                5.737883800542939,
                45.1604117416407
               ]
              ]
             ],
             "type": "Polygon"
            },
            "id": "61",
            "properties": {},
            "type": "Feature"
           },
           {
            "bbox": [
             5.733952242564432,
             45.16273599270045,
             5.74138673144672,
             45.16664644763364
            ],
            "geometry": {
             "coordinates": [
              [
               [
                5.735939049503737,
                45.16279922388454
               ],
               [
                5.735872276094584,
                45.16273599270045
               ],
               [
                5.735643616867319,
                45.162877643415605
               ],
               [
                5.735947680242706,
                45.16310533618895
               ],
               [
                5.735356025901971,
                45.16418206649991
               ],
               [
                5.7352235351389025,
                45.16425919274346
               ],
               [
                5.734676212920489,
                45.16462938632467
               ],
               [
                5.734248228217168,
                45.164966020256315
               ],
               [
                5.734230874673948,
                45.16523583033858
               ],
               [
                5.734228865202625,
                45.165272818638606
               ],
               [
                5.7341999948635,
                45.16582761200064
               ],
               [
                5.7342197424096515,
                45.165866769998495
               ],
               [
                5.734238652747789,
                45.165888830408335
               ],
               [
                5.733952242564432,
                45.16659408703456
               ],
               [
                5.734100110845748,
                45.16659677042611
               ],
               [
                5.734806466858827,
                45.16661279484736
               ],
               [
                5.736189966643764,
                45.16664644763364
               ],
               [
                5.737034686007589,
                45.16654914845592
               ],
               [
                5.737873424164758,
                45.166407842822956
               ],
               [
                5.739937038327616,
                45.165896798705276
               ],
               [
                5.740655948621938,
                45.165701654110066
               ],
               [
                5.740724718444048,
                45.16567563908529
               ],
               [
                5.740799062247089,
                45.165659397602425
               ],
               [
                5.7412257693899615,
                45.16553088974505
               ],
               [
                5.74138673144672,
                45.16522961974094
               ],
               [
                5.7411785773164175,
                45.164284226121886
               ],
               [
                5.740859538802771,
                45.16370013658082
               ],
               [
                5.740306328456158,
                45.16324883276446
               ],
               [
                5.740148716053463,
                45.163332888755306
               ],
               [
                5.738181999142371,
                45.162935201367674
               ],
               [
                5.737204933689174,
                45.16277358011983
               ],
               [
                5.736563856175165,
                45.162789306203905
               ],
               [
                5.735939049503737,
                45.16279922388454
               ]
              ]
             ],
             "type": "Polygon"
            },
            "id": "62",
            "properties": {},
            "type": "Feature"
           },
           {
            "bbox": [
             5.7328020458636475,
             45.16012724014208,
             5.737886887785723,
             45.162877643415605
            ],
            "geometry": {
             "coordinates": [
              [
               [
                5.736552416169007,
                45.16232199222092
               ],
               [
                5.736568163088271,
                45.161993659134765
               ],
               [
                5.736581180064435,
                45.16179152641855
               ],
               [
                5.736651875799649,
                45.161596988440536
               ],
               [
                5.7366668676538195,
                45.16156508735464
               ],
               [
                5.737327936692062,
                45.16156778985739
               ],
               [
                5.737770236096707,
                45.16129025492388
               ],
               [
                5.7378205619292615,
                45.161199825587246
               ],
               [
                5.737847632191602,
                45.16107663165474
               ],
               [
                5.737866091489757,
                45.160751835534654
               ],
               [
                5.7378747733328055,
                45.16059125283024
               ],
               [
                5.737883800542939,
                45.1604117416407
               ],
               [
                5.737886887785723,
                45.16031886771643
               ],
               [
                5.737593455862116,
                45.16028192168235
               ],
               [
                5.7374667415614855,
                45.160268813793735
               ],
               [
                5.737297877472856,
                45.1602531361262
               ],
               [
                5.736590976844387,
                45.16019840185199
               ],
               [
                5.735194338030501,
                45.16012724014208
               ],
               [
                5.734136535146924,
                45.1601360508704
               ],
               [
                5.733012392857904,
                45.160246482276186
               ],
               [
                5.732882198209802,
                45.16037039902564
               ],
               [
                5.7328047297421305,
                45.16053086403577
               ],
               [
                5.7328020458636475,
                45.160710219039224
               ],
               [
                5.7329367522060215,
                45.160990718944944
               ],
               [
                5.733725578174179,
                45.16180837704073
               ],
               [
                5.73378681965812,
                45.16186273544229
               ],
               [
                5.734013268615456,
                45.16204007968051
               ],
               [
                5.734120703696611,
                45.16212754209166
               ],
               [
                5.735289369506605,
                45.16261334022779
               ],
               [
                5.735643616867319,
                45.162877643415605
               ],
               [
                5.735872276094584,
                45.16273599270045
               ],
               [
                5.735939049503737,
                45.16279922388454
               ],
               [
                5.736563856175165,
                45.162789306203905
               ],
               [
                5.736552416169007,
                45.16232199222092
               ]
              ]
             ],
             "type": "Polygon"
            },
            "id": "63",
            "properties": {},
            "type": "Feature"
           },
           {
            "bbox": [
             5.720184797073317,
             45.15944814979739,
             5.731937474668194,
             45.16976171483853
            ],
            "geometry": {
             "coordinates": [
              [
               [
                5.7252670846683005,
                45.16303428521652
               ],
               [
                5.725107646572036,
                45.16302917011388
               ],
               [
                5.724974614429789,
                45.163043230720916
               ],
               [
                5.723947774606142,
                45.16217366392382
               ],
               [
                5.724010104210487,
                45.16115407110449
               ],
               [
                5.724112237663308,
                45.159697447956255
               ],
               [
                5.724149424937622,
                45.15957220918358
               ],
               [
                5.724175208749846,
                45.15944814979739
               ],
               [
                5.7237927596340885,
                45.1594917238333
               ],
               [
                5.723450835585375,
                45.15953070348135
               ],
               [
                5.722052828334146,
                45.159770238139814
               ],
               [
                5.721194061103337,
                45.1600218301208
               ],
               [
                5.720191958286651,
                45.160075999269836
               ],
               [
                5.720184797073317,
                45.160504123235654
               ],
               [
                5.720855820955085,
                45.162462635183694
               ],
               [
                5.721756514184754,
                45.16531739128561
               ],
               [
                5.722699683822088,
                45.1661421718931
               ],
               [
                5.723352049897117,
                45.16672267886965
               ],
               [
                5.723500273207506,
                45.16686321278142
               ],
               [
                5.723932663697407,
                45.16724186769648
               ],
               [
                5.725143669347228,
                45.168307851935545
               ],
               [
                5.725456452045221,
                45.16858401158696
               ],
               [
                5.725955638667651,
                45.16902589632061
               ],
               [
                5.726777412825148,
                45.16976171483853
               ],
               [
                5.73092334568143,
                45.16927021109341
               ],
               [
                5.7314806343242894,
                45.16905025229853
               ],
               [
                5.731625603311139,
                45.168993547244504
               ],
               [
                5.731808427471707,
                45.168929608545696
               ],
               [
                5.731937474668194,
                45.16888590621126
               ],
               [
                5.731915310756453,
                45.16882338219374
               ],
               [
                5.731887182568246,
                45.16876911277082
               ],
               [
                5.73183049548787,
                45.168703830167516
               ],
               [
                5.731760871924828,
                45.16866048710981
               ],
               [
                5.7316278582311275,
                45.16859707303121
               ],
               [
                5.7315178354850715,
                45.16856102550284
               ],
               [
                5.731343507379991,
                45.16853826436599
               ],
               [
                5.731089784575919,
                45.16853276245749
               ],
               [
                5.730345637986474,
                45.1685257472328
               ],
               [
                5.730101040135426,
                45.16852452455486
               ],
               [
                5.729832884303351,
                45.168510363416054
               ],
               [
                5.729628990490142,
                45.168482016283086
               ],
               [
                5.729437858409849,
                45.16842812997498
               ],
               [
                5.729279889553227,
                45.16837523408187
               ],
               [
                5.729135734815914,
                45.168292268707155
               ],
               [
                5.728996449023619,
                45.168204679320006
               ],
               [
                5.728882605771368,
                45.16811646753582
               ],
               [
                5.7287764801757755,
                45.16800374122828
               ],
               [
                5.728702685240347,
                45.16790103559967
               ],
               [
                5.728655868494418,
                45.16780307589587
               ],
               [
                5.728628877734432,
                45.16769381993468
               ],
               [
                5.72862290020924,
                45.16759756436858
               ],
               [
                5.72858500877456,
                45.16658762424335
               ],
               [
                5.728545783660604,
                45.1654200506683
               ],
               [
                5.728569480353929,
                45.16478430118901
               ],
               [
                5.728573063841072,
                45.16467519857361
               ],
               [
                5.728574684465676,
                45.16465623898572
               ],
               [
                5.728583336896688,
                45.16439024707483
               ],
               [
                5.728508852822699,
                45.163986641048304
               ],
               [
                5.727143702568722,
                45.16383171905563
               ],
               [
                5.727090014519302,
                45.163827625636216
               ],
               [
                5.726949610172442,
                45.16382114692285
               ],
               [
                5.72554609734335,
                45.16379327606013
               ],
               [
                5.725294248879205,
                45.16325165125752
               ],
               [
                5.7252670846683005,
                45.16303428521652
               ]
              ]
             ],
             "type": "Polygon"
            },
            "id": "64",
            "properties": {},
            "type": "Feature"
           },
           {
            "bbox": [
             5.7252670846683005,
             45.16110199432443,
             5.730780831892264,
             45.16467745124155
            ],
            "geometry": {
             "coordinates": [
              [
               [
                5.7252670846683005,
                45.16303428521652
               ],
               [
                5.725294248879205,
                45.16325165125752
               ],
               [
                5.72554609734335,
                45.16379327606013
               ],
               [
                5.726949610172442,
                45.16382114692285
               ],
               [
                5.727090014519302,
                45.163827625636216
               ],
               [
                5.727143702568722,
                45.16383171905563
               ],
               [
                5.728508852822699,
                45.163986641048304
               ],
               [
                5.728583336896688,
                45.16439024707483
               ],
               [
                5.728574684465676,
                45.16465623898572
               ],
               [
                5.728573063841072,
                45.16467519857361
               ],
               [
                5.72877566791696,
                45.16467745124155
               ],
               [
                5.7305327101323185,
                45.16422543339797
               ],
               [
                5.730568913809798,
                45.16405426765275
               ],
               [
                5.7306321457603575,
                45.16394100221453
               ],
               [
                5.73063175639403,
                45.16369865595904
               ],
               [
                5.730643213541813,
                45.16320375356393
               ],
               [
                5.730656998583272,
                45.162730417060075
               ],
               [
                5.730662537272782,
                45.16253117141027
               ],
               [
                5.730694335074186,
                45.16169701390243
               ],
               [
                5.730708077309492,
                45.1615092798596
               ],
               [
                5.7307288916620545,
                45.161388043052625
               ],
               [
                5.7307359911112385,
                45.16135093031907
               ],
               [
                5.730780831892264,
                45.1611741474515
               ],
               [
                5.730706887186003,
                45.16119848110458
               ],
               [
                5.730573944697702,
                45.161188220668
               ],
               [
                5.730208320109404,
                45.16115932874591
               ],
               [
                5.72964308840804,
                45.16113712139417
               ],
               [
                5.72890688872805,
                45.1611082817804
               ],
               [
                5.728721928940094,
                45.16110199432443
               ],
               [
                5.728718264531858,
                45.16126155202292
               ],
               [
                5.728715381856537,
                45.16135892508385
               ],
               [
                5.72871432976749,
                45.16136345556391
               ],
               [
                5.728339408714141,
                45.161352803875815
               ],
               [
                5.72817984324416,
                45.16134499354088
               ],
               [
                5.728059576421257,
                45.1613335192006
               ],
               [
                5.7272522284833745,
                45.16125595519032
               ],
               [
                5.726189935956356,
                45.161903572398224
               ],
               [
                5.725277164550061,
                45.162901599559056
               ],
               [
                5.7252670846683005,
                45.16303428521652
               ]
              ]
             ],
             "type": "Polygon"
            },
            "id": "65",
            "properties": {},
            "type": "Feature"
           },
           {
            "bbox": [
             5.723947774606142,
             45.15916862049732,
             5.728793002607071,
             45.163043230720916
            ],
            "geometry": {
             "coordinates": [
              [
               [
                5.728339408714141,
                45.161352803875815
               ],
               [
                5.72871432976749,
                45.16136345556391
               ],
               [
                5.728715381856537,
                45.16135892508385
               ],
               [
                5.728718264531858,
                45.16126155202292
               ],
               [
                5.728721928940094,
                45.16110199432443
               ],
               [
                5.728725630789068,
                45.16089108159308
               ],
               [
                5.728731037752293,
                45.160636881592424
               ],
               [
                5.728750663783267,
                45.160100336667554
               ],
               [
                5.728785434869365,
                45.159326471709996
               ],
               [
                5.728787271842791,
                45.15928588406426
               ],
               [
                5.728793002607071,
                45.15916862049732
               ],
               [
                5.72796337089193,
                45.15918170234718
               ],
               [
                5.7261367860724315,
                45.1592236486075
               ],
               [
                5.724793178565375,
                45.159377199654074
               ],
               [
                5.724175208749846,
                45.15944814979739
               ],
               [
                5.724149424937622,
                45.15957220918358
               ],
               [
                5.724112237663308,
                45.159697447956255
               ],
               [
                5.724010104210487,
                45.16115407110449
               ],
               [
                5.723947774606142,
                45.16217366392382
               ],
               [
                5.724974614429789,
                45.163043230720916
               ],
               [
                5.725107646572036,
                45.16302917011388
               ],
               [
                5.7252670846683005,
                45.16303428521652
               ],
               [
                5.725277164550061,
                45.162901599559056
               ],
               [
                5.726189935956356,
                45.161903572398224
               ],
               [
                5.7272522284833745,
                45.16125595519032
               ],
               [
                5.728059576421257,
                45.1613335192006
               ],
               [
                5.72817984324416,
                45.16134499354088
               ],
               [
                5.728339408714141,
                45.161352803875815
               ]
              ]
             ],
             "type": "Polygon"
            },
            "id": "66",
            "properties": {},
            "type": "Feature"
           }
          ],
          "type": "FeatureCollection"
         },
         "hovertemplate": "index=%{location}<br>Taux de pauvreté=%{z}<extra></extra>",
         "locations": [
          0,
          1,
          2,
          3,
          4,
          5,
          6,
          7,
          8,
          9,
          10,
          11,
          12,
          13,
          14,
          15,
          16,
          17,
          18,
          19,
          20,
          21,
          22,
          23,
          24,
          25,
          26,
          27,
          28,
          29,
          30,
          31,
          32,
          33,
          34,
          35,
          36,
          37,
          38,
          39,
          40,
          41,
          42,
          43,
          44,
          45,
          46,
          47,
          48,
          49,
          50,
          51,
          52,
          53,
          54,
          55,
          56,
          57,
          58,
          59,
          60,
          61,
          62,
          63,
          64,
          65,
          66
         ],
         "marker": {
          "opacity": 0.5
         },
         "name": "",
         "subplot": "mapbox",
         "type": "choroplethmapbox",
         "z": [
          18,
          16.7,
          12.1,
          null,
          22.6,
          16.7,
          17.9,
          17.1,
          19,
          11.8,
          null,
          26,
          null,
          10.5,
          17.7,
          13.4,
          30.9,
          null,
          12,
          10.1,
          11.7,
          9.9,
          11.6,
          12.4,
          11.9,
          23.8,
          12.4,
          19.8,
          14,
          13.9,
          13.4,
          13.9,
          12.9,
          16,
          null,
          16.3,
          20.5,
          14.6,
          15.2,
          13.4,
          13.4,
          null,
          null,
          24.9,
          9.7,
          15,
          10.8,
          14.8,
          24.3,
          14,
          12.8,
          23.2,
          14.7,
          25.4,
          41.1,
          22.7,
          33,
          39.9,
          21.5,
          11.5,
          53.1,
          36.3,
          17.8,
          31.3,
          25.5,
          44.6,
          47.7
         ]
        }
       ],
       "layout": {
        "coloraxis": {
         "cmax": 100,
         "cmin": 0,
         "colorbar": {
          "title": {
           "text": "Taux de pauvreté"
          }
         },
         "colorscale": [
          [
           0,
           "rgb(255,255,204)"
          ],
          [
           0.125,
           "rgb(255,237,160)"
          ],
          [
           0.25,
           "rgb(254,217,118)"
          ],
          [
           0.375,
           "rgb(254,178,76)"
          ],
          [
           0.5,
           "rgb(253,141,60)"
          ],
          [
           0.625,
           "rgb(252,78,42)"
          ],
          [
           0.75,
           "rgb(227,26,28)"
          ],
          [
           0.875,
           "rgb(189,0,38)"
          ],
          [
           1,
           "rgb(128,0,38)"
          ]
         ]
        },
        "legend": {
         "tracegroupgap": 0
        },
        "mapbox": {
         "center": {
          "lat": 45.18,
          "lon": 5.7
         },
         "domain": {
          "x": [
           0,
           1
          ],
          "y": [
           0,
           1
          ]
         },
         "style": "carto-positron",
         "zoom": 11
        },
        "margin": {
         "t": 60
        },
        "template": {
         "data": {
          "bar": [
           {
            "error_x": {
             "color": "#2a3f5f"
            },
            "error_y": {
             "color": "#2a3f5f"
            },
            "marker": {
             "line": {
              "color": "#E5ECF6",
              "width": 0.5
             },
             "pattern": {
              "fillmode": "overlay",
              "size": 10,
              "solidity": 0.2
             }
            },
            "type": "bar"
           }
          ],
          "barpolar": [
           {
            "marker": {
             "line": {
              "color": "#E5ECF6",
              "width": 0.5
             },
             "pattern": {
              "fillmode": "overlay",
              "size": 10,
              "solidity": 0.2
             }
            },
            "type": "barpolar"
           }
          ],
          "carpet": [
           {
            "aaxis": {
             "endlinecolor": "#2a3f5f",
             "gridcolor": "white",
             "linecolor": "white",
             "minorgridcolor": "white",
             "startlinecolor": "#2a3f5f"
            },
            "baxis": {
             "endlinecolor": "#2a3f5f",
             "gridcolor": "white",
             "linecolor": "white",
             "minorgridcolor": "white",
             "startlinecolor": "#2a3f5f"
            },
            "type": "carpet"
           }
          ],
          "choropleth": [
           {
            "colorbar": {
             "outlinewidth": 0,
             "ticks": ""
            },
            "type": "choropleth"
           }
          ],
          "contour": [
           {
            "colorbar": {
             "outlinewidth": 0,
             "ticks": ""
            },
            "colorscale": [
             [
              0,
              "#0d0887"
             ],
             [
              0.1111111111111111,
              "#46039f"
             ],
             [
              0.2222222222222222,
              "#7201a8"
             ],
             [
              0.3333333333333333,
              "#9c179e"
             ],
             [
              0.4444444444444444,
              "#bd3786"
             ],
             [
              0.5555555555555556,
              "#d8576b"
             ],
             [
              0.6666666666666666,
              "#ed7953"
             ],
             [
              0.7777777777777778,
              "#fb9f3a"
             ],
             [
              0.8888888888888888,
              "#fdca26"
             ],
             [
              1,
              "#f0f921"
             ]
            ],
            "type": "contour"
           }
          ],
          "contourcarpet": [
           {
            "colorbar": {
             "outlinewidth": 0,
             "ticks": ""
            },
            "type": "contourcarpet"
           }
          ],
          "heatmap": [
           {
            "colorbar": {
             "outlinewidth": 0,
             "ticks": ""
            },
            "colorscale": [
             [
              0,
              "#0d0887"
             ],
             [
              0.1111111111111111,
              "#46039f"
             ],
             [
              0.2222222222222222,
              "#7201a8"
             ],
             [
              0.3333333333333333,
              "#9c179e"
             ],
             [
              0.4444444444444444,
              "#bd3786"
             ],
             [
              0.5555555555555556,
              "#d8576b"
             ],
             [
              0.6666666666666666,
              "#ed7953"
             ],
             [
              0.7777777777777778,
              "#fb9f3a"
             ],
             [
              0.8888888888888888,
              "#fdca26"
             ],
             [
              1,
              "#f0f921"
             ]
            ],
            "type": "heatmap"
           }
          ],
          "heatmapgl": [
           {
            "colorbar": {
             "outlinewidth": 0,
             "ticks": ""
            },
            "colorscale": [
             [
              0,
              "#0d0887"
             ],
             [
              0.1111111111111111,
              "#46039f"
             ],
             [
              0.2222222222222222,
              "#7201a8"
             ],
             [
              0.3333333333333333,
              "#9c179e"
             ],
             [
              0.4444444444444444,
              "#bd3786"
             ],
             [
              0.5555555555555556,
              "#d8576b"
             ],
             [
              0.6666666666666666,
              "#ed7953"
             ],
             [
              0.7777777777777778,
              "#fb9f3a"
             ],
             [
              0.8888888888888888,
              "#fdca26"
             ],
             [
              1,
              "#f0f921"
             ]
            ],
            "type": "heatmapgl"
           }
          ],
          "histogram": [
           {
            "marker": {
             "pattern": {
              "fillmode": "overlay",
              "size": 10,
              "solidity": 0.2
             }
            },
            "type": "histogram"
           }
          ],
          "histogram2d": [
           {
            "colorbar": {
             "outlinewidth": 0,
             "ticks": ""
            },
            "colorscale": [
             [
              0,
              "#0d0887"
             ],
             [
              0.1111111111111111,
              "#46039f"
             ],
             [
              0.2222222222222222,
              "#7201a8"
             ],
             [
              0.3333333333333333,
              "#9c179e"
             ],
             [
              0.4444444444444444,
              "#bd3786"
             ],
             [
              0.5555555555555556,
              "#d8576b"
             ],
             [
              0.6666666666666666,
              "#ed7953"
             ],
             [
              0.7777777777777778,
              "#fb9f3a"
             ],
             [
              0.8888888888888888,
              "#fdca26"
             ],
             [
              1,
              "#f0f921"
             ]
            ],
            "type": "histogram2d"
           }
          ],
          "histogram2dcontour": [
           {
            "colorbar": {
             "outlinewidth": 0,
             "ticks": ""
            },
            "colorscale": [
             [
              0,
              "#0d0887"
             ],
             [
              0.1111111111111111,
              "#46039f"
             ],
             [
              0.2222222222222222,
              "#7201a8"
             ],
             [
              0.3333333333333333,
              "#9c179e"
             ],
             [
              0.4444444444444444,
              "#bd3786"
             ],
             [
              0.5555555555555556,
              "#d8576b"
             ],
             [
              0.6666666666666666,
              "#ed7953"
             ],
             [
              0.7777777777777778,
              "#fb9f3a"
             ],
             [
              0.8888888888888888,
              "#fdca26"
             ],
             [
              1,
              "#f0f921"
             ]
            ],
            "type": "histogram2dcontour"
           }
          ],
          "mesh3d": [
           {
            "colorbar": {
             "outlinewidth": 0,
             "ticks": ""
            },
            "type": "mesh3d"
           }
          ],
          "parcoords": [
           {
            "line": {
             "colorbar": {
              "outlinewidth": 0,
              "ticks": ""
             }
            },
            "type": "parcoords"
           }
          ],
          "pie": [
           {
            "automargin": true,
            "type": "pie"
           }
          ],
          "scatter": [
           {
            "fillpattern": {
             "fillmode": "overlay",
             "size": 10,
             "solidity": 0.2
            },
            "type": "scatter"
           }
          ],
          "scatter3d": [
           {
            "line": {
             "colorbar": {
              "outlinewidth": 0,
              "ticks": ""
             }
            },
            "marker": {
             "colorbar": {
              "outlinewidth": 0,
              "ticks": ""
             }
            },
            "type": "scatter3d"
           }
          ],
          "scattercarpet": [
           {
            "marker": {
             "colorbar": {
              "outlinewidth": 0,
              "ticks": ""
             }
            },
            "type": "scattercarpet"
           }
          ],
          "scattergeo": [
           {
            "marker": {
             "colorbar": {
              "outlinewidth": 0,
              "ticks": ""
             }
            },
            "type": "scattergeo"
           }
          ],
          "scattergl": [
           {
            "marker": {
             "colorbar": {
              "outlinewidth": 0,
              "ticks": ""
             }
            },
            "type": "scattergl"
           }
          ],
          "scattermapbox": [
           {
            "marker": {
             "colorbar": {
              "outlinewidth": 0,
              "ticks": ""
             }
            },
            "type": "scattermapbox"
           }
          ],
          "scatterpolar": [
           {
            "marker": {
             "colorbar": {
              "outlinewidth": 0,
              "ticks": ""
             }
            },
            "type": "scatterpolar"
           }
          ],
          "scatterpolargl": [
           {
            "marker": {
             "colorbar": {
              "outlinewidth": 0,
              "ticks": ""
             }
            },
            "type": "scatterpolargl"
           }
          ],
          "scatterternary": [
           {
            "marker": {
             "colorbar": {
              "outlinewidth": 0,
              "ticks": ""
             }
            },
            "type": "scatterternary"
           }
          ],
          "surface": [
           {
            "colorbar": {
             "outlinewidth": 0,
             "ticks": ""
            },
            "colorscale": [
             [
              0,
              "#0d0887"
             ],
             [
              0.1111111111111111,
              "#46039f"
             ],
             [
              0.2222222222222222,
              "#7201a8"
             ],
             [
              0.3333333333333333,
              "#9c179e"
             ],
             [
              0.4444444444444444,
              "#bd3786"
             ],
             [
              0.5555555555555556,
              "#d8576b"
             ],
             [
              0.6666666666666666,
              "#ed7953"
             ],
             [
              0.7777777777777778,
              "#fb9f3a"
             ],
             [
              0.8888888888888888,
              "#fdca26"
             ],
             [
              1,
              "#f0f921"
             ]
            ],
            "type": "surface"
           }
          ],
          "table": [
           {
            "cells": {
             "fill": {
              "color": "#EBF0F8"
             },
             "line": {
              "color": "white"
             }
            },
            "header": {
             "fill": {
              "color": "#C8D4E3"
             },
             "line": {
              "color": "white"
             }
            },
            "type": "table"
           }
          ]
         },
         "layout": {
          "annotationdefaults": {
           "arrowcolor": "#2a3f5f",
           "arrowhead": 0,
           "arrowwidth": 1
          },
          "autotypenumbers": "strict",
          "coloraxis": {
           "colorbar": {
            "outlinewidth": 0,
            "ticks": ""
           }
          },
          "colorscale": {
           "diverging": [
            [
             0,
             "#8e0152"
            ],
            [
             0.1,
             "#c51b7d"
            ],
            [
             0.2,
             "#de77ae"
            ],
            [
             0.3,
             "#f1b6da"
            ],
            [
             0.4,
             "#fde0ef"
            ],
            [
             0.5,
             "#f7f7f7"
            ],
            [
             0.6,
             "#e6f5d0"
            ],
            [
             0.7,
             "#b8e186"
            ],
            [
             0.8,
             "#7fbc41"
            ],
            [
             0.9,
             "#4d9221"
            ],
            [
             1,
             "#276419"
            ]
           ],
           "sequential": [
            [
             0,
             "#0d0887"
            ],
            [
             0.1111111111111111,
             "#46039f"
            ],
            [
             0.2222222222222222,
             "#7201a8"
            ],
            [
             0.3333333333333333,
             "#9c179e"
            ],
            [
             0.4444444444444444,
             "#bd3786"
            ],
            [
             0.5555555555555556,
             "#d8576b"
            ],
            [
             0.6666666666666666,
             "#ed7953"
            ],
            [
             0.7777777777777778,
             "#fb9f3a"
            ],
            [
             0.8888888888888888,
             "#fdca26"
            ],
            [
             1,
             "#f0f921"
            ]
           ],
           "sequentialminus": [
            [
             0,
             "#0d0887"
            ],
            [
             0.1111111111111111,
             "#46039f"
            ],
            [
             0.2222222222222222,
             "#7201a8"
            ],
            [
             0.3333333333333333,
             "#9c179e"
            ],
            [
             0.4444444444444444,
             "#bd3786"
            ],
            [
             0.5555555555555556,
             "#d8576b"
            ],
            [
             0.6666666666666666,
             "#ed7953"
            ],
            [
             0.7777777777777778,
             "#fb9f3a"
            ],
            [
             0.8888888888888888,
             "#fdca26"
            ],
            [
             1,
             "#f0f921"
            ]
           ]
          },
          "colorway": [
           "#636efa",
           "#EF553B",
           "#00cc96",
           "#ab63fa",
           "#FFA15A",
           "#19d3f3",
           "#FF6692",
           "#B6E880",
           "#FF97FF",
           "#FECB52"
          ],
          "font": {
           "color": "#2a3f5f"
          },
          "geo": {
           "bgcolor": "white",
           "lakecolor": "white",
           "landcolor": "#E5ECF6",
           "showlakes": true,
           "showland": true,
           "subunitcolor": "white"
          },
          "hoverlabel": {
           "align": "left"
          },
          "hovermode": "closest",
          "mapbox": {
           "style": "light"
          },
          "paper_bgcolor": "white",
          "plot_bgcolor": "#E5ECF6",
          "polar": {
           "angularaxis": {
            "gridcolor": "white",
            "linecolor": "white",
            "ticks": ""
           },
           "bgcolor": "#E5ECF6",
           "radialaxis": {
            "gridcolor": "white",
            "linecolor": "white",
            "ticks": ""
           }
          },
          "scene": {
           "xaxis": {
            "backgroundcolor": "#E5ECF6",
            "gridcolor": "white",
            "gridwidth": 2,
            "linecolor": "white",
            "showbackground": true,
            "ticks": "",
            "zerolinecolor": "white"
           },
           "yaxis": {
            "backgroundcolor": "#E5ECF6",
            "gridcolor": "white",
            "gridwidth": 2,
            "linecolor": "white",
            "showbackground": true,
            "ticks": "",
            "zerolinecolor": "white"
           },
           "zaxis": {
            "backgroundcolor": "#E5ECF6",
            "gridcolor": "white",
            "gridwidth": 2,
            "linecolor": "white",
            "showbackground": true,
            "ticks": "",
            "zerolinecolor": "white"
           }
          },
          "shapedefaults": {
           "line": {
            "color": "#2a3f5f"
           }
          },
          "ternary": {
           "aaxis": {
            "gridcolor": "white",
            "linecolor": "white",
            "ticks": ""
           },
           "baxis": {
            "gridcolor": "white",
            "linecolor": "white",
            "ticks": ""
           },
           "bgcolor": "#E5ECF6",
           "caxis": {
            "gridcolor": "white",
            "linecolor": "white",
            "ticks": ""
           }
          },
          "title": {
           "x": 0.05
          },
          "xaxis": {
           "automargin": true,
           "gridcolor": "white",
           "linecolor": "white",
           "ticks": "",
           "title": {
            "standoff": 15
           },
           "zerolinecolor": "white",
           "zerolinewidth": 2
          },
          "yaxis": {
           "automargin": true,
           "gridcolor": "white",
           "linecolor": "white",
           "ticks": "",
           "title": {
            "standoff": 15
           },
           "zerolinecolor": "white",
           "zerolinewidth": 2
          }
         }
        }
       }
      },
      "text/html": [
       "<div>                            <div id=\"a9f35b3a-2c92-483a-9700-81f92ec28059\" class=\"plotly-graph-div\" style=\"height:525px; width:100%;\"></div>            <script type=\"text/javascript\">                require([\"plotly\"], function(Plotly) {                    window.PLOTLYENV=window.PLOTLYENV || {};                                    if (document.getElementById(\"a9f35b3a-2c92-483a-9700-81f92ec28059\")) {                    Plotly.newPlot(                        \"a9f35b3a-2c92-483a-9700-81f92ec28059\",                        [{\"coloraxis\":\"coloraxis\",\"geojson\":{\"type\":\"FeatureCollection\",\"features\":[{\"id\":\"0\",\"type\":\"Feature\",\"properties\":{},\"geometry\":{\"type\":\"Polygon\",\"coordinates\":[[[5.698869586747465,45.208610482032135],[5.702105802746155,45.20750873771934],[5.703665723117503,45.20695473355787],[5.70508838346996,45.2064355656153],[5.706240432919772,45.205960778077305],[5.7068901012254125,45.205744118108804],[5.707701512365789,45.20555146146597],[5.70872397410128,45.205322145675126],[5.709353065782934,45.205180749105786],[5.709838878251429,45.205054538757096],[5.7101858053647225,45.20492899465942],[5.710482692396785,45.20479655566455],[5.710828572339831,45.204623284502894],[5.7110852129564895,45.20444947626069],[5.713140575761398,45.20297514502435],[5.7136550625746985,45.20257433122802],[5.713937726485574,45.20230708549171],[5.714478208254644,45.201733553909065],[5.71477246098081,45.20139034415979],[5.715033975361194,45.200976754486824],[5.715192810393528,45.200679181327054],[5.715273068336579,45.20046910945995],[5.715402593382187,45.2000668373932],[5.715464945323512,45.199829271366575],[5.7154712774932825,45.19972370594288],[5.715458210660125,45.199612305692604],[5.715407900263494,45.198945022916796],[5.715091613165983,45.196870616006734],[5.715087513369093,45.19628870109671],[5.715345909141919,45.195287766103775],[5.715738503631962,45.194661965403256],[5.716277705217059,45.19411638446646],[5.716826625869665,45.19371832024746],[5.71774145865564,45.1932987320095],[5.718742023458522,45.192991468931446],[5.719607361210716,45.19283795029598],[5.720384845180219,45.19231987811474],[5.72034793866445,45.192294649892965],[5.72030681876718,45.19228754338948],[5.720188549041183,45.192292227380854],[5.719952404230186,45.19230969394284],[5.715420538090458,45.1912433841881],[5.715370335995059,45.19123289303337],[5.715314514983207,45.19123785469431],[5.715022529562158,45.19180985274494],[5.714265389721206,45.19345448073336],[5.713443236787477,45.19520429267366],[5.712333806889955,45.19628806806768],[5.711466124174501,45.1978110297984],[5.711177518742077,45.19845410981442],[5.710881048197408,45.19888295383405],[5.7096341813536995,45.19866095729261],[5.709408736222284,45.19858444239955],[5.7092842309393825,45.198539713607936],[5.709252722379513,45.19852065735682],[5.709228501190746,45.19849421665682],[5.709196736435206,45.198443633376314],[5.708617242372595,45.198896456785654],[5.70805991385408,45.19930729568598],[5.707103834776407,45.20003592569273],[5.705430076249085,45.201312599023446],[5.704034018774221,45.20237800522691],[5.701691914428178,45.204172631960766],[5.699488022918192,45.20595575666328],[5.69730637158326,45.207753614023204],[5.696108492027054,45.20865375920077],[5.69598672159441,45.208744992066045],[5.69586367771223,45.208836255535786],[5.6957379568855755,45.20892488064978],[5.695608242587667,45.20900999823462],[5.695475851356392,45.20909247744202],[5.695340696254505,45.20917051846866],[5.695200144240648,45.209242382966046],[5.69505810146391,45.20930977852903],[5.694912152220506,45.209375466291945],[5.694762122658229,45.20943584665094],[5.694608143188167,45.20949361928091],[5.6944475373087275,45.209546145912206],[5.694118599311407,45.209649582982244],[5.693951323010543,45.209695963197184],[5.6937813264956105,45.20973880499516],[5.693609839422231,45.209777177756365],[5.693436861828522,45.20981108147379],[5.6932637537073365,45.20984228523025],[5.693089198570667,45.20986991983099],[5.692740044348066,45.209924288316685],[5.69256540183979,45.20995012230341],[5.692389355815124,45.209973287018585],[5.691857310787624,45.210041071772686],[5.691500038279366,45.2100857216405],[5.691143777852171,45.21012494029249],[5.6909633906067665,45.21013739602197],[5.690785940043907,45.210157889194456],[5.690608532747305,45.21017928198409],[5.690432441794033,45.21020154371752],[5.689762406569268,45.210288860004354],[5.688622552282191,45.21046586740302],[5.6883101796290525,45.2105166334112],[5.687341620909838,45.21067779126165],[5.686892791242704,45.210753459765066],[5.6853121405127816,45.21117348163295],[5.685185964568756,45.211253095903686],[5.685007271376571,45.21161867066719],[5.684984225803634,45.21174896052807],[5.685032171431559,45.21173879827039],[5.68522637008096,45.21169538810193],[5.688485802982317,45.21098720259767],[5.69071534045258,45.21064970428876],[5.69294489439289,45.210313061405],[5.695175651045029,45.209975443422714],[5.698869586747465,45.208610482032135]]]},\"bbox\":[5.684984225803634,45.19123289303337,5.720384845180219,45.21174896052807]},{\"id\":\"1\",\"type\":\"Feature\",\"properties\":{},\"geometry\":{\"type\":\"Polygon\",\"coordinates\":[[[5.703190852556995,45.19257539821455],[5.7031885251318455,45.19257995930462],[5.707757146303249,45.192358416742294],[5.7101996454696256,45.19427222086695],[5.710357100634524,45.196464912544776],[5.7098896548331926,45.197466403809315],[5.70959515152432,45.19790961165005],[5.709225012054683,45.198396097833644],[5.709196736435206,45.198443633376314],[5.709228501190746,45.19849421665682],[5.709252722379513,45.19852065735682],[5.7092842309393825,45.198539713607936],[5.709408736222284,45.19858444239955],[5.7096341813536995,45.19866095729261],[5.710881048197408,45.19888295383405],[5.711177518742077,45.19845410981442],[5.711466124174501,45.1978110297984],[5.712333806889955,45.19628806806768],[5.713443236787477,45.19520429267366],[5.714265389721206,45.19345448073336],[5.715022529562158,45.19180985274494],[5.715314514983207,45.19123785469431],[5.715370335995059,45.19123289303337],[5.715593753719393,45.19079680372181],[5.715798513744934,45.190396304926495],[5.715760976251963,45.19014855587791],[5.715749087675711,45.190113708054504],[5.715713465821486,45.190010064463436],[5.715762163611494,45.18930884129455],[5.715814271935475,45.189122878697916],[5.715784613865768,45.189063236622566],[5.715643017595995,45.18895496377293],[5.715605677617736,45.188920735153836],[5.715559301142574,45.188857895963515],[5.715592236332294,45.188644470492065],[5.715650929259324,45.18843672500274],[5.715728792229127,45.188282570076716],[5.715644933830462,45.18828731316723],[5.715573713575673,45.18828994682721],[5.71553558019201,45.188291775501476],[5.7154847968889095,45.18840022399952],[5.715254930203931,45.18852023652954],[5.715097077439506,45.188601557968184],[5.714114475780195,45.1892245860245],[5.713858439632767,45.18940919927047],[5.713041078775582,45.18999846845627],[5.711440812000885,45.19086442262644],[5.7104187891383,45.19093969640929],[5.70965331203806,45.19099792221487],[5.7079764359817835,45.19112690749539],[5.707117171031231,45.191195499499],[5.706893397095058,45.191231558332156],[5.706749799498251,45.19126567260849],[5.706586493985593,45.19131377875547],[5.706197820490078,45.19144392901127],[5.705305577507407,45.19185746800049],[5.704671399829011,45.19215393076612],[5.704390944652337,45.19225622592307],[5.704180144780392,45.19232349798435],[5.70400121311225,45.19236477120082],[5.703845895206768,45.19239375986212],[5.703641561675897,45.19241042127248],[5.703366097699477,45.19240538032352],[5.703302359608418,45.19245737684833],[5.703190852556995,45.19257539821455]]]},\"bbox\":[5.7031885251318455,45.188282570076716,5.715814271935475,45.19888295383405]},{\"id\":\"2\",\"type\":\"Feature\",\"properties\":{},\"geometry\":{\"type\":\"Polygon\",\"coordinates\":[[[5.704671399829011,45.19215393076612],[5.705305577507407,45.19185746800049],[5.706197820490078,45.19144392901127],[5.706586493985593,45.19131377875547],[5.706749799498251,45.19126567260849],[5.706893397095058,45.191231558332156],[5.707117171031231,45.191195499499],[5.7079764359817835,45.19112690749539],[5.70965331203806,45.19099792221487],[5.7104187891383,45.19093969640929],[5.711440812000885,45.19086442262644],[5.713041078775582,45.18999846845627],[5.713858439632767,45.18940919927047],[5.71288071477916,45.189268092437246],[5.711972414493251,45.18913970563468],[5.711215901474725,45.18904095995273],[5.706412642237184,45.188858409390846],[5.705874598225508,45.18887685928795],[5.704819611966716,45.18892855602528],[5.703339437765568,45.189013965587186],[5.702664290507216,45.18906905528128],[5.7016257166190805,45.189223031993265],[5.7016308552258685,45.18969770549556],[5.7017296666341695,45.19242337565474],[5.701729797320195,45.19242607532787],[5.702280333093423,45.1924280656014],[5.703213812824761,45.19241807761627],[5.703366097699477,45.19240538032352],[5.703641561675897,45.19241042127248],[5.703845895206768,45.19239375986212],[5.70400121311225,45.19236477120082],[5.704180144780392,45.19232349798435],[5.704390944652337,45.19225622592307],[5.704671399829011,45.19215393076612]]]},\"bbox\":[5.7016257166190805,45.188858409390846,5.713858439632767,45.1924280656014]},{\"id\":\"3\",\"type\":\"Feature\",\"properties\":{},\"geometry\":{\"type\":\"Polygon\",\"coordinates\":[[[5.7203094134,45.19207936011034],[5.720193962877517,45.19172359441769],[5.72012528988951,45.19151714784856],[5.720083515884498,45.19139203245874],[5.720042092916678,45.19127411612597],[5.719926380916868,45.19096520618831],[5.719758889162065,45.19061341116159],[5.7195386188642985,45.18998901246153],[5.71938302878988,45.18954142622939],[5.718925372767511,45.18961474044746],[5.717743115021433,45.189800297162826],[5.716608872684068,45.18982069960638],[5.716527703363804,45.189671315306114],[5.716185273033802,45.18936341474183],[5.715950874329229,45.1891546920877],[5.715814271935475,45.189122878697916],[5.715762163611494,45.18930884129455],[5.715713465821486,45.190010064463436],[5.715749087675711,45.190113708054504],[5.715760976251963,45.19014855587791],[5.715798513744934,45.190396304926495],[5.715593753719393,45.19079680372181],[5.715370335995059,45.19123289303337],[5.715420538090458,45.1912433841881],[5.719952404230186,45.19230969394284],[5.720188549041183,45.192292227380854],[5.72030681876718,45.19228754338948],[5.72034793866445,45.192294649892965],[5.720327489041451,45.19226721871001],[5.720320643939927,45.19223134741682],[5.72033732143298,45.19218138860082],[5.720330388612494,45.192143717541505],[5.7203094134,45.19207936011034]]]},\"bbox\":[5.715370335995059,45.189122878697916,5.72034793866445,45.19230969394284]},{\"id\":\"4\",\"type\":\"Feature\",\"properties\":{},\"geometry\":{\"type\":\"Polygon\",\"coordinates\":[[[5.7093027000225325,45.18737110866366],[5.708245331263784,45.187425599186554],[5.7074066222051,45.18747027138555],[5.706329106923138,45.18752973707034],[5.705848820785069,45.187556697141055],[5.705877184502877,45.18811549705773],[5.705901963096138,45.18878429940309],[5.705874598225508,45.18887685928795],[5.706412642237184,45.188858409390846],[5.711215901474725,45.18904095995273],[5.711972414493251,45.18913970563468],[5.71288071477916,45.189268092437246],[5.713858439632767,45.18940919927047],[5.714114475780195,45.1892245860245],[5.715097077439506,45.188601557968184],[5.715254930203931,45.18852023652954],[5.7154847968889095,45.18840022399952],[5.71553558019201,45.188291775501476],[5.715494901661308,45.18829366608069],[5.715372822274011,45.18829843784447],[5.712591511600289,45.18777414010605],[5.712503861617535,45.1873600318915],[5.711565368352845,45.187422476405935],[5.710302889230153,45.18731979840749],[5.7093027000225325,45.18737110866366]]]},\"bbox\":[5.705848820785069,45.18731979840749,5.71553558019201,45.18940919927047]},{\"id\":\"5\",\"type\":\"Feature\",\"properties\":{},\"geometry\":{\"type\":\"Polygon\",\"coordinates\":[[[5.715728792229127,45.188282570076716],[5.715650929259324,45.18843672500274],[5.715592236332294,45.188644470492065],[5.715559301142574,45.188857895963515],[5.715605677617736,45.188920735153836],[5.715643017595995,45.18895496377293],[5.715784613865768,45.189063236622566],[5.715814271935475,45.189122878697916],[5.715950874329229,45.1891546920877],[5.716185273033802,45.18936341474183],[5.716527703363804,45.189671315306114],[5.716608872684068,45.18982069960638],[5.717743115021433,45.189800297162826],[5.718925372767511,45.18961474044746],[5.71938302878988,45.18954142622939],[5.719239990546089,45.18911605789915],[5.718907280558949,45.18814482848188],[5.718873014333088,45.18804295471337],[5.718766004236198,45.18772932739655],[5.718180477036852,45.185987634904606],[5.718141782413406,45.18587325556338],[5.718026312963766,45.18554271584285],[5.717848636621313,45.185033500792706],[5.717697371401963,45.184621846063465],[5.717667452752608,45.18453067765176],[5.717638719059887,45.184437678484116],[5.717544543449565,45.18459673679657],[5.7171288022754565,45.18553033208012],[5.717079384697032,45.18564055002602],[5.716953558802256,45.185908492258264],[5.716769755671482,45.18629406807961],[5.716332489520133,45.18720475934023],[5.716109622710674,45.18759939316309],[5.715913224850774,45.18788346656472],[5.71584524251431,45.18797881947489],[5.715732084531486,45.18827167857491],[5.715728792229127,45.188282570076716]]]},\"bbox\":[5.715559301142574,45.184437678484116,5.71938302878988,45.18982069960638]},{\"id\":\"6\",\"type\":\"Feature\",\"properties\":{},\"geometry\":{\"type\":\"Polygon\",\"coordinates\":[[[5.705680231134098,45.184657036123994],[5.70575522414113,45.18602015060995],[5.705792530060873,45.186605761916894],[5.705820814085212,45.18697896878283],[5.705848820785069,45.187556697141055],[5.706329106923138,45.18752973707034],[5.7074066222051,45.18747027138555],[5.708245331263784,45.187425599186554],[5.7093027000225325,45.18737110866366],[5.710302889230153,45.18731979840749],[5.711565368352845,45.187422476405935],[5.712503861617535,45.1873600318915],[5.712470232838877,45.18719237173902],[5.712185791650278,45.185691096268954],[5.711886278954718,45.1856362084091],[5.711451462671817,45.18547108732256],[5.710796831732865,45.185213100197934],[5.710081531032336,45.18491243611277],[5.710026819100172,45.184887637082085],[5.709824557985872,45.18478893895397],[5.709559869465335,45.18463769918484],[5.709283779495555,45.18446150907732],[5.709140448680011,45.18436948782701],[5.707838916581417,45.18403799048273],[5.706923015597119,45.18414489633304],[5.7056614672959896,45.184296211919374],[5.705680231134098,45.184657036123994]]]},\"bbox\":[5.7056614672959896,45.18403799048273,5.712503861617535,45.187556697141055]},{\"id\":\"7\",\"type\":\"Feature\",\"properties\":{},\"geometry\":{\"type\":\"Polygon\",\"coordinates\":[[[5.716769755671482,45.18629406807961],[5.716953558802256,45.185908492258264],[5.717079384697032,45.18564055002602],[5.7171288022754565,45.18553033208012],[5.717544543449565,45.18459673679657],[5.717638719059887,45.184437678484116],[5.717503035350581,45.18400582333294],[5.71725132416398,45.183231729227536],[5.717160738511098,45.18296725350992],[5.716641141498137,45.183442088951274],[5.714335209058036,45.18391262834159],[5.712946246914112,45.18416803156632],[5.711852380872206,45.18428290743779],[5.711914686442229,45.18454266842951],[5.712030838149554,45.18501915044606],[5.712185791650278,45.185691096268954],[5.712470232838877,45.18719237173902],[5.712503861617535,45.1873600318915],[5.712591511600289,45.18777414010605],[5.715372822274011,45.18829843784447],[5.715494901661308,45.18829366608069],[5.71553558019201,45.188291775501476],[5.715573713575673,45.18828994682721],[5.715644933830462,45.18828731316723],[5.715728792229127,45.188282570076716],[5.715732084531486,45.18827167857491],[5.71584524251431,45.18797881947489],[5.715913224850774,45.18788346656472],[5.716109622710674,45.18759939316309],[5.716332489520133,45.18720475934023],[5.716769755671482,45.18629406807961]]]},\"bbox\":[5.711852380872206,45.18296725350992,5.717638719059887,45.18829843784447]},{\"id\":\"8\",\"type\":\"Feature\",\"properties\":{},\"geometry\":{\"type\":\"Polygon\",\"coordinates\":[[[5.705635201348825,45.18378060703983],[5.7056614672959896,45.184296211919374],[5.706923015597119,45.18414489633304],[5.707838916581417,45.18403799048273],[5.709140448680011,45.18436948782701],[5.709283779495555,45.18446150907732],[5.709559869465335,45.18463769918484],[5.709824557985872,45.18478893895397],[5.710026819100172,45.184887637082085],[5.710081531032336,45.18491243611277],[5.710796831732865,45.185213100197934],[5.711451462671817,45.18547108732256],[5.711886278954718,45.1856362084091],[5.712185791650278,45.185691096268954],[5.712030838149554,45.18501915044606],[5.711914686442229,45.18454266842951],[5.711852380872206,45.18428290743779],[5.71175571275195,45.18381406053982],[5.711644184353957,45.18327530078772],[5.711512983404919,45.18259376837076],[5.711345186467404,45.18170951101047],[5.710371830312528,45.181707926469414],[5.708300669768681,45.18176541241842],[5.707740845187833,45.181779896752246],[5.707502901103173,45.18178566929231],[5.706826674162731,45.18179035954242],[5.7061918628572466,45.181808456606376],[5.705527036189595,45.18183808900212],[5.705534166276793,45.18206405328881],[5.705586558556531,45.18296102526101],[5.705635201348825,45.18378060703983]]]},\"bbox\":[5.705527036189595,45.181707926469414,5.712185791650278,45.185691096268954]},{\"id\":\"9\",\"type\":\"Feature\",\"properties\":{},\"geometry\":{\"type\":\"Polygon\",\"coordinates\":[[[5.711345186467404,45.18170951101047],[5.711512983404919,45.18259376837076],[5.711644184353957,45.18327530078772],[5.71175571275195,45.18381406053982],[5.711852380872206,45.18428290743779],[5.712946246914112,45.18416803156632],[5.714335209058036,45.18391262834159],[5.716641141498137,45.183442088951274],[5.717160738511098,45.18296725350992],[5.717096123851206,45.18276521196427],[5.716779364217822,45.18188458696849],[5.716653432352225,45.181469611993826],[5.71664238194145,45.18139960695247],[5.715796625569711,45.18137604391641],[5.715655208687805,45.18100919514702],[5.714004211186771,45.180930430586976],[5.713530634482894,45.181094206018564],[5.712175517777866,45.18112714520155],[5.711460247844534,45.18114092102356],[5.711244773213513,45.18113714625235],[5.711229183542571,45.181209600713316],[5.711345186467404,45.18170951101047]]]},\"bbox\":[5.711229183542571,45.180930430586976,5.717160738511098,45.18428290743779]},{\"id\":\"10\",\"type\":\"Feature\",\"properties\":{},\"geometry\":{\"type\":\"Polygon\",\"coordinates\":[[[5.715458210660125,45.199612305692604],[5.716024746026353,45.19965348269777],[5.716487701006545,45.199687266722776],[5.717068326675325,45.19972989753363],[5.717848479327769,45.19978748920559],[5.7219744217580795,45.19860402332263],[5.722023534132087,45.19853975905963],[5.722177279810323,45.19853060460159],[5.72256298300035,45.19854822783513],[5.7225863725277915,45.19829629106505],[5.722587250198983,45.19828816106877],[5.722998009123593,45.19814029698153],[5.723262967409669,45.19805995579311],[5.7256853251792,45.19766658554487],[5.726594256752159,45.19754348301601],[5.728379384602888,45.19670612694542],[5.728778300019671,45.1947268856293],[5.729505936148153,45.19405049746501],[5.729155829098189,45.19384823357637],[5.729083894899088,45.19381035011589],[5.728978782862083,45.19377147578255],[5.728916637728059,45.193751372038385],[5.728622240888091,45.193672076636126],[5.727021467248432,45.193299456565846],[5.725766142147887,45.1930075740244],[5.72575578495696,45.193004223105376],[5.725378057634144,45.19291434072454],[5.725138045123295,45.192852628649554],[5.724726878962966,45.19275635279993],[5.724178266187804,45.19266342978238],[5.723401102410656,45.19258689173435],[5.722135895366234,45.1924573819776],[5.7217196904890395,45.19241437437228],[5.721120047716059,45.19234610551682],[5.720847128238292,45.192314917999596],[5.7207958708451985,45.19230895971916],[5.72060681570762,45.19227302465192],[5.7206002769427995,45.192269580203465],[5.720582021044468,45.19226101560618],[5.72033732143298,45.19218138860082],[5.720320643939927,45.19223134741682],[5.720327489041451,45.19226721871001],[5.72034793866445,45.192294649892965],[5.720384845180219,45.19231987811474],[5.719607361210716,45.19283795029598],[5.718742023458522,45.192991468931446],[5.71774145865564,45.1932987320095],[5.716826625869665,45.19371832024746],[5.716277705217059,45.19411638446646],[5.715738503631962,45.194661965403256],[5.715345909141919,45.195287766103775],[5.715087513369093,45.19628870109671],[5.715091613165983,45.196870616006734],[5.715407900263494,45.198945022916796],[5.715458210660125,45.199612305692604]]]},\"bbox\":[5.715087513369093,45.19218138860082,5.729505936148153,45.19978748920559]},{\"id\":\"11\",\"type\":\"Feature\",\"properties\":{},\"geometry\":{\"type\":\"Polygon\",\"coordinates\":[[[5.73414475061994,45.20176270868878],[5.734553458015411,45.201495024417184],[5.734646056226571,45.20143419396211],[5.735125887935317,45.20090168497685],[5.735186178168406,45.20083173497089],[5.735146316678931,45.200798475043456],[5.734905611278537,45.200593547087585],[5.734814641751426,45.20047955165466],[5.734718707486197,45.20034225281342],[5.734565075360832,45.20009374717822],[5.734527489875258,45.2000288977175],[5.734396499810601,45.199748303735014],[5.734342394509369,45.19960637630918],[5.734198990224963,45.19915039911906],[5.733737813643307,45.19741022827246],[5.73373213829999,45.197346399163514],[5.733740777583794,45.1973146540469],[5.7337700456233875,45.19728780953162],[5.7338173086975415,45.19726412817825],[5.733763532695808,45.197206882716856],[5.733761819109964,45.197197915089774],[5.734003769243887,45.196960443547034],[5.734206344300884,45.19669960993032],[5.734704192188786,45.19604142785191],[5.734806629986106,45.19586953810833],[5.73470953123875,45.19578632565994],[5.733475427593508,45.19481108094866],[5.732729985488076,45.194238303118894],[5.732600585522975,45.19411984142346],[5.7325213108183375,45.19403619094812],[5.732480867958884,45.1939128487329],[5.732356251632772,45.193787962997696],[5.731747525480821,45.1931442610902],[5.7315374050428884,45.19291245111072],[5.731485564317745,45.19284254401186],[5.731461198402585,45.19278728088409],[5.731280347727013,45.192789003114996],[5.729948977660922,45.19352161366622],[5.729955088468837,45.19359444171539],[5.729869921770979,45.19370283733885],[5.729688697913344,45.19387935162762],[5.729505936148153,45.19405049746501],[5.728778300019671,45.1947268856293],[5.728379384602888,45.19670612694542],[5.726594256752159,45.19754348301601],[5.7256853251792,45.19766658554487],[5.723262967409669,45.19805995579311],[5.722998009123593,45.19814029698153],[5.722587250198983,45.19828816106877],[5.7225863725277915,45.19829629106505],[5.72256298300035,45.19854822783513],[5.722582162837488,45.19854956200788],[5.723020486167339,45.19839201610961],[5.7236937147371,45.19855668536065],[5.724508582669891,45.198777357220436],[5.72487546566674,45.198905348415835],[5.72514123642057,45.19918086051431],[5.725514905979227,45.19965645311802],[5.725183139562154,45.201134912410076],[5.724866664470764,45.201648073301556],[5.724488315967298,45.20259069732392],[5.724845033649384,45.20418028903363],[5.725295634653928,45.204612562113915],[5.7257154262737355,45.20501405221416],[5.726106690562426,45.20483151605112],[5.730059353147263,45.20299338498297],[5.733625398096186,45.20187903640294],[5.73414475061994,45.20176270868878]]]},\"bbox\":[5.72256298300035,45.19278728088409,5.735186178168406,45.20501405221416]},{\"id\":\"12\",\"type\":\"Feature\",\"properties\":{},\"geometry\":{\"type\":\"Polygon\",\"coordinates\":[[[5.718873014333088,45.18804295471337],[5.718907280558949,45.18814482848188],[5.719239990546089,45.18911605789915],[5.71938302878988,45.18954142622939],[5.7195386188642985,45.18998901246153],[5.719758889162065,45.19061341116159],[5.719926380916868,45.19096520618831],[5.720042092916678,45.19127411612597],[5.720083515884498,45.19139203245874],[5.72012528988951,45.19151714784856],[5.720193962877517,45.19172359441769],[5.7203094134,45.19207936011034],[5.720330388612494,45.192143717541505],[5.72033732143298,45.19218138860082],[5.720582021044468,45.19226101560618],[5.7206002769427995,45.192269580203465],[5.72060681570762,45.19227302465192],[5.7207958708451985,45.19230895971916],[5.720847128238292,45.192314917999596],[5.721120047716059,45.19234610551682],[5.7217196904890395,45.19241437437228],[5.721753920738832,45.19235858162299],[5.721554689443142,45.19075523811289],[5.721952536321705,45.190160819014274],[5.72273104741335,45.18901203723806],[5.723260378300808,45.18824052185001],[5.723573458359357,45.18776348650122],[5.72338463711873,45.18775818319686],[5.723090018797795,45.1877779844907],[5.72163144876246,45.18788743657233],[5.7192538179975,45.18803998500657],[5.719097248726507,45.188042898235345],[5.718938046637903,45.18804407347415],[5.718873014333088,45.18804295471337]]]},\"bbox\":[5.718873014333088,45.18775818319686,5.723573458359357,45.19241437437228]},{\"id\":\"13\",\"type\":\"Feature\",\"properties\":{},\"geometry\":{\"type\":\"Polygon\",\"coordinates\":[[[5.725325050459904,45.192324608599094],[5.725107361681605,45.19125868830775],[5.72477744365071,45.18966844961778],[5.725600586727177,45.18888704703377],[5.7263391987735766,45.1882014019059],[5.726542749411556,45.18801263530486],[5.72639850625577,45.18795489376296],[5.7256946896253,45.18791802557372],[5.724826142883596,45.187873462040585],[5.723709404977633,45.18783404739947],[5.723573458359357,45.18776348650122],[5.723260378300808,45.18824052185001],[5.72273104741335,45.18901203723806],[5.721952536321705,45.190160819014274],[5.721554689443142,45.19075523811289],[5.721753920738832,45.19235858162299],[5.7217196904890395,45.19241437437228],[5.722135895366234,45.1924573819776],[5.723401102410656,45.19258689173435],[5.724178266187804,45.19266342978238],[5.724726878962966,45.19275635279993],[5.725138045123295,45.192852628649554],[5.725322900622239,45.192332769677144],[5.725325050459904,45.192324608599094]]]},\"bbox\":[5.721554689443142,45.18776348650122,5.726542749411556,45.192852628649554]},{\"id\":\"14\",\"type\":\"Feature\",\"properties\":{},\"geometry\":{\"type\":\"Polygon\",\"coordinates\":[[[5.729016898167808,45.19056404150992],[5.729178692994765,45.19053756191862],[5.730485404537377,45.19050019996298],[5.730478584918446,45.190386846291666],[5.731114926132001,45.19005954780331],[5.731405368922956,45.18969386042801],[5.730824194842869,45.18948194018045],[5.727579134374333,45.18836301275515],[5.726542749411556,45.18801263530486],[5.7263391987735766,45.1882014019059],[5.725600586727177,45.18888704703377],[5.72477744365071,45.18966844961778],[5.725107361681605,45.19125868830775],[5.725325050459904,45.192324608599094],[5.725322900622239,45.192332769677144],[5.725138045123295,45.192852628649554],[5.725378057634144,45.19291434072454],[5.72575578495696,45.193004223105376],[5.72577763640868,45.19295593892805],[5.72819547750846,45.19085891207432],[5.729016898167808,45.19056404150992]]]},\"bbox\":[5.72477744365071,45.18801263530486,5.731405368922956,45.193004223105376]},{\"id\":\"15\",\"type\":\"Feature\",\"properties\":{},\"geometry\":{\"type\":\"Polygon\",\"coordinates\":[[[5.729869921770979,45.19370283733885],[5.729955088468837,45.19359444171539],[5.729948977660922,45.19352161366622],[5.731280347727013,45.192789003114996],[5.731461198402585,45.19278728088409],[5.7314567197839095,45.19277387611504],[5.730465643515749,45.19069528989823],[5.730485404537377,45.19050019996298],[5.729178692994765,45.19053756191862],[5.729016898167808,45.19056404150992],[5.72819547750846,45.19085891207432],[5.72577763640868,45.19295593892805],[5.72575578495696,45.193004223105376],[5.725766142147887,45.1930075740244],[5.727021467248432,45.193299456565846],[5.728622240888091,45.193672076636126],[5.728916637728059,45.193751372038385],[5.728978782862083,45.19377147578255],[5.729083894899088,45.19381035011589],[5.729155829098189,45.19384823357637],[5.729505936148153,45.19405049746501],[5.729688697913344,45.19387935162762],[5.729869921770979,45.19370283733885]]]},\"bbox\":[5.72575578495696,45.19050019996298,5.731461198402585,45.19405049746501]},{\"id\":\"16\",\"type\":\"Feature\",\"properties\":{},\"geometry\":{\"type\":\"Polygon\",\"coordinates\":[[[5.734067505308837,45.1910305764733],[5.733912657505986,45.19091273979263],[5.733832779588654,45.19086874728213],[5.732207529406319,45.190073352614355],[5.731441706211546,45.1897073865555],[5.731405368922956,45.18969386042801],[5.731114926132001,45.19005954780331],[5.730478584918446,45.190386846291666],[5.730485404537377,45.19050019996298],[5.730465643515749,45.19069528989823],[5.7314567197839095,45.19277387611504],[5.731461198402585,45.19278728088409],[5.731485564317745,45.19284254401186],[5.7315374050428884,45.19291245111072],[5.731747525480821,45.1931442610902],[5.732356251632772,45.193787962997696],[5.732480867958884,45.1939128487329],[5.732564739209455,45.193257601386094],[5.7339410357269625,45.193260842131],[5.735067643817928,45.19279718060621],[5.734852662795524,45.19210240307103],[5.734813368759352,45.19202858622105],[5.7341745612255535,45.19113516826272],[5.734067505308837,45.1910305764733]]]},\"bbox\":[5.730465643515749,45.18969386042801,5.735067643817928,45.1939128487329]},{\"id\":\"17\",\"type\":\"Feature\",\"properties\":{},\"geometry\":{\"type\":\"Polygon\",\"coordinates\":[[[5.741335807503772,45.192027168185184],[5.741333080665102,45.19163441623102],[5.741206426925514,45.19162401212089],[5.738353456751939,45.19115436105948],[5.736496140075129,45.191422445306834],[5.7349267040221195,45.191949228053694],[5.73487673037885,45.19199550033703],[5.734813368759352,45.19202858622105],[5.734852662795524,45.19210240307103],[5.735067643817928,45.19279718060621],[5.7339410357269625,45.193260842131],[5.732564739209455,45.193257601386094],[5.732480867958884,45.1939128487329],[5.7325213108183375,45.19403619094812],[5.732600585522975,45.19411984142346],[5.732729985488076,45.194238303118894],[5.733475427593508,45.19481108094866],[5.73470953123875,45.19578632565994],[5.734806629986106,45.19586953810833],[5.734918233694146,45.1958586953828],[5.737443549717328,45.19390478394139],[5.738969508887898,45.193036668260454],[5.741335807503772,45.192027168185184]]]},\"bbox\":[5.732480867958884,45.19115436105948,5.741335807503772,45.19586953810833]},{\"id\":\"18\",\"type\":\"Feature\",\"properties\":{},\"geometry\":{\"type\":\"Polygon\",\"coordinates\":[[[5.741226936003794,45.200732230767514],[5.741295430128957,45.20067378835563],[5.741363968318,45.20061624577957],[5.7413811249469635,45.20060231006764],[5.741421492910755,45.2005679832241],[5.7419148839703915,45.20010538554265],[5.7422761401120015,45.19959918118044],[5.742582438029749,45.199089820850894],[5.742708303302905,45.198824548595816],[5.7431316662190435,45.197793356027326],[5.743195504206223,45.1975106870417],[5.7432452868943855,45.19720133452048],[5.743262468035354,45.196799083000755],[5.743162303843374,45.196083477214074],[5.743081824936175,45.195768316014245],[5.74290412845992,45.19531589439345],[5.742612088287934,45.19468879237859],[5.742327886925082,45.19411735690452],[5.742168543885044,45.19377890579875],[5.741981510320636,45.193317702996666],[5.741923545663572,45.19309749028859],[5.7417944276691895,45.1924663850217],[5.741789296932276,45.192232261153514],[5.7419082857394,45.19167164359074],[5.74153789557047,45.19165371212501],[5.741333080665102,45.19163441623102],[5.741335807503772,45.192027168185184],[5.738969508887898,45.193036668260454],[5.737443549717328,45.19390478394139],[5.734918233694146,45.1958586953828],[5.734806629986106,45.19586953810833],[5.734704192188786,45.19604142785191],[5.734206344300884,45.19669960993032],[5.734003769243887,45.196960443547034],[5.733761819109964,45.197197915089774],[5.733763532695808,45.197206882716856],[5.7338173086975415,45.19726412817825],[5.733937433681472,45.19727109701053],[5.738571691087871,45.198588236726394],[5.74118461371392,45.20070083525489],[5.741214738048665,45.20074334181604],[5.741226936003794,45.200732230767514]]]},\"bbox\":[5.733761819109964,45.19163441623102,5.743262468035354,45.20074334181604]},{\"id\":\"19\",\"type\":\"Feature\",\"properties\":{},\"geometry\":{\"type\":\"Polygon\",\"coordinates\":[[[5.738571691087871,45.198588236726394],[5.733937433681472,45.19727109701053],[5.7338173086975415,45.19726412817825],[5.7337700456233875,45.19728780953162],[5.733740777583794,45.1973146540469],[5.73373213829999,45.197346399163514],[5.733737813643307,45.19741022827246],[5.734198990224963,45.19915039911906],[5.734342394509369,45.19960637630918],[5.734396499810601,45.199748303735014],[5.734527489875258,45.2000288977175],[5.734565075360832,45.20009374717822],[5.734718707486197,45.20034225281342],[5.734814641751426,45.20047955165466],[5.734905611278537,45.200593547087585],[5.735146316678931,45.200798475043456],[5.735186178168406,45.20083173497089],[5.735125887935317,45.20090168497685],[5.734646056226571,45.20143419396211],[5.7348942272580485,45.201271347943894],[5.735522863378617,45.201694714726],[5.735877037799508,45.20190046494741],[5.7361843629366405,45.20203438445516],[5.736402442076511,45.2021155319342],[5.7366900005095145,45.202184164425816],[5.736949983481862,45.20221022605298],[5.73727391233609,45.20221489818416],[5.737685095843045,45.2022057173601],[5.7380579528241284,45.202168644179636],[5.739103272002131,45.201941188232524],[5.739351280274415,45.201853115870755],[5.739697309047282,45.201659027010436],[5.740745333854294,45.20104587699332],[5.741082133446143,45.200845703462704],[5.741182881888212,45.20076935092906],[5.741214738048665,45.20074334181604],[5.74118461371392,45.20070083525489],[5.738571691087871,45.198588236726394]]]},\"bbox\":[5.73373213829999,45.19726412817825,5.741214738048665,45.20221489818416]},{\"id\":\"20\",\"type\":\"Feature\",\"properties\":{},\"geometry\":{\"type\":\"Polygon\",\"coordinates\":[[[5.718938046637903,45.18804407347415],[5.719097248726507,45.188042898235345],[5.7192538179975,45.18803998500657],[5.72163144876246,45.18788743657233],[5.723090018797795,45.1877779844907],[5.72338463711873,45.18775818319686],[5.723573458359357,45.18776348650122],[5.7235793381223425,45.18775343254881],[5.724116981079483,45.186943869889795],[5.724684621753665,45.18612276069513],[5.724040760888782,45.185878100883876],[5.722940247214518,45.18546528933381],[5.722324616242533,45.18525056370366],[5.722174857074959,45.18536683528438],[5.722162395370953,45.185372544924185],[5.722035145416425,45.185427903549524],[5.721550189714957,45.18548928181349],[5.720486504223732,45.18562242617738],[5.718505678002428,45.185863492200106],[5.718299793461987,45.18587391221781],[5.718218264817325,45.18587409584019],[5.718141782413406,45.18587325556338],[5.718180477036852,45.185987634904606],[5.718766004236198,45.18772932739655],[5.718873014333088,45.18804295471337],[5.718938046637903,45.18804407347415]]]},\"bbox\":[5.718141782413406,45.18525056370366,5.724684621753665,45.18804407347415]},{\"id\":\"21\",\"type\":\"Feature\",\"properties\":{},\"geometry\":{\"type\":\"Polygon\",\"coordinates\":[[[5.73493543920789,45.186563088455976],[5.734711980147311,45.18647486408926],[5.732136016498047,45.1854369796302],[5.731969745373857,45.18537167594306],[5.731793558923186,45.185312020434196],[5.731326967264253,45.18543605886952],[5.729980529456318,45.185752800334896],[5.729008885900806,45.185970266646805],[5.728847544167124,45.1860057447563],[5.728785492424198,45.185961313126654],[5.728730375230554,45.185928424343274],[5.7268068447606755,45.18528169890534],[5.725536334426029,45.184857749598635],[5.724978459880697,45.18566961554857],[5.724684621753665,45.18612276069513],[5.724116981079483,45.186943869889795],[5.7235793381223425,45.18775343254881],[5.723573458359357,45.18776348650122],[5.723709404977633,45.18783404739947],[5.724826142883596,45.187873462040585],[5.7256946896253,45.18791802557372],[5.72639850625577,45.18795489376296],[5.726542749411556,45.18801263530486],[5.727579134374333,45.18836301275515],[5.730824194842869,45.18948194018045],[5.731405368922956,45.18969386042801],[5.7317182300005145,45.18931771307458],[5.734455702625883,45.18717307788878],[5.73493543920789,45.186563088455976]]]},\"bbox\":[5.723573458359357,45.184857749598635,5.73493543920789,45.18969386042801]},{\"id\":\"22\",\"type\":\"Feature\",\"properties\":{},\"geometry\":{\"type\":\"Polygon\",\"coordinates\":[[[5.740657974290287,45.18881026587815],[5.740563220902577,45.188774752025765],[5.7384942928795555,45.187974123740176],[5.735245966075998,45.18668611802628],[5.73493543920789,45.186563088455976],[5.734455702625883,45.18717307788878],[5.7317182300005145,45.18931771307458],[5.731405368922956,45.18969386042801],[5.731441706211546,45.1897073865555],[5.732207529406319,45.190073352614355],[5.733832779588654,45.19086874728213],[5.733912657505986,45.19091273979263],[5.734067505308837,45.1910305764733],[5.7341745612255535,45.19113516826272],[5.734813368759352,45.19202858622105],[5.73487673037885,45.19199550033703],[5.7349267040221195,45.191949228053694],[5.736496140075129,45.191422445306834],[5.738353456751939,45.19115436105948],[5.741206426925514,45.19162401212089],[5.741333080665102,45.19163441623102],[5.74153789557047,45.19165371212501],[5.7419082857394,45.19167164359074],[5.741931066995827,45.19156477060708],[5.742047529944828,45.191186209067766],[5.742283003900043,45.19068849975829],[5.742503157136226,45.19042361425679],[5.74271015968222,45.19020229754277],[5.7428109455936855,45.19004936058305],[5.742801364239227,45.19000995372986],[5.742310149674631,45.18968506340259],[5.741639823185439,45.1892672668093],[5.741515347828277,45.18919734629562],[5.741381964744892,45.189127644422605],[5.741166907116161,45.18902931552247],[5.741022248480295,45.188963493985085],[5.740676143765439,45.18881702743658],[5.740657974290287,45.18881026587815]]]},\"bbox\":[5.731405368922956,45.186563088455976,5.7428109455936855,45.19202858622105]},{\"id\":\"23\",\"type\":\"Feature\",\"properties\":{},\"geometry\":{\"type\":\"Polygon\",\"coordinates\":[[[5.717638719059887,45.184437678484116],[5.717667452752608,45.18453067765176],[5.717710366745357,45.18452242513191],[5.720645639417738,45.18423468619171],[5.721409481120911,45.18346557184947],[5.721944613335689,45.182683109949785],[5.722240605719602,45.18224793894773],[5.722373813967535,45.182053688098094],[5.722693799577755,45.18158819914162],[5.722702135896392,45.18157628340611],[5.7224745048853585,45.18155841158537],[5.719077855867441,45.181603375546416],[5.718705129333137,45.18153587487676],[5.718419234684578,45.181472564701025],[5.716917619899387,45.181374888030206],[5.71664238194145,45.18139960695247],[5.716653432352225,45.181469611993826],[5.716779364217822,45.18188458696849],[5.717096123851206,45.18276521196427],[5.717160738511098,45.18296725350992],[5.71725132416398,45.183231729227536],[5.717503035350581,45.18400582333294],[5.717638719059887,45.184437678484116]]]},\"bbox\":[5.71664238194145,45.181374888030206,5.722702135896392,45.18453067765176]},{\"id\":\"24\",\"type\":\"Feature\",\"properties\":{},\"geometry\":{\"type\":\"Polygon\",\"coordinates\":[[[5.722940247214518,45.18546528933381],[5.724040760888782,45.185878100883876],[5.724684621753665,45.18612276069513],[5.724978459880697,45.18566961554857],[5.725536334426029,45.184857749598635],[5.72580572202311,45.184452048707705],[5.725943397783267,45.184245070877786],[5.726411831435479,45.18355881515565],[5.726901355169863,45.18283510292621],[5.727051041378515,45.182587287262855],[5.72695025275443,45.18255821651628],[5.726088090419904,45.182303586847965],[5.725034673823125,45.18199325676375],[5.724076617778575,45.181809425693],[5.723334660716121,45.18166806417147],[5.722702135896392,45.18157628340611],[5.722693799577755,45.18158819914162],[5.722373813967535,45.182053688098094],[5.722240605719602,45.18224793894773],[5.721944613335689,45.182683109949785],[5.721409481120911,45.18346557184947],[5.720645639417738,45.18423468619171],[5.717710366745357,45.18452242513191],[5.717667452752608,45.18453067765176],[5.717697371401963,45.184621846063465],[5.717848636621313,45.185033500792706],[5.718026312963766,45.18554271584285],[5.718141782413406,45.18587325556338],[5.718218264817325,45.18587409584019],[5.718299793461987,45.18587391221781],[5.718505678002428,45.185863492200106],[5.720486504223732,45.18562242617738],[5.721550189714957,45.18548928181349],[5.722035145416425,45.185427903549524],[5.722162395370953,45.185372544924185],[5.722174857074959,45.18536683528438],[5.722324616242533,45.18525056370366],[5.722940247214518,45.18546528933381]]]},\"bbox\":[5.717667452752608,45.18157628340611,5.727051041378515,45.18612276069513]},{\"id\":\"25\",\"type\":\"Feature\",\"properties\":{},\"geometry\":{\"type\":\"Polygon\",\"coordinates\":[[[5.728310928069368,45.18256009995231],[5.727333961437512,45.18214611452065],[5.727253268470573,45.182111147273524],[5.727125083865129,45.18235573499135],[5.7270519986569886,45.182502574261854],[5.727051041378515,45.182587287262855],[5.726901355169863,45.18283510292621],[5.726411831435479,45.18355881515565],[5.725943397783267,45.184245070877786],[5.72580572202311,45.184452048707705],[5.725536334426029,45.184857749598635],[5.7268068447606755,45.18528169890534],[5.728730375230554,45.185928424343274],[5.728785492424198,45.185961313126654],[5.728847544167124,45.1860057447563],[5.729008885900806,45.185970266646805],[5.729980529456318,45.185752800334896],[5.731326967264253,45.18543605886952],[5.731793558923186,45.185312020434196],[5.731792972315148,45.18522193921864],[5.731761831888822,45.18505422267207],[5.7315410284099855,45.18403073548163],[5.731490948224833,45.18394456844275],[5.731390498099542,45.18387044553021],[5.73115314201291,45.18375822879775],[5.73100859689034,45.1836941941219],[5.730458633777489,45.18344186810164],[5.729377948223433,45.18299169603278],[5.728310928069368,45.18256009995231]]]},\"bbox\":[5.725536334426029,45.182111147273524,5.731793558923186,45.1860057447563]},{\"id\":\"26\",\"type\":\"Feature\",\"properties\":{},\"geometry\":{\"type\":\"Polygon\",\"coordinates\":[[[5.705635201348825,45.18378060703983],[5.705586558556531,45.18296102526101],[5.705534166276793,45.18206405328881],[5.705527036189595,45.18183808900212],[5.7061918628572466,45.181808456606376],[5.706826674162731,45.18179035954242],[5.706825138223213,45.18162732571335],[5.706785438914954,45.18093996648301],[5.705378053857051,45.17936860803498],[5.705375249842352,45.17920560511878],[5.705368564535775,45.17896251227301],[5.705325360418632,45.1781761345506],[5.705286374684217,45.17737163584903],[5.705277173516992,45.177181759776694],[5.705195514087685,45.175890885328634],[5.705111119261045,45.17451719083684],[5.705057814579349,45.173495912739604],[5.705037373752362,45.17304773873619],[5.705022704064922,45.172666094641386],[5.705017408421127,45.172477926003715],[5.704786300730125,45.172492537401936],[5.703893194862049,45.172540308801246],[5.702537182038223,45.172576761308754],[5.701974259620836,45.17255165249446],[5.700742293985806,45.172624720897694],[5.700972941508401,45.1737327017364],[5.701133730360571,45.17573971143449],[5.7008728362447885,45.177350603307936],[5.700841007361781,45.177640575989415],[5.700869038683986,45.17858858966585],[5.700990050757767,45.17998392363665],[5.70115567928271,45.17998441978903],[5.701194543129855,45.18012943187653],[5.701335965902227,45.18297298884089],[5.701341685621433,45.18317015699387],[5.701361298692124,45.18389133797944],[5.701393117251768,45.18507530874682],[5.701405790608782,45.18533717665651],[5.7014722989412485,45.18657977055992],[5.701543315365939,45.18786279822874],[5.701551295494521,45.188001350521986],[5.7016139807536295,45.18903321671463],[5.7016257166190805,45.189223031993265],[5.702664290507216,45.18906905528128],[5.703339437765568,45.189013965587186],[5.704819611966716,45.18892855602528],[5.705874598225508,45.18887685928795],[5.705901963096138,45.18878429940309],[5.705877184502877,45.18811549705773],[5.705848820785069,45.187556697141055],[5.705820814085212,45.18697896878283],[5.705792530060873,45.186605761916894],[5.70575522414113,45.18602015060995],[5.705680231134098,45.184657036123994],[5.7056614672959896,45.184296211919374],[5.705635201348825,45.18378060703983]]]},\"bbox\":[5.700742293985806,45.172477926003715,5.706826674162731,45.189223031993265]},{\"id\":\"27\",\"type\":\"Feature\",\"properties\":{},\"geometry\":{\"type\":\"Polygon\",\"coordinates\":[[[5.707502901103173,45.18178566929231],[5.707740845187833,45.181779896752246],[5.708300669768681,45.18176541241842],[5.710371830312528,45.181707926469414],[5.711345186467404,45.18170951101047],[5.711229183542571,45.181209600713316],[5.711244773213513,45.18113714625235],[5.710238109147776,45.18100032701997],[5.7096812096231595,45.180917448061685],[5.708605631323389,45.18075165529699],[5.70809288350416,45.17974062419726],[5.7079297535968605,45.17939771855397],[5.707665681424384,45.178838332191866],[5.7068532689669675,45.17897606350459],[5.706525159073508,45.17903987968452],[5.705723355991342,45.17918635479259],[5.7055980455497535,45.17920290693139],[5.705492395172996,45.17920456722216],[5.705375249842352,45.17920560511878],[5.705378053857051,45.17936860803498],[5.706785438914954,45.18093996648301],[5.706825138223213,45.18162732571335],[5.706826674162731,45.18179035954242],[5.707502901103173,45.18178566929231]]]},\"bbox\":[5.705375249842352,45.178838332191866,5.711345186467404,45.18179035954242]},{\"id\":\"28\",\"type\":\"Feature\",\"properties\":{},\"geometry\":{\"type\":\"Polygon\",\"coordinates\":[[[5.715543943055831,45.180581249108116],[5.715457192862295,45.180264424143665],[5.715389208063288,45.18007147344067],[5.715338152611542,45.17993847435198],[5.715186038166314,45.17956107416633],[5.714947874499632,45.1789335018033],[5.71494008444524,45.178773322604485],[5.713936771455338,45.1787571830348],[5.713685803561668,45.17880923409995],[5.71153687359291,45.17912544347706],[5.7082594856158355,45.17934106645148],[5.7079297535968605,45.17939771855397],[5.70809288350416,45.17974062419726],[5.708605631323389,45.18075165529699],[5.7096812096231595,45.180917448061685],[5.710238109147776,45.18100032701997],[5.711244773213513,45.18113714625235],[5.711460247844534,45.18114092102356],[5.712175517777866,45.18112714520155],[5.713530634482894,45.181094206018564],[5.714004211186771,45.180930430586976],[5.715655208687805,45.18100919514702],[5.715543943055831,45.180581249108116]]]},\"bbox\":[5.7079297535968605,45.1787571830348,5.715655208687805,45.18114092102356]},{\"id\":\"29\",\"type\":\"Feature\",\"properties\":{},\"geometry\":{\"type\":\"Polygon\",\"coordinates\":[[[5.715389208063288,45.18007147344067],[5.715457192862295,45.180264424143665],[5.715543943055831,45.180581249108116],[5.715655208687805,45.18100919514702],[5.715796625569711,45.18137604391641],[5.71664238194145,45.18139960695247],[5.716917619899387,45.181374888030206],[5.718419234684578,45.181472564701025],[5.718705129333137,45.18153587487676],[5.718760292768022,45.181334520246445],[5.718802601633629,45.1811046483415],[5.718823235499249,45.180874403498926],[5.718820792129385,45.18061498950743],[5.718792646370432,45.18019403073955],[5.718745757525737,45.17993750141833],[5.718726367885235,45.179879412043014],[5.718492377629482,45.17920759801291],[5.718417834023935,45.1792202251607],[5.716146757677215,45.17919894023177],[5.715680898776095,45.17878773249124],[5.71494008444524,45.178773322604485],[5.714947874499632,45.1789335018033],[5.715186038166314,45.17956107416633],[5.715338152611542,45.17993847435198],[5.715389208063288,45.18007147344067]]]},\"bbox\":[5.71494008444524,45.178773322604485,5.718823235499249,45.18153587487676]},{\"id\":\"30\",\"type\":\"Feature\",\"properties\":{},\"geometry\":{\"type\":\"Polygon\",\"coordinates\":[[[5.705375249842352,45.17920560511878],[5.705492395172996,45.17920456722216],[5.7055980455497535,45.17920290693139],[5.705723355991342,45.17918635479259],[5.706525159073508,45.17903987968452],[5.7068532689669675,45.17897606350459],[5.707665681424384,45.178838332191866],[5.7079297535968605,45.17939771855397],[5.7082594856158355,45.17934106645148],[5.71153687359291,45.17912544347706],[5.713685803561668,45.17880923409995],[5.713936771455338,45.1787571830348],[5.713352113940765,45.1775262904097],[5.712952778504506,45.17670082129623],[5.711506214456327,45.176448576186466],[5.70955812836834,45.17654454321242],[5.709418649129498,45.17658396744288],[5.70898963873693,45.17669438720403],[5.708508985668148,45.17681687000444],[5.707914432987973,45.176954727718886],[5.705620686036408,45.17722568689489],[5.705286374684217,45.17737163584903],[5.705325360418632,45.1781761345506],[5.705368564535775,45.17896251227301],[5.705375249842352,45.17920560511878]]]},\"bbox\":[5.705286374684217,45.176448576186466,5.713936771455338,45.17939771855397]},{\"id\":\"31\",\"type\":\"Feature\",\"properties\":{},\"geometry\":{\"type\":\"Polygon\",\"coordinates\":[[[5.717997288611317,45.1773853246937],[5.717752085850472,45.17671828778522],[5.717675018006673,45.17649582844491],[5.717160344368046,45.17497674919275],[5.717032756623204,45.17457983487881],[5.71683583307747,45.17393594704179],[5.716801007750705,45.1738485020403],[5.71638620279861,45.17396220896873],[5.7148576745956685,45.17427599661724],[5.714661175427026,45.17429519205932],[5.714552461668389,45.174312251769194],[5.714495647762409,45.174322643244224],[5.714364554866185,45.17437718594941],[5.714332219981397,45.174393288542156],[5.7142191133616445,45.1744509973672],[5.714274634167309,45.174597402205244],[5.714659514862533,45.17562322816556],[5.7149166890678815,45.17635394670156],[5.715161625174276,45.17712100058098],[5.714245443809375,45.17732437760073],[5.713352113940765,45.1775262904097],[5.713936771455338,45.1787571830348],[5.71494008444524,45.178773322604485],[5.715680898776095,45.17878773249124],[5.716146757677215,45.17919894023177],[5.718417834023935,45.1792202251607],[5.718492377629482,45.17920759801291],[5.718415478683145,45.17898873858539],[5.718184269718586,45.178164596108125],[5.718243631526015,45.17815414076641],[5.718172220365847,45.177917128639166],[5.717997288611317,45.1773853246937]]]},\"bbox\":[5.713352113940765,45.1738485020403,5.718492377629482,45.1792202251607]},{\"id\":\"32\",\"type\":\"Feature\",\"properties\":{},\"geometry\":{\"type\":\"Polygon\",\"coordinates\":[[[5.705195514087685,45.175890885328634],[5.705277173516992,45.177181759776694],[5.705286374684217,45.17737163584903],[5.705620686036408,45.17722568689489],[5.707914432987973,45.176954727718886],[5.708508985668148,45.17681687000444],[5.70898963873693,45.17669438720403],[5.709418649129498,45.17658396744288],[5.709357339488124,45.17647554062097],[5.708960061246782,45.17576983475374],[5.7089082270458045,45.17567289001681],[5.708777504072608,45.17542019484393],[5.7086245607806845,45.17507704349277],[5.708562998560366,45.17493708942258],[5.708538488507031,45.17487822197885],[5.710137899128764,45.17297984052721],[5.710186827857269,45.17291198230406],[5.709140573658526,45.17255989198906],[5.708802630728889,45.17244646848332],[5.708746964977719,45.172427998967684],[5.708607513911593,45.17238903957204],[5.708472578158548,45.172364385515664],[5.708300922963552,45.172344226269246],[5.707928912993973,45.172342443082776],[5.707708645549056,45.17234418429246],[5.7072698628232565,45.17235753327585],[5.707109782047081,45.17236592159035],[5.706676567752465,45.17238904352219],[5.706333593158075,45.17240817337306],[5.705697216102555,45.17244432699864],[5.705163582644139,45.17247167971392],[5.705017408421127,45.172477926003715],[5.705022704064922,45.172666094641386],[5.705037373752362,45.17304773873619],[5.705057814579349,45.173495912739604],[5.705111119261045,45.17451719083684],[5.705195514087685,45.175890885328634]]]},\"bbox\":[5.705017408421127,45.172342443082776,5.710186827857269,45.17737163584903]},{\"id\":\"33\",\"type\":\"Feature\",\"properties\":{},\"geometry\":{\"type\":\"Polygon\",\"coordinates\":[[[5.7149166890678815,45.17635394670156],[5.714659514862533,45.17562322816556],[5.714274634167309,45.174597402205244],[5.7142191133616445,45.1744509973672],[5.714112344749515,45.17403645594149],[5.713673627231844,45.17261011625609],[5.713605133058412,45.17240636621428],[5.71349914202139,45.172426962545785],[5.710328083130742,45.172935579907985],[5.710186827857269,45.17291198230406],[5.710137899128764,45.17297984052721],[5.708538488507031,45.17487822197885],[5.708562998560366,45.17493708942258],[5.7086245607806845,45.17507704349277],[5.708777504072608,45.17542019484393],[5.7089082270458045,45.17567289001681],[5.708960061246782,45.17576983475374],[5.709357339488124,45.17647554062097],[5.709418649129498,45.17658396744288],[5.70955812836834,45.17654454321242],[5.711506214456327,45.176448576186466],[5.712952778504506,45.17670082129623],[5.713352113940765,45.1775262904097],[5.714245443809375,45.17732437760073],[5.715161625174276,45.17712100058098],[5.7149166890678815,45.17635394670156]]]},\"bbox\":[5.708538488507031,45.17240636621428,5.715161625174276,45.1775262904097]},{\"id\":\"34\",\"type\":\"Feature\",\"properties\":{},\"geometry\":{\"type\":\"Polygon\",\"coordinates\":[[[5.702201594384199,45.16790630138503],[5.702057749048874,45.167934110246684],[5.701813421903292,45.168043634778925],[5.701696411764155,45.168099623468514],[5.701607639873701,45.16818646124367],[5.701545451687855,45.16826995249757],[5.701499713871385,45.1683512435558],[5.701476743599714,45.168429280557],[5.701462939402912,45.168512501280595],[5.701472938360646,45.16864019273853],[5.701479507230252,45.16867066567694],[5.70152369489644,45.1688732084046],[5.701654067352065,45.169356559812186],[5.701727409879709,45.169608849304566],[5.701780877509057,45.169871530356815],[5.701870849874813,45.17036216650191],[5.701884010455595,45.17060780472242],[5.7019579811167524,45.172188967273726],[5.701974259620836,45.17255165249446],[5.702537182038223,45.172576761308754],[5.703893194862049,45.172540308801246],[5.704786300730125,45.172492537401936],[5.705017408421127,45.172477926003715],[5.705001482494516,45.172044057749446],[5.704993951237685,45.171704585002445],[5.704960403713993,45.170644088176175],[5.704930619366933,45.17005559402204],[5.70490113292541,45.16949952664274],[5.704826900252771,45.168230097234165],[5.7046563541120765,45.16778556239511],[5.704367843483699,45.16766642357617],[5.702201594384199,45.16790630138503]]]},\"bbox\":[5.701462939402912,45.16766642357617,5.705017408421127,45.172576761308754]},{\"id\":\"35\",\"type\":\"Feature\",\"properties\":{},\"geometry\":{\"type\":\"Polygon\",\"coordinates\":[[[5.712308189568041,45.16356449472865],[5.712680297863223,45.16341219812966],[5.712742761575681,45.16338725487435],[5.71352026973938,45.16303409768137],[5.714074984152399,45.16276113316054],[5.714531043618071,45.16252840577736],[5.714818091139081,45.16238177507769],[5.715749194366719,45.16183566585979],[5.716630004411555,45.16140789596362],[5.717464523068709,45.16104971820018],[5.719622568137867,45.16022952735829],[5.720191958286651,45.160075999269836],[5.720172844486328,45.1597620351706],[5.720028171129911,45.159170938296796],[5.719696117802392,45.15912497687795],[5.71936660883054,45.1590789524659],[5.717633096799034,45.15901848590847],[5.715083119732218,45.15892741279355],[5.711679057804837,45.15879127574419],[5.7109288200401265,45.15876085786804],[5.710617137485026,45.158662120047296],[5.7104397861761464,45.15860246211368],[5.710412595871713,45.15859321234652],[5.709530837713568,45.15852904177261],[5.70933438628791,45.158574355210966],[5.709229604505156,45.15859311677223],[5.709209385086071,45.1585963106117],[5.70907556779491,45.15862028183463],[5.708767057434549,45.1586656125082],[5.708554338232135,45.1586905978866],[5.7083146033944985,45.15870993210744],[5.7077286053126945,45.15873136388636],[5.707333966251543,45.1587337339122],[5.706980028075334,45.15873511497495],[5.706144786822805,45.158737359496264],[5.7057906305885115,45.158734237374944],[5.704977629767292,45.158722419653735],[5.704333269667524,45.15869569694296],[5.700210108032675,45.16025148384697],[5.699699203886909,45.16043052152662],[5.699796585393923,45.160732682107216],[5.700110393170597,45.161665667494766],[5.700180552256338,45.161826138458196],[5.700352928902179,45.162046300196145],[5.700855355723753,45.1647459653337],[5.700877500243265,45.16675722739847],[5.700799465087455,45.167224001239],[5.700761083073339,45.16745737276214],[5.7005038864956346,45.16830147192241],[5.70049079464148,45.1685837829908],[5.700491290788983,45.16877837403379],[5.7005912567787025,45.16994987976124],[5.700665553391578,45.17080127222534],[5.70074147142144,45.17108052827289],[5.700786808973202,45.17230741325215],[5.700742293985806,45.172624720897694],[5.701974259620836,45.17255165249446],[5.7019579811167524,45.172188967273726],[5.701884010455595,45.17060780472242],[5.701870849874813,45.17036216650191],[5.701780877509057,45.169871530356815],[5.701727409879709,45.169608849304566],[5.701654067352065,45.169356559812186],[5.70152369489644,45.1688732084046],[5.701479507230252,45.16867066567694],[5.701472938360646,45.16864019273853],[5.701462939402912,45.168512501280595],[5.701476743599714,45.168429280557],[5.701499713871385,45.1683512435558],[5.701545451687855,45.16826995249757],[5.701607639873701,45.16818646124367],[5.701696411764155,45.168099623468514],[5.701813421903292,45.168043634778925],[5.702057749048874,45.167934110246684],[5.702201594384199,45.16790630138503],[5.704367843483699,45.16766642357617],[5.7046563541120765,45.16778556239511],[5.704826900252771,45.168230097234165],[5.70490113292541,45.16949952664274],[5.704930619366933,45.17005559402204],[5.704960403713993,45.170644088176175],[5.704993951237685,45.171704585002445],[5.705001482494516,45.172044057749446],[5.705017408421127,45.172477926003715],[5.705163582644139,45.17247167971392],[5.705697216102555,45.17244432699864],[5.706333593158075,45.17240817337306],[5.706676567752465,45.17238904352219],[5.707109782047081,45.17236592159035],[5.7072698628232565,45.17235753327585],[5.707708645549056,45.17234418429246],[5.707928912993973,45.172342443082776],[5.708300922963552,45.172344226269246],[5.708472578158548,45.172364385515664],[5.708607513911593,45.17238903957204],[5.708746964977719,45.172427998967684],[5.708802630728889,45.17244646848332],[5.709140573658526,45.17255989198906],[5.710186827857269,45.17291198230406],[5.710328083130742,45.172935579907985],[5.71349914202139,45.172426962545785],[5.713605133058412,45.17240636621428],[5.71356790437053,45.17229555423162],[5.712994560527514,45.17045715107973],[5.712474347267325,45.168794040292184],[5.712092129643909,45.16758525408036],[5.712041229129639,45.167428826012646],[5.71184096078138,45.16681924960564],[5.711509570611434,45.165817345249145],[5.711345829320019,45.16533031004452],[5.711146920606209,45.16480088397671],[5.712308189568041,45.16356449472865]]]},\"bbox\":[5.699699203886909,45.15852904177261,5.720191958286651,45.172935579907985]},{\"id\":\"36\",\"type\":\"Feature\",\"properties\":{},\"geometry\":{\"type\":\"Polygon\",\"coordinates\":[[[5.7148576745956685,45.17427599661724],[5.71638620279861,45.17396220896873],[5.716801007750705,45.1738485020403],[5.716751839917389,45.17372807115121],[5.716710349506695,45.17360835428911],[5.71654991640469,45.17313836164917],[5.716144421225283,45.17189861877726],[5.715725428822922,45.170695241568325],[5.71559211010937,45.170337206651055],[5.7154036617166994,45.16989312145963],[5.714266805053211,45.16723145894716],[5.713677016619753,45.165866458084395],[5.71331609990993,45.165017536363145],[5.713164914248123,45.164658132326494],[5.712997727041066,45.164257673828104],[5.71284545251343,45.16387577240108],[5.712729749629782,45.16356505716508],[5.712690994266658,45.16344887675714],[5.712680341579011,45.16341309801051],[5.712680297863223,45.16341219812966],[5.712308189568041,45.16356449472865],[5.711146920606209,45.16480088397671],[5.711345829320019,45.16533031004452],[5.711509570611434,45.165817345249145],[5.71184096078138,45.16681924960564],[5.712041229129639,45.167428826012646],[5.712092129643909,45.16758525408036],[5.712474347267325,45.168794040292184],[5.712994560527514,45.17045715107973],[5.71356790437053,45.17229555423162],[5.713605133058412,45.17240636621428],[5.713673627231844,45.17261011625609],[5.714112344749515,45.17403645594149],[5.7142191133616445,45.1744509973672],[5.714332219981397,45.174393288542156],[5.714364554866185,45.17437718594941],[5.714495647762409,45.174322643244224],[5.714552461668389,45.174312251769194],[5.714661175427026,45.17429519205932],[5.7148576745956685,45.17427599661724]]]},\"bbox\":[5.711146920606209,45.16341219812966,5.716801007750705,45.1744509973672]},{\"id\":\"37\",\"type\":\"Feature\",\"properties\":{},\"geometry\":{\"type\":\"Polygon\",\"coordinates\":[[[5.718184269718586,45.178164596108125],[5.718415478683145,45.17898873858539],[5.718492377629482,45.17920759801291],[5.718726367885235,45.179879412043014],[5.718745757525737,45.17993750141833],[5.718792646370432,45.18019403073955],[5.718820792129385,45.18061498950743],[5.718823235499249,45.180874403498926],[5.718802601633629,45.1811046483415],[5.718760292768022,45.181334520246445],[5.718705129333137,45.18153587487676],[5.719077855867441,45.181603375546416],[5.7224745048853585,45.18155841158537],[5.722702135896392,45.18157628340611],[5.723117675523817,45.181006654499576],[5.723611502412758,45.17977021124134],[5.723738110296877,45.17933646662433],[5.723765440885016,45.1792439025627],[5.721078077121748,45.179437392685365],[5.720345538121865,45.17969760642089],[5.720271961795118,45.17962552191979],[5.719947953822139,45.17938115298897],[5.719387647930001,45.178966856085935],[5.718839897159378,45.17857477447619],[5.718416705699346,45.178281463643586],[5.7182716213646705,45.17817958653768],[5.718243631526015,45.17815414076641],[5.718184269718586,45.178164596108125]]]},\"bbox\":[5.718184269718586,45.17815414076641,5.723765440885016,45.181603375546416]},{\"id\":\"38\",\"type\":\"Feature\",\"properties\":{},\"geometry\":{\"type\":\"Polygon\",\"coordinates\":[[[5.726240417736404,45.17939699666768],[5.725470503977998,45.17938697103534],[5.724686243118345,45.17937008275949],[5.7244233456250475,45.1793602837329],[5.723738110296877,45.17933646662433],[5.723611502412758,45.17977021124134],[5.723117675523817,45.181006654499576],[5.722702135896392,45.18157628340611],[5.723334660716121,45.18166806417147],[5.724076617778575,45.181809425693],[5.725034673823125,45.18199325676375],[5.726088090419904,45.182303586847965],[5.72695025275443,45.18255821651628],[5.727051041378515,45.182587287262855],[5.7270519986569886,45.182502574261854],[5.727125083865129,45.18235573499135],[5.727253268470573,45.182111147273524],[5.727325959542047,45.181982336556175],[5.727428355591281,45.18186180940446],[5.727724853651144,45.18167257070711],[5.727969254324901,45.18135576824987],[5.728275946699244,45.18095815856622],[5.728038758790852,45.18100540037741],[5.7268042836416155,45.181213056136215],[5.726604283679561,45.18056114783326],[5.726469414678295,45.18009504639191],[5.726240417736404,45.17939699666768]]]},\"bbox\":[5.722702135896392,45.17933646662433,5.728275946699244,45.182587287262855]},{\"id\":\"39\",\"type\":\"Feature\",\"properties\":{},\"geometry\":{\"type\":\"Polygon\",\"coordinates\":[[[5.731172347800708,45.18368207859183],[5.731271991389737,45.18366162112219],[5.7313895769057845,45.18361729964532],[5.731532293963469,45.183513800888434],[5.731549221293837,45.18320886373866],[5.731596968333162,45.182258088450524],[5.7316396937213225,45.18120472736056],[5.731642004757693,45.180627158777455],[5.731105144697467,45.18064209955766],[5.73105688195639,45.18064508250041],[5.729563455216026,45.180741080652226],[5.729435207577777,45.18074962288891],[5.728900592616404,45.18083657441403],[5.728601234286254,45.18088894138667],[5.72849277585732,45.180911413966214],[5.728275946699244,45.18095815856622],[5.727969254324901,45.18135576824987],[5.727724853651144,45.18167257070711],[5.727428355591281,45.18186180940446],[5.727325959542047,45.181982336556175],[5.727253268470573,45.182111147273524],[5.727333961437512,45.18214611452065],[5.728310928069368,45.18256009995231],[5.729377948223433,45.18299169603278],[5.730458633777489,45.18344186810164],[5.73100859689034,45.1836941941219],[5.731172347800708,45.18368207859183]]]},\"bbox\":[5.727253268470573,45.180627158777455,5.731642004757693,45.1836941941219]},{\"id\":\"40\",\"type\":\"Feature\",\"properties\":{},\"geometry\":{\"type\":\"Polygon\",\"coordinates\":[[[5.731549221293837,45.18320886373866],[5.731532293963469,45.183513800888434],[5.7313895769057845,45.18361729964532],[5.731271991389737,45.18366162112219],[5.731172347800708,45.18368207859183],[5.73100859689034,45.1836941941219],[5.73115314201291,45.18375822879775],[5.731390498099542,45.18387044553021],[5.731490948224833,45.18394456844275],[5.7315410284099855,45.18403073548163],[5.731761831888822,45.18505422267207],[5.731792972315148,45.18522193921864],[5.731793558923186,45.185312020434196],[5.731969745373857,45.18537167594306],[5.7320445487764955,45.18531218379268],[5.732443777916006,45.18493121707561],[5.732809201955341,45.18448440580169],[5.733346073557323,45.18371445620924],[5.733427968307899,45.18359172247412],[5.7338201175077215,45.18283252229278],[5.7346129260502074,45.18125444578786],[5.7349234205106425,45.18062337590483],[5.7342775268922725,45.18062298470095],[5.732876314332846,45.18062487063917],[5.731642004757693,45.180627158777455],[5.7316396937213225,45.18120472736056],[5.731596968333162,45.182258088450524],[5.731549221293837,45.18320886373866]]]},\"bbox\":[5.73100859689034,45.18062298470095,5.7349234205106425,45.18537167594306]},{\"id\":\"41\",\"type\":\"Feature\",\"properties\":{},\"geometry\":{\"type\":\"Polygon\",\"coordinates\":[[[5.733427968307899,45.18359172247412],[5.733346073557323,45.18371445620924],[5.732809201955341,45.18448440580169],[5.732443777916006,45.18493121707561],[5.7320445487764955,45.18531218379268],[5.731969745373857,45.18537167594306],[5.732136016498047,45.1854369796302],[5.734711980147311,45.18647486408926],[5.73493543920789,45.186563088455976],[5.735245966075998,45.18668611802628],[5.7384942928795555,45.187974123740176],[5.740563220902577,45.188774752025765],[5.740657974290287,45.18881026587815],[5.7406935973934665,45.1887832633704],[5.742629042264259,45.18626979564181],[5.742864455956749,45.18579731338306],[5.7426714291766014,45.185680427105616],[5.742097876200949,45.18531251237778],[5.741049365879309,45.18463822151165],[5.7409190156917,45.18442248956711],[5.740864079084654,45.18223991422319],[5.740883085423502,45.18213403529669],[5.741012551195959,45.18170920710783],[5.741148616070069,45.18134097707498],[5.741172331611963,45.18127912941009],[5.741533338066864,45.18064049195843],[5.741595391845954,45.1805551784562],[5.741026381116974,45.18058987693528],[5.737811404051097,45.18062374292757],[5.73771461451629,45.18062431534284],[5.73500884677096,45.18062488629278],[5.7349234205106425,45.18062337590483],[5.7346129260502074,45.18125444578786],[5.7338201175077215,45.18283252229278],[5.733427968307899,45.18359172247412]]]},\"bbox\":[5.731969745373857,45.1805551784562,5.742864455956749,45.18881026587815]},{\"id\":\"42\",\"type\":\"Feature\",\"properties\":{},\"geometry\":{\"type\":\"Polygon\",\"coordinates\":[[[5.718172220365847,45.177917128639166],[5.718243631526015,45.17815414076641],[5.7182716213646705,45.17817958653768],[5.718416705699346,45.178281463643586],[5.718839897159378,45.17857477447619],[5.719387647930001,45.178966856085935],[5.719947953822139,45.17938115298897],[5.720271961795118,45.17962552191979],[5.720443343518134,45.17935196038063],[5.720687995634496,45.178987418304914],[5.720917287459144,45.17869983089895],[5.721429170741393,45.178094524428424],[5.7217208869921174,45.177807214873894],[5.722218407927247,45.177325684965105],[5.722675076486843,45.17694695677176],[5.722882064803967,45.17677703271416],[5.723067774488538,45.17664096263614],[5.723438094443832,45.176372452132554],[5.724174515006095,45.175905804390986],[5.724550487403278,45.17570111952608],[5.724668545955121,45.17569283141789],[5.724773751320457,45.17570828174099],[5.724835041818219,45.1757374175606],[5.724860878388318,45.17566651252345],[5.725152432524735,45.175376494525565],[5.725437977184239,45.1751460852557],[5.725493030891212,45.175073565539364],[5.725448934011421,45.17497914169719],[5.72541067142834,45.1748737639418],[5.725316068216645,45.17460578904518],[5.724454806169886,45.17212217716686],[5.7243266034786675,45.17173970055698],[5.723965964083625,45.1718665291303],[5.722614460347884,45.17223016079738],[5.7185903755774286,45.17334634147977],[5.716878967154196,45.173827684131375],[5.716801007750705,45.1738485020403],[5.71683583307747,45.17393594704179],[5.717032756623204,45.17457983487881],[5.717160344368046,45.17497674919275],[5.717675018006673,45.17649582844491],[5.717752085850472,45.17671828778522],[5.717997288611317,45.1773853246937],[5.718172220365847,45.177917128639166]]]},\"bbox\":[5.716801007750705,45.17173970055698,5.725493030891212,45.17962552191979]},{\"id\":\"43\",\"type\":\"Feature\",\"properties\":{},\"geometry\":{\"type\":\"Polygon\",\"coordinates\":[[[5.724773751320457,45.17570828174099],[5.724668545955121,45.17569283141789],[5.724550487403278,45.17570111952608],[5.724174515006095,45.175905804390986],[5.723438094443832,45.176372452132554],[5.723067774488538,45.17664096263614],[5.722882064803967,45.17677703271416],[5.722675076486843,45.17694695677176],[5.722218407927247,45.177325684965105],[5.7217208869921174,45.177807214873894],[5.721429170741393,45.178094524428424],[5.720917287459144,45.17869983089895],[5.720687995634496,45.178987418304914],[5.720443343518134,45.17935196038063],[5.720271961795118,45.17962552191979],[5.720345538121865,45.17969760642089],[5.721078077121748,45.179437392685365],[5.723765440885016,45.1792439025627],[5.723738110296877,45.17933646662433],[5.7244233456250475,45.1793602837329],[5.724686243118345,45.17937008275949],[5.725470503977998,45.17938697103534],[5.726240417736404,45.17939699666768],[5.726140177923967,45.179013837714756],[5.725994596621279,45.178354293030765],[5.725985364879466,45.17811306338901],[5.726013338350655,45.177877231631825],[5.726019739957277,45.17782572100078],[5.726072009020639,45.17746136059993],[5.7261224419842165,45.177189843079894],[5.726160862708585,45.177037544622976],[5.7262120460707875,45.17683358012305],[5.726228138240849,45.17671966708001],[5.72618447618827,45.17660811472507],[5.725706008611193,45.17607022164145],[5.724814866712742,45.175846024300895],[5.724835041818219,45.1757374175606],[5.724773751320457,45.17570828174099]]]},\"bbox\":[5.720271961795118,45.17569283141789,5.726240417736404,45.17969760642089]},{\"id\":\"44\",\"type\":\"Feature\",\"properties\":{},\"geometry\":{\"type\":\"Polygon\",\"coordinates\":[[[5.731642004757693,45.180627158777455],[5.731681321260252,45.18015499715525],[5.73169442964622,45.17985015364446],[5.731716961022743,45.17924325974256],[5.731750750161932,45.17829372769688],[5.731739994611279,45.17653803140404],[5.731734896101677,45.17648590088064],[5.731737315302552,45.17627501844937],[5.7316217059441525,45.176489572511834],[5.731581970382367,45.176562621444155],[5.73134024383815,45.176881168939296],[5.731016047424358,45.17728462183447],[5.730700792418564,45.177662628220276],[5.728253109983419,45.177754026528845],[5.727260988342002,45.17762781726968],[5.726425630613073,45.1769815241067],[5.726324892111112,45.17690109760604],[5.726240557841069,45.17676531222176],[5.726228138240849,45.17671966708001],[5.7262120460707875,45.17683358012305],[5.726160862708585,45.177037544622976],[5.7261224419842165,45.177189843079894],[5.726072009020639,45.17746136059993],[5.726019739957277,45.17782572100078],[5.726013338350655,45.177877231631825],[5.725985364879466,45.17811306338901],[5.725994596621279,45.178354293030765],[5.726140177923967,45.179013837714756],[5.726240417736404,45.17939699666768],[5.726469414678295,45.18009504639191],[5.726604283679561,45.18056114783326],[5.7268042836416155,45.181213056136215],[5.728038758790852,45.18100540037741],[5.728275946699244,45.18095815856622],[5.72849277585732,45.180911413966214],[5.728601234286254,45.18088894138667],[5.728900592616404,45.18083657441403],[5.729435207577777,45.18074962288891],[5.729563455216026,45.180741080652226],[5.73105688195639,45.18064508250041],[5.731105144697467,45.18064209955766],[5.731642004757693,45.180627158777455]]]},\"bbox\":[5.725985364879466,45.17627501844937,5.731750750161932,45.181213056136215]},{\"id\":\"45\",\"type\":\"Feature\",\"properties\":{},\"geometry\":{\"type\":\"Polygon\",\"coordinates\":[[[5.734190008995983,45.17319225026278],[5.7323297558803326,45.17320628132903],[5.732095447350953,45.173207513439266],[5.7319260220023445,45.17320715662469],[5.731817751253065,45.173207104366085],[5.731788953963732,45.1733474571006],[5.731767961330531,45.173465094936624],[5.731767847953751,45.17356690543787],[5.7317776041959405,45.173662167658236],[5.731806096392199,45.17377589123973],[5.7317390232554155,45.176257858517204],[5.731737315302552,45.17627501844937],[5.731734896101677,45.17648590088064],[5.731739994611279,45.17653803140404],[5.731750750161932,45.17829372769688],[5.731716961022743,45.17924325974256],[5.73169442964622,45.17985015364446],[5.731681321260252,45.18015499715525],[5.731642004757693,45.180627158777455],[5.732876314332846,45.18062487063917],[5.7342775268922725,45.18062298470095],[5.7349234205106425,45.18062337590483],[5.735461112652617,45.17953355568391],[5.7370168303892815,45.176499733363634],[5.737312231814218,45.17589965888072],[5.737341170767699,45.17584038689684],[5.737591447876154,45.1753333159685],[5.737613502815715,45.175289529035034],[5.737997815085527,45.17452870312667],[5.738133515762533,45.1742568886522],[5.738656575714769,45.173208854586534],[5.738551900902034,45.17320421582736],[5.738370540070185,45.17319425118786],[5.734190008995983,45.17319225026278]]]},\"bbox\":[5.731642004757693,45.17319225026278,5.738656575714769,45.180627158777455]},{\"id\":\"46\",\"type\":\"Feature\",\"properties\":{},\"geometry\":{\"type\":\"Polygon\",\"coordinates\":[[[5.735461112652617,45.17953355568391],[5.7349234205106425,45.18062337590483],[5.73500884677096,45.18062488629278],[5.73771461451629,45.18062431534284],[5.737811404051097,45.18062374292757],[5.741026381116974,45.18058987693528],[5.741595391845954,45.1805551784562],[5.741758968024402,45.180332227084506],[5.7419200329251785,45.18008411030702],[5.742144196320913,45.17961641092797],[5.742196624701743,45.179490790421475],[5.742510861163059,45.17867851271077],[5.7425300152229,45.17862758832852],[5.742853084261629,45.17776193595884],[5.742997105023786,45.177374587798326],[5.742838179415388,45.177328941231885],[5.7416241350567105,45.17699028133419],[5.739884164213782,45.17652487383442],[5.738476238443157,45.176180129123615],[5.737312231814218,45.17589965888072],[5.7370168303892815,45.176499733363634],[5.735461112652617,45.17953355568391]]]},\"bbox\":[5.7349234205106425,45.17589965888072,5.742997105023786,45.18062488629278]},{\"id\":\"47\",\"type\":\"Feature\",\"properties\":{},\"geometry\":{\"type\":\"Polygon\",\"coordinates\":[[[5.731788953963732,45.1733474571006],[5.731817751253065,45.173207104366085],[5.731751331655068,45.17320332462807],[5.73122929021008,45.17325934880529],[5.730950154161626,45.173307624270734],[5.729909678577271,45.17351958007069],[5.72974096000432,45.173559745490685],[5.729244936692114,45.17367909142242],[5.72902129461266,45.17374222186293],[5.728902015920449,45.17377757309215],[5.72880787388949,45.17380600284875],[5.728360018609168,45.17394669067039],[5.727848375958186,45.17411145972779],[5.727436226615302,45.17425307281148],[5.727148489331836,45.17436011066128],[5.726601132879777,45.174576199900685],[5.726105363567845,45.174779313794396],[5.725604021924344,45.17502490621431],[5.725493030891212,45.175073565539364],[5.725437977184239,45.1751460852557],[5.725152432524735,45.175376494525565],[5.724860878388318,45.17566651252345],[5.724835041818219,45.1757374175606],[5.724814866712742,45.175846024300895],[5.725706008611193,45.17607022164145],[5.72618447618827,45.17660811472507],[5.726228138240849,45.17671966708001],[5.726240557841069,45.17676531222176],[5.726324892111112,45.17690109760604],[5.726425630613073,45.1769815241067],[5.727260988342002,45.17762781726968],[5.728253109983419,45.177754026528845],[5.730700792418564,45.177662628220276],[5.731016047424358,45.17728462183447],[5.73134024383815,45.176881168939296],[5.731581970382367,45.176562621444155],[5.7316217059441525,45.176489572511834],[5.731737315302552,45.17627501844937],[5.7317390232554155,45.176257858517204],[5.731806096392199,45.17377589123973],[5.7317776041959405,45.173662167658236],[5.731767847953751,45.17356690543787],[5.731767961330531,45.173465094936624],[5.731788953963732,45.1733474571006]]]},\"bbox\":[5.724814866712742,45.17320332462807,5.731817751253065,45.177754026528845]},{\"id\":\"48\",\"type\":\"Feature\",\"properties\":{},\"geometry\":{\"type\":\"Polygon\",\"coordinates\":[[[5.725955638667651,45.16902589632061],[5.725456452045221,45.16858401158696],[5.725143669347228,45.168307851935545],[5.723932663697407,45.16724186769648],[5.723500273207506,45.16686321278142],[5.723362117245019,45.16750355566402],[5.723141924744865,45.169752292572284],[5.723073274604314,45.169833251442064],[5.723007430724912,45.16986729243016],[5.7238176984810245,45.17096829762041],[5.7240585910603725,45.17128495720662],[5.724182438370104,45.17144770855877],[5.724290406605825,45.17162436171867],[5.7243266034786675,45.17173970055698],[5.724454806169886,45.17212217716686],[5.725316068216645,45.17460578904518],[5.72541067142834,45.1748737639418],[5.725448934011421,45.17497914169719],[5.725493030891212,45.175073565539364],[5.725604021924344,45.17502490621431],[5.726105363567845,45.174779313794396],[5.726601132879777,45.174576199900685],[5.727148489331836,45.17436011066128],[5.727436226615302,45.17425307281148],[5.727848375958186,45.17411145972779],[5.728360018609168,45.17394669067039],[5.72880787388949,45.17380600284875],[5.728902015920449,45.17377757309215],[5.72902129461266,45.17374222186293],[5.729244936692114,45.17367909142242],[5.72974096000432,45.173559745490685],[5.729909678577271,45.17351958007069],[5.730950154161626,45.173307624270734],[5.73122929021008,45.17325934880529],[5.731751331655068,45.17320332462807],[5.731817751253065,45.173207104366085],[5.731847164847845,45.173079349882975],[5.731920099049042,45.172721687814985],[5.731935204904597,45.17256184927584],[5.73200317719219,45.17074926955097],[5.73197652846831,45.16895522431524],[5.731937474668194,45.16888590621126],[5.731808427471707,45.168929608545696],[5.731625603311139,45.168993547244504],[5.7314806343242894,45.16905025229853],[5.73092334568143,45.16927021109341],[5.726777412825148,45.16976171483853],[5.725955638667651,45.16902589632061]]]},\"bbox\":[5.723007430724912,45.16686321278142,5.73200317719219,45.175073565539364]},{\"id\":\"49\",\"type\":\"Feature\",\"properties\":{},\"geometry\":{\"type\":\"Polygon\",\"coordinates\":[[[5.71654991640469,45.17313836164917],[5.716710349506695,45.17360835428911],[5.716751839917389,45.17372807115121],[5.716801007750705,45.1738485020403],[5.716878967154196,45.173827684131375],[5.7185903755774286,45.17334634147977],[5.722614460347884,45.17223016079738],[5.723965964083625,45.1718665291303],[5.7243266034786675,45.17173970055698],[5.724290406605825,45.17162436171867],[5.724182438370104,45.17144770855877],[5.7240585910603725,45.17128495720662],[5.7238176984810245,45.17096829762041],[5.723007430724912,45.16986729243016],[5.722608934760792,45.16945266934056],[5.7194310687789836,45.168822919375934],[5.71741516209776,45.16916844337102],[5.716368875270498,45.16986242126856],[5.715898542751247,45.170169380283035],[5.71559211010937,45.170337206651055],[5.715725428822922,45.170695241568325],[5.716144421225283,45.17189861877726],[5.71654991640469,45.17313836164917]]]},\"bbox\":[5.71559211010937,45.168822919375934,5.7243266034786675,45.1738485020403]},{\"id\":\"50\",\"type\":\"Feature\",\"properties\":{},\"geometry\":{\"type\":\"Polygon\",\"coordinates\":[[[5.71284545251343,45.16387577240108],[5.712997727041066,45.164257673828104],[5.713164914248123,45.164658132326494],[5.71331609990993,45.165017536363145],[5.713677016619753,45.165866458084395],[5.714266805053211,45.16723145894716],[5.7154036617166994,45.16989312145963],[5.71559211010937,45.170337206651055],[5.715898542751247,45.170169380283035],[5.716368875270498,45.16986242126856],[5.71741516209776,45.16916844337102],[5.7194310687789836,45.168822919375934],[5.722608934760792,45.16945266934056],[5.723007430724912,45.16986729243016],[5.723073274604314,45.169833251442064],[5.723141924744865,45.169752292572284],[5.723362117245019,45.16750355566402],[5.723500273207506,45.16686321278142],[5.723352049897117,45.16672267886965],[5.722699683822088,45.1661421718931],[5.721756514184754,45.16531739128561],[5.720855820955085,45.162462635183694],[5.720184797073317,45.160504123235654],[5.720191958286651,45.160075999269836],[5.719622568137867,45.16022952735829],[5.717464523068709,45.16104971820018],[5.716630004411555,45.16140789596362],[5.715749194366719,45.16183566585979],[5.714818091139081,45.16238177507769],[5.714531043618071,45.16252840577736],[5.714074984152399,45.16276113316054],[5.71352026973938,45.16303409768137],[5.712742761575681,45.16338725487435],[5.712680297863223,45.16341219812966],[5.712680341579011,45.16341309801051],[5.712690994266658,45.16344887675714],[5.712729749629782,45.16356505716508],[5.71284545251343,45.16387577240108]]]},\"bbox\":[5.712680297863223,45.160075999269836,5.723500273207506,45.170337206651055]},{\"id\":\"51\",\"type\":\"Feature\",\"properties\":{},\"geometry\":{\"type\":\"Polygon\",\"coordinates\":[[[5.740676143765439,45.18881702743658],[5.741022248480295,45.188963493985085],[5.741166907116161,45.18902931552247],[5.741381964744892,45.189127644422605],[5.741515347828277,45.18919734629562],[5.741639823185439,45.1892672668093],[5.742310149674631,45.18968506340259],[5.742801364239227,45.19000995372986],[5.7428109455936855,45.19004936058305],[5.74271015968222,45.19020229754277],[5.742931832403775,45.19002026221243],[5.743080244003155,45.189903094074054],[5.743551610666188,45.189616716284654],[5.743874265068478,45.18946733440799],[5.7445747533081155,45.18922847638262],[5.745416623775959,45.18898883938835],[5.745897666070523,45.18889952397169],[5.746328999657062,45.18883575547535],[5.746779831016068,45.18880574205718],[5.747209914118314,45.188794256716356],[5.747654172461115,45.18878602462886],[5.748057455056409,45.18879952173158],[5.748390980744808,45.188845367742914],[5.748681638533529,45.18890037707757],[5.748934297114247,45.18895992535161],[5.749280810431652,45.189088337530734],[5.748646805478192,45.18855526500969],[5.748027861681931,45.18801731363716],[5.748019916262849,45.18801120251157],[5.7478611090610245,45.187916907242396],[5.74779812192894,45.187879716464394],[5.746523426227846,45.18662451553423],[5.746500642185934,45.186601651166725],[5.746400442718242,45.18645545799832],[5.746389652445244,45.18636562732673],[5.746410332246621,45.18629394250679],[5.746543687456541,45.18610416201448],[5.746809777781554,45.18581561290931],[5.747192524077917,45.18548995534526],[5.7473832131892495,45.18527443660482],[5.7474217826682255,45.185177985244266],[5.747426163917862,45.18516346200718],[5.746653099891293,45.18506536369719],[5.745881698185882,45.18494919998298],[5.74463816003051,45.18450678191171],[5.7445632506314634,45.18448609995387],[5.743522186680524,45.184378352898186],[5.743094809951506,45.18529972804461],[5.742864455956749,45.18579731338306],[5.742629042264259,45.18626979564181],[5.7406935973934665,45.1887832633704],[5.740657974290287,45.18881026587815],[5.740676143765439,45.18881702743658]]]},\"bbox\":[5.740657974290287,45.184378352898186,5.749280810431652,45.19020229754277]},{\"id\":\"52\",\"type\":\"Feature\",\"properties\":{},\"geometry\":{\"type\":\"Polygon\",\"coordinates\":[[[5.741595391845954,45.1805551784562],[5.741533338066864,45.18064049195843],[5.741172331611963,45.18127912941009],[5.741148616070069,45.18134097707498],[5.741012551195959,45.18170920710783],[5.740883085423502,45.18213403529669],[5.740864079084654,45.18223991422319],[5.7409190156917,45.18442248956711],[5.741049365879309,45.18463822151165],[5.742097876200949,45.18531251237778],[5.7426714291766014,45.185680427105616],[5.742864455956749,45.18579731338306],[5.743094809951506,45.18529972804461],[5.743522186680524,45.184378352898186],[5.7445632506314634,45.18448609995387],[5.74463816003051,45.18450678191171],[5.745881698185882,45.18494919998298],[5.746653099891293,45.18506536369719],[5.747426163917862,45.18516346200718],[5.747437857999345,45.18511632413182],[5.747432434002269,45.185057895124274],[5.747498294689974,45.183911151466276],[5.747859551686404,45.18242468078468],[5.747916781491268,45.182267405393915],[5.74798650611453,45.182182800208615],[5.747877723030114,45.18225034782294],[5.7475309893467035,45.182401236055405],[5.747506990531458,45.18240543069321],[5.7474123442362,45.182397850029],[5.747209663218059,45.18236950359729],[5.747092765900726,45.18234985691029],[5.7463841901584995,45.18213755034286],[5.742473274091302,45.180843539508466],[5.741595391845954,45.1805551784562]]]},\"bbox\":[5.740864079084654,45.1805551784562,5.74798650611453,45.18579731338306]},{\"id\":\"53\",\"type\":\"Feature\",\"properties\":{},\"geometry\":{\"type\":\"Polygon\",\"coordinates\":[[[5.750993375081991,45.17880309404021],[5.746683085478719,45.17821822398335],[5.743869433640536,45.17770631914758],[5.742997105023786,45.177374587798326],[5.742853084261629,45.17776193595884],[5.7425300152229,45.17862758832852],[5.742510861163059,45.17867851271077],[5.742196624701743,45.179490790421475],[5.742144196320913,45.17961641092797],[5.7419200329251785,45.18008411030702],[5.741758968024402,45.180332227084506],[5.741595391845954,45.1805551784562],[5.742473274091302,45.180843539508466],[5.7463841901584995,45.18213755034286],[5.747092765900726,45.18234985691029],[5.747209663218059,45.18236950359729],[5.7474123442362,45.182397850029],[5.747506990531458,45.18240543069321],[5.7475309893467035,45.182401236055405],[5.747877723030114,45.18225034782294],[5.74798650611453,45.182182800208615],[5.748092566904897,45.182111715667276],[5.74823814840305,45.182015331899294],[5.748996655741092,45.18158581309718],[5.750259700333994,45.18084744032836],[5.750356982033515,45.18077927275159],[5.750428181759141,45.180673006488576],[5.750453380807502,45.18061562485254],[5.75109775836027,45.17898251525493],[5.751188588450036,45.17883522125023],[5.750993375081991,45.17880309404021]]]},\"bbox\":[5.741595391845954,45.177374587798326,5.751188588450036,45.18240543069321]},{\"id\":\"54\",\"type\":\"Feature\",\"properties\":{},\"geometry\":{\"type\":\"Polygon\",\"coordinates\":[[[5.7416241350567105,45.17699028133419],[5.742838179415388,45.177328941231885],[5.742997105023786,45.177374587798326],[5.743109925355199,45.17697449198185],[5.743161597387149,45.17683357327967],[5.74320556702799,45.17674329756364],[5.7433169478127635,45.17659910912777],[5.743507488855017,45.17638089782458],[5.744027645094094,45.175845552930426],[5.744495915383817,45.175369142862884],[5.745042958519305,45.174759253018614],[5.745077630455137,45.1746872243808],[5.744191300691268,45.17445855724925],[5.743265396149083,45.17420202548725],[5.74304979360145,45.17414335741956],[5.7426173618394065,45.17402695117662],[5.7418742144063675,45.17383438918101],[5.741714248520637,45.17379327166836],[5.74081127528999,45.17356228448219],[5.740349812476819,45.17345108751628],[5.7402288545744975,45.17342612817687],[5.738823552948864,45.17323719091073],[5.738656575714769,45.173208854586534],[5.738133515762533,45.1742568886522],[5.737997815085527,45.17452870312667],[5.737613502815715,45.175289529035034],[5.737591447876154,45.1753333159685],[5.737341170767699,45.17584038689684],[5.737312231814218,45.17589965888072],[5.738476238443157,45.176180129123615],[5.739884164213782,45.17652487383442],[5.7416241350567105,45.17699028133419]]]},\"bbox\":[5.737312231814218,45.173208854586534,5.745077630455137,45.177374587798326]},{\"id\":\"55\",\"type\":\"Feature\",\"properties\":{},\"geometry\":{\"type\":\"Polygon\",\"coordinates\":[[[5.745755307609932,45.17315964397162],[5.74572101395573,45.17329112681249],[5.745301093010851,45.17423214871673],[5.745148379043839,45.17454583539067],[5.745077630455137,45.1746872243808],[5.745042958519305,45.174759253018614],[5.744495915383817,45.175369142862884],[5.744027645094094,45.175845552930426],[5.743507488855017,45.17638089782458],[5.7433169478127635,45.17659910912777],[5.74320556702799,45.17674329756364],[5.743161597387149,45.17683357327967],[5.743109925355199,45.17697449198185],[5.742997105023786,45.177374587798326],[5.743869433640536,45.17770631914758],[5.746683085478719,45.17821822398335],[5.750993375081991,45.17880309404021],[5.751188588450036,45.17883522125023],[5.751455113382279,45.178401594483674],[5.751534418466331,45.17820142754973],[5.751734854439839,45.17766762076238],[5.751830743966388,45.17739046289173],[5.751927207179838,45.17720248602998],[5.75203288633165,45.17702058854318],[5.752227997526875,45.17671485550662],[5.752268327287316,45.17665439737735],[5.752325315465023,45.17657010336901],[5.753051943094561,45.17565121774047],[5.7530775068395394,45.17562716205944],[5.753010698691478,45.175563940944045],[5.75285078006067,45.17539490126763],[5.752783558594815,45.17529745367181],[5.752708882266881,45.175126311053496],[5.75262497670658,45.17484547870832],[5.752487833543198,45.17436324309558],[5.752375232813248,45.17399122036794],[5.752176851827082,45.17342940845853],[5.751925356959299,45.172720247640854],[5.751688968887658,45.17211072066633],[5.751590619100129,45.17187258932177],[5.751537117988897,45.17174326925744],[5.751187324793038,45.17110680620836],[5.751027281010445,45.170831454298934],[5.750592429774298,45.170174562817124],[5.750534996654782,45.170068764307],[5.750489766579818,45.16997798129573],[5.7504581889051725,45.169905781909115],[5.750281716490633,45.16965876389171],[5.7497245306600515,45.16889676976317],[5.749185276619728,45.16906772529067],[5.747152622096094,45.16982053560885],[5.745982823801218,45.1710521089687],[5.745621365296812,45.17149796821428],[5.7454222425922685,45.17159296334036],[5.745610504734675,45.1722613472643],[5.745684967776487,45.17250637774378],[5.745748259034815,45.17288682690305],[5.745764389459448,45.17305941408046],[5.745755307609932,45.17315964397162]]]},\"bbox\":[5.742997105023786,45.16889676976317,5.7530775068395394,45.17883522125023]},{\"id\":\"56\",\"type\":\"Feature\",\"properties\":{},\"geometry\":{\"type\":\"Polygon\",\"coordinates\":[[[5.740349812476819,45.17345108751628],[5.74081127528999,45.17356228448219],[5.741714248520637,45.17379327166836],[5.7418742144063675,45.17383438918101],[5.7426173618394065,45.17402695117662],[5.74304979360145,45.17414335741956],[5.743265396149083,45.17420202548725],[5.744191300691268,45.17445855724925],[5.745077630455137,45.1746872243808],[5.745148379043839,45.17454583539067],[5.745301093010851,45.17423214871673],[5.74572101395573,45.17329112681249],[5.745755307609932,45.17315964397162],[5.745764389459448,45.17305941408046],[5.745748259034815,45.17288682690305],[5.745684967776487,45.17250637774378],[5.745610504734675,45.1722613472643],[5.7454222425922685,45.17159296334036],[5.745152281791501,45.17035087705519],[5.744495919276796,45.170420179181114],[5.743540609832925,45.17052295580005],[5.740392770783605,45.17084897128675],[5.739887804388122,45.17070730797596],[5.739646192376887,45.17115651061303],[5.739056623255667,45.17235393908944],[5.738784945729419,45.17294352584676],[5.738699674853393,45.17312671079621],[5.738656575714769,45.173208854586534],[5.738823552948864,45.17323719091073],[5.7402288545744975,45.17342612817687],[5.740349812476819,45.17345108751628]]]},\"bbox\":[5.738656575714769,45.17035087705519,5.745764389459448,45.1746872243808]},{\"id\":\"57\",\"type\":\"Feature\",\"properties\":{},\"geometry\":{\"type\":\"Polygon\",\"coordinates\":[[[5.743948546515664,45.16811998255438],[5.7430221814084055,45.16637418205624],[5.741619777589565,45.16670776752614],[5.74186716759531,45.1666881741744],[5.741594707783399,45.16726066947129],[5.741272437281343,45.1679082661807],[5.741040504241011,45.1683725505794],[5.74067122319155,45.169100584341756],[5.740318505793835,45.16980298322462],[5.739969736983673,45.170534114520976],[5.739932481065316,45.1706314316212],[5.739887804388122,45.17070730797596],[5.740392770783605,45.17084897128675],[5.743540609832925,45.17052295580005],[5.744495919276796,45.170420179181114],[5.745152281791501,45.17035087705519],[5.745117912524826,45.17019585686404],[5.744785207256715,45.16930939036189],[5.744152873386556,45.168338394981035],[5.743948546515664,45.16811998255438]]]},\"bbox\":[5.739887804388122,45.16637418205624,5.745152281791501,45.17084897128675]},{\"id\":\"58\",\"type\":\"Feature\",\"properties\":{},\"geometry\":{\"type\":\"Polygon\",\"coordinates\":[[[5.737958250246611,45.17016364335863],[5.7350713385724825,45.16944610784809],[5.733517271514107,45.169051732097564],[5.732903239513259,45.168892888932284],[5.732867223728536,45.16888566246237],[5.732661570424139,45.1688474534086],[5.732621738341341,45.16884032032289],[5.732353580354255,45.16882616523848],[5.732182108430947,45.16883576973141],[5.732070690281857,45.16884930927977],[5.7320238860287365,45.16885586098223],[5.731937474668194,45.16888590621126],[5.73197652846831,45.16895522431524],[5.73200317719219,45.17074926955097],[5.731935204904597,45.17256184927584],[5.731920099049042,45.172721687814985],[5.731847164847845,45.173079349882975],[5.731817751253065,45.173207104366085],[5.7319260220023445,45.17320715662469],[5.732095447350953,45.173207513439266],[5.7323297558803326,45.17320628132903],[5.734190008995983,45.17319225026278],[5.738370540070185,45.17319425118786],[5.738551900902034,45.17320421582736],[5.738656575714769,45.173208854586534],[5.738699674853393,45.17312671079621],[5.738784945729419,45.17294352584676],[5.739056623255667,45.17235393908944],[5.739646192376887,45.17115651061303],[5.739887804388122,45.17070730797596],[5.739932481065316,45.1706314316212],[5.73973672880085,45.17058758645833],[5.737958250246611,45.17016364335863]]]},\"bbox\":[5.731817751253065,45.16882616523848,5.739932481065316,45.173208854586534]},{\"id\":\"59\",\"type\":\"Feature\",\"properties\":{},\"geometry\":{\"type\":\"Polygon\",\"coordinates\":[[[5.737034686007589,45.16654914845592],[5.736189966643764,45.16664644763364],[5.734806466858827,45.16661279484736],[5.734100110845748,45.16659677042611],[5.733952242564432,45.16659408703456],[5.733695984199065,45.16658865339064],[5.733269836068907,45.166572965777],[5.7329729157490545,45.16656942750336],[5.732589318702607,45.16656440742549],[5.732100052027769,45.166560171619906],[5.731951272481015,45.1668512182454],[5.731880114223879,45.16849449535604],[5.731895794787336,45.16860673048641],[5.731937474668194,45.16888590621126],[5.7320238860287365,45.16885586098223],[5.732070690281857,45.16884930927977],[5.732182108430947,45.16883576973141],[5.732353580354255,45.16882616523848],[5.732621738341341,45.16884032032289],[5.732661570424139,45.1688474534086],[5.732867223728536,45.16888566246237],[5.732903239513259,45.168892888932284],[5.733517271514107,45.169051732097564],[5.7350713385724825,45.16944610784809],[5.737958250246611,45.17016364335863],[5.73973672880085,45.17058758645833],[5.739932481065316,45.1706314316212],[5.739969736983673,45.170534114520976],[5.740318505793835,45.16980298322462],[5.74067122319155,45.169100584341756],[5.741040504241011,45.1683725505794],[5.741272437281343,45.1679082661807],[5.741594707783399,45.16726066947129],[5.74186716759531,45.1666881741744],[5.741619777589565,45.16670776752614],[5.741239589667737,45.1667981946675],[5.740799062247089,45.165659397602425],[5.740724718444048,45.16567563908529],[5.740655948621938,45.165701654110066],[5.739937038327616,45.165896798705276],[5.737873424164758,45.166407842822956],[5.737034686007589,45.16654914845592]]]},\"bbox\":[5.731880114223879,45.165659397602425,5.74186716759531,45.1706314316212]},{\"id\":\"60\",\"type\":\"Feature\",\"properties\":{},\"geometry\":{\"type\":\"Polygon\",\"coordinates\":[[[5.735356025901971,45.16418206649991],[5.735947680242706,45.16310533618895],[5.735643616867319,45.162877643415605],[5.735289369506605,45.16261334022779],[5.734120703696611,45.16212754209166],[5.734013268615456,45.16204007968051],[5.733565906298127,45.1623447517697],[5.731044785512895,45.16276957669503],[5.730891703285749,45.162738186707486],[5.730656998583272,45.162730417060075],[5.730643213541813,45.16320375356393],[5.73063175639403,45.16369865595904],[5.7306321457603575,45.16394100221453],[5.730710794471702,45.163960700151016],[5.732395769039691,45.16508167566421],[5.732964348138665,45.16540560705818],[5.7329682523504255,45.16540731333102],[5.734228865202625,45.165272818638606],[5.734230874673948,45.16523583033858],[5.734248228217168,45.164966020256315],[5.734676212920489,45.16462938632467],[5.7352235351389025,45.16425919274346],[5.735356025901971,45.16418206649991]]]},\"bbox\":[5.73063175639403,45.16204007968051,5.735947680242706,45.16540731333102]},{\"id\":\"61\",\"type\":\"Feature\",\"properties\":{},\"geometry\":{\"type\":\"Polygon\",\"coordinates\":[[[5.737883800542939,45.1604117416407],[5.7378747733328055,45.16059125283024],[5.737866091489757,45.160751835534654],[5.737847632191602,45.16107663165474],[5.7378205619292615,45.161199825587246],[5.737770236096707,45.16129025492388],[5.737327936692062,45.16156778985739],[5.7366668676538195,45.16156508735464],[5.736651875799649,45.161596988440536],[5.736581180064435,45.16179152641855],[5.736568163088271,45.161993659134765],[5.736552416169007,45.16232199222092],[5.736563856175165,45.162789306203905],[5.737204933689174,45.16277358011983],[5.738181999142371,45.162935201367674],[5.740148716053463,45.163332888755306],[5.740306328456158,45.16324883276446],[5.7402943947993705,45.1632392153684],[5.740148084148858,45.16287882321302],[5.739846401243135,45.161246495562544],[5.739918317810082,45.16066181221214],[5.7397930983097885,45.15984862328737],[5.739329154627579,45.15971045760621],[5.739308583391814,45.159706457942555],[5.739285424202061,45.15970162086529],[5.739010455283606,45.15965161193775],[5.738650834976004,45.15958926514337],[5.738058750569382,45.15948667413987],[5.737504259280653,45.15939757285004],[5.73713385678138,45.159349000110645],[5.7367814379292765,45.159303588807134],[5.736691787530283,45.15929317467841],[5.736188888471943,45.15924334420675],[5.73565945677934,45.15919776591632],[5.73530568636115,45.159176708846616],[5.732723535939858,45.15936612144959],[5.730919784926572,45.15958867758579],[5.73069576246327,45.161023068077306],[5.730763064445165,45.16114935572728],[5.730780831892264,45.1611741474515],[5.7307359911112385,45.16135093031907],[5.7307288916620545,45.161388043052625],[5.730708077309492,45.1615092798596],[5.730694335074186,45.16169701390243],[5.730662537272782,45.16253117141027],[5.730656998583272,45.162730417060075],[5.730891703285749,45.162738186707486],[5.731044785512895,45.16276957669503],[5.733565906298127,45.1623447517697],[5.734013268615456,45.16204007968051],[5.73378681965812,45.16186273544229],[5.733725578174179,45.16180837704073],[5.7329367522060215,45.160990718944944],[5.7328020458636475,45.160710219039224],[5.7328047297421305,45.16053086403577],[5.732882198209802,45.16037039902564],[5.733012392857904,45.160246482276186],[5.734136535146924,45.1601360508704],[5.735194338030501,45.16012724014208],[5.736590976844387,45.16019840185199],[5.737297877472856,45.1602531361262],[5.7374667415614855,45.160268813793735],[5.737593455862116,45.16028192168235],[5.737886887785723,45.16031886771643],[5.737883800542939,45.1604117416407]]]},\"bbox\":[5.730656998583272,45.159176708846616,5.740306328456158,45.163332888755306]},{\"id\":\"62\",\"type\":\"Feature\",\"properties\":{},\"geometry\":{\"type\":\"Polygon\",\"coordinates\":[[[5.735939049503737,45.16279922388454],[5.735872276094584,45.16273599270045],[5.735643616867319,45.162877643415605],[5.735947680242706,45.16310533618895],[5.735356025901971,45.16418206649991],[5.7352235351389025,45.16425919274346],[5.734676212920489,45.16462938632467],[5.734248228217168,45.164966020256315],[5.734230874673948,45.16523583033858],[5.734228865202625,45.165272818638606],[5.7341999948635,45.16582761200064],[5.7342197424096515,45.165866769998495],[5.734238652747789,45.165888830408335],[5.733952242564432,45.16659408703456],[5.734100110845748,45.16659677042611],[5.734806466858827,45.16661279484736],[5.736189966643764,45.16664644763364],[5.737034686007589,45.16654914845592],[5.737873424164758,45.166407842822956],[5.739937038327616,45.165896798705276],[5.740655948621938,45.165701654110066],[5.740724718444048,45.16567563908529],[5.740799062247089,45.165659397602425],[5.7412257693899615,45.16553088974505],[5.74138673144672,45.16522961974094],[5.7411785773164175,45.164284226121886],[5.740859538802771,45.16370013658082],[5.740306328456158,45.16324883276446],[5.740148716053463,45.163332888755306],[5.738181999142371,45.162935201367674],[5.737204933689174,45.16277358011983],[5.736563856175165,45.162789306203905],[5.735939049503737,45.16279922388454]]]},\"bbox\":[5.733952242564432,45.16273599270045,5.74138673144672,45.16664644763364]},{\"id\":\"63\",\"type\":\"Feature\",\"properties\":{},\"geometry\":{\"type\":\"Polygon\",\"coordinates\":[[[5.736552416169007,45.16232199222092],[5.736568163088271,45.161993659134765],[5.736581180064435,45.16179152641855],[5.736651875799649,45.161596988440536],[5.7366668676538195,45.16156508735464],[5.737327936692062,45.16156778985739],[5.737770236096707,45.16129025492388],[5.7378205619292615,45.161199825587246],[5.737847632191602,45.16107663165474],[5.737866091489757,45.160751835534654],[5.7378747733328055,45.16059125283024],[5.737883800542939,45.1604117416407],[5.737886887785723,45.16031886771643],[5.737593455862116,45.16028192168235],[5.7374667415614855,45.160268813793735],[5.737297877472856,45.1602531361262],[5.736590976844387,45.16019840185199],[5.735194338030501,45.16012724014208],[5.734136535146924,45.1601360508704],[5.733012392857904,45.160246482276186],[5.732882198209802,45.16037039902564],[5.7328047297421305,45.16053086403577],[5.7328020458636475,45.160710219039224],[5.7329367522060215,45.160990718944944],[5.733725578174179,45.16180837704073],[5.73378681965812,45.16186273544229],[5.734013268615456,45.16204007968051],[5.734120703696611,45.16212754209166],[5.735289369506605,45.16261334022779],[5.735643616867319,45.162877643415605],[5.735872276094584,45.16273599270045],[5.735939049503737,45.16279922388454],[5.736563856175165,45.162789306203905],[5.736552416169007,45.16232199222092]]]},\"bbox\":[5.7328020458636475,45.16012724014208,5.737886887785723,45.162877643415605]},{\"id\":\"64\",\"type\":\"Feature\",\"properties\":{},\"geometry\":{\"type\":\"Polygon\",\"coordinates\":[[[5.7252670846683005,45.16303428521652],[5.725107646572036,45.16302917011388],[5.724974614429789,45.163043230720916],[5.723947774606142,45.16217366392382],[5.724010104210487,45.16115407110449],[5.724112237663308,45.159697447956255],[5.724149424937622,45.15957220918358],[5.724175208749846,45.15944814979739],[5.7237927596340885,45.1594917238333],[5.723450835585375,45.15953070348135],[5.722052828334146,45.159770238139814],[5.721194061103337,45.1600218301208],[5.720191958286651,45.160075999269836],[5.720184797073317,45.160504123235654],[5.720855820955085,45.162462635183694],[5.721756514184754,45.16531739128561],[5.722699683822088,45.1661421718931],[5.723352049897117,45.16672267886965],[5.723500273207506,45.16686321278142],[5.723932663697407,45.16724186769648],[5.725143669347228,45.168307851935545],[5.725456452045221,45.16858401158696],[5.725955638667651,45.16902589632061],[5.726777412825148,45.16976171483853],[5.73092334568143,45.16927021109341],[5.7314806343242894,45.16905025229853],[5.731625603311139,45.168993547244504],[5.731808427471707,45.168929608545696],[5.731937474668194,45.16888590621126],[5.731915310756453,45.16882338219374],[5.731887182568246,45.16876911277082],[5.73183049548787,45.168703830167516],[5.731760871924828,45.16866048710981],[5.7316278582311275,45.16859707303121],[5.7315178354850715,45.16856102550284],[5.731343507379991,45.16853826436599],[5.731089784575919,45.16853276245749],[5.730345637986474,45.1685257472328],[5.730101040135426,45.16852452455486],[5.729832884303351,45.168510363416054],[5.729628990490142,45.168482016283086],[5.729437858409849,45.16842812997498],[5.729279889553227,45.16837523408187],[5.729135734815914,45.168292268707155],[5.728996449023619,45.168204679320006],[5.728882605771368,45.16811646753582],[5.7287764801757755,45.16800374122828],[5.728702685240347,45.16790103559967],[5.728655868494418,45.16780307589587],[5.728628877734432,45.16769381993468],[5.72862290020924,45.16759756436858],[5.72858500877456,45.16658762424335],[5.728545783660604,45.1654200506683],[5.728569480353929,45.16478430118901],[5.728573063841072,45.16467519857361],[5.728574684465676,45.16465623898572],[5.728583336896688,45.16439024707483],[5.728508852822699,45.163986641048304],[5.727143702568722,45.16383171905563],[5.727090014519302,45.163827625636216],[5.726949610172442,45.16382114692285],[5.72554609734335,45.16379327606013],[5.725294248879205,45.16325165125752],[5.7252670846683005,45.16303428521652]]]},\"bbox\":[5.720184797073317,45.15944814979739,5.731937474668194,45.16976171483853]},{\"id\":\"65\",\"type\":\"Feature\",\"properties\":{},\"geometry\":{\"type\":\"Polygon\",\"coordinates\":[[[5.7252670846683005,45.16303428521652],[5.725294248879205,45.16325165125752],[5.72554609734335,45.16379327606013],[5.726949610172442,45.16382114692285],[5.727090014519302,45.163827625636216],[5.727143702568722,45.16383171905563],[5.728508852822699,45.163986641048304],[5.728583336896688,45.16439024707483],[5.728574684465676,45.16465623898572],[5.728573063841072,45.16467519857361],[5.72877566791696,45.16467745124155],[5.7305327101323185,45.16422543339797],[5.730568913809798,45.16405426765275],[5.7306321457603575,45.16394100221453],[5.73063175639403,45.16369865595904],[5.730643213541813,45.16320375356393],[5.730656998583272,45.162730417060075],[5.730662537272782,45.16253117141027],[5.730694335074186,45.16169701390243],[5.730708077309492,45.1615092798596],[5.7307288916620545,45.161388043052625],[5.7307359911112385,45.16135093031907],[5.730780831892264,45.1611741474515],[5.730706887186003,45.16119848110458],[5.730573944697702,45.161188220668],[5.730208320109404,45.16115932874591],[5.72964308840804,45.16113712139417],[5.72890688872805,45.1611082817804],[5.728721928940094,45.16110199432443],[5.728718264531858,45.16126155202292],[5.728715381856537,45.16135892508385],[5.72871432976749,45.16136345556391],[5.728339408714141,45.161352803875815],[5.72817984324416,45.16134499354088],[5.728059576421257,45.1613335192006],[5.7272522284833745,45.16125595519032],[5.726189935956356,45.161903572398224],[5.725277164550061,45.162901599559056],[5.7252670846683005,45.16303428521652]]]},\"bbox\":[5.7252670846683005,45.16110199432443,5.730780831892264,45.16467745124155]},{\"id\":\"66\",\"type\":\"Feature\",\"properties\":{},\"geometry\":{\"type\":\"Polygon\",\"coordinates\":[[[5.728339408714141,45.161352803875815],[5.72871432976749,45.16136345556391],[5.728715381856537,45.16135892508385],[5.728718264531858,45.16126155202292],[5.728721928940094,45.16110199432443],[5.728725630789068,45.16089108159308],[5.728731037752293,45.160636881592424],[5.728750663783267,45.160100336667554],[5.728785434869365,45.159326471709996],[5.728787271842791,45.15928588406426],[5.728793002607071,45.15916862049732],[5.72796337089193,45.15918170234718],[5.7261367860724315,45.1592236486075],[5.724793178565375,45.159377199654074],[5.724175208749846,45.15944814979739],[5.724149424937622,45.15957220918358],[5.724112237663308,45.159697447956255],[5.724010104210487,45.16115407110449],[5.723947774606142,45.16217366392382],[5.724974614429789,45.163043230720916],[5.725107646572036,45.16302917011388],[5.7252670846683005,45.16303428521652],[5.725277164550061,45.162901599559056],[5.726189935956356,45.161903572398224],[5.7272522284833745,45.16125595519032],[5.728059576421257,45.1613335192006],[5.72817984324416,45.16134499354088],[5.728339408714141,45.161352803875815]]]},\"bbox\":[5.723947774606142,45.15916862049732,5.728793002607071,45.163043230720916]}],\"bbox\":[5.684984225803634,45.15852904177261,5.7530775068395394,45.21174896052807]},\"hovertemplate\":\"index=%{location}<br>Taux de pauvret\\u00e9=%{z}<extra></extra>\",\"locations\":[0,1,2,3,4,5,6,7,8,9,10,11,12,13,14,15,16,17,18,19,20,21,22,23,24,25,26,27,28,29,30,31,32,33,34,35,36,37,38,39,40,41,42,43,44,45,46,47,48,49,50,51,52,53,54,55,56,57,58,59,60,61,62,63,64,65,66],\"marker\":{\"opacity\":0.5},\"name\":\"\",\"subplot\":\"mapbox\",\"z\":[18.0,16.7,12.1,null,22.6,16.7,17.9,17.1,19.0,11.8,null,26.0,null,10.5,17.7,13.4,30.9,null,12.0,10.1,11.7,9.9,11.6,12.4,11.9,23.8,12.4,19.8,14.0,13.9,13.4,13.9,12.9,16.0,null,16.3,20.5,14.6,15.2,13.4,13.4,null,null,24.9,9.7,15.0,10.8,14.8,24.3,14.0,12.8,23.2,14.7,25.4,41.1,22.7,33.0,39.9,21.5,11.5,53.1,36.3,17.8,31.3,25.5,44.6,47.7],\"type\":\"choroplethmapbox\"}],                        {\"template\":{\"data\":{\"histogram2dcontour\":[{\"type\":\"histogram2dcontour\",\"colorbar\":{\"outlinewidth\":0,\"ticks\":\"\"},\"colorscale\":[[0.0,\"#0d0887\"],[0.1111111111111111,\"#46039f\"],[0.2222222222222222,\"#7201a8\"],[0.3333333333333333,\"#9c179e\"],[0.4444444444444444,\"#bd3786\"],[0.5555555555555556,\"#d8576b\"],[0.6666666666666666,\"#ed7953\"],[0.7777777777777778,\"#fb9f3a\"],[0.8888888888888888,\"#fdca26\"],[1.0,\"#f0f921\"]]}],\"choropleth\":[{\"type\":\"choropleth\",\"colorbar\":{\"outlinewidth\":0,\"ticks\":\"\"}}],\"histogram2d\":[{\"type\":\"histogram2d\",\"colorbar\":{\"outlinewidth\":0,\"ticks\":\"\"},\"colorscale\":[[0.0,\"#0d0887\"],[0.1111111111111111,\"#46039f\"],[0.2222222222222222,\"#7201a8\"],[0.3333333333333333,\"#9c179e\"],[0.4444444444444444,\"#bd3786\"],[0.5555555555555556,\"#d8576b\"],[0.6666666666666666,\"#ed7953\"],[0.7777777777777778,\"#fb9f3a\"],[0.8888888888888888,\"#fdca26\"],[1.0,\"#f0f921\"]]}],\"heatmap\":[{\"type\":\"heatmap\",\"colorbar\":{\"outlinewidth\":0,\"ticks\":\"\"},\"colorscale\":[[0.0,\"#0d0887\"],[0.1111111111111111,\"#46039f\"],[0.2222222222222222,\"#7201a8\"],[0.3333333333333333,\"#9c179e\"],[0.4444444444444444,\"#bd3786\"],[0.5555555555555556,\"#d8576b\"],[0.6666666666666666,\"#ed7953\"],[0.7777777777777778,\"#fb9f3a\"],[0.8888888888888888,\"#fdca26\"],[1.0,\"#f0f921\"]]}],\"heatmapgl\":[{\"type\":\"heatmapgl\",\"colorbar\":{\"outlinewidth\":0,\"ticks\":\"\"},\"colorscale\":[[0.0,\"#0d0887\"],[0.1111111111111111,\"#46039f\"],[0.2222222222222222,\"#7201a8\"],[0.3333333333333333,\"#9c179e\"],[0.4444444444444444,\"#bd3786\"],[0.5555555555555556,\"#d8576b\"],[0.6666666666666666,\"#ed7953\"],[0.7777777777777778,\"#fb9f3a\"],[0.8888888888888888,\"#fdca26\"],[1.0,\"#f0f921\"]]}],\"contourcarpet\":[{\"type\":\"contourcarpet\",\"colorbar\":{\"outlinewidth\":0,\"ticks\":\"\"}}],\"contour\":[{\"type\":\"contour\",\"colorbar\":{\"outlinewidth\":0,\"ticks\":\"\"},\"colorscale\":[[0.0,\"#0d0887\"],[0.1111111111111111,\"#46039f\"],[0.2222222222222222,\"#7201a8\"],[0.3333333333333333,\"#9c179e\"],[0.4444444444444444,\"#bd3786\"],[0.5555555555555556,\"#d8576b\"],[0.6666666666666666,\"#ed7953\"],[0.7777777777777778,\"#fb9f3a\"],[0.8888888888888888,\"#fdca26\"],[1.0,\"#f0f921\"]]}],\"surface\":[{\"type\":\"surface\",\"colorbar\":{\"outlinewidth\":0,\"ticks\":\"\"},\"colorscale\":[[0.0,\"#0d0887\"],[0.1111111111111111,\"#46039f\"],[0.2222222222222222,\"#7201a8\"],[0.3333333333333333,\"#9c179e\"],[0.4444444444444444,\"#bd3786\"],[0.5555555555555556,\"#d8576b\"],[0.6666666666666666,\"#ed7953\"],[0.7777777777777778,\"#fb9f3a\"],[0.8888888888888888,\"#fdca26\"],[1.0,\"#f0f921\"]]}],\"mesh3d\":[{\"type\":\"mesh3d\",\"colorbar\":{\"outlinewidth\":0,\"ticks\":\"\"}}],\"scatter\":[{\"fillpattern\":{\"fillmode\":\"overlay\",\"size\":10,\"solidity\":0.2},\"type\":\"scatter\"}],\"parcoords\":[{\"type\":\"parcoords\",\"line\":{\"colorbar\":{\"outlinewidth\":0,\"ticks\":\"\"}}}],\"scatterpolargl\":[{\"type\":\"scatterpolargl\",\"marker\":{\"colorbar\":{\"outlinewidth\":0,\"ticks\":\"\"}}}],\"bar\":[{\"error_x\":{\"color\":\"#2a3f5f\"},\"error_y\":{\"color\":\"#2a3f5f\"},\"marker\":{\"line\":{\"color\":\"#E5ECF6\",\"width\":0.5},\"pattern\":{\"fillmode\":\"overlay\",\"size\":10,\"solidity\":0.2}},\"type\":\"bar\"}],\"scattergeo\":[{\"type\":\"scattergeo\",\"marker\":{\"colorbar\":{\"outlinewidth\":0,\"ticks\":\"\"}}}],\"scatterpolar\":[{\"type\":\"scatterpolar\",\"marker\":{\"colorbar\":{\"outlinewidth\":0,\"ticks\":\"\"}}}],\"histogram\":[{\"marker\":{\"pattern\":{\"fillmode\":\"overlay\",\"size\":10,\"solidity\":0.2}},\"type\":\"histogram\"}],\"scattergl\":[{\"type\":\"scattergl\",\"marker\":{\"colorbar\":{\"outlinewidth\":0,\"ticks\":\"\"}}}],\"scatter3d\":[{\"type\":\"scatter3d\",\"line\":{\"colorbar\":{\"outlinewidth\":0,\"ticks\":\"\"}},\"marker\":{\"colorbar\":{\"outlinewidth\":0,\"ticks\":\"\"}}}],\"scattermapbox\":[{\"type\":\"scattermapbox\",\"marker\":{\"colorbar\":{\"outlinewidth\":0,\"ticks\":\"\"}}}],\"scatterternary\":[{\"type\":\"scatterternary\",\"marker\":{\"colorbar\":{\"outlinewidth\":0,\"ticks\":\"\"}}}],\"scattercarpet\":[{\"type\":\"scattercarpet\",\"marker\":{\"colorbar\":{\"outlinewidth\":0,\"ticks\":\"\"}}}],\"carpet\":[{\"aaxis\":{\"endlinecolor\":\"#2a3f5f\",\"gridcolor\":\"white\",\"linecolor\":\"white\",\"minorgridcolor\":\"white\",\"startlinecolor\":\"#2a3f5f\"},\"baxis\":{\"endlinecolor\":\"#2a3f5f\",\"gridcolor\":\"white\",\"linecolor\":\"white\",\"minorgridcolor\":\"white\",\"startlinecolor\":\"#2a3f5f\"},\"type\":\"carpet\"}],\"table\":[{\"cells\":{\"fill\":{\"color\":\"#EBF0F8\"},\"line\":{\"color\":\"white\"}},\"header\":{\"fill\":{\"color\":\"#C8D4E3\"},\"line\":{\"color\":\"white\"}},\"type\":\"table\"}],\"barpolar\":[{\"marker\":{\"line\":{\"color\":\"#E5ECF6\",\"width\":0.5},\"pattern\":{\"fillmode\":\"overlay\",\"size\":10,\"solidity\":0.2}},\"type\":\"barpolar\"}],\"pie\":[{\"automargin\":true,\"type\":\"pie\"}]},\"layout\":{\"autotypenumbers\":\"strict\",\"colorway\":[\"#636efa\",\"#EF553B\",\"#00cc96\",\"#ab63fa\",\"#FFA15A\",\"#19d3f3\",\"#FF6692\",\"#B6E880\",\"#FF97FF\",\"#FECB52\"],\"font\":{\"color\":\"#2a3f5f\"},\"hovermode\":\"closest\",\"hoverlabel\":{\"align\":\"left\"},\"paper_bgcolor\":\"white\",\"plot_bgcolor\":\"#E5ECF6\",\"polar\":{\"bgcolor\":\"#E5ECF6\",\"angularaxis\":{\"gridcolor\":\"white\",\"linecolor\":\"white\",\"ticks\":\"\"},\"radialaxis\":{\"gridcolor\":\"white\",\"linecolor\":\"white\",\"ticks\":\"\"}},\"ternary\":{\"bgcolor\":\"#E5ECF6\",\"aaxis\":{\"gridcolor\":\"white\",\"linecolor\":\"white\",\"ticks\":\"\"},\"baxis\":{\"gridcolor\":\"white\",\"linecolor\":\"white\",\"ticks\":\"\"},\"caxis\":{\"gridcolor\":\"white\",\"linecolor\":\"white\",\"ticks\":\"\"}},\"coloraxis\":{\"colorbar\":{\"outlinewidth\":0,\"ticks\":\"\"}},\"colorscale\":{\"sequential\":[[0.0,\"#0d0887\"],[0.1111111111111111,\"#46039f\"],[0.2222222222222222,\"#7201a8\"],[0.3333333333333333,\"#9c179e\"],[0.4444444444444444,\"#bd3786\"],[0.5555555555555556,\"#d8576b\"],[0.6666666666666666,\"#ed7953\"],[0.7777777777777778,\"#fb9f3a\"],[0.8888888888888888,\"#fdca26\"],[1.0,\"#f0f921\"]],\"sequentialminus\":[[0.0,\"#0d0887\"],[0.1111111111111111,\"#46039f\"],[0.2222222222222222,\"#7201a8\"],[0.3333333333333333,\"#9c179e\"],[0.4444444444444444,\"#bd3786\"],[0.5555555555555556,\"#d8576b\"],[0.6666666666666666,\"#ed7953\"],[0.7777777777777778,\"#fb9f3a\"],[0.8888888888888888,\"#fdca26\"],[1.0,\"#f0f921\"]],\"diverging\":[[0,\"#8e0152\"],[0.1,\"#c51b7d\"],[0.2,\"#de77ae\"],[0.3,\"#f1b6da\"],[0.4,\"#fde0ef\"],[0.5,\"#f7f7f7\"],[0.6,\"#e6f5d0\"],[0.7,\"#b8e186\"],[0.8,\"#7fbc41\"],[0.9,\"#4d9221\"],[1,\"#276419\"]]},\"xaxis\":{\"gridcolor\":\"white\",\"linecolor\":\"white\",\"ticks\":\"\",\"title\":{\"standoff\":15},\"zerolinecolor\":\"white\",\"automargin\":true,\"zerolinewidth\":2},\"yaxis\":{\"gridcolor\":\"white\",\"linecolor\":\"white\",\"ticks\":\"\",\"title\":{\"standoff\":15},\"zerolinecolor\":\"white\",\"automargin\":true,\"zerolinewidth\":2},\"scene\":{\"xaxis\":{\"backgroundcolor\":\"#E5ECF6\",\"gridcolor\":\"white\",\"linecolor\":\"white\",\"showbackground\":true,\"ticks\":\"\",\"zerolinecolor\":\"white\",\"gridwidth\":2},\"yaxis\":{\"backgroundcolor\":\"#E5ECF6\",\"gridcolor\":\"white\",\"linecolor\":\"white\",\"showbackground\":true,\"ticks\":\"\",\"zerolinecolor\":\"white\",\"gridwidth\":2},\"zaxis\":{\"backgroundcolor\":\"#E5ECF6\",\"gridcolor\":\"white\",\"linecolor\":\"white\",\"showbackground\":true,\"ticks\":\"\",\"zerolinecolor\":\"white\",\"gridwidth\":2}},\"shapedefaults\":{\"line\":{\"color\":\"#2a3f5f\"}},\"annotationdefaults\":{\"arrowcolor\":\"#2a3f5f\",\"arrowhead\":0,\"arrowwidth\":1},\"geo\":{\"bgcolor\":\"white\",\"landcolor\":\"#E5ECF6\",\"subunitcolor\":\"white\",\"showland\":true,\"showlakes\":true,\"lakecolor\":\"white\"},\"title\":{\"x\":0.05},\"mapbox\":{\"style\":\"light\"}}},\"mapbox\":{\"domain\":{\"x\":[0.0,1.0],\"y\":[0.0,1.0]},\"center\":{\"lat\":45.18,\"lon\":5.7},\"zoom\":11,\"style\":\"carto-positron\"},\"coloraxis\":{\"colorbar\":{\"title\":{\"text\":\"Taux de pauvret\\u00e9\"}},\"colorscale\":[[0.0,\"rgb(255,255,204)\"],[0.125,\"rgb(255,237,160)\"],[0.25,\"rgb(254,217,118)\"],[0.375,\"rgb(254,178,76)\"],[0.5,\"rgb(253,141,60)\"],[0.625,\"rgb(252,78,42)\"],[0.75,\"rgb(227,26,28)\"],[0.875,\"rgb(189,0,38)\"],[1.0,\"rgb(128,0,38)\"]],\"cmin\":0,\"cmax\":100},\"legend\":{\"tracegroupgap\":0},\"margin\":{\"t\":60}},                        {\"responsive\": true}                    ).then(function(){\n",
       "                            \n",
       "var gd = document.getElementById('a9f35b3a-2c92-483a-9700-81f92ec28059');\n",
       "var x = new MutationObserver(function (mutations, observer) {{\n",
       "        var display = window.getComputedStyle(gd).display;\n",
       "        if (!display || display === 'none') {{\n",
       "            console.log([gd, 'removed!']);\n",
       "            Plotly.purge(gd);\n",
       "            observer.disconnect();\n",
       "        }}\n",
       "}});\n",
       "\n",
       "// Listen for the removal of the full notebook cells\n",
       "var notebookContainer = gd.closest('#notebook-container');\n",
       "if (notebookContainer) {{\n",
       "    x.observe(notebookContainer, {childList: true});\n",
       "}}\n",
       "\n",
       "// Listen for the clearing of the current output cell\n",
       "var outputEl = gd.closest('.output');\n",
       "if (outputEl) {{\n",
       "    x.observe(outputEl, {childList: true});\n",
       "}}\n",
       "\n",
       "                        })                };                });            </script>        </div>"
      ]
     },
     "metadata": {},
     "output_type": "display_data"
    }
   ],
   "source": [
    "fig = px.choropleth_mapbox(data_pauvrete,geojson = data_pauvrete[\"geometry\"],\n",
    "                          locations = data_pauvrete.index,\n",
    "                          mapbox_style=\"carto-positron\",\n",
    "                           color='Taux de pauvreté', #variable numérique qui indique la coloration des polygones\n",
    "                           color_continuous_scale=\"YlOrRd\", #choix du dégradé de couleur (ici Yellow-Orange-Red)\n",
    "                           range_color=(0, 100), #dégradé pour les valeurs de 0 à 100 (par défaut : du min au max du taux de pauvreté)\n",
    "                          zoom=11, center = {\"lat\": 45.18, \"lon\": 5.7}, #positionnement par défaut de la carte\n",
    "                          opacity=0.5) #niveau de transparence des couleurs des polygones\n",
    "fig.show()"
   ]
  },
  {
   "cell_type": "code",
   "execution_count": null,
   "id": "e1fd1043",
   "metadata": {},
   "outputs": [],
   "source": []
  }
 ],
 "metadata": {
  "kernelspec": {
   "display_name": "Python 3 (ipykernel)",
   "language": "python",
   "name": "python3"
  },
  "language_info": {
   "codemirror_mode": {
    "name": "ipython",
    "version": 3
   },
   "file_extension": ".py",
   "mimetype": "text/x-python",
   "name": "python",
   "nbconvert_exporter": "python",
   "pygments_lexer": "ipython3",
   "version": "3.11.5"
  }
 },
 "nbformat": 4,
 "nbformat_minor": 5
}
